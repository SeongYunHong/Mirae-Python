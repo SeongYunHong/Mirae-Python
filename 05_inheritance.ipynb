{
  "nbformat": 4,
  "nbformat_minor": 0,
  "metadata": {
    "colab": {
      "provenance": [],
      "authorship_tag": "ABX9TyOqTSDnJjCsFSan4ijBgHPe",
      "include_colab_link": true
    },
    "kernelspec": {
      "name": "python3",
      "display_name": "Python 3"
    },
    "language_info": {
      "name": "python"
    }
  },
  "cells": [
    {
      "cell_type": "markdown",
      "metadata": {
        "id": "view-in-github",
        "colab_type": "text"
      },
      "source": [
        "<a href=\"https://colab.research.google.com/github/SeongYunHong/Mirae-Python/blob/main/05_inheritance.ipynb\" target=\"_parent\"><img src=\"https://colab.research.google.com/assets/colab-badge.svg\" alt=\"Open In Colab\"/></a>"
      ]
    },
    {
      "cell_type": "code",
      "execution_count": null,
      "metadata": {
        "colab": {
          "base_uri": "https://localhost:8080/"
        },
        "id": "BPP8Pvcrt_-l",
        "outputId": "de486dfc-f6e8-460f-a1ff-e6231a4af202"
      },
      "outputs": [
        {
          "output_type": "stream",
          "name": "stdout",
          "text": [
            "[1, 2]\n",
            "[1]\n",
            "[1, 2, 3]\n"
          ]
        }
      ],
      "source": [
        "#call by reference\n",
        "def append_to_list(element, list=[]):\n",
        "  list.append(element)\n",
        "  return list\n",
        "def ressign_list(list=[]):\n",
        "  list=[1,2,3] #입력된 주소와 다른 heap주소 대입되어서 연결 중단\n",
        "  return list\n",
        "my_list=[1]\n",
        "append_to_list(2,my_list)\n",
        "print(my_list) #[1,2]\n",
        "my_list=[1]\n",
        "new_list=ressign_list(my_list)\n",
        "print(my_list)\n",
        "print(new_list)"
      ]
    },
    {
      "cell_type": "code",
      "source": [
        "class Product:\n",
        "  def __init__(self,name,category,price):\n",
        "    self.name=name\n",
        "    self.category=category\n",
        "    self.price=price\n",
        "p1=Product('스마트폰','전기제품',599.99)\n",
        "p2=Product('전산책','전산',15.80)\n",
        "print(f'Product : {p1.name},Category : {p1.category}, Price : {p1.price}')"
      ],
      "metadata": {
        "colab": {
          "base_uri": "https://localhost:8080/"
        },
        "id": "r9iKD0X5yQQt",
        "outputId": "dc5a85db-040a-4de7-91e4-18f835f274da"
      },
      "execution_count": null,
      "outputs": [
        {
          "output_type": "stream",
          "name": "stdout",
          "text": [
            "Product : 스마트폰,Category : 전기제품, Price : 599.99\n"
          ]
        }
      ]
    },
    {
      "cell_type": "code",
      "source": [
        "from dataclasses import dataclass\n",
        "@dataclass #자동으로 __rper__, __eq__ 생성(springboot 문법)\n",
        "class Product: #self를 빼줘도 됨\n",
        "  name:str\n",
        "  category : str\n",
        "  price : float\n",
        "p1=Product('smartphone','electronics',599.99)\n",
        "p2=Product('Book','Literature',15.80)\n",
        "print(p1)\n",
        "print(p2)\n",
        "print(p1==p2) #False"
      ],
      "metadata": {
        "colab": {
          "base_uri": "https://localhost:8080/"
        },
        "id": "_cpx0_dZyQTr",
        "outputId": "ef50079f-7b92-4e92-a0bf-6ec33803dc0a"
      },
      "execution_count": null,
      "outputs": [
        {
          "output_type": "stream",
          "name": "stdout",
          "text": [
            "Product(name='smartphone', category='electronics', price=599.99)\n",
            "Product(name='Book', category='Literature', price=15.8)\n",
            "False\n"
          ]
        }
      ]
    },
    {
      "cell_type": "code",
      "source": [
        "#부모가 자식을 가리킬 수 있다\n",
        "class Guard:\n",
        "  def three_point(self):\n",
        "    print(\"가드는 3점슛 장착\")\n",
        "  def apass(self):\n",
        "    print(\"가드의 핵심은 에이패스지\")\n",
        "class Jordan:\n",
        "  def three_point(self):\n",
        "    print(\"조단은 3점슛 장착\")\n",
        "  def apass(self):\n",
        "    print(\"조단은 에이패스 가능\")\n",
        "\n",
        "#자바에서는 상속이 아니면 대입 불가능\n",
        "def inhecourt(duck): #매개변수의 데이터타입\n",
        "  duck.three_point()\n",
        "  duck.apass()\n",
        "gu=Guard()\n",
        "jo=Jordan()\n",
        "inhecourt(gu)\n",
        "inhecourt(jo)\n",
        "#오타 등을 방지하기위해 재정의는 남아있음->design pattern"
      ],
      "metadata": {
        "id": "e7aR62ePyQWL"
      },
      "execution_count": null,
      "outputs": []
    },
    {
      "cell_type": "code",
      "source": [
        "#벡터의 요소연산\n",
        "#파이썬에서 오버로딩이 불가-> 연산자 오버라이딩으로 해결\n",
        "class Vector:\n",
        "  def __init__(self,x,y):\n",
        "    self.x=x\n",
        "    self.y=y\n",
        "  def __add__(self,other): #오버라이딩(object) #other는 vector로 인식(vector끼리 연)\n",
        "    return Vector(self.x+other.x,self.y+other.y)\n",
        "  def __mul__(self,other):\n",
        "    return Vector(self.x*other.x, self.y*other.y)\n",
        "  def __sub__(self,other): #오버라이딩(object)\n",
        "    return Vector(self.x-other.x,self.y-other.y)\n",
        "  def __truediv__(self,other): #부동 소수점 나눗셈 #__div__, __floordiv__ 정수\n",
        "    return Vector(self.x/other.x, self.y/other.y)\n",
        "  def __repr__(self):\n",
        "    return \"(좌표는 %d, %d)\" %(self.x,self.y)"
      ],
      "metadata": {
        "id": "UByB8UMTyQYr"
      },
      "execution_count": null,
      "outputs": []
    },
    {
      "cell_type": "code",
      "source": [
        "f=Vector(100,23)\n",
        "g=Vector(20,27)\n",
        "print(f)\n",
        "print(f+g)\n",
        "print(f-g)\n",
        "print(f*g)\n",
        "print(f/g)"
      ],
      "metadata": {
        "colab": {
          "base_uri": "https://localhost:8080/"
        },
        "id": "fOuzgt_3yQar",
        "outputId": "cf6fbcb1-c9e4-4122-dfa6-3f5718ca56fc"
      },
      "execution_count": null,
      "outputs": [
        {
          "output_type": "stream",
          "name": "stdout",
          "text": [
            "(좌표는 100, 23)\n",
            "(좌표는 120, 50)\n",
            "(좌표는 80, -4)\n",
            "(좌표는 2000, 621)\n",
            "(좌표는 5, 0)\n"
          ]
        }
      ]
    },
    {
      "cell_type": "code",
      "source": [
        "#문제\n",
        "#단일 벡터\n",
        "#원점으로부터의 크기를 나타내는 norm함수 구현\n",
        "#원점으로부터 각도를 나타내는 normalize 함수 구현\n",
        "\n",
        "#두개의 벡터\n",
        "#두 벡터의 거리값을 구하는 함수 dist구현\n",
        "#두 벡터의 내적, cos(theta), theta를 구하는 함수 구현\n",
        "import math\n",
        "class Vector:\n",
        "  def __init__(self,x,y):\n",
        "    self.x=x\n",
        "    self.y=y\n",
        "  def __add__(self,other):\n",
        "    return Vector(self.x+other.x,self.y+other.y)\n",
        "  def __mul__(self,other):\n",
        "    return Vector(self.x*other.x, self.y*other.y)\n",
        "  def __sub__(self,other): #오버라이딩(object)\n",
        "    return Vector(self.x-other.x,self.y-other.y)\n",
        "  def __truediv__(self,other):\n",
        "    return Vector(self.x/other.x, self.y/other.y)\n",
        "  def __repr__(self):\n",
        "    return \"(좌표는 %d, %d)\" %(self.x,self.y)\n",
        "\n",
        "  def norm(self):\n",
        "    return math.sqrt(self.x**2+self.y**2)\n",
        "  def normalize(self):\n",
        "    norm1=self.norm()\n",
        "    return (self.x/norm1,self.y/norm1)\n",
        "\n",
        "  def dist(self,other):\n",
        "   return math.sqrt((self.x-other.x)**2 + (self.y-other.y)**2)\n",
        "  def dot(self,other):\n",
        "    return (self.x*other.x)+(self.y*other.y)\n",
        "  def costheta(self,other):\n",
        "    dot=self.dot(other)\n",
        "    norm1=self.norm()\n",
        "    norm2=other.norm()\n",
        "    return dot/(norm1*norm2)\n",
        "  def theta(self,other):\n",
        "    costheta=self.costheta(other) #costheta 길이의 비\n",
        "    radian=math.acos(costheta)\n",
        "    angle=math.degrees(radian)\n",
        "    return angle\n",
        "  def __repr__(self):\n",
        "    return f\"x좌표 : {self.x}, y좌표 : {self.y}\""
      ],
      "metadata": {
        "id": "MiJtpHSyyQdD"
      },
      "execution_count": null,
      "outputs": []
    },
    {
      "cell_type": "code",
      "source": [
        "v1=Vector(10,0)\n",
        "v2=Vector(0,27)\n",
        "print(v1+v2)\n",
        "print(\"v1 벡터의 크기 : \",v1.norm())\n",
        "print(\"v2 벡터의 크기 : \",v2.norm())\n",
        "print(\"v1 normalize : \",v1.normalize())\n",
        "print(\"v2 normalize : \",v2.normalize())\n",
        "print(\"두 벡터의 내적 : \",v1.dot(v2))\n",
        "print(\"두 벡터의 코사인 사이각 : \",v1.costheta(v2))\n",
        "print(\"두 벡터의 사이각 : \",v1.theta(v2))"
      ],
      "metadata": {
        "colab": {
          "base_uri": "https://localhost:8080/"
        },
        "id": "2wa4yK4XyQfT",
        "outputId": "7c6b78e1-8ca9-4803-a594-361ad3d10c46"
      },
      "execution_count": null,
      "outputs": [
        {
          "output_type": "stream",
          "name": "stdout",
          "text": [
            "x좌표 : 10, y좌표 : 27\n",
            "v1 벡터의 크기 :  10.0\n",
            "v2 벡터의 크기 :  27.0\n",
            "v1 normalize :  (1.0, 0.0)\n",
            "v2 normalize :  (0.0, 1.0)\n",
            "두 벡터의 내적 :  0\n",
            "두 벡터의 코사인 사이각 :  0.0\n",
            "두 벡터의 사이각 :  90.0\n"
          ]
        }
      ]
    },
    {
      "cell_type": "markdown",
      "source": [
        "dictionary = (key : value)"
      ],
      "metadata": {
        "id": "555qJn32Hpyx"
      }
    },
    {
      "cell_type": "code",
      "source": [
        "d={'one':1,'two':2}\n",
        "print(d.items()) #dict_items([('one', 1), ('two', 2)])\n",
        "print(d.keys()) #dict_keys(['one', 'two'])\n",
        "print(d.values()) #dict_values([1, 2])\n",
        "d['one']\n",
        "print(type(d.values()))\n",
        "\n",
        "for item in d.items():\n",
        "  print(item)\n",
        "for key in d.keys():\n",
        "  print(key)\n",
        "for value in d.values():\n",
        "  print(value)"
      ],
      "metadata": {
        "colab": {
          "base_uri": "https://localhost:8080/"
        },
        "id": "onXI9nYdyQiC",
        "outputId": "975e6575-7668-4fdd-d148-b9c192413a5b"
      },
      "execution_count": null,
      "outputs": [
        {
          "output_type": "stream",
          "name": "stdout",
          "text": [
            "dict_items([('one', 1), ('two', 2)])\n",
            "dict_keys(['one', 'two'])\n",
            "dict_values([1, 2])\n",
            "<class 'dict_values'>\n",
            "('one', 1)\n",
            "('two', 2)\n",
            "one\n",
            "two\n",
            "1\n",
            "2\n"
          ]
        }
      ]
    },
    {
      "cell_type": "code",
      "source": [
        "d={'a':10,'b':20,'c':30}\n",
        "print(d['a'])\n",
        "#print(d['f']) #key가 없으면 error\n",
        "print(d.get('z',-1)) #z가 없으면 -1출력\n",
        "print(d.__class__)"
      ],
      "metadata": {
        "colab": {
          "base_uri": "https://localhost:8080/"
        },
        "id": "KCplKggQyQkS",
        "outputId": "b960d4f6-ec71-473d-927b-4c0e538716cd"
      },
      "execution_count": null,
      "outputs": [
        {
          "output_type": "stream",
          "name": "stdout",
          "text": [
            "10\n",
            "-1\n",
            "<class 'dict'>\n",
            "{'a': 10, 'b': 20, 'c': 30}\n"
          ]
        }
      ]
    },
    {
      "cell_type": "code",
      "source": [
        "#dict, set은 순서가 보장되지 않음\n",
        "name={} #{}로 초기화하면 dict인지 set인지 모름\n",
        "add={}\n",
        "add={\"서울\",\"대전\"} #set\n",
        "name['kim']=\"충북\" #dict\n",
        "name[\"대한\"]=\"서울\"\n",
        "name[\"대한\"]=add #수정 #모양을 유지한채로 입력\n",
        "print(name[\"kim\"])\n",
        "name\n",
        "#value에는 어떤것도 올 수 있다(list, set....)\n",
        "del(name['kim'])\n",
        "name"
      ],
      "metadata": {
        "colab": {
          "base_uri": "https://localhost:8080/"
        },
        "id": "eJs_fn7ryQmy",
        "outputId": "b157734f-f960-43f8-a766-4fa72694d497"
      },
      "execution_count": null,
      "outputs": [
        {
          "output_type": "stream",
          "name": "stdout",
          "text": [
            "충북\n"
          ]
        },
        {
          "output_type": "execute_result",
          "data": {
            "text/plain": [
              "{'대한': {'대전', '서울'}}"
            ]
          },
          "metadata": {},
          "execution_count": 42
        }
      ]
    },
    {
      "cell_type": "code",
      "source": [
        "#전화번호부\n",
        "\n",
        "adbook={'홍성윤':['번호 : 010-5879-5338','주소 : 서구'],\n",
        "        '양다혜':['번호 : 010-1111-2222','주소 : 양천구']}"
      ],
      "metadata": {
        "id": "pc0yvS-URPht"
      },
      "execution_count": null,
      "outputs": []
    },
    {
      "cell_type": "code",
      "source": [
        "def create(adbook):\n",
        "  name=input(\"이름을 입력하시오 : \")\n",
        "  callnum=input(\"전화번호를 입력하시오 : \")\n",
        "  add=input(\"사는 지역을 입력하시오 : \")\n",
        "  tot=[]\n",
        "  tot.append('번호:%s'%callnum)\n",
        "  tot.append('주소:%s'%add)\n",
        "  newperson={name:tot}\n",
        "  adbook.update(newperson) #없으면 생성, 있으면 수정\n",
        "  print(adbook)\n",
        "  return"
      ],
      "metadata": {
        "id": "5FC9UuhyyQpR"
      },
      "execution_count": null,
      "outputs": []
    },
    {
      "cell_type": "code",
      "source": [
        "def read(adbook):\n",
        "  name=input(\"이름을 입력하시오 : \")\n",
        "  if name in adbook: #in : 포함연산자\n",
        "    print(name,adbook.get(name))\n",
        "  else :\n",
        "    print(\"찾는 이름이 없습니다.\")\n",
        "  return"
      ],
      "metadata": {
        "id": "GcRlEH-CyQt6"
      },
      "execution_count": null,
      "outputs": []
    },
    {
      "cell_type": "code",
      "source": [
        "def update(adbook):\n",
        "  name=input(\"이름을 입력하시오 : \")\n",
        "  if name in adbook:\n",
        "    a=adbook.get(name) #주소를 받아줘서 따로 입력한 데이터를 바꾸는 과정이 필요없음\n",
        "    keys=input(\"번호수정 [0] 주소수정 [1]\")\n",
        "    if keys==\"0\":\n",
        "      tel=input(\"수정하실 번호를 입력하시오 : \")\n",
        "      a[0]=\"번호 : %s\"%tel\n",
        "    elif keys==\"1\":\n",
        "      add=input(\"수정하실 주소를 입력하시오 : \")\n",
        "      a[1]=\"주소 : %s\"%add\n",
        "    else : print(\"찾는 이름이 없습니다\")\n",
        "    print(name,adbook.get(name))\n",
        "  return"
      ],
      "metadata": {
        "id": "jGuckvDXyQ1z"
      },
      "execution_count": null,
      "outputs": []
    },
    {
      "cell_type": "code",
      "source": [
        "def delete(adbook):\n",
        "  name=input(\"이름을 입력하시오 : \")\n",
        "  if name in adbook: #in : 포함연산자\n",
        "    del(adbook[name])\n",
        "    print(\"삭제완료\",adbook)\n",
        "  else :\n",
        "      print(\"없는 이름입니다.\")\n",
        "  return"
      ],
      "metadata": {
        "id": "0TisXrzkyQwa"
      },
      "execution_count": null,
      "outputs": []
    },
    {
      "cell_type": "code",
      "source": [
        "menu=[\"새로운 사람 입력[1]  검색[2]  정보수정[3]  삭제[4]       종료[9]\"]\n",
        "while 1:\n",
        "  sel=input(menu)\n",
        "  if    sel == '1': create(adbook); continue\n",
        "  elif  sel == '2': read(adbook); continue\n",
        "  elif  sel == '3': update(adbook); continue\n",
        "  elif  sel == '4': delete(adbook); continue\n",
        "  elif  sel == '9': break\n",
        "  else: print(\"잘못된 입력입니다.\")"
      ],
      "metadata": {
        "colab": {
          "base_uri": "https://localhost:8080/"
        },
        "id": "NkVj3-q-yQyy",
        "outputId": "d8035e45-ffe1-474b-c65f-21fa8fb9ebb5"
      },
      "execution_count": null,
      "outputs": [
        {
          "name": "stdout",
          "output_type": "stream",
          "text": [
            "['새로운 사람 입력[1]  검색[2]  정보수정[3]  삭제[4]       종료[9]']2\n",
            "이름을 입력하시오 : 홍성윤\n",
            "홍성윤 ['번호 : 111-212-31', '주소 : 서구']\n",
            "['새로운 사람 입력[1]  검색[2]  정보수정[3]  삭제[4]       종료[9]']9\n"
          ]
        }
      ]
    },
    {
      "cell_type": "markdown",
      "source": [
        "함수 : 전역변수 사용\n",
        "\n",
        "클래스 : 멤버변수 사용"
      ],
      "metadata": {
        "id": "8qakyVk9TaN2"
      }
    },
    {
      "cell_type": "code",
      "source": [
        "class telbook:\n",
        "  def __init__(self):\n",
        "    self.adbook={}\n",
        "\n",
        "  def create(self):\n",
        "    name=input(\"이름을 입력하시오 : \")\n",
        "    callnum=input(\"전화번호를 입력하시오 : \")\n",
        "    add=input(\"사는 지역을 입력하시오 : \")\n",
        "    tot=[]\n",
        "    tot.append('번호:%s'%callnum)\n",
        "    tot.append('주소:%s'%add)\n",
        "    newperson={name:tot}\n",
        "    self.adbook.update(newperson)\n",
        "    #print(self.adbook)\n",
        "    return\n",
        "\n",
        "  def read(self):\n",
        "    name=input(\"이름을 입력하시오 : \")\n",
        "    if name in self.adbook:\n",
        "      print(name,self.adbook.get(name))\n",
        "    else :\n",
        "      print(\"찾는 이름이 없습니다.\")\n",
        "    return\n",
        "\n",
        "  def update(self):\n",
        "    name=input(\"이름을 입력하시오 : \")\n",
        "    if name in self.adbook:\n",
        "      a=self.adbook.get(name)\n",
        "      keys=input(\"번호수정 [0] 주소수정 [1]\")\n",
        "      if keys==\"0\":\n",
        "        tel=input(\"수정하실 번호를 입력하시오 : \")\n",
        "        a[0]=\"번호 : %s\"%tel\n",
        "      elif keys==\"1\":\n",
        "        add=input(\"수정하실 주소를 입력하시오 : \")\n",
        "        a[1]=\"주소 : %s\"%add\n",
        "      else : print(\"찾는 이름이 없습니다\")\n",
        "      #print(name,self.adbook.get(name))\n",
        "    return\n",
        "\n",
        "  def delete(self):\n",
        "    name=input(\"이름을 입력하시오 : \")\n",
        "    if name in self.adbook:\n",
        "      del(self.adbook[name])\n",
        "      print(\"삭제완료\",self.adbook)\n",
        "    else :\n",
        "        print(\"없는 이름입니다.\")\n",
        "    return"
      ],
      "metadata": {
        "id": "WrzgAgRPyQ4a"
      },
      "execution_count": null,
      "outputs": []
    },
    {
      "cell_type": "code",
      "source": [
        "n=telbook()\n",
        "\n",
        "menu=[\"새로운 사람 입력[1]  검색[2]  정보수정[3]  삭제[4]       종료[9]\"]\n",
        "while 1:\n",
        "  sel=input(menu)\n",
        "  if    sel == '1': n.create(); continue\n",
        "  elif  sel == '2': n.read(); continue\n",
        "  elif  sel == '3': n.update(); continue\n",
        "  elif  sel == '4': n.delete(); continue\n",
        "  elif  sel == '9': break\n",
        "  else: print(\"잘못된 입력입니다.\")"
      ],
      "metadata": {
        "colab": {
          "base_uri": "https://localhost:8080/",
          "height": 554
        },
        "id": "4cUcVejKTNJj",
        "outputId": "3022a64d-2081-46ea-b41d-5c4b6990e4f6"
      },
      "execution_count": null,
      "outputs": [
        {
          "output_type": "stream",
          "name": "stdout",
          "text": [
            "['새로운 사람 입력[1]  검색[2]  정보수정[3]  삭제[4]       종료[9]']1\n",
            "이름을 입력하시오 : asedf\n",
            "전화번호를 입력하시오 : 234\n",
            "사는 지역을 입력하시오 : aa\n",
            "['새로운 사람 입력[1]  검색[2]  정보수정[3]  삭제[4]       종료[9]']2\n",
            "이름을 입력하시오 : s\n",
            "찾는 이름이 없습니다.\n"
          ]
        },
        {
          "output_type": "error",
          "ename": "KeyboardInterrupt",
          "evalue": "ignored",
          "traceback": [
            "\u001b[0;31m---------------------------------------------------------------------------\u001b[0m",
            "\u001b[0;31mKeyboardInterrupt\u001b[0m                         Traceback (most recent call last)",
            "\u001b[0;32m<ipython-input-92-23441dfffc1f>\u001b[0m in \u001b[0;36m<cell line: 4>\u001b[0;34m()\u001b[0m\n\u001b[1;32m      3\u001b[0m \u001b[0mmenu\u001b[0m\u001b[0;34m=\u001b[0m\u001b[0;34m[\u001b[0m\u001b[0;34m\"새로운 사람 입력[1]  검색[2]  정보수정[3]  삭제[4]       종료[9]\"\u001b[0m\u001b[0;34m]\u001b[0m\u001b[0;34m\u001b[0m\u001b[0;34m\u001b[0m\u001b[0m\n\u001b[1;32m      4\u001b[0m \u001b[0;32mwhile\u001b[0m \u001b[0;36m1\u001b[0m\u001b[0;34m:\u001b[0m\u001b[0;34m\u001b[0m\u001b[0;34m\u001b[0m\u001b[0m\n\u001b[0;32m----> 5\u001b[0;31m   \u001b[0msel\u001b[0m\u001b[0;34m=\u001b[0m\u001b[0minput\u001b[0m\u001b[0;34m(\u001b[0m\u001b[0mmenu\u001b[0m\u001b[0;34m)\u001b[0m\u001b[0;34m\u001b[0m\u001b[0;34m\u001b[0m\u001b[0m\n\u001b[0m\u001b[1;32m      6\u001b[0m   \u001b[0;32mif\u001b[0m    \u001b[0msel\u001b[0m \u001b[0;34m==\u001b[0m \u001b[0;34m'1'\u001b[0m\u001b[0;34m:\u001b[0m \u001b[0mn\u001b[0m\u001b[0;34m.\u001b[0m\u001b[0mcreate\u001b[0m\u001b[0;34m(\u001b[0m\u001b[0;34m)\u001b[0m\u001b[0;34m;\u001b[0m \u001b[0;32mcontinue\u001b[0m\u001b[0;34m\u001b[0m\u001b[0;34m\u001b[0m\u001b[0m\n\u001b[1;32m      7\u001b[0m   \u001b[0;32melif\u001b[0m  \u001b[0msel\u001b[0m \u001b[0;34m==\u001b[0m \u001b[0;34m'2'\u001b[0m\u001b[0;34m:\u001b[0m \u001b[0mn\u001b[0m\u001b[0;34m.\u001b[0m\u001b[0mread\u001b[0m\u001b[0;34m(\u001b[0m\u001b[0;34m)\u001b[0m\u001b[0;34m;\u001b[0m \u001b[0;32mcontinue\u001b[0m\u001b[0;34m\u001b[0m\u001b[0;34m\u001b[0m\u001b[0m\n",
            "\u001b[0;32m/usr/local/lib/python3.10/dist-packages/ipykernel/kernelbase.py\u001b[0m in \u001b[0;36mraw_input\u001b[0;34m(self, prompt)\u001b[0m\n\u001b[1;32m    849\u001b[0m                 \u001b[0;34m\"raw_input was called, but this frontend does not support input requests.\"\u001b[0m\u001b[0;34m\u001b[0m\u001b[0;34m\u001b[0m\u001b[0m\n\u001b[1;32m    850\u001b[0m             )\n\u001b[0;32m--> 851\u001b[0;31m         return self._input_request(str(prompt),\n\u001b[0m\u001b[1;32m    852\u001b[0m             \u001b[0mself\u001b[0m\u001b[0;34m.\u001b[0m\u001b[0m_parent_ident\u001b[0m\u001b[0;34m,\u001b[0m\u001b[0;34m\u001b[0m\u001b[0;34m\u001b[0m\u001b[0m\n\u001b[1;32m    853\u001b[0m             \u001b[0mself\u001b[0m\u001b[0;34m.\u001b[0m\u001b[0m_parent_header\u001b[0m\u001b[0;34m,\u001b[0m\u001b[0;34m\u001b[0m\u001b[0;34m\u001b[0m\u001b[0m\n",
            "\u001b[0;32m/usr/local/lib/python3.10/dist-packages/ipykernel/kernelbase.py\u001b[0m in \u001b[0;36m_input_request\u001b[0;34m(self, prompt, ident, parent, password)\u001b[0m\n\u001b[1;32m    893\u001b[0m             \u001b[0;32mexcept\u001b[0m \u001b[0mKeyboardInterrupt\u001b[0m\u001b[0;34m:\u001b[0m\u001b[0;34m\u001b[0m\u001b[0;34m\u001b[0m\u001b[0m\n\u001b[1;32m    894\u001b[0m                 \u001b[0;31m# re-raise KeyboardInterrupt, to truncate traceback\u001b[0m\u001b[0;34m\u001b[0m\u001b[0;34m\u001b[0m\u001b[0m\n\u001b[0;32m--> 895\u001b[0;31m                 \u001b[0;32mraise\u001b[0m \u001b[0mKeyboardInterrupt\u001b[0m\u001b[0;34m(\u001b[0m\u001b[0;34m\"Interrupted by user\"\u001b[0m\u001b[0;34m)\u001b[0m \u001b[0;32mfrom\u001b[0m \u001b[0;32mNone\u001b[0m\u001b[0;34m\u001b[0m\u001b[0;34m\u001b[0m\u001b[0m\n\u001b[0m\u001b[1;32m    896\u001b[0m             \u001b[0;32mexcept\u001b[0m \u001b[0mException\u001b[0m \u001b[0;32mas\u001b[0m \u001b[0me\u001b[0m\u001b[0;34m:\u001b[0m\u001b[0;34m\u001b[0m\u001b[0;34m\u001b[0m\u001b[0m\n\u001b[1;32m    897\u001b[0m                 \u001b[0mself\u001b[0m\u001b[0;34m.\u001b[0m\u001b[0mlog\u001b[0m\u001b[0;34m.\u001b[0m\u001b[0mwarning\u001b[0m\u001b[0;34m(\u001b[0m\u001b[0;34m\"Invalid Message:\"\u001b[0m\u001b[0;34m,\u001b[0m \u001b[0mexc_info\u001b[0m\u001b[0;34m=\u001b[0m\u001b[0;32mTrue\u001b[0m\u001b[0;34m)\u001b[0m\u001b[0;34m\u001b[0m\u001b[0;34m\u001b[0m\u001b[0m\n",
            "\u001b[0;31mKeyboardInterrupt\u001b[0m: Interrupted by user"
          ]
        }
      ]
    },
    {
      "cell_type": "code",
      "source": [],
      "metadata": {
        "id": "vMHuZyxCTNLe"
      },
      "execution_count": null,
      "outputs": []
    },
    {
      "cell_type": "code",
      "source": [],
      "metadata": {
        "id": "hWMynIG9TNNd"
      },
      "execution_count": null,
      "outputs": []
    },
    {
      "cell_type": "code",
      "source": [],
      "metadata": {
        "id": "KQL4j_NiTNPN"
      },
      "execution_count": null,
      "outputs": []
    },
    {
      "cell_type": "code",
      "source": [],
      "metadata": {
        "id": "6UyRkutZTNRF"
      },
      "execution_count": null,
      "outputs": []
    },
    {
      "cell_type": "code",
      "source": [],
      "metadata": {
        "id": "HgBB60VATNS9"
      },
      "execution_count": null,
      "outputs": []
    },
    {
      "cell_type": "code",
      "source": [],
      "metadata": {
        "id": "d7PQN2edTNU9"
      },
      "execution_count": null,
      "outputs": []
    },
    {
      "cell_type": "code",
      "source": [],
      "metadata": {
        "id": "lvwwchMFTNW9"
      },
      "execution_count": null,
      "outputs": []
    },
    {
      "cell_type": "code",
      "source": [],
      "metadata": {
        "id": "lOvBDO83TNY-"
      },
      "execution_count": null,
      "outputs": []
    },
    {
      "cell_type": "code",
      "source": [],
      "metadata": {
        "id": "txbotqhoTNa4"
      },
      "execution_count": null,
      "outputs": []
    },
    {
      "cell_type": "code",
      "source": [],
      "metadata": {
        "id": "pYexDrq5TNc1"
      },
      "execution_count": null,
      "outputs": []
    },
    {
      "cell_type": "code",
      "source": [],
      "metadata": {
        "id": "74ZUAYAdTNeu"
      },
      "execution_count": null,
      "outputs": []
    }
  ]
}