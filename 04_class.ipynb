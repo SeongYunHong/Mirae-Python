{
  "nbformat": 4,
  "nbformat_minor": 0,
  "metadata": {
    "colab": {
      "provenance": [],
      "authorship_tag": "ABX9TyM76vMSRZt992LzwJAODP2y",
      "include_colab_link": true
    },
    "kernelspec": {
      "name": "python3",
      "display_name": "Python 3"
    },
    "language_info": {
      "name": "python"
    }
  },
  "cells": [
    {
      "cell_type": "markdown",
      "metadata": {
        "id": "view-in-github",
        "colab_type": "text"
      },
      "source": [
        "<a href=\"https://colab.research.google.com/github/SeongYunHong/Mirae-Python/blob/main/04_class.ipynb\" target=\"_parent\"><img src=\"https://colab.research.google.com/assets/colab-badge.svg\" alt=\"Open In Colab\"/></a>"
      ]
    },
    {
      "cell_type": "markdown",
      "source": [
        "**class**\n",
        ">\n",
        "프로그램 방법론\n",
        ">\n",
        "구조적 프로그래밍 -> 객체지향 프로그래밍 -> 일반화 프로그래밍 -> 함수형 프로그래밍\n",
        "\n",
        "* 구조적 프로그래밍 : 제어문, 함수\n",
        "* 객체지향 프로그래밍 : 캡술화(기본 : public), 추상화(abstract class), 다형성(overloading, overriding은 해결), 상속성(object 거대하게 작성 상속)\n",
        "* 함수형 프로그래밍 : map, filter, reduce\n",
        "\n",
        "python class의 구조적 특성\n",
        "* 데이터 타입 미지정 : self, 멤버변수는 함수(함수 무관)안에서 정의 되어야한다(실시간으로 멤버함수, 변수 차구 가능)\n",
        "* init : 생성자\n",
        "* delete : 소멸자(garbage collection)작동\n",
        "* class 멤버 변수는 클래스 내부 함수 외부에서 선언\n",
        "\n",
        "\n",
        "\n",
        "\n"
      ],
      "metadata": {
        "id": "ZmUKfubXqaGb"
      }
    },
    {
      "cell_type": "code",
      "execution_count": null,
      "metadata": {
        "colab": {
          "base_uri": "https://localhost:8080/",
          "height": 320
        },
        "id": "FYdEJs4uqXnM",
        "outputId": "83659513-6780-4f37-f24e-8bf183719a18"
      },
      "outputs": [
        {
          "output_type": "execute_result",
          "data": {
            "text/plain": [
              "<IPython.lib.display.YouTubeVideo at 0x7b863968da20>"
            ],
            "text/html": [
              "\n",
              "        <iframe\n",
              "            width=\"400\"\n",
              "            height=\"300\"\n",
              "            src=\"https://www.youtube.com/embed/hcqxtjCuvxnnftuR\"\n",
              "            frameborder=\"0\"\n",
              "            allowfullscreen\n",
              "            \n",
              "        ></iframe>\n",
              "        "
            ]
          },
          "metadata": {},
          "execution_count": 36
        }
      ],
      "source": [
        "from IPython.display import YouTubeVideo\n",
        "youtube_video_id=\"hcqxtjCuvxnnftuR\"\n",
        "YouTubeVideo(youtube_video_id)"
      ]
    },
    {
      "cell_type": "code",
      "source": [
        "#소리는 sin+cos 파로 분해하거나 생성 가능\n",
        "import numpy as np\n",
        "from IPython.display import Audio\n",
        "framerate=44100\n",
        "t=np.linspace(0,5,framerate*5)\n",
        "data=np.sin(2*np.pi*220*t)+np.sin(2*np.pi*224*t) #합성함수\n",
        "Audio(data.rate=framerate)"
      ],
      "metadata": {
        "colab": {
          "base_uri": "https://localhost:8080/",
          "height": 147
        },
        "id": "FziHcopzrvON",
        "outputId": "38566d8d-3126-42f3-b5dd-d378778a1196"
      },
      "execution_count": null,
      "outputs": [
        {
          "output_type": "error",
          "ename": "SyntaxError",
          "evalue": "ignored",
          "traceback": [
            "\u001b[0;36m  File \u001b[0;32m\"<ipython-input-4-7b5a59f31a9a>\"\u001b[0;36m, line \u001b[0;32m7\u001b[0m\n\u001b[0;31m    Audio(data.rate=framerate)\u001b[0m\n\u001b[0m          ^\u001b[0m\n\u001b[0;31mSyntaxError\u001b[0m\u001b[0;31m:\u001b[0m expression cannot contain assignment, perhaps you meant \"==\"?\n"
          ]
        }
      ]
    },
    {
      "cell_type": "code",
      "source": [
        "from IPython.display import Image\n",
        "Image('http://www.google.fr/images/srpr/logo3w.png')"
      ],
      "metadata": {
        "colab": {
          "base_uri": "https://localhost:8080/",
          "height": 112
        },
        "id": "7B6209-0sh6k",
        "outputId": "e72f2797-c2b6-40e8-f6cf-2be11ad0a889"
      },
      "execution_count": null,
      "outputs": [
        {
          "output_type": "execute_result",
          "data": {
            "image/png": "[encoded data removed]",
            "text/plain": [
              "<IPython.core.display.Image object>"
            ]
          },
          "metadata": {},
          "execution_count": 5
        }
      ]
    },
    {
      "cell_type": "code",
      "source": [
        "#map을 적용하면 iterator처럼 사용가능\n",
        "m=map(lambda x:x*x, [3,4,5,6,7])\n",
        "print(m)\n",
        "print(next(m))"
      ],
      "metadata": {
        "colab": {
          "base_uri": "https://localhost:8080/"
        },
        "id": "xEdlaTOXs2FV",
        "outputId": "2d9cc012-ee97-49a7-a878-a1deddac2423"
      },
      "execution_count": null,
      "outputs": [
        {
          "output_type": "stream",
          "name": "stdout",
          "text": [
            "<map object at 0x7b864e006920>\n",
            "9\n"
          ]
        }
      ]
    },
    {
      "cell_type": "markdown",
      "source": [
        "map"
      ],
      "metadata": {
        "id": "BjZegtBayrVd"
      }
    },
    {
      "cell_type": "code",
      "source": [
        "print(list(map(lambda x:x*x, [3,4,5,6,7])))"
      ],
      "metadata": {
        "id": "5fIhMpbPs2HT"
      },
      "execution_count": null,
      "outputs": []
    },
    {
      "cell_type": "code",
      "source": [
        "def power(x):\n",
        "  return x*x\n",
        "print(list(map(power,range(1,11))), end=\" \")   #함수가 먼저오고 데이터가 옴(map(power,range(1,101)))"
      ],
      "metadata": {
        "colab": {
          "base_uri": "https://localhost:8080/"
        },
        "id": "vhmKPQGos2Js",
        "outputId": "1275477f-9cc2-4993-ef77-2a52336b91a4"
      },
      "execution_count": null,
      "outputs": [
        {
          "output_type": "stream",
          "name": "stdout",
          "text": [
            "[1, 4, 9, 16, 25, 36, 49, 64, 81, 100] "
          ]
        }
      ]
    },
    {
      "cell_type": "code",
      "source": [
        "#문제\n",
        "#1~5까지의 수에 대하여 제곱을 한 다음에 10을 더해주는 작업을 map과 lambda를 이용하여 처리하시오\n",
        "\n",
        "print(list(map(lambda x:(x*x)+10,range(1,6))))"
      ],
      "metadata": {
        "colab": {
          "base_uri": "https://localhost:8080/"
        },
        "id": "3hoThZoUs2Lj",
        "outputId": "300589db-3027-4edc-ed2a-b23a8c935ae9"
      },
      "execution_count": null,
      "outputs": [
        {
          "output_type": "stream",
          "name": "stdout",
          "text": [
            "[11, 14, 19, 26, 35]\n"
          ]
        }
      ]
    },
    {
      "cell_type": "code",
      "source": [
        "#문제\n",
        "#다음 출근시간 데이터에 대하여 기본급 : 1,000,000원 시간당 17,500원의 급혀를 계산하고자한다\n",
        "total_time=[160,150,120,180,300,400]\n",
        "\n",
        "print(list(map(lambda x:x*17500+1000000,total_time)))"
      ],
      "metadata": {
        "colab": {
          "base_uri": "https://localhost:8080/"
        },
        "id": "zI0AqbYFs2NU",
        "outputId": "9ec3fc05-cde9-4efc-e706-8d297d4f56ca"
      },
      "execution_count": null,
      "outputs": [
        {
          "output_type": "stream",
          "name": "stdout",
          "text": [
            "[3800000, 3625000, 3100000, 4150000, 6250000, 8000000]\n"
          ]
        }
      ]
    },
    {
      "cell_type": "code",
      "source": [
        "#방법1\n",
        "num=range(11)\n",
        "for i in num:\n",
        "  if i%2==1:\n",
        "    print(i,end=\" \")"
      ],
      "metadata": {
        "colab": {
          "base_uri": "https://localhost:8080/"
        },
        "id": "hNKeBu6Es2O1",
        "outputId": "ffb22ff7-e8e2-4239-a66b-ae57245ec42e"
      },
      "execution_count": null,
      "outputs": [
        {
          "output_type": "stream",
          "name": "stdout",
          "text": [
            "1 3 5 7 9 "
          ]
        }
      ]
    },
    {
      "cell_type": "code",
      "source": [
        "#방법2\n",
        "[i for i in num if i%2]"
      ],
      "metadata": {
        "colab": {
          "base_uri": "https://localhost:8080/"
        },
        "id": "tV5S0UKfs2Q7",
        "outputId": "ebf5dd97-093c-481b-eefd-7fa09c893f78"
      },
      "execution_count": null,
      "outputs": [
        {
          "output_type": "execute_result",
          "data": {
            "text/plain": [
              "[1, 3, 5, 7, 9]"
            ]
          },
          "metadata": {},
          "execution_count": 21
        }
      ]
    },
    {
      "cell_type": "code",
      "source": [
        "#방법3\n",
        "def odd(numberlist):\n",
        "  return [i for i in numberlist if i%2]\n",
        "odd(num)"
      ],
      "metadata": {
        "colab": {
          "base_uri": "https://localhost:8080/"
        },
        "id": "5neT9TSgs2Sz",
        "outputId": "891512ec-c584-464b-ebac-3b5a4f4c33ab"
      },
      "execution_count": null,
      "outputs": [
        {
          "output_type": "execute_result",
          "data": {
            "text/plain": [
              "[1, 3, 5, 7, 9]"
            ]
          },
          "metadata": {},
          "execution_count": 23
        }
      ]
    },
    {
      "cell_type": "markdown",
      "source": [
        "filter"
      ],
      "metadata": {
        "id": "7Q1A4IVZynB8"
      }
    },
    {
      "cell_type": "code",
      "source": [
        "#방법4 #filter\n",
        "def odd(k):\n",
        "  return k%2 #true/false 리턴\n",
        "list(filter(odd,range(10)))"
      ],
      "metadata": {
        "colab": {
          "base_uri": "https://localhost:8080/"
        },
        "id": "qKx0JbAMs2Ur",
        "outputId": "3d8cdf8f-ed8f-4523-8a9e-c3fa76dbd50c"
      },
      "execution_count": null,
      "outputs": [
        {
          "output_type": "execute_result",
          "data": {
            "text/plain": [
              "[1, 3, 5, 7, 9]"
            ]
          },
          "metadata": {},
          "execution_count": 24
        }
      ]
    },
    {
      "cell_type": "code",
      "source": [
        "#4보다 큰 수만 필터링하시오\n",
        "data=[1,2,3,4,5,6,7,8,3,4,2,1]\n",
        "def greater(k):\n",
        "  return k>4\n",
        "list(filter(greater,data))"
      ],
      "metadata": {
        "colab": {
          "base_uri": "https://localhost:8080/"
        },
        "id": "n1kRp9vns2Wk",
        "outputId": "7267515d-3c58-4059-cc20-b65d137bfe45"
      },
      "execution_count": null,
      "outputs": [
        {
          "output_type": "execute_result",
          "data": {
            "text/plain": [
              "[5, 6, 7, 8]"
            ]
          },
          "metadata": {},
          "execution_count": 26
        }
      ]
    },
    {
      "cell_type": "code",
      "source": [
        "#1~100 사이의 숫자 중 3의 배수만 출력하시오\n",
        "def fil(k):\n",
        "  return k%3==0\n",
        "print(list(filter(fil,range(1,101))),end=\" \")"
      ],
      "metadata": {
        "colab": {
          "base_uri": "https://localhost:8080/"
        },
        "id": "TN9jmtAMs2YT",
        "outputId": "70863e34-eb17-4b4f-fa8a-e6d70d9f113c"
      },
      "execution_count": null,
      "outputs": [
        {
          "output_type": "stream",
          "name": "stdout",
          "text": [
            "[3, 6, 9, 12, 15, 18, 21, 24, 27, 30, 33, 36, 39, 42, 45, 48, 51, 54, 57, 60, 63, 66, 69, 72, 75, 78, 81, 84, 87, 90, 93, 96, 99] "
          ]
        }
      ]
    },
    {
      "cell_type": "markdown",
      "source": [
        "reduce"
      ],
      "metadata": {
        "id": "5zAyMmP5ytL1"
      }
    },
    {
      "cell_type": "code",
      "source": [
        "from functools import reduce\n",
        "reduce(lambda x, y:x+y,range(10))"
      ],
      "metadata": {
        "id": "9Guu2ADes2aL"
      },
      "execution_count": null,
      "outputs": []
    },
    {
      "cell_type": "code",
      "source": [
        "#인덱스로 함수 실행하기\n",
        "func_choice=[lambda : print(\"나는 귀중한 사람입니다.\"),\n",
        "             lambda : print(\"나는 행복합니다.\")]\n",
        "condition=eval(input(\"숫자를 입력하시오 : \"))\n",
        "condition%=2\n",
        "func_choice[condition]()"
      ],
      "metadata": {
        "colab": {
          "base_uri": "https://localhost:8080/"
        },
        "id": "sMJPLR0zs2br",
        "outputId": "a1355c23-7701-48bc-a66c-8e1e14444e17"
      },
      "execution_count": null,
      "outputs": [
        {
          "output_type": "stream",
          "name": "stdout",
          "text": [
            "숫자를 입력하시오 : 2\n",
            "나는 귀중한 사람입니다.\n"
          ]
        }
      ]
    },
    {
      "cell_type": "markdown",
      "source": [
        "class"
      ],
      "metadata": {
        "id": "m8dvSbjWzgvl"
      }
    },
    {
      "cell_type": "code",
      "source": [
        "class MyClass(object): #(object)를 안써도 암묵적으로 상속을 받\n",
        "  \"\"\"클래스의 예\n",
        "  설명 i는 클래스 변수이다\"\"\"   #설명\n",
        "  i=12345        #클래스 변수(공용변수 - 인스턴스한 변수들이 공)\n",
        "  def __init__(self):\n",
        "    self.i=54321 #멤버 변수\n",
        "    num=100      #지역 변수\n",
        "  def f(self):   #매개변수에 반드시 self : self는 매개변수가 아니라 문법\n",
        "    return self.i\n",
        "print(MyClass.__doc__) #부모가 __doc__을 가지고 있어서 설명이 들어오면 자동으로 출력\n",
        "print(MyClass.i)"
      ],
      "metadata": {
        "colab": {
          "base_uri": "https://localhost:8080/"
        },
        "id": "kniRTJwYs2eD",
        "outputId": "7d850a9b-c5fc-48d7-f8d2-5a0271849a12"
      },
      "execution_count": null,
      "outputs": [
        {
          "output_type": "stream",
          "name": "stdout",
          "text": [
            "클래스의 예\n",
            "  설명 i는 클래스 변수이다\n",
            "12345\n"
          ]
        }
      ]
    },
    {
      "cell_type": "code",
      "source": [
        "myclass=MyClass() #MyClass 인스턴스\n",
        "print(myclass.i)\n",
        "myclass.f() #f 함수 호출"
      ],
      "metadata": {
        "colab": {
          "base_uri": "https://localhost:8080/"
        },
        "id": "mZwo8-7ps2gD",
        "outputId": "c1f7038d-d36f-4f32-c4b5-bf456cb30570"
      },
      "execution_count": null,
      "outputs": [
        {
          "output_type": "stream",
          "name": "stdout",
          "text": [
            "54321\n"
          ]
        },
        {
          "output_type": "execute_result",
          "data": {
            "text/plain": [
              "54321"
            ]
          },
          "metadata": {},
          "execution_count": 41
        }
      ]
    },
    {
      "cell_type": "code",
      "source": [
        "class C:\n",
        "  def __init__(self):\n",
        "    self.__x=None     #__ : private\n",
        "  def getx(self):\n",
        "    return self.__x\n",
        "  def setx(self,value)  :\n",
        "    self.__x=value\n",
        "  def delx(self):\n",
        "    del self.__x\n",
        "test=C()\n",
        "test.setx(100)\n",
        "test.__x"
      ],
      "metadata": {
        "colab": {
          "base_uri": "https://localhost:8080/",
          "height": 221
        },
        "id": "1Qmx16j42h8F",
        "outputId": "50a0307c-5e89-470b-894c-0823294edd9f"
      },
      "execution_count": null,
      "outputs": [
        {
          "output_type": "error",
          "ename": "AttributeError",
          "evalue": "ignored",
          "traceback": [
            "\u001b[0;31m---------------------------------------------------------------------------\u001b[0m",
            "\u001b[0;31mAttributeError\u001b[0m                            Traceback (most recent call last)",
            "\u001b[0;32m<ipython-input-43-2097bb179436>\u001b[0m in \u001b[0;36m<cell line: 12>\u001b[0;34m()\u001b[0m\n\u001b[1;32m     10\u001b[0m \u001b[0mtest\u001b[0m\u001b[0;34m=\u001b[0m\u001b[0mC\u001b[0m\u001b[0;34m(\u001b[0m\u001b[0;34m)\u001b[0m\u001b[0;34m\u001b[0m\u001b[0;34m\u001b[0m\u001b[0m\n\u001b[1;32m     11\u001b[0m \u001b[0mtest\u001b[0m\u001b[0;34m.\u001b[0m\u001b[0msetx\u001b[0m\u001b[0;34m(\u001b[0m\u001b[0;36m100\u001b[0m\u001b[0;34m)\u001b[0m\u001b[0;34m\u001b[0m\u001b[0;34m\u001b[0m\u001b[0m\n\u001b[0;32m---> 12\u001b[0;31m \u001b[0mtest\u001b[0m\u001b[0;34m.\u001b[0m\u001b[0m__x\u001b[0m\u001b[0;34m\u001b[0m\u001b[0;34m\u001b[0m\u001b[0m\n\u001b[0m",
            "\u001b[0;31mAttributeError\u001b[0m: 'C' object has no attribute '__x'"
          ]
        }
      ]
    },
    {
      "cell_type": "code",
      "source": [
        "#변수 구분 : 멤버변수, 클래스 변수, 지역변수\n",
        "#멤버변수는 데이터 타입을 지정하지 않은 포인터이기 때문에 실시간 추가 가능\n",
        "class Employee:\n",
        "  empCount=0\n",
        "  empName=\"미래융합교육원\"\n",
        "  def __init__(self,name,salary): #멤버 변수 생성 #파이썬의 멤버변수는 어느 함수에서도 가능\n",
        "    self.name=name\n",
        "    self.salary=salary\n",
        "    Employee.empCount+=1\n",
        "\n",
        "  def displayName(self):\n",
        "    print(\"회사이름은 \",Employee.empName)\n",
        "\n",
        "  def displayCount(self):\n",
        "    #self.age=10 #추가 가능\n",
        "    print(\"직원 수 = %d\" %Employee.empCount)\n",
        "    return \"몰라\"\n",
        "\n",
        "  def displayEmployee(self):\n",
        "    print(\"이름 : \",self.name,\", 급여 : \",self.salary)\n",
        "\n",
        "  def __call__(self,*pargs,**kargs): #오버라이딩 : 클래스를 함수처럼 동작시킬 때 사용\n",
        "    print('Called',pargs,kargs)"
      ],
      "metadata": {
        "id": "kInQ6UIx2h-F"
      },
      "execution_count": null,
      "outputs": []
    },
    {
      "cell_type": "code",
      "source": [
        "emp1=Employee(\"김종호\",500)\n",
        "emp1.displayCount()\n",
        "emp2=Employee(\"김개똥\",600)\n",
        "emp2.displayCount()\n",
        "emp2.displayName()\n",
        "emp1(\"인공지능\",10,20,30,c=100,d=200) #클래스를 함수처럼 사"
      ],
      "metadata": {
        "colab": {
          "base_uri": "https://localhost:8080/"
        },
        "id": "w0txnVFQ2iAN",
        "outputId": "9e5acfd6-b376-4188-dd10-4320e8f21fcc"
      },
      "execution_count": null,
      "outputs": [
        {
          "output_type": "stream",
          "name": "stdout",
          "text": [
            "직원 수 = 11\n",
            "직원 수 = 12\n",
            "회사이름은  미래융합교육원\n",
            "Called ('인공지능', 10, 20, 30) {'c': 100, 'd': 200}\n"
          ]
        }
      ]
    },
    {
      "cell_type": "code",
      "source": [
        "emp1.age=7 #실시간으로 변수 추가 가능\n",
        "emp2.age=8 #수정"
      ],
      "metadata": {
        "id": "BPMoORP82iCF"
      },
      "execution_count": null,
      "outputs": []
    },
    {
      "cell_type": "code",
      "source": [
        "#emp.age #에러 : 다른 객체에 영향을 미치진 않는다"
      ],
      "metadata": {
        "colab": {
          "base_uri": "https://localhost:8080/",
          "height": 184
        },
        "id": "q_5IkH202iD9",
        "outputId": "e0b1b522-89d0-43e9-b9f5-8caef51db0cb"
      },
      "execution_count": null,
      "outputs": [
        {
          "output_type": "error",
          "ename": "NameError",
          "evalue": "ignored",
          "traceback": [
            "\u001b[0;31m---------------------------------------------------------------------------\u001b[0m",
            "\u001b[0;31mNameError\u001b[0m                                 Traceback (most recent call last)",
            "\u001b[0;32m<ipython-input-57-94a797fc56b2>\u001b[0m in \u001b[0;36m<cell line: 1>\u001b[0;34m()\u001b[0m\n\u001b[0;32m----> 1\u001b[0;31m \u001b[0memp\u001b[0m\u001b[0;34m.\u001b[0m\u001b[0mage\u001b[0m\u001b[0;34m\u001b[0m\u001b[0;34m\u001b[0m\u001b[0m\n\u001b[0m",
            "\u001b[0;31mNameError\u001b[0m: name 'emp' is not defined"
          ]
        }
      ]
    },
    {
      "cell_type": "code",
      "source": [
        "hasattr(emp1,'age') #hasattr : 변수가 있는지 알아보는 함수"
      ],
      "metadata": {
        "colab": {
          "base_uri": "https://localhost:8080/"
        },
        "id": "Y0pqtmYa2iFt",
        "outputId": "d3ca7e83-036e-439f-ff62-88ddfa0d2975"
      },
      "execution_count": null,
      "outputs": [
        {
          "output_type": "execute_result",
          "data": {
            "text/plain": [
              "False"
            ]
          },
          "metadata": {},
          "execution_count": 63
        }
      ]
    },
    {
      "cell_type": "code",
      "source": [
        "delattr(emp1,'age') #defattr : 변수 삭제"
      ],
      "metadata": {
        "id": "ewJ2R6i82iHV"
      },
      "execution_count": null,
      "outputs": []
    },
    {
      "cell_type": "code",
      "source": [
        "print(emp1.__dict__) #파이썬은 멤버변수를 관리할때 dict형으로 관"
      ],
      "metadata": {
        "colab": {
          "base_uri": "https://localhost:8080/"
        },
        "id": "xulj9u6-2iJF",
        "outputId": "c420ff91-196f-4e67-e8e6-19f4d6b71b42"
      },
      "execution_count": null,
      "outputs": [
        {
          "output_type": "stream",
          "name": "stdout",
          "text": [
            "{'name': '김종호', 'salary': 500}\n"
          ]
        }
      ]
    },
    {
      "cell_type": "code",
      "source": [
        "print(Employee.empCount)"
      ],
      "metadata": {
        "colab": {
          "base_uri": "https://localhost:8080/"
        },
        "id": "B0ek10cL2iK8",
        "outputId": "79c8a355-cd7f-4afe-df9d-98edbd9e773f"
      },
      "execution_count": null,
      "outputs": [
        {
          "output_type": "stream",
          "name": "stdout",
          "text": [
            "12\n"
          ]
        }
      ]
    },
    {
      "cell_type": "code",
      "source": [
        "#문제\n",
        "#이름과 나이를 저장하는 Student class를 작성해보시오\n",
        "\n",
        "class Student:\n",
        "  \"\"\"학생관리\"\"\"\n",
        "  stdCount=0\n",
        "  def __init__(self,name,age): #오버라이\n",
        "    self.name=name\n",
        "    self.age=age\n",
        "    Student.stdCount+=1\n",
        "\n",
        "  def print(self):\n",
        "    print(\"이름 : \",self.name,\", 나이 : \",self.age)\n",
        "\n",
        "  def __repr__(self):\n",
        "    return \"나의 이름은 \"+self.name+\", 나이 : \"+str(self.age)+\"입니다.\""
      ],
      "metadata": {
        "id": "SJaXn9bX2iM2"
      },
      "execution_count": null,
      "outputs": []
    },
    {
      "cell_type": "code",
      "source": [
        "stu1=Student(\"대한이\",15)\n",
        "stu2=Student(\"민국이\",15)\n",
        "stu1.print()\n",
        "print(stu1)"
      ],
      "metadata": {
        "colab": {
          "base_uri": "https://localhost:8080/"
        },
        "id": "xu_5EfsH2iOv",
        "outputId": "1b7e2963-08e5-46b6-eb3c-2e3349201c44"
      },
      "execution_count": null,
      "outputs": [
        {
          "output_type": "stream",
          "name": "stdout",
          "text": [
            "이름 :  대한이 , 나이 :  15\n",
            "나의 이름은 대한이, 나이 : 15입니다.\n"
          ]
        }
      ]
    },
    {
      "cell_type": "code",
      "source": [
        "print(stu1.__doc__)\n",
        "print(stu1.__class__)\n",
        "te=stu1.__class__(\"테스트\",20)\n",
        "print(te)"
      ],
      "metadata": {
        "colab": {
          "base_uri": "https://localhost:8080/"
        },
        "id": "2oTW71_42iQU",
        "outputId": "33aa27dc-1c6a-4aad-e9fc-74f84b5d720a"
      },
      "execution_count": null,
      "outputs": [
        {
          "output_type": "stream",
          "name": "stdout",
          "text": [
            "학생관리\n",
            "<class '__main__.Student'>\n",
            "나의 이름은 테스트, 나이 : 20입니다.\n"
          ]
        }
      ]
    },
    {
      "cell_type": "markdown",
      "source": [
        "copy"
      ],
      "metadata": {
        "id": "xn4LBYA6Hipf"
      }
    },
    {
      "cell_type": "code",
      "source": [
        "#R도 데이터 타입 지정하지 않음(원본을 수정하는 것이 어려움) -> 새로운 변수에 변화된 값 저장\n",
        "#파이썬에서는 항상 원본 수정\n",
        "import copy\n",
        "a=[1,2,3]\n",
        "b=[4,5,a] #[4,5,[1.2.3]]\n",
        "x=[a,b,100] #[[1,2,3],[4,5,[1.2.3]],100]\n",
        "y=copy.copy(x) #포인터 복사(주소값으로 복사)\n",
        "a.append(2000)\n",
        "print(\"a= \",a)\n",
        "print(x)\n",
        "print(y)"
      ],
      "metadata": {
        "colab": {
          "base_uri": "https://localhost:8080/"
        },
        "id": "tSSENAC22iSG",
        "outputId": "0d75408e-d184-42fd-e7a0-34e33a7cff90"
      },
      "execution_count": null,
      "outputs": [
        {
          "output_type": "stream",
          "name": "stdout",
          "text": [
            "a=  [1, 2, 3, 2000]\n",
            "[[1, 2, 3, 2000], [4, 5, [1, 2, 3, 2000]], 100]\n",
            "[[1, 2, 3, 2000], [4, 5, [1, 2, 3, 2000]], 100]\n"
          ]
        }
      ]
    },
    {
      "cell_type": "code",
      "source": [
        "y2=copy.deepcopy(x) #깊은 복사 : 새로운 공간에 복사 #원본을 유지하고 별도의 수정을 하고 싶은 경우\n",
        "a[0]=100\n",
        "print(y)\n",
        "print(y2)"
      ],
      "metadata": {
        "colab": {
          "base_uri": "https://localhost:8080/"
        },
        "id": "9ofGcYL72iTs",
        "outputId": "00423644-5f29-421c-c83c-81927ff5bec1"
      },
      "execution_count": null,
      "outputs": [
        {
          "output_type": "stream",
          "name": "stdout",
          "text": [
            "[[100, 2, 3, 2000], [4, 5, [100, 2, 3, 2000]], 100]\n",
            "[[1, 2, 3, 2000], [4, 5, [1, 2, 3, 2000]], 100]\n"
          ]
        }
      ]
    },
    {
      "cell_type": "markdown",
      "source": [
        "chaining : self를 리턴할때 사용"
      ],
      "metadata": {
        "id": "y_KueuITHfn5"
      }
    },
    {
      "cell_type": "code",
      "source": [
        "class Person:\n",
        "  def name(self,value):\n",
        "    self.name=value\n",
        "    return self  #자바의 this=self\n",
        "  def age(self,value):\n",
        "    self.age=value\n",
        "    return self\n",
        "  def introduce(self):\n",
        "    print(\"이름 : \",self.name,\", 나이 : \",self.age)\n",
        "person=Person()\n",
        "person.name(\"융합교육원\").age(21).introduce() #introduce는 self를 리턴해주지 않아서 뒤에 붙으면 안됨"
      ],
      "metadata": {
        "colab": {
          "base_uri": "https://localhost:8080/"
        },
        "id": "G6iSmSbe2iVU",
        "outputId": "6c3269b9-4494-406f-bac4-e1d45576f71a"
      },
      "execution_count": null,
      "outputs": [
        {
          "output_type": "stream",
          "name": "stdout",
          "text": [
            "이름 :  융합교육원 , 나이 :  21\n"
          ]
        }
      ]
    },
    {
      "cell_type": "markdown",
      "source": [
        "정적함수(static함수) : 인스턴스하지않고 호출하는 함수"
      ],
      "metadata": {
        "id": "I63LZaEoIM-w"
      }
    },
    {
      "cell_type": "code",
      "source": [
        "class StaticTest():\n",
        "  def spam(x,y):\n",
        "    print('정적함수',x,y)\n",
        "  spam=staticmethod(spam) #staticmethod를 이용하여 정적함수로 만듦\n",
        "\n",
        "  @staticmethod #decorator #자바에서는 annotation\n",
        "  def spam1(x,y):\n",
        "    print('일반함수',x,y)\n",
        "StaticTest.spam(1,2)\n",
        "StaticTest.spam1(1,2)\n"
      ],
      "metadata": {
        "colab": {
          "base_uri": "https://localhost:8080/"
        },
        "id": "iZxJbesZ2iXF",
        "outputId": "7b0931dd-a84c-403e-961b-9388b46339c1"
      },
      "execution_count": null,
      "outputs": [
        {
          "output_type": "stream",
          "name": "stdout",
          "text": [
            "정적함수 1 2\n",
            "일반함수 1 2\n"
          ]
        }
      ]
    },
    {
      "cell_type": "markdown",
      "source": [
        "class method"
      ],
      "metadata": {
        "id": "6AGvDHAOJPhh"
      }
    },
    {
      "cell_type": "code",
      "source": [
        "from datetime import date\n",
        "class Person:\n",
        "  def __init__(self,name,age):\n",
        "    self.name=name\n",
        "    self.age=age\n",
        "  @classmethod #다양한 초기화 방법이 필요한 경우\n",
        "  def fromBirthYear(cls,name,birthYear):\n",
        "    return cls(name,date.today().year-birthYear)\n",
        "  def display(self):\n",
        "    print(self.name+\"의 나이는 : \"+str(self.age))\n",
        "\n",
        "person=Person('강감찬',19)\n",
        "person.display()\n",
        "person1=Person.fromBirthYear('을지문덕',1985)\n",
        "person1.display()"
      ],
      "metadata": {
        "colab": {
          "base_uri": "https://localhost:8080/"
        },
        "id": "jBZC_ZPEIJMg",
        "outputId": "773228c4-58e9-43ba-93d9-408d5d0ebaea"
      },
      "execution_count": null,
      "outputs": [
        {
          "output_type": "stream",
          "name": "stdout",
          "text": [
            "강감찬의 나이는 : 19\n",
            "을지문덕의 나이는 : 38\n"
          ]
        }
      ]
    },
    {
      "cell_type": "code",
      "source": [
        "#1970.1.1 부터의 ticks\n",
        "#1/1000초 mm초\n",
        "from time import time,ctime,sleep\n",
        "class Life:\n",
        "  def __init__(self):\n",
        "    self.birth=ctime() #문자열\n",
        "    print('생성',self.birth)\n",
        "  def __del__(self): #소멸자(자동호출 : garbage collection)\n",
        "    print('사망',ctime())\n",
        "  def test(self):\n",
        "    print('3초동안 sleeping')\n",
        "    sleep(3) #3초\n",
        "li=Life()\n",
        "li.test()\n",
        "del li #변수의 주소만 지움, heap에 있는 메모리는 garbage collection이 지움\n",
        "print(time())"
      ],
      "metadata": {
        "colab": {
          "base_uri": "https://localhost:8080/"
        },
        "id": "v1FaC-loIJOY",
        "outputId": "c9c809c0-24a5-452d-ffca-4a89bb3e488d"
      },
      "execution_count": null,
      "outputs": [
        {
          "output_type": "stream",
          "name": "stdout",
          "text": [
            "생성 Thu Nov  9 03:52:32 2023\n",
            "3초동안 sleeping\n",
            "1699501955.9022994\n",
            "사망 Thu Nov  9 03:52:35 2023\n"
          ]
        }
      ]
    },
    {
      "cell_type": "code",
      "source": [
        "import random\n",
        "mylist=['apple','banana','cherry']\n",
        "random.shuffle(mylist)\n",
        "print(mylist)"
      ],
      "metadata": {
        "colab": {
          "base_uri": "https://localhost:8080/"
        },
        "id": "dXOtKlFyIJQo",
        "outputId": "3b4aa50d-fc29-42e3-8960-85e087dbf926"
      },
      "execution_count": null,
      "outputs": [
        {
          "output_type": "stream",
          "name": "stdout",
          "text": [
            "['cherry', 'apple', 'banana']\n"
          ]
        }
      ]
    },
    {
      "cell_type": "markdown",
      "source": [
        "facade design pattern\n",
        "\n",
        "고수준 인터페이스를 통합한 인터페이스"
      ],
      "metadata": {
        "id": "RuXOmU2rdIGJ"
      }
    },
    {
      "cell_type": "markdown",
      "source": [
        "LottoBall과 LottoMachine의 관계\n",
        "\n",
        "* Dependency : 상관없이 함수 호출할 때\n",
        "* Association : 두개가 독립이고 사용하는 관계\n",
        "* Aggregation : 두개가 독립인데 다른 쪽의 구성요소인 경우\n",
        "* Composite : 구성요소(로봇과 로봇팔(has관계 : 메모리에서 동시에 사라짐))\n",
        "* Inheritance"
      ],
      "metadata": {
        "id": "dQ8XJAUT9ZOV"
      }
    },
    {
      "cell_type": "code",
      "source": [
        "import random\n",
        "class LottoBall:\n",
        "  def __init__(self,ballnum):\n",
        "    self.ballnum=ballnum\n",
        "  def  __repr__(self):\n",
        "    return str(self.ballnum)\n",
        "class LottoMachine:\n",
        "  def __init__(self):\n",
        "    self.ballList=[]\n",
        "    for i in range(1,46):\n",
        "      self.ballList.append(LottoBall(i)) #45개의 공을 만듦\n",
        "  def selectBalls(self):\n",
        "    random.shuffle(self.ballList)\n",
        "    return self.ballList[0:6] #6개\n",
        "class LottoUI:\n",
        "  def __init__(self):\n",
        "    self.machine=LottoMachine()\n",
        "  def playLotto(self):\n",
        "    input(\"로또를 뽑을까요?\")\n",
        "    selectedBalls=self.machine.selectBalls()\n",
        "    for ball in selectedBalls:\n",
        "      print(ball,end=\" \")\n",
        "lo=LottoUI()\n",
        "lo.playLotto()"
      ],
      "metadata": {
        "colab": {
          "base_uri": "https://localhost:8080/"
        },
        "id": "yAyOHSULIJSQ",
        "outputId": "6c769189-2cd1-4943-cad9-0bed8dbf39d6"
      },
      "execution_count": null,
      "outputs": [
        {
          "output_type": "stream",
          "name": "stdout",
          "text": [
            "로또를 뽑을까요?1\n",
            "4 3 37 8 23 9 "
          ]
        }
      ]
    },
    {
      "cell_type": "code",
      "source": [
        "#이등변 삼각형의 면적\n",
        "width=10\n",
        "height=20\n",
        "area=width*height/2\n",
        "print(\"삼각형의 넓이는 \",area)"
      ],
      "metadata": {
        "id": "TqewhspdIJUP"
      },
      "execution_count": null,
      "outputs": []
    },
    {
      "cell_type": "code",
      "source": [
        "class Triangle:\n",
        "  def __init__(self,width,height):\n",
        "    self.width=width\n",
        "    self.height=height\n",
        "  def setData(self,width,height):\n",
        "    self.width=width\n",
        "    self.height=height\n",
        "  def area(self):\n",
        "    return (self.width*self.height)/2\n",
        "  def __repr__(self):\n",
        "    return \"밑변 : \"+str(self.width)+\", 높이 : \"+str(self.height)+\", 면적 : \"+str(self.area())"
      ],
      "metadata": {
        "id": "pAGCSf6TIJX_"
      },
      "execution_count": null,
      "outputs": []
    },
    {
      "cell_type": "code",
      "source": [
        "tri=Triangle(10,20)\n",
        "print(tri)\n",
        "\n",
        "tri.setData(30,60)\n",
        "print(tri)"
      ],
      "metadata": {
        "colab": {
          "base_uri": "https://localhost:8080/"
        },
        "id": "uTUHMpQts2hl",
        "outputId": "44a4d7aa-d028-4c80-a43b-bd4f5d7b9478"
      },
      "execution_count": null,
      "outputs": [
        {
          "output_type": "stream",
          "name": "stdout",
          "text": [
            "밑변 : 10, 높이 : 20, 면적 : 100.0\n",
            "밑변 : 30, 높이 : 60, 면적 : 900.0\n"
          ]
        }
      ]
    },
    {
      "cell_type": "code",
      "source": [
        "#Point class\n",
        "#x,y좌표를 데이터로 함\n",
        "#값을 변경할 수 있는 get,set함수를 작성\n",
        "#두개의 포인터 간의 거리값을 구하는 함수를 작성\n",
        "#두개의 거리값이 3보다 작으면 충돌처리 결과 리턴하는 함수(true/false)\n",
        "#충돌함수를 이용해서 결과를리턴해주는 함수를 작성\n",
        "#좌표값을 출력하는 함수를 작성\n",
        "import math\n",
        "class Point:\n",
        "  def __init__(self,x,y):\n",
        "    self.x=x\n",
        "    self.y=y\n",
        "  def setX(self,x):\n",
        "    self.x=x\n",
        "  def setY(self,y):\n",
        "    self.y=y\n",
        "  def getX(self):\n",
        "    return self.x\n",
        "  def getY(self):\n",
        "    return self.y\n",
        "\n",
        "  def dist(self,other):\n",
        "    dx=self.x-other.x\n",
        "    dy=self.y-other.y\n",
        "    distance=math.sqrt(dx**2+dy**2)\n",
        "    return distance\n",
        "  def collision(self,other):\n",
        "    return self.dist(other)<3\n",
        "  def collisionUI(self,other):\n",
        "    if self.collision(other):\n",
        "      print(\"충돌했습니다.\")\n",
        "    else : print(\"충돌하지 않았습니다.\")\n",
        "  def __repr__(self):\n",
        "    return \"x좌표 : \"+str(self.x)+\", y좌표 : \"+str(self.y)\n",
        "\n",
        "pointList=[]\n",
        "for i in range(10):\n",
        "  a=Point(random.randint(1,21),random.randint(1,21))\n",
        "  pointList.append(a)\n",
        "\n",
        "totalcollisioncount=0\n",
        "\n",
        "for i in range(0,10):\n",
        "  for j in range(i+1,10):\n",
        "    if (pointList[i].collision(pointList[j])):\n",
        "      print(\"충돌했습니다.\")\n",
        "      print(\"index : \",str(i),\"-\",str(j))\n",
        "      print(\"좌표점 : \",pointList[i],\"-\",pointList[j])\n",
        "      totalcollisioncount+=1\n",
        "print(\"전체 충돌횟수 : \"+str(totalcollisioncount))\n",
        "print(pointList)\n"
      ],
      "metadata": {
        "colab": {
          "base_uri": "https://localhost:8080/"
        },
        "id": "h67d4duDh2Ga",
        "outputId": "57deaf4b-2310-499d-e6f8-1e6222cb44e2"
      },
      "execution_count": null,
      "outputs": [
        {
          "output_type": "stream",
          "name": "stdout",
          "text": [
            "x좌표 : 7, y좌표 : 3\n",
            "x좌표 : 4, y좌표 : 7\n",
            "두 점사이의 거리는  5.0\n",
            "충돌하지 않았습니다.\n",
            "충돌하지 않았습니다.\n"
          ]
        }
      ]
    },
    {
      "cell_type": "code",
      "source": [
        "#game character\n",
        "#2000~3000 vertex 삼각형\n",
        "#과제\n",
        "#Circle 클래스\n",
        "#Point 클래스의 좌표를 중점으로하는 원, 반지름\n",
        "#원의둘레와 면적 구하는 함수 작성\n",
        "#원과 원의 중심거리를 구하는 함수 작성\n",
        "#두 원이 충돌여부를 확인하는 함수를 작성(중심거리 < (point1.r + point2.r))\n",
        "#__repr__로 출력하는 함수 작성\n",
        "\n",
        "import math\n",
        "class Point:\n",
        "  def __init__(self,x,y):\n",
        "    self.x=x\n",
        "    self.y=y\n",
        "\n",
        "  def dist(self,other):\n",
        "    dx=self.x-other.x\n",
        "    dy=self.y-other.y\n",
        "    distance=math.sqrt(dx**2+dy**2)\n",
        "    return distance\n",
        "  def __repr__(self):\n",
        "    return str(self.x)+\",\"+str(self.y)\n",
        "############################################################################\n",
        "class Circle:\n",
        "  def __init__(self,point,r):\n",
        "    self.point=point\n",
        "    self.r=r\n",
        "  def around(self):\n",
        "    return 2*math.pi*self.r\n",
        "  def area(self):\n",
        "    return self.r**2*math.pi\n",
        "\n",
        "  def distan(self,other):\n",
        "    return self.point.dist(other.point)\n",
        "\n",
        "  def collision(self,other):\n",
        "    return self.point.dist(other.point)<(self.r+other.r)\n",
        "  def collisionUI(self,other):\n",
        "    if self.collision(other):\n",
        "      print(\"충돌했습니다.\")\n",
        "    else : print(\"충돌하지 않았습니다.\")\n",
        "  def __repr__(self):\n",
        "    return \"중심좌표 (\"+str(self.point)+\"), 반지름 : \"+str(self.r)+\", 원의 둘레 : \"+ str(self.around()) +\", 원의 넓이 : \" +str(self.area())\n",
        "\n",
        "c_fir=Circle(Point(3,7),3)\n",
        "c_sec=Circle(Point(7,3),4)\n",
        "c_fir.distan(c_sec)\n",
        "c_fir.collision(c_sec)\n",
        "c_fir.collisionUI(c_sec)\n",
        "print(c_fir)"
      ],
      "metadata": {
        "id": "dQQzh7kkh2l6"
      },
      "execution_count": null,
      "outputs": []
    },
    {
      "cell_type": "code",
      "source": [
        "#game character\n",
        "#2000~3000 vertex 삼각형\n",
        "#과제\n",
        "#Circle 클래스\n",
        "#Point 클래스의 좌표를 중점으로하는 원, 반지름\n",
        "#원의둘레와 면적 구하는 함수 작성\n",
        "#원과 원의 중심거리를 구하는 함수 작성\n",
        "#두 원이 충돌여부를 확인하는 함수를 작성(중심거리 < (point1.r + point2.r))\n",
        "#__repr__로 출력하는 함수 작성\n",
        "\n",
        "import math\n",
        "\n",
        "\n",
        "############################################################################\n",
        "class Circle:\n",
        "  def __init__(self,x,y,r):\n",
        "    self.x=x\n",
        "    self.y=y\n",
        "    self.r=r\n",
        "  def round(self):\n",
        "    return 2*math.pi*self.r\n",
        "  def area(self):\n",
        "    return self.r**2*math.pi\n",
        "  def dist(self,other):\n",
        "    dx=self.point.x-other.point.x\n",
        "    dy=self.y-other.y\n",
        "    distance=math.sqrt(dx**2+dy**2)\n",
        "    return distance\n",
        "  def collision(self,other):\n",
        "    return self.dist(other)<self.r+other.r\n",
        "  def collisionUI(self,other):\n",
        "    if self.collision(other):\n",
        "      print(\"충돌했습니다.\")\n",
        "    else : print(\"충돌하지 않았습니다.\")\n",
        "\n",
        "  def __repr__(self):\n",
        "    return \"중심좌표 : \"+str(self.x,self.y)+\", 반지름 : \"+str(self.r)\n",
        "\n",
        "first=Circle(3,7,2)\n",
        "second=Circle(7,3,5)\n",
        "\n",
        "first.collisionUI(second)"
      ],
      "metadata": {
        "id": "5YTNDQGgh2tY"
      },
      "execution_count": null,
      "outputs": []
    }
  ]
}