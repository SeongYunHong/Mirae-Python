{
  "nbformat": 4,
  "nbformat_minor": 0,
  "metadata": {
    "colab": {
      "provenance": [],
      "authorship_tag": "ABX9TyMBg0xH+uoux9kG7mrB2ot3",
      "include_colab_link": true
    },
    "kernelspec": {
      "name": "python3",
      "display_name": "Python 3"
    },
    "language_info": {
      "name": "python"
    }
  },
  "cells": [
    {
      "cell_type": "markdown",
      "metadata": {
        "id": "view-in-github",
        "colab_type": "text"
      },
      "source": [
        "<a href=\"https://colab.research.google.com/github/SeongYunHong/Mirae-Python_Machine_Learning/blob/main/12_scikits.ipynb\" target=\"_parent\"><img src=\"https://colab.research.google.com/assets/colab-badge.svg\" alt=\"Open In Colab\"/></a>"
      ]
    },
    {
      "cell_type": "markdown",
      "source": [
        "Scikits의 특징 : 프로그램이 강점인 사람이 유리\n",
        "\n",
        "* 메모리를 작게 사용하고 처리 속도를 빠르게하기 위해서\n",
        "* 차원 감소의 중점\n",
        "* 모델 결합에 중점\n",
        "* 일관성 있는 인터페이스\n",
        "* 지속적으로 관리(모델 추가 및 삭제)\n",
        "* GPU를 사용하지 않음 -> 범용모델로 만족(deeplearning)\n",
        "  - (GPU -> TPU(HBM : CPU를 묶어서 : AI시대)\n",
        "\n",
        "Scikits object\n",
        "* estimator\n",
        "* predictor\n",
        "* transformer\n",
        "* Model :\n",
        "  - PCR(PCA + Regression)\n",
        "  - PLS : 공분산으로 차원축소(종속변수, 독립변수간의 공분산 높게 하는 방향으로 차원축소)\n"
      ],
      "metadata": {
        "id": "6vTSoiunlYsH"
      }
    },
    {
      "cell_type": "markdown",
      "source": [
        "Data transformations\n",
        "* pre processing\n",
        "\n",
        "Feature extraction\n",
        "* PCA, FA(factor analysis : 요인분석, 상관관계가 높은 변수는 한개로 합쳐서 재명명)\n",
        "* Model tranining\n",
        "  - train-test-split : 7:3 ( 나눈 이유 : 성능 평가, 과대적합 방지, 일반화 성능을 높이기 위해)\n",
        "    - 과대 적합 발생시 : 차원 축소해야됨\n",
        "  - 편중을 방지 : CV 10개로 나눴다면 모두가 한번씩은 테스트에 참여\n",
        "  - Hyper parameter tuning : GridSearchCV\n",
        "    - parameter 조합으로 테스트 - 가장 좋은 결과를 내는 변수 조합 탐색\n"
      ],
      "metadata": {
        "id": "W1AzUK2InfFh"
      }
    },
    {
      "cell_type": "markdown",
      "source": [
        "회귀분석\n",
        "Classifier / Regressor\n",
        "\n",
        "회귀\n",
        "* 과적합 문제 : Regularization(규제) 사용\n",
        "  - Lasso(L1), Ridge(L2), ElasticNet(L1+L2)\n",
        "\n",
        "분류\n",
        "* 분류문제는 과소적합의 위험이 있음 : RidgeClassifier 사용\n",
        "  * LogisticRegressor, SGDClassifier : Gradient Optimization : Descent(경사하강법) : 기울기가 음수가 되면 더해주고 양수이면 빼서 최적점을 찾아가는 학습법 -> 신경망에서 채택"
      ],
      "metadata": {
        "id": "hjDWQkp-okdj"
      }
    },
    {
      "cell_type": "code",
      "execution_count": null,
      "metadata": {
        "colab": {
          "base_uri": "https://localhost:8080/"
        },
        "id": "DlgQ0jwClYFE",
        "outputId": "60d839ea-76f6-4c55-fd71-f2404c81eeb6"
      },
      "outputs": [
        {
          "output_type": "execute_result",
          "data": {
            "text/plain": [
              "(442, 10)"
            ]
          },
          "metadata": {},
          "execution_count": 120
        }
      ],
      "source": [
        "import matplotlib.pyplot as plt\n",
        "import numpy as np\n",
        "from sklearn.model_selection import train_test_split #데이터 분할\n",
        "from sklearn.metrics import mean_squared_error,r2_score #평가 #mean_squared_error : (실제값 - 예측값)**2\n",
        "#회귀 분석 : 결정계수(회귀제곱합, 편차제곱합 -> 총 제곱합)\n",
        "#회귀제곱합 / 총 제곱함\n",
        "from sklearn import datasets, linear_model #모델\n",
        "\n",
        "diabetes_X, diabetes_y = datasets.load_diabetes(return_X_y=True)\n",
        "diabetes_X.shape #(442, 10)\n",
        "#다중회귀 : 독립변수 ax+by+cz+ds...."
      ]
    },
    {
      "cell_type": "code",
      "source": [
        "X_train,X_test,y_train,y_test = train_test_split(diabetes_X,diabetes_y, random_state=0)\n",
        "regr=linear_model.LinearRegression()\n",
        "regr.fit(X_train,y_train)\n",
        "diabetes_y_pred=regr.predict(X_test)\n",
        "print(\"Coefficients : \\n\",regr.coef_)\n",
        "print(\"Mean Squared Error : %.2f\"%mean_squared_error(y_test,diabetes_y_pred))\n",
        "print(\"결정 계수 : %.2f\"%r2_score(y_test,diabetes_y_pred))\n",
        "regr.score(X_test,y_test)"
      ],
      "metadata": {
        "colab": {
          "base_uri": "https://localhost:8080/"
        },
        "id": "iwQTFPewq1qU",
        "outputId": "5ef4b6f2-57ac-43aa-d8fd-1c3d2a5ec5d9"
      },
      "execution_count": null,
      "outputs": [
        {
          "output_type": "stream",
          "name": "stdout",
          "text": [
            "Coefficients : \n",
            " [ -43.26198867 -208.66589855  593.40654802  302.89100542 -560.19094014\n",
            "  261.40753499   -8.86674758  135.93174293  703.18354112   28.34977176]\n",
            "Mean Squared Error : 3180.16\n",
            "결정 계수 : 0.36\n"
          ]
        },
        {
          "output_type": "execute_result",
          "data": {
            "text/plain": [
              "0.35940880381777085"
            ]
          },
          "metadata": {},
          "execution_count": 122
        }
      ]
    },
    {
      "cell_type": "markdown",
      "source": [
        "비선형회귀"
      ],
      "metadata": {
        "id": "_nSXqZ8-y8V-"
      }
    },
    {
      "cell_type": "code",
      "source": [
        "x=np.array([0.0,1.0,2.0,3.0,4.0,5.0])\n",
        "y=np.array([0.0,0.8,0.9,0.1,-0.8,-1.0])\n",
        "z=np.polyfit(x,y,3) #polyfit : 다항 방정식 = 계수 3개 절편 1\n",
        "z"
      ],
      "metadata": {
        "colab": {
          "base_uri": "https://localhost:8080/"
        },
        "id": "IHwg021mq1si",
        "outputId": "18bdf70e-1ab1-4243-82f2-b6c51a06fffd"
      },
      "execution_count": null,
      "outputs": [
        {
          "output_type": "execute_result",
          "data": {
            "text/plain": [
              "array([ 0.08703704, -0.81349206,  1.69312169, -0.03968254])"
            ]
          },
          "metadata": {},
          "execution_count": 10
        }
      ]
    },
    {
      "cell_type": "code",
      "source": [
        "from sklearn.preprocessing import PolynomialFeatures #PolynomialFeatures : 비선형회귀, 다항 특성 생성\n",
        "X=np.arange(6).reshape(3,2)\n",
        "print(X) #열 2개(변수=열=2개)\n",
        "#[1, a, b, a^2, ab, b^2] 형태로 출\n",
        "#[[  1.,   0.,   1.,   0.,   0.,   1.,   0.,   0.,   0.,   1.],\n",
        "#[  1.,   2.,   3.,   4.,   6.,   9.,   8.,  12.,  18.,  27.],\n",
        "#[  1.,   4.,   5.,  16.,  20.,  25.,  64.,  80., 100., 125.]])\n",
        "\n",
        "poly=PolynomialFeatures(3) #숫자에 따라서 길이가 달라\n",
        "poly.fit_transform(X)"
      ],
      "metadata": {
        "colab": {
          "base_uri": "https://localhost:8080/"
        },
        "id": "wLFCKZN-q1uq",
        "outputId": "934cb32a-2417-4a68-f687-d5a35076c0af"
      },
      "execution_count": null,
      "outputs": [
        {
          "output_type": "stream",
          "name": "stdout",
          "text": [
            "[[0 1]\n",
            " [2 3]\n",
            " [4 5]]\n"
          ]
        },
        {
          "output_type": "execute_result",
          "data": {
            "text/plain": [
              "array([[  1.,   0.,   1.,   0.,   0.,   1.,   0.,   0.,   0.,   1.],\n",
              "       [  1.,   2.,   3.,   4.,   6.,   9.,   8.,  12.,  18.,  27.],\n",
              "       [  1.,   4.,   5.,  16.,  20.,  25.,  64.,  80., 100., 125.]])"
            ]
          },
          "metadata": {},
          "execution_count": 11
        }
      ]
    },
    {
      "cell_type": "code",
      "source": [
        "from sklearn.linear_model import Ridge #L2 규제를 사용하는 회귀모델\n",
        "from sklearn.pipeline import make_pipeline #train / test : 전처리 데이터처리 과정을 단향향으로 묶어서 처리\n",
        "def f(x):\n",
        "  return x*np.sin(x) #비선형으로 만들기 위해서 sin을 곱함"
      ],
      "metadata": {
        "id": "TkHsUDXGq1wq"
      },
      "execution_count": null,
      "outputs": []
    },
    {
      "cell_type": "code",
      "source": [
        "x_plot=np.linspace(0,10,100)\n",
        "x=np.linspace(0,10,100)\n",
        "rng=np.random.RandomState(0)\n",
        "rng.shuffle(x)\n",
        "x=np.sort(x[:20]) #20개\n",
        "y=f(x)"
      ],
      "metadata": {
        "id": "qZVVh6mSq1yy"
      },
      "execution_count": null,
      "outputs": []
    },
    {
      "cell_type": "code",
      "source": [
        "X=x[:,np.newaxis] #np.newaxis : 축을 증가시킴(독립변수는 2차원으로 입력되어야함)\n",
        "X_plot=x_plot[:,np.newaxis]\n",
        "colors=['teal','yellowgreen','gold']\n",
        "lw=2\n",
        "plt.plot(x_plot,f(x_plot),color='cornflowerblue',linewidth=lw,label='ground truth')\n",
        "#y 비선형으로 만든 데이터\n",
        "plt.scatter(x,y,color='navy',s=30,marker='o',label='training points')\n",
        "for count, degree in enumerate([3,4,5]): #0:3, 1:4, 2:5 데이터의 순서\n",
        "#3차원 4차원 5차원으로 데이터를 비선형으로 확장시킴\n",
        "  model=make_pipeline(PolynomialFeatures(degree),Ridge()) #(PolynomialFeatures(degree) : 데이터를 고차원으로 만드는 ,Ridge() : 모델\n",
        "  model.fit(X,y)\n",
        "  y_plot=model.predict(X_plot)\n",
        "  plt.plot(x_plot,y_plot,color=colors[count],linewidth=lw,label='degree %d'%degree) #color 값 변경을 위해 count를 받아줌\n",
        "plt.legend(loc='lower left')\n",
        "plt.show()"
      ],
      "metadata": {
        "colab": {
          "base_uri": "https://localhost:8080/",
          "height": 430
        },
        "id": "lgDuHn2Rq10y",
        "outputId": "dd9497d8-bd85-4de7-b6f9-68b7626a5db8"
      },
      "execution_count": null,
      "outputs": [
        {
          "output_type": "display_data",
          "data": {
            "text/plain": [
              "<Figure size 640x480 with 1 Axes>"
            ],
            "image/png": "[encoded data removed]"
          },
          "metadata": {}
        }
      ]
    },
    {
      "cell_type": "code",
      "source": [
        "model=make_pipeline(PolynomialFeatures(5),Ridge())\n",
        "model.fit(X,y)\n",
        "y_plot=model.predict(X_plot)"
      ],
      "metadata": {
        "id": "oVP1VWC9q12i"
      },
      "execution_count": null,
      "outputs": []
    },
    {
      "cell_type": "code",
      "source": [
        "#문제\n",
        "#선형회귀를하고 회귀식(y= ax + by +c)을 작성하시오\n",
        "X=[[0,0],[1,1],[2,2]] #독립변수\n",
        "y=[0,1,2] #종속변수\n",
        "\n",
        "reg = linear_model.LinearRegression(fit_intercept=True)\n",
        "reg.fit(X, y)\n",
        "a, b = reg.coef_\n",
        "c = reg.intercept_\n",
        "\n",
        "# 회귀식 출력\n",
        "print(\"회귀식: y = {:.2f}*x1 + {:.2f}*x2 + {:.2f}\".format(a, b, c))"
      ],
      "metadata": {
        "colab": {
          "base_uri": "https://localhost:8080/"
        },
        "id": "EBtqkAC-q14q",
        "outputId": "55f39346-02ad-45a6-9cc7-836403f53efb"
      },
      "execution_count": null,
      "outputs": [
        {
          "output_type": "stream",
          "name": "stdout",
          "text": [
            "회귀식: y = 0.50*x1 + 0.50*x2 + 0.00\n"
          ]
        }
      ]
    },
    {
      "cell_type": "code",
      "source": [
        "reg.intercept_"
      ],
      "metadata": {
        "colab": {
          "base_uri": "https://localhost:8080/"
        },
        "id": "PP-LTMalq16Z",
        "outputId": "996a33ef-9711-464c-c69b-934d3f18641c"
      },
      "execution_count": null,
      "outputs": [
        {
          "output_type": "execute_result",
          "data": {
            "text/plain": [
              "1.1102230246251565e-16"
            ]
          },
          "metadata": {},
          "execution_count": 26
        }
      ]
    },
    {
      "cell_type": "code",
      "source": [
        "#선생님 답\n",
        "x1=100\n",
        "x2=100\n",
        "y=reg.coef_[0]*x1+reg.coef_[1]*x2+reg.intercept_ #회귀식\n",
        "y"
      ],
      "metadata": {
        "colab": {
          "base_uri": "https://localhost:8080/"
        },
        "id": "Cyfc6bWxq18R",
        "outputId": "a9523c48-2e6a-47a9-da6f-e9cf5fa26168"
      },
      "execution_count": null,
      "outputs": [
        {
          "output_type": "execute_result",
          "data": {
            "text/plain": [
              "99.99999999999999"
            ]
          },
          "metadata": {},
          "execution_count": 30
        }
      ]
    },
    {
      "cell_type": "markdown",
      "source": [
        "전처리\n",
        "\n",
        "* scale(z점수 정규화)=(데이터-평균)/표준편차\n",
        "* robust_scale = (데이터-median)/(3사분위수-1사분위수)\n",
        "* minmax = (데이터 - min) / (max - min) : 0에서 1사이 값\n",
        "* maxabs_scale = 부호를 안정해서 -1에서 1사이의 값"
      ],
      "metadata": {
        "id": "IOIaoCJNA3Ku"
      }
    },
    {
      "cell_type": "code",
      "source": [
        "from sklearn.preprocessing import scale, robust_scale,minmax_scale,maxabs_scale\n",
        "import seaborn as sns\n",
        "from sklearn.datasets import load_iris\n",
        "iris=load_iris()\n",
        "print(type(iris))\n",
        "data1=iris.data\n",
        "print(data1.shape)\n",
        "data2=scale(iris.data)\n",
        "print(\"전처리 전 평균 : \",np.mean(data1,axis=0))\n",
        "print(\"전처리 전 표준편차 : \",np.std(data1,axis=0))\n",
        "print(\"전처리 후 평균 : \",np.mean(data2,axis=0)) #평균 0\n",
        "print(\"전처리 후 표준편차 : \",np.std(data2,axis=0)) #표준편차 1"
      ],
      "metadata": {
        "id": "IKmt1Zz2q1-K",
        "colab": {
          "base_uri": "https://localhost:8080/"
        },
        "outputId": "80758af5-bf17-47b3-8858-6d16182b9553"
      },
      "execution_count": null,
      "outputs": [
        {
          "output_type": "stream",
          "name": "stdout",
          "text": [
            "<class 'sklearn.utils._bunch.Bunch'>\n",
            "(150, 4)\n",
            "전처리 전 평균 :  [5.84333333 3.05733333 3.758      1.19933333]\n",
            "전처리 전 표준편차 :  [0.82530129 0.43441097 1.75940407 0.75969263]\n",
            "전처리 후 평균 :  [-1.69031455e-15 -1.84297022e-15 -1.69864123e-15 -1.40924309e-15]\n",
            "전처리 후 표준편차 :  [1. 1. 1. 1.]\n"
          ]
        }
      ]
    },
    {
      "cell_type": "code",
      "source": [
        "sns.jointplot(data1[:,0])\n",
        "plt.show()\n",
        "sns.jointplot(data2[:,0])\n",
        "plt.show()"
      ],
      "metadata": {
        "id": "fY-t_faWq2AL",
        "colab": {
          "base_uri": "https://localhost:8080/",
          "height": 1000
        },
        "outputId": "b774af53-0676-46e7-ec31-cdd92e745a9d"
      },
      "execution_count": null,
      "outputs": [
        {
          "output_type": "display_data",
          "data": {
            "text/plain": [
              "<Figure size 600x600 with 3 Axes>"
            ],
            "image/png": "[encoded data removed]"
          },
          "metadata": {}
        },
        {
          "output_type": "display_data",
          "data": {
            "text/plain": [
              "<Figure size 600x600 with 3 Axes>"
            ],
            "image/png": "[encoded data removed]"
          },
          "metadata": {}
        }
      ]
    },
    {
      "cell_type": "code",
      "source": [
        "#StandardScaler == scale 연산방식도 동일\n",
        "#scale : 함수, StandardScaler : 클래스\n",
        "#StandardScaler를 쓰는 이유(fit, transform을 쓰면) : inverse로 원래 값을 찾기 위해\n",
        "\n",
        "from sklearn.preprocessing import StandardScaler\n",
        "scaler=StandardScaler()\n",
        "scaler.fit(data1)\n",
        "data2=scaler.transform(data1)\n",
        "print(data1.std(),data2.std())\n",
        "data3=scaler.fit_transform(data1)\n",
        "data3.std()\n",
        "#data3\n",
        "#정규화한 데이터로 모델 생성 -> 예측 : 예측 결과가 정규화된 데이터로 출력"
      ],
      "metadata": {
        "id": "4BglBuRpq2Bx",
        "colab": {
          "base_uri": "https://localhost:8080/"
        },
        "outputId": "42b5638e-73d7-44e7-89c3-438a65973a31"
      },
      "execution_count": null,
      "outputs": [
        {
          "output_type": "stream",
          "name": "stdout",
          "text": [
            "1.9738430577598278 1.0\n"
          ]
        },
        {
          "output_type": "execute_result",
          "data": {
            "text/plain": [
              "1.0"
            ]
          },
          "metadata": {},
          "execution_count": 137
        }
      ]
    },
    {
      "cell_type": "code",
      "source": [
        "scaler.inverse_transform(data3).std() #정규화된 데이터로 예측된 데이터를 정규화 전 데이터로 복원"
      ],
      "metadata": {
        "id": "9V9Fo5cJq2Dq",
        "colab": {
          "base_uri": "https://localhost:8080/"
        },
        "outputId": "f5dc4825-708e-4b0e-a602-28b52d112704"
      },
      "execution_count": null,
      "outputs": [
        {
          "output_type": "execute_result",
          "data": {
            "text/plain": [
              "1.9738430577598278"
            ]
          },
          "metadata": {},
          "execution_count": 38
        }
      ]
    },
    {
      "cell_type": "code",
      "source": [
        "#z점수 정규화=(데이터-평균)/표준편차\n",
        "(data3+data1.mean())*data1.std()"
      ],
      "metadata": {
        "id": "1YQkca6eq2Fp",
        "colab": {
          "base_uri": "https://localhost:8080/"
        },
        "outputId": "da4d57cb-6ac7-42b0-d7f1-286036e029c9"
      },
      "execution_count": null,
      "outputs": [
        {
          "output_type": "execute_result",
          "data": {
            "text/plain": [
              "array([[ 5.060576  ,  8.84973394,  4.19298245,  4.24189868],\n",
              "       [ 4.58224328,  6.57787249,  4.19298245,  4.24189868],\n",
              "       [ 4.10391056,  7.48661707,  4.08079429,  4.24189868],\n",
              "       [ 3.8647442 ,  7.03224478,  4.30517061,  4.24189868],\n",
              "       [ 4.82140964,  9.30410623,  4.19298245,  4.24189868],\n",
              "       [ 5.77807508, 10.6672231 ,  4.52954693,  4.76154123],\n",
              "       [ 3.8647442 ,  8.39536165,  4.19298245,  4.50171996],\n",
              "       [ 4.82140964,  8.39536165,  4.30517061,  4.24189868],\n",
              "       [ 3.38641148,  6.12350021,  4.19298245,  4.24189868],\n",
              "       [ 4.58224328,  7.03224478,  4.30517061,  3.98207741],\n",
              "       [ 5.77807508,  9.75847852,  4.30517061,  4.24189868],\n",
              "       [ 4.34307692,  8.39536165,  4.41735877,  4.24189868],\n",
              "       [ 4.34307692,  6.57787249,  4.19298245,  3.98207741],\n",
              "       [ 3.14724512,  6.57787249,  3.85641797,  3.98207741],\n",
              "       [ 6.73474052, 11.12159538,  3.96860613,  4.24189868],\n",
              "       [ 6.49557416, 12.93908454,  4.30517061,  4.76154123],\n",
              "       [ 5.77807508, 10.6672231 ,  4.08079429,  4.76154123],\n",
              "       [ 5.060576  ,  8.84973394,  4.19298245,  4.50171996],\n",
              "       [ 6.49557416, 10.21285081,  4.52954693,  4.50171996],\n",
              "       [ 5.060576  , 10.21285081,  4.30517061,  4.50171996],\n",
              "       [ 5.77807508,  8.39536165,  4.52954693,  4.24189868],\n",
              "       [ 5.060576  ,  9.75847852,  4.30517061,  4.76154123],\n",
              "       [ 3.8647442 ,  9.30410623,  3.74422981,  4.24189868],\n",
              "       [ 5.060576  ,  7.94098936,  4.52954693,  5.0213625 ],\n",
              "       [ 4.34307692,  8.39536165,  4.75392325,  4.24189868],\n",
              "       [ 4.82140964,  6.57787249,  4.41735877,  4.24189868],\n",
              "       [ 4.82140964,  8.39536165,  4.41735877,  4.76154123],\n",
              "       [ 5.29974236,  8.84973394,  4.30517061,  4.24189868],\n",
              "       [ 5.29974236,  8.39536165,  4.19298245,  4.24189868],\n",
              "       [ 4.10391056,  7.48661707,  4.41735877,  4.24189868],\n",
              "       [ 4.34307692,  7.03224478,  4.41735877,  4.24189868],\n",
              "       [ 5.77807508,  8.39536165,  4.30517061,  4.76154123],\n",
              "       [ 5.29974236, 11.57596767,  4.30517061,  3.98207741],\n",
              "       [ 6.01724144, 12.03033996,  4.19298245,  4.24189868],\n",
              "       [ 4.58224328,  7.03224478,  4.30517061,  4.24189868],\n",
              "       [ 4.82140964,  7.48661707,  3.96860613,  4.24189868],\n",
              "       [ 6.01724144,  8.84973394,  4.08079429,  4.24189868],\n",
              "       [ 4.58224328,  9.30410623,  4.19298245,  3.98207741],\n",
              "       [ 3.38641148,  6.57787249,  4.08079429,  4.24189868],\n",
              "       [ 5.060576  ,  8.39536165,  4.30517061,  4.24189868],\n",
              "       [ 4.82140964,  8.84973394,  4.08079429,  4.50171996],\n",
              "       [ 3.62557784,  3.39726647,  4.08079429,  4.50171996],\n",
              "       [ 3.38641148,  7.48661707,  4.08079429,  4.24189868],\n",
              "       [ 4.82140964,  8.84973394,  4.41735877,  5.28118378],\n",
              "       [ 5.060576  , 10.21285081,  4.75392325,  4.76154123],\n",
              "       [ 4.34307692,  6.57787249,  4.19298245,  4.50171996],\n",
              "       [ 5.060576  , 10.21285081,  4.41735877,  4.24189868],\n",
              "       [ 3.8647442 ,  7.48661707,  4.19298245,  4.24189868],\n",
              "       [ 5.53890872,  9.75847852,  4.30517061,  4.24189868],\n",
              "       [ 4.82140964,  7.94098936,  4.19298245,  4.24189868],\n",
              "       [ 9.60473684,  7.48661707,  7.89519175,  7.35975396],\n",
              "       [ 8.16973868,  7.48661707,  7.67081542,  7.61957523],\n",
              "       [ 9.36557048,  7.03224478,  8.11956807,  7.61957523],\n",
              "       [ 6.01724144,  3.39726647,  7.10987462,  7.09993269],\n",
              "       [ 8.40890504,  5.66912792,  7.78300359,  7.61957523],\n",
              "       [ 6.49557416,  5.66912792,  7.67081542,  7.09993269],\n",
              "       [ 7.93057232,  7.94098936,  7.89519175,  7.87939651],\n",
              "       [ 4.58224328,  3.85163876,  6.3245575 ,  6.32046887],\n",
              "       [ 8.6480714 ,  6.12350021,  7.78300359,  7.09993269],\n",
              "       [ 5.29974236,  5.21475563,  6.99768646,  7.35975396],\n",
              "       [ 4.82140964,  2.0341496 ,  6.54893382,  6.32046887],\n",
              "       [ 6.97390688,  6.57787249,  7.33425094,  7.61957523],\n",
              "       [ 7.21307324,  2.94289418,  7.10987462,  6.32046887],\n",
              "       [ 7.4522396 ,  6.12350021,  7.89519175,  7.35975396],\n",
              "       [ 6.2564078 ,  6.12350021,  6.66112198,  7.09993269],\n",
              "       [ 8.88723776,  7.03224478,  7.55862726,  7.35975396],\n",
              "       [ 6.2564078 ,  6.57787249,  7.67081542,  7.61957523],\n",
              "       [ 6.73474052,  5.21475563,  7.22206278,  6.32046887],\n",
              "       [ 7.69140596,  2.94289418,  7.67081542,  7.61957523],\n",
              "       [ 6.2564078 ,  4.30601105,  6.99768646,  6.58029014],\n",
              "       [ 6.97390688,  7.48661707,  8.00737991,  8.39903905],\n",
              "       [ 7.4522396 ,  5.66912792,  7.10987462,  7.09993269],\n",
              "       [ 7.93057232,  4.30601105,  8.11956807,  7.61957523],\n",
              "       [ 7.4522396 ,  5.66912792,  7.89519175,  6.84011142],\n",
              "       [ 8.16973868,  6.12350021,  7.4464391 ,  7.09993269],\n",
              "       [ 8.6480714 ,  6.57787249,  7.55862726,  7.35975396],\n",
              "       [ 9.12640412,  5.66912792,  8.00737991,  7.35975396],\n",
              "       [ 8.88723776,  6.57787249,  8.23175623,  8.13921778],\n",
              "       [ 7.21307324,  6.12350021,  7.67081542,  7.61957523],\n",
              "       [ 6.49557416,  4.76038334,  6.54893382,  6.32046887],\n",
              "       [ 6.01724144,  3.85163876,  6.8854983 ,  6.58029014],\n",
              "       [ 6.01724144,  3.85163876,  6.77331014,  6.32046887],\n",
              "       [ 6.73474052,  5.21475563,  6.99768646,  6.84011142],\n",
              "       [ 7.21307324,  5.21475563,  8.34394439,  7.87939651],\n",
              "       [ 5.77807508,  6.57787249,  7.67081542,  7.61957523],\n",
              "       [ 7.21307324,  8.39536165,  7.67081542,  7.87939651],\n",
              "       [ 8.88723776,  7.03224478,  7.89519175,  7.61957523],\n",
              "       [ 7.93057232,  3.39726647,  7.55862726,  7.09993269],\n",
              "       [ 6.2564078 ,  6.57787249,  7.22206278,  7.09993269],\n",
              "       [ 6.01724144,  4.30601105,  7.10987462,  7.09993269],\n",
              "       [ 6.01724144,  4.76038334,  7.55862726,  6.84011142],\n",
              "       [ 7.4522396 ,  6.57787249,  7.78300359,  7.35975396],\n",
              "       [ 6.73474052,  4.76038334,  7.10987462,  6.84011142],\n",
              "       [ 4.82140964,  3.39726647,  6.3245575 ,  6.32046887],\n",
              "       [ 6.2564078 ,  5.21475563,  7.33425094,  7.09993269],\n",
              "       [ 6.49557416,  6.57787249,  7.33425094,  6.84011142],\n",
              "       [ 6.49557416,  6.12350021,  7.33425094,  7.09993269],\n",
              "       [ 7.69140596,  6.12350021,  7.4464391 ,  7.09993269],\n",
              "       [ 5.060576  ,  4.30601105,  5.98799302,  6.58029014],\n",
              "       [ 6.49557416,  5.66912792,  7.22206278,  7.09993269],\n",
              "       [ 7.93057232,  7.94098936,  9.35363783, 10.21778797],\n",
              "       [ 6.73474052,  5.21475563,  8.34394439,  8.65886033],\n",
              "       [ 9.8439032 ,  6.57787249,  9.24144967,  9.17850287],\n",
              "       [ 7.93057232,  6.12350021,  8.90488519,  8.39903905],\n",
              "       [ 8.40890504,  6.57787249,  9.12926151,  9.43832415],\n",
              "       [11.039735  ,  6.57787249, 10.0267668 ,  9.17850287],\n",
              "       [ 4.58224328,  4.30601105,  7.67081542,  8.13921778],\n",
              "       [10.32223592,  6.12350021,  9.69020231,  8.39903905],\n",
              "       [ 8.88723776,  4.30601105,  9.12926151,  8.39903905],\n",
              "       [10.08306956,  9.30410623,  9.46582599, 10.21778797],\n",
              "       [ 8.40890504,  7.48661707,  8.34394439,  8.9186816 ],\n",
              "       [ 8.16973868,  5.21475563,  8.56832071,  8.65886033],\n",
              "       [ 9.12640412,  6.57787249,  8.79269703,  9.17850287],\n",
              "       [ 6.49557416,  4.30601105,  8.23175623,  8.9186816 ],\n",
              "       [ 6.73474052,  5.66912792,  8.34394439,  9.95796669],\n",
              "       [ 8.16973868,  7.48661707,  8.56832071,  9.69814542],\n",
              "       [ 8.40890504,  6.57787249,  8.79269703,  8.39903905],\n",
              "       [11.27890136, 10.21285081, 10.13895496,  9.43832415],\n",
              "       [11.27890136,  4.76038334, 10.36333128,  9.69814542],\n",
              "       [ 7.21307324,  2.94289418,  8.23175623,  7.61957523],\n",
              "       [ 9.36557048,  7.48661707,  9.01707335,  9.69814542],\n",
              "       [ 6.2564078 ,  5.66912792,  8.11956807,  8.9186816 ],\n",
              "       [11.27890136,  5.66912792, 10.13895496,  8.9186816 ],\n",
              "       [ 7.93057232,  5.21475563,  8.11956807,  8.39903905],\n",
              "       [ 8.88723776,  7.94098936,  9.01707335,  9.17850287],\n",
              "       [10.08306956,  7.48661707,  9.35363783,  8.39903905],\n",
              "       [ 7.69140596,  5.66912792,  8.00737991,  8.39903905],\n",
              "       [ 7.4522396 ,  6.57787249,  8.11956807,  8.39903905],\n",
              "       [ 8.16973868,  5.66912792,  8.90488519,  9.17850287],\n",
              "       [10.08306956,  6.57787249,  9.12926151,  7.87939651],\n",
              "       [10.56140228,  5.66912792,  9.46582599,  8.65886033],\n",
              "       [11.75723408, 10.21285081,  9.80239047,  8.9186816 ],\n",
              "       [ 8.16973868,  5.66912792,  8.90488519,  9.43832415],\n",
              "       [ 7.93057232,  5.66912792,  8.34394439,  7.61957523],\n",
              "       [ 7.4522396 ,  4.76038334,  8.90488519,  7.35975396],\n",
              "       [11.27890136,  6.57787249,  9.46582599,  9.69814542],\n",
              "       [ 7.93057232,  8.39536165,  8.90488519,  9.95796669],\n",
              "       [ 8.16973868,  7.03224478,  8.79269703,  8.39903905],\n",
              "       [ 7.21307324,  6.57787249,  8.00737991,  8.39903905],\n",
              "       [ 9.36557048,  7.03224478,  8.68050887,  9.17850287],\n",
              "       [ 8.88723776,  7.03224478,  8.90488519,  9.95796669],\n",
              "       [ 9.36557048,  7.03224478,  8.34394439,  9.69814542],\n",
              "       [ 6.73474052,  5.21475563,  8.34394439,  8.65886033],\n",
              "       [ 9.12640412,  7.48661707,  9.24144967,  9.69814542],\n",
              "       [ 8.88723776,  7.94098936,  9.01707335, 10.21778797],\n",
              "       [ 8.88723776,  6.57787249,  8.45613255,  9.69814542],\n",
              "       [ 7.93057232,  4.30601105,  8.23175623,  8.65886033],\n",
              "       [ 8.40890504,  6.57787249,  8.45613255,  8.9186816 ],\n",
              "       [ 7.69140596,  8.39536165,  8.68050887,  9.69814542],\n",
              "       [ 6.97390688,  6.57787249,  8.34394439,  8.39903905]])"
            ]
          },
          "metadata": {},
          "execution_count": 41
        }
      ]
    },
    {
      "cell_type": "code",
      "source": [
        "from sklearn.preprocessing import MinMaxScaler\n",
        "data1=iris.data\n",
        "minmax=MinMaxScaler()\n",
        "res=minmax.fit_transform(data1)\n",
        "res[0,:]"
      ],
      "metadata": {
        "colab": {
          "base_uri": "https://localhost:8080/"
        },
        "id": "jse6nMP5E-GN",
        "outputId": "789495fa-d39c-4098-81c8-527e63ca78d8"
      },
      "execution_count": null,
      "outputs": [
        {
          "output_type": "execute_result",
          "data": {
            "text/plain": [
              "array([0.22222222, 0.625     , 0.06779661, 0.04166667])"
            ]
          },
          "metadata": {},
          "execution_count": 139
        }
      ]
    },
    {
      "cell_type": "code",
      "source": [
        "(res+data1.mean())*(data1.max()-data1.min())"
      ],
      "metadata": {
        "colab": {
          "base_uri": "https://localhost:8080/"
        },
        "id": "Kks4ugQzE-IM",
        "outputId": "b66e4192-1a9c-46f7-90c8-48e582ec0ae9"
      },
      "execution_count": null,
      "outputs": [
        {
          "output_type": "execute_result",
          "data": {
            "text/plain": [
              "array([[28.75643333, 31.8981    , 27.55191356, 27.3481    ],\n",
              "       [28.3231    , 30.2731    , 27.55191356, 27.3481    ],\n",
              "       [27.88976667, 30.9231    , 27.41971017, 27.3481    ],\n",
              "       [27.6731    , 30.5981    , 27.68411695, 27.3481    ],\n",
              "       [28.53976667, 32.2231    , 27.55191356, 27.3481    ],\n",
              "       [29.40643333, 33.1981    , 27.94852373, 27.9981    ],\n",
              "       [27.6731    , 31.5731    , 27.55191356, 27.6731    ],\n",
              "       [28.53976667, 31.5731    , 27.68411695, 27.3481    ],\n",
              "       [27.23976667, 29.9481    , 27.55191356, 27.3481    ],\n",
              "       [28.3231    , 30.5981    , 27.68411695, 27.0231    ],\n",
              "       [29.40643333, 32.5481    , 27.68411695, 27.3481    ],\n",
              "       [28.10643333, 31.5731    , 27.81632034, 27.3481    ],\n",
              "       [28.10643333, 30.2731    , 27.55191356, 27.0231    ],\n",
              "       [27.0231    , 30.2731    , 27.15530339, 27.0231    ],\n",
              "       [30.2731    , 33.5231    , 27.28750678, 27.3481    ],\n",
              "       [30.05643333, 34.8231    , 27.68411695, 27.9981    ],\n",
              "       [29.40643333, 33.1981    , 27.41971017, 27.9981    ],\n",
              "       [28.75643333, 31.8981    , 27.55191356, 27.6731    ],\n",
              "       [30.05643333, 32.8731    , 27.94852373, 27.6731    ],\n",
              "       [28.75643333, 32.8731    , 27.68411695, 27.6731    ],\n",
              "       [29.40643333, 31.5731    , 27.94852373, 27.3481    ],\n",
              "       [28.75643333, 32.5481    , 27.68411695, 27.9981    ],\n",
              "       [27.6731    , 32.2231    , 27.0231    , 27.3481    ],\n",
              "       [28.75643333, 31.2481    , 27.94852373, 28.3231    ],\n",
              "       [28.10643333, 31.5731    , 28.21293051, 27.3481    ],\n",
              "       [28.53976667, 30.2731    , 27.81632034, 27.3481    ],\n",
              "       [28.53976667, 31.5731    , 27.81632034, 27.9981    ],\n",
              "       [28.9731    , 31.8981    , 27.68411695, 27.3481    ],\n",
              "       [28.9731    , 31.5731    , 27.55191356, 27.3481    ],\n",
              "       [27.88976667, 30.9231    , 27.81632034, 27.3481    ],\n",
              "       [28.10643333, 30.5981    , 27.81632034, 27.3481    ],\n",
              "       [29.40643333, 31.5731    , 27.68411695, 27.9981    ],\n",
              "       [28.9731    , 33.8481    , 27.68411695, 27.0231    ],\n",
              "       [29.6231    , 34.1731    , 27.55191356, 27.3481    ],\n",
              "       [28.3231    , 30.5981    , 27.68411695, 27.3481    ],\n",
              "       [28.53976667, 30.9231    , 27.28750678, 27.3481    ],\n",
              "       [29.6231    , 31.8981    , 27.41971017, 27.3481    ],\n",
              "       [28.3231    , 32.2231    , 27.55191356, 27.0231    ],\n",
              "       [27.23976667, 30.2731    , 27.41971017, 27.3481    ],\n",
              "       [28.75643333, 31.5731    , 27.68411695, 27.3481    ],\n",
              "       [28.53976667, 31.8981    , 27.41971017, 27.6731    ],\n",
              "       [27.45643333, 27.9981    , 27.41971017, 27.6731    ],\n",
              "       [27.23976667, 30.9231    , 27.41971017, 27.3481    ],\n",
              "       [28.53976667, 31.8981    , 27.81632034, 28.6481    ],\n",
              "       [28.75643333, 32.8731    , 28.21293051, 27.9981    ],\n",
              "       [28.10643333, 30.2731    , 27.55191356, 27.6731    ],\n",
              "       [28.75643333, 32.8731    , 27.81632034, 27.3481    ],\n",
              "       [27.6731    , 30.9231    , 27.55191356, 27.3481    ],\n",
              "       [29.18976667, 32.5481    , 27.68411695, 27.3481    ],\n",
              "       [28.53976667, 31.2481    , 27.55191356, 27.3481    ],\n",
              "       [32.8731    , 30.9231    , 31.91462542, 31.2481    ],\n",
              "       [31.5731    , 30.9231    , 31.65021864, 31.5731    ],\n",
              "       [32.65643333, 30.5981    , 32.1790322 , 31.5731    ],\n",
              "       [29.6231    , 27.9981    , 30.98920169, 30.9231    ],\n",
              "       [31.78976667, 29.6231    , 31.78242203, 31.5731    ],\n",
              "       [30.05643333, 29.6231    , 31.65021864, 30.9231    ],\n",
              "       [31.35643333, 31.2481    , 31.91462542, 31.8981    ],\n",
              "       [28.3231    , 28.3231    , 30.06377797, 29.9481    ],\n",
              "       [32.00643333, 29.9481    , 31.78242203, 30.9231    ],\n",
              "       [28.9731    , 29.2981    , 30.85699831, 31.2481    ],\n",
              "       [28.53976667, 27.0231    , 30.32818475, 29.9481    ],\n",
              "       [30.48976667, 30.2731    , 31.25360847, 31.5731    ],\n",
              "       [30.70643333, 27.6731    , 30.98920169, 29.9481    ],\n",
              "       [30.9231    , 29.9481    , 31.91462542, 31.2481    ],\n",
              "       [29.83976667, 29.9481    , 30.46038814, 30.9231    ],\n",
              "       [32.2231    , 30.5981    , 31.51801525, 31.2481    ],\n",
              "       [29.83976667, 30.2731    , 31.65021864, 31.5731    ],\n",
              "       [30.2731    , 29.2981    , 31.12140508, 29.9481    ],\n",
              "       [31.13976667, 27.6731    , 31.65021864, 31.5731    ],\n",
              "       [29.83976667, 28.6481    , 30.85699831, 30.2731    ],\n",
              "       [30.48976667, 30.9231    , 32.04682881, 32.5481    ],\n",
              "       [30.9231    , 29.6231    , 30.98920169, 30.9231    ],\n",
              "       [31.35643333, 28.6481    , 32.1790322 , 31.5731    ],\n",
              "       [30.9231    , 29.6231    , 31.91462542, 30.5981    ],\n",
              "       [31.5731    , 29.9481    , 31.38581186, 30.9231    ],\n",
              "       [32.00643333, 30.2731    , 31.51801525, 31.2481    ],\n",
              "       [32.43976667, 29.6231    , 32.04682881, 31.2481    ],\n",
              "       [32.2231    , 30.2731    , 32.31123559, 32.2231    ],\n",
              "       [30.70643333, 29.9481    , 31.65021864, 31.5731    ],\n",
              "       [30.05643333, 28.9731    , 30.32818475, 29.9481    ],\n",
              "       [29.6231    , 28.3231    , 30.72479492, 30.2731    ],\n",
              "       [29.6231    , 28.3231    , 30.59259153, 29.9481    ],\n",
              "       [30.2731    , 29.2981    , 30.85699831, 30.5981    ],\n",
              "       [30.70643333, 29.2981    , 32.44343898, 31.8981    ],\n",
              "       [29.40643333, 30.2731    , 31.65021864, 31.5731    ],\n",
              "       [30.70643333, 31.5731    , 31.65021864, 31.8981    ],\n",
              "       [32.2231    , 30.5981    , 31.91462542, 31.5731    ],\n",
              "       [31.35643333, 27.9981    , 31.51801525, 30.9231    ],\n",
              "       [29.83976667, 30.2731    , 31.12140508, 30.9231    ],\n",
              "       [29.6231    , 28.6481    , 30.98920169, 30.9231    ],\n",
              "       [29.6231    , 28.9731    , 31.51801525, 30.5981    ],\n",
              "       [30.9231    , 30.2731    , 31.78242203, 31.2481    ],\n",
              "       [30.2731    , 28.9731    , 30.98920169, 30.5981    ],\n",
              "       [28.53976667, 27.9981    , 30.06377797, 29.9481    ],\n",
              "       [29.83976667, 29.2981    , 31.25360847, 30.9231    ],\n",
              "       [30.05643333, 30.2731    , 31.25360847, 30.5981    ],\n",
              "       [30.05643333, 29.9481    , 31.25360847, 30.9231    ],\n",
              "       [31.13976667, 29.9481    , 31.38581186, 30.9231    ],\n",
              "       [28.75643333, 28.6481    , 29.6671678 , 30.2731    ],\n",
              "       [30.05643333, 29.6231    , 31.12140508, 30.9231    ],\n",
              "       [31.35643333, 31.2481    , 33.63326949, 34.8231    ],\n",
              "       [30.2731    , 29.2981    , 32.44343898, 32.8731    ],\n",
              "       [33.08976667, 30.2731    , 33.5010661 , 33.5231    ],\n",
              "       [31.35643333, 29.9481    , 33.10445593, 32.5481    ],\n",
              "       [31.78976667, 30.2731    , 33.36886271, 33.8481    ],\n",
              "       [34.1731    , 30.2731    , 34.42648983, 33.5231    ],\n",
              "       [28.3231    , 28.6481    , 31.65021864, 32.2231    ],\n",
              "       [33.5231    , 29.9481    , 34.02987966, 32.5481    ],\n",
              "       [32.2231    , 28.6481    , 33.36886271, 32.5481    ],\n",
              "       [33.30643333, 32.2231    , 33.76547288, 34.8231    ],\n",
              "       [31.78976667, 30.9231    , 32.44343898, 33.1981    ],\n",
              "       [31.5731    , 29.2981    , 32.70784576, 32.8731    ],\n",
              "       [32.43976667, 30.2731    , 32.97225254, 33.5231    ],\n",
              "       [30.05643333, 28.6481    , 32.31123559, 33.1981    ],\n",
              "       [30.2731    , 29.6231    , 32.44343898, 34.4981    ],\n",
              "       [31.5731    , 30.9231    , 32.70784576, 34.1731    ],\n",
              "       [31.78976667, 30.2731    , 32.97225254, 32.5481    ],\n",
              "       [34.38976667, 32.8731    , 34.55869322, 33.8481    ],\n",
              "       [34.38976667, 28.9731    , 34.8231    , 34.1731    ],\n",
              "       [30.70643333, 27.6731    , 32.31123559, 31.5731    ],\n",
              "       [32.65643333, 30.9231    , 33.23665932, 34.1731    ],\n",
              "       [29.83976667, 29.6231    , 32.1790322 , 33.1981    ],\n",
              "       [34.38976667, 29.6231    , 34.55869322, 33.1981    ],\n",
              "       [31.35643333, 29.2981    , 32.1790322 , 32.5481    ],\n",
              "       [32.2231    , 31.2481    , 33.23665932, 33.5231    ],\n",
              "       [33.30643333, 30.9231    , 33.63326949, 32.5481    ],\n",
              "       [31.13976667, 29.6231    , 32.04682881, 32.5481    ],\n",
              "       [30.9231    , 30.2731    , 32.1790322 , 32.5481    ],\n",
              "       [31.5731    , 29.6231    , 33.10445593, 33.5231    ],\n",
              "       [33.30643333, 30.2731    , 33.36886271, 31.8981    ],\n",
              "       [33.73976667, 29.6231    , 33.76547288, 32.8731    ],\n",
              "       [34.8231    , 32.8731    , 34.16208305, 33.1981    ],\n",
              "       [31.5731    , 29.6231    , 33.10445593, 33.8481    ],\n",
              "       [31.35643333, 29.6231    , 32.44343898, 31.5731    ],\n",
              "       [30.9231    , 28.9731    , 33.10445593, 31.2481    ],\n",
              "       [34.38976667, 30.2731    , 33.76547288, 34.1731    ],\n",
              "       [31.35643333, 31.5731    , 33.10445593, 34.4981    ],\n",
              "       [31.5731    , 30.5981    , 32.97225254, 32.5481    ],\n",
              "       [30.70643333, 30.2731    , 32.04682881, 32.5481    ],\n",
              "       [32.65643333, 30.5981    , 32.84004915, 33.5231    ],\n",
              "       [32.2231    , 30.5981    , 33.10445593, 34.4981    ],\n",
              "       [32.65643333, 30.5981    , 32.44343898, 34.1731    ],\n",
              "       [30.2731    , 29.2981    , 32.44343898, 32.8731    ],\n",
              "       [32.43976667, 30.9231    , 33.5010661 , 34.1731    ],\n",
              "       [32.2231    , 31.2481    , 33.23665932, 34.8231    ],\n",
              "       [32.2231    , 30.2731    , 32.57564237, 34.1731    ],\n",
              "       [31.35643333, 28.6481    , 32.31123559, 32.8731    ],\n",
              "       [31.78976667, 30.2731    , 32.57564237, 33.1981    ],\n",
              "       [31.13976667, 31.5731    , 32.84004915, 34.1731    ],\n",
              "       [30.48976667, 30.2731    , 32.44343898, 32.5481    ]])"
            ]
          },
          "metadata": {},
          "execution_count": 141
        }
      ]
    },
    {
      "cell_type": "code",
      "source": [
        "result=res[0,:].reshape(-1,1)\n",
        "minmax.inverse_transform([[0.22222222, 0.625     , 0.06779661, 0.04166667],[0.22222222, 0.625     , 0.06779661, 0.04166667]])"
      ],
      "metadata": {
        "colab": {
          "base_uri": "https://localhost:8080/"
        },
        "id": "Fc8wZRXrE-Kd",
        "outputId": "73813957-ae62-4858-a665-218c2c8de1c9"
      },
      "execution_count": null,
      "outputs": [
        {
          "output_type": "execute_result",
          "data": {
            "text/plain": [
              "array([[5.09999999, 3.5       , 1.4       , 0.20000001],\n",
              "       [5.09999999, 3.5       , 1.4       , 0.20000001]])"
            ]
          },
          "metadata": {},
          "execution_count": 48
        }
      ]
    },
    {
      "cell_type": "code",
      "source": [
        "minmax.inverse_transform(res[0,:].reshape(-1,4))"
      ],
      "metadata": {
        "colab": {
          "base_uri": "https://localhost:8080/"
        },
        "id": "j23exjuRE-Md",
        "outputId": "ed7ad2f3-3554-4d67-b875-4874b4f10e4a"
      },
      "execution_count": null,
      "outputs": [
        {
          "output_type": "execute_result",
          "data": {
            "text/plain": [
              "array([[5.1, 3.5, 1.4, 0.2]])"
            ]
          },
          "metadata": {},
          "execution_count": 50
        }
      ]
    },
    {
      "cell_type": "markdown",
      "source": [
        "Normalize"
      ],
      "metadata": {
        "id": "7VTrHrZHHL02"
      }
    },
    {
      "cell_type": "code",
      "source": [
        "from sklearn import preprocessing\n",
        "X=[[1.,-1.,2.],[2.,0.,0.],[0.,1.,-1]]\n",
        "X_normalized=preprocessing.normalize(X,norm='l2') #l1 : 절대값 ((x,y)를 더한 값이 1이 되도록 정규화) #l2 : 거리값 구하기 (피타고라스 정리)\n",
        "X_normalized\n",
        "#벡터는 크기와 방향을 표현하는 것\n",
        "#벡터의 크기 값 : 피타고라스(np.sqrt(x**2+y**2+z**2))\n",
        "#(x/size,y/size,z/size) : 방향만 남음(범위 : -1 ~ 1)"
      ],
      "metadata": {
        "colab": {
          "base_uri": "https://localhost:8080/"
        },
        "id": "0n4PRu8CE-Oc",
        "outputId": "f5d081c8-0c1a-4bee-cd5a-1a9e6742cf06"
      },
      "execution_count": null,
      "outputs": [
        {
          "output_type": "execute_result",
          "data": {
            "text/plain": [
              "array([[ 0.40824829, -0.40824829,  0.81649658],\n",
              "       [ 1.        ,  0.        ,  0.        ],\n",
              "       [ 0.        ,  0.70710678, -0.70710678]])"
            ]
          },
          "metadata": {},
          "execution_count": 51
        }
      ]
    },
    {
      "cell_type": "code",
      "source": [
        "#Normalizer 클래스\n",
        "normalizer=preprocessing.Normalizer().fit(X)\n",
        "normalizer.transform(X)"
      ],
      "metadata": {
        "colab": {
          "base_uri": "https://localhost:8080/"
        },
        "id": "bfnOMYk7E-P8",
        "outputId": "b35277ac-6c91-410c-9cab-6263ad07bc79"
      },
      "execution_count": null,
      "outputs": [
        {
          "output_type": "execute_result",
          "data": {
            "text/plain": [
              "array([[ 0.40824829, -0.40824829,  0.81649658],\n",
              "       [ 1.        ,  0.        ,  0.        ],\n",
              "       [ 0.        ,  0.70710678, -0.70710678]])"
            ]
          },
          "metadata": {},
          "execution_count": 52
        }
      ]
    },
    {
      "cell_type": "markdown",
      "source": [
        "결측치 처리"
      ],
      "metadata": {
        "id": "qHyt4EeyI1Ki"
      }
    },
    {
      "cell_type": "code",
      "source": [
        "from sklearn.impute import SimpleImputer\n",
        "imp_mean=SimpleImputer(missing_values=np.nan,strategy='median') #전략 : mean, most_frequency 최빈수\n",
        "imp_mean.fit([[7,2,3],[4,np.nan,6],[10,5,9]])\n",
        "X=[[np.nan,2,3],[4,np.nan,6],[10,np.nan,9]] #첫번째 결측치 : (10+4)/2 #열내 동질적이라 열로 봐야함\n",
        "print(imp_mean.transform(X))"
      ],
      "metadata": {
        "colab": {
          "base_uri": "https://localhost:8080/"
        },
        "id": "Tx6Gis2oE-Rt",
        "outputId": "2fc967c7-927a-49e2-db59-173fe4d02eaa"
      },
      "execution_count": null,
      "outputs": [
        {
          "output_type": "stream",
          "name": "stdout",
          "text": [
            "[[ 7.   2.   3. ]\n",
            " [ 4.   3.5  6. ]\n",
            " [10.   3.5  9. ]]\n"
          ]
        }
      ]
    },
    {
      "cell_type": "markdown",
      "source": [
        "K-NN(K nearest neighbor)\n",
        "\n",
        "상수, 평균 중위값 0 max min 그 중 제일은 KNNImputer"
      ],
      "metadata": {
        "id": "SJNsZHoMarkF"
      }
    },
    {
      "cell_type": "code",
      "source": [
        "from sklearn.impute import KNNImputer\n",
        "\n",
        "#거리값\n",
        "#(1-3)**2 + (2-4)**2\n",
        "#[1,2,np.nan]\n",
        "#[3,4,3]\n",
        "#[np.nan,6,5]\n",
        "#[8,8,7]\n",
        "X=[[1,2,np.nan],[3,4,3],[np.nan,6,5],[8,8,7]]\n",
        "imputer=KNNImputer(n_neighbors=2)\n",
        "imputer.fit_transform(X)"
      ],
      "metadata": {
        "colab": {
          "base_uri": "https://localhost:8080/"
        },
        "id": "8E8DCZMpE-Tc",
        "outputId": "30cf5d31-4835-4c12-d680-e6bca475d118"
      },
      "execution_count": null,
      "outputs": [
        {
          "output_type": "execute_result",
          "data": {
            "text/plain": [
              "array([[1. , 2. , 4. ],\n",
              "       [3. , 4. , 3. ],\n",
              "       [5.5, 6. , 5. ],\n",
              "       [8. , 8. , 7. ]])"
            ]
          },
          "metadata": {},
          "execution_count": 143
        }
      ]
    },
    {
      "cell_type": "code",
      "source": [
        "#문제\n",
        "from sklearn.impute import KNNImputer\n",
        "import pandas as pd\n",
        "dict={\"First\":[100,90,np.nan,95],\"Sencond\":[30,45,56,np.nan],\"Third\":[np.nan,40,80,98]}\n",
        "df=pd.DataFrame(dict)\n",
        "df"
      ],
      "metadata": {
        "colab": {
          "base_uri": "https://localhost:8080/",
          "height": 175
        },
        "id": "L6xZUfQ2E-Vc",
        "outputId": "89a517fa-fce7-454c-b50d-f9cdb8b25e25"
      },
      "execution_count": null,
      "outputs": [
        {
          "output_type": "execute_result",
          "data": {
            "text/plain": [
              "   First  Sencond  Third\n",
              "0  100.0     30.0    NaN\n",
              "1   90.0     45.0   40.0\n",
              "2    NaN     56.0   80.0\n",
              "3   95.0      NaN   98.0"
            ],
            "text/html": [
              "\n",
              "  <div id=\"df-e2d9309c-79ae-4093-9f8f-0a968f292580\" class=\"colab-df-container\">\n",
              "    <div>\n",
              "<style scoped>\n",
              "    .dataframe tbody tr th:only-of-type {\n",
              "        vertical-align: middle;\n",
              "    }\n",
              "\n",
              "    .dataframe tbody tr th {\n",
              "        vertical-align: top;\n",
              "    }\n",
              "\n",
              "    .dataframe thead th {\n",
              "        text-align: right;\n",
              "    }\n",
              "</style>\n",
              "<table border=\"1\" class=\"dataframe\">\n",
              "  <thead>\n",
              "    <tr style=\"text-align: right;\">\n",
              "      <th></th>\n",
              "      <th>First</th>\n",
              "      <th>Sencond</th>\n",
              "      <th>Third</th>\n",
              "    </tr>\n",
              "  </thead>\n",
              "  <tbody>\n",
              "    <tr>\n",
              "      <th>0</th>\n",
              "      <td>100.0</td>\n",
              "      <td>30.0</td>\n",
              "      <td>NaN</td>\n",
              "    </tr>\n",
              "    <tr>\n",
              "      <th>1</th>\n",
              "      <td>90.0</td>\n",
              "      <td>45.0</td>\n",
              "      <td>40.0</td>\n",
              "    </tr>\n",
              "    <tr>\n",
              "      <th>2</th>\n",
              "      <td>NaN</td>\n",
              "      <td>56.0</td>\n",
              "      <td>80.0</td>\n",
              "    </tr>\n",
              "    <tr>\n",
              "      <th>3</th>\n",
              "      <td>95.0</td>\n",
              "      <td>NaN</td>\n",
              "      <td>98.0</td>\n",
              "    </tr>\n",
              "  </tbody>\n",
              "</table>\n",
              "</div>\n",
              "    <div class=\"colab-df-buttons\">\n",
              "\n",
              "  <div class=\"colab-df-container\">\n",
              "    <button class=\"colab-df-convert\" onclick=\"convertToInteractive('df-e2d9309c-79ae-4093-9f8f-0a968f292580')\"\n",
              "            title=\"Convert this dataframe to an interactive table.\"\n",
              "            style=\"display:none;\">\n",
              "\n",
              "  <svg xmlns=\"http://www.w3.org/2000/svg\" height=\"24px\" viewBox=\"0 -960 960 960\">\n",
              "    <path d=\"M120-120v-720h720v720H120Zm60-500h600v-160H180v160Zm220 220h160v-160H400v160Zm0 220h160v-160H400v160ZM180-400h160v-160H180v160Zm440 0h160v-160H620v160ZM180-180h160v-160H180v160Zm440 0h160v-160H620v160Z\"/>\n",
              "  </svg>\n",
              "    </button>\n",
              "\n",
              "  <style>\n",
              "    .colab-df-container {\n",
              "      display:flex;\n",
              "      gap: 12px;\n",
              "    }\n",
              "\n",
              "    .colab-df-convert {\n",
              "      background-color: #E8F0FE;\n",
              "      border: none;\n",
              "      border-radius: 50%;\n",
              "      cursor: pointer;\n",
              "      display: none;\n",
              "      fill: #1967D2;\n",
              "      height: 32px;\n",
              "      padding: 0 0 0 0;\n",
              "      width: 32px;\n",
              "    }\n",
              "\n",
              "    .colab-df-convert:hover {\n",
              "      background-color: #E2EBFA;\n",
              "      box-shadow: 0px 1px 2px rgba(60, 64, 67, 0.3), 0px 1px 3px 1px rgba(60, 64, 67, 0.15);\n",
              "      fill: #174EA6;\n",
              "    }\n",
              "\n",
              "    .colab-df-buttons div {\n",
              "      margin-bottom: 4px;\n",
              "    }\n",
              "\n",
              "    [theme=dark] .colab-df-convert {\n",
              "      background-color: #3B4455;\n",
              "      fill: #D2E3FC;\n",
              "    }\n",
              "\n",
              "    [theme=dark] .colab-df-convert:hover {\n",
              "      background-color: #434B5C;\n",
              "      box-shadow: 0px 1px 3px 1px rgba(0, 0, 0, 0.15);\n",
              "      filter: drop-shadow(0px 1px 2px rgba(0, 0, 0, 0.3));\n",
              "      fill: #FFFFFF;\n",
              "    }\n",
              "  </style>\n",
              "\n",
              "    <script>\n",
              "      const buttonEl =\n",
              "        document.querySelector('#df-e2d9309c-79ae-4093-9f8f-0a968f292580 button.colab-df-convert');\n",
              "      buttonEl.style.display =\n",
              "        google.colab.kernel.accessAllowed ? 'block' : 'none';\n",
              "\n",
              "      async function convertToInteractive(key) {\n",
              "        const element = document.querySelector('#df-e2d9309c-79ae-4093-9f8f-0a968f292580');\n",
              "        const dataTable =\n",
              "          await google.colab.kernel.invokeFunction('convertToInteractive',\n",
              "                                                    [key], {});\n",
              "        if (!dataTable) return;\n",
              "\n",
              "        const docLinkHtml = 'Like what you see? Visit the ' +\n",
              "          '<a target=\"_blank\" href=https://colab.research.google.com/notebooks/data_table.ipynb>data table notebook</a>'\n",
              "          + ' to learn more about interactive tables.';\n",
              "        element.innerHTML = '';\n",
              "        dataTable['output_type'] = 'display_data';\n",
              "        await google.colab.output.renderOutput(dataTable, element);\n",
              "        const docLink = document.createElement('div');\n",
              "        docLink.innerHTML = docLinkHtml;\n",
              "        element.appendChild(docLink);\n",
              "      }\n",
              "    </script>\n",
              "  </div>\n",
              "\n",
              "\n",
              "<div id=\"df-6714b7a9-d1d8-4bf3-a2fd-91728328fd53\">\n",
              "  <button class=\"colab-df-quickchart\" onclick=\"quickchart('df-6714b7a9-d1d8-4bf3-a2fd-91728328fd53')\"\n",
              "            title=\"Suggest charts\"\n",
              "            style=\"display:none;\">\n",
              "\n",
              "<svg xmlns=\"http://www.w3.org/2000/svg\" height=\"24px\"viewBox=\"0 0 24 24\"\n",
              "     width=\"24px\">\n",
              "    <g>\n",
              "        <path d=\"M19 3H5c-1.1 0-2 .9-2 2v14c0 1.1.9 2 2 2h14c1.1 0 2-.9 2-2V5c0-1.1-.9-2-2-2zM9 17H7v-7h2v7zm4 0h-2V7h2v10zm4 0h-2v-4h2v4z\"/>\n",
              "    </g>\n",
              "</svg>\n",
              "  </button>\n",
              "\n",
              "<style>\n",
              "  .colab-df-quickchart {\n",
              "      --bg-color: #E8F0FE;\n",
              "      --fill-color: #1967D2;\n",
              "      --hover-bg-color: #E2EBFA;\n",
              "      --hover-fill-color: #174EA6;\n",
              "      --disabled-fill-color: #AAA;\n",
              "      --disabled-bg-color: #DDD;\n",
              "  }\n",
              "\n",
              "  [theme=dark] .colab-df-quickchart {\n",
              "      --bg-color: #3B4455;\n",
              "      --fill-color: #D2E3FC;\n",
              "      --hover-bg-color: #434B5C;\n",
              "      --hover-fill-color: #FFFFFF;\n",
              "      --disabled-bg-color: #3B4455;\n",
              "      --disabled-fill-color: #666;\n",
              "  }\n",
              "\n",
              "  .colab-df-quickchart {\n",
              "    background-color: var(--bg-color);\n",
              "    border: none;\n",
              "    border-radius: 50%;\n",
              "    cursor: pointer;\n",
              "    display: none;\n",
              "    fill: var(--fill-color);\n",
              "    height: 32px;\n",
              "    padding: 0;\n",
              "    width: 32px;\n",
              "  }\n",
              "\n",
              "  .colab-df-quickchart:hover {\n",
              "    background-color: var(--hover-bg-color);\n",
              "    box-shadow: 0 1px 2px rgba(60, 64, 67, 0.3), 0 1px 3px 1px rgba(60, 64, 67, 0.15);\n",
              "    fill: var(--button-hover-fill-color);\n",
              "  }\n",
              "\n",
              "  .colab-df-quickchart-complete:disabled,\n",
              "  .colab-df-quickchart-complete:disabled:hover {\n",
              "    background-color: var(--disabled-bg-color);\n",
              "    fill: var(--disabled-fill-color);\n",
              "    box-shadow: none;\n",
              "  }\n",
              "\n",
              "  .colab-df-spinner {\n",
              "    border: 2px solid var(--fill-color);\n",
              "    border-color: transparent;\n",
              "    border-bottom-color: var(--fill-color);\n",
              "    animation:\n",
              "      spin 1s steps(1) infinite;\n",
              "  }\n",
              "\n",
              "  @keyframes spin {\n",
              "    0% {\n",
              "      border-color: transparent;\n",
              "      border-bottom-color: var(--fill-color);\n",
              "      border-left-color: var(--fill-color);\n",
              "    }\n",
              "    20% {\n",
              "      border-color: transparent;\n",
              "      border-left-color: var(--fill-color);\n",
              "      border-top-color: var(--fill-color);\n",
              "    }\n",
              "    30% {\n",
              "      border-color: transparent;\n",
              "      border-left-color: var(--fill-color);\n",
              "      border-top-color: var(--fill-color);\n",
              "      border-right-color: var(--fill-color);\n",
              "    }\n",
              "    40% {\n",
              "      border-color: transparent;\n",
              "      border-right-color: var(--fill-color);\n",
              "      border-top-color: var(--fill-color);\n",
              "    }\n",
              "    60% {\n",
              "      border-color: transparent;\n",
              "      border-right-color: var(--fill-color);\n",
              "    }\n",
              "    80% {\n",
              "      border-color: transparent;\n",
              "      border-right-color: var(--fill-color);\n",
              "      border-bottom-color: var(--fill-color);\n",
              "    }\n",
              "    90% {\n",
              "      border-color: transparent;\n",
              "      border-bottom-color: var(--fill-color);\n",
              "    }\n",
              "  }\n",
              "</style>\n",
              "\n",
              "  <script>\n",
              "    async function quickchart(key) {\n",
              "      const quickchartButtonEl =\n",
              "        document.querySelector('#' + key + ' button');\n",
              "      quickchartButtonEl.disabled = true;  // To prevent multiple clicks.\n",
              "      quickchartButtonEl.classList.add('colab-df-spinner');\n",
              "      try {\n",
              "        const charts = await google.colab.kernel.invokeFunction(\n",
              "            'suggestCharts', [key], {});\n",
              "      } catch (error) {\n",
              "        console.error('Error during call to suggestCharts:', error);\n",
              "      }\n",
              "      quickchartButtonEl.classList.remove('colab-df-spinner');\n",
              "      quickchartButtonEl.classList.add('colab-df-quickchart-complete');\n",
              "    }\n",
              "    (() => {\n",
              "      let quickchartButtonEl =\n",
              "        document.querySelector('#df-6714b7a9-d1d8-4bf3-a2fd-91728328fd53 button');\n",
              "      quickchartButtonEl.style.display =\n",
              "        google.colab.kernel.accessAllowed ? 'block' : 'none';\n",
              "    })();\n",
              "  </script>\n",
              "</div>\n",
              "    </div>\n",
              "  </div>\n"
            ]
          },
          "metadata": {},
          "execution_count": 125
        }
      ]
    },
    {
      "cell_type": "code",
      "source": [
        "#만약에 NaN이 많을 때는 상수로 초기화(평균, 0)\n",
        "#채워나가면서\n",
        "imp_mean=SimpleImputer(missing_values=np.nan,strategy='constant') #constant : 결측치를 0으로 채워줌\n",
        "res=imp_mean.fit_transform(df)\n",
        "res"
      ],
      "metadata": {
        "colab": {
          "base_uri": "https://localhost:8080/"
        },
        "id": "po_GjhZAES5d",
        "outputId": "64c3695c-23bb-4c4b-bd98-f9c6cd8fc51b"
      },
      "execution_count": null,
      "outputs": [
        {
          "output_type": "execute_result",
          "data": {
            "text/plain": [
              "array([[100.,  30.,   0.],\n",
              "       [ 90.,  45.,  40.],\n",
              "       [  0.,  56.,  80.],\n",
              "       [ 95.,   0.,  98.]])"
            ]
          },
          "metadata": {},
          "execution_count": 132
        }
      ]
    },
    {
      "cell_type": "code",
      "source": [
        "imputer=KNNImputer(n_neighbors=5)\n",
        "df_filled=imputer.fit_transform(res)"
      ],
      "metadata": {
        "id": "tfVsIUBhAoEc"
      },
      "execution_count": null,
      "outputs": []
    },
    {
      "cell_type": "code",
      "source": [
        "from scipy.spatial import distance\n",
        "data=df_filled[:,:1]\n",
        "distance_matrix=distance.cdist(data,data,'euclidean')\n",
        "distance_matrix"
      ],
      "metadata": {
        "colab": {
          "base_uri": "https://localhost:8080/"
        },
        "id": "c9SevqeAAoCU",
        "outputId": "41ff38e2-d8eb-4de6-8e03-dab578157e0f"
      },
      "execution_count": null,
      "outputs": [
        {
          "output_type": "execute_result",
          "data": {
            "text/plain": [
              "array([[0.        , 0.05555556, 0.11111111, ..., 0.38888889, 0.30555556,\n",
              "        0.22222222],\n",
              "       [0.05555556, 0.        , 0.05555556, ..., 0.44444444, 0.36111111,\n",
              "        0.27777778],\n",
              "       [0.11111111, 0.05555556, 0.        , ..., 0.5       , 0.41666667,\n",
              "        0.33333333],\n",
              "       ...,\n",
              "       [0.38888889, 0.44444444, 0.5       , ..., 0.        , 0.08333333,\n",
              "        0.16666667],\n",
              "       [0.30555556, 0.36111111, 0.41666667, ..., 0.08333333, 0.        ,\n",
              "        0.08333333],\n",
              "       [0.22222222, 0.27777778, 0.33333333, ..., 0.16666667, 0.08333333,\n",
              "        0.        ]])"
            ]
          },
          "metadata": {},
          "execution_count": 151
        }
      ]
    },
    {
      "cell_type": "markdown",
      "source": [
        "보스턴 집값 데이터\n",
        "\n"
      ],
      "metadata": {
        "id": "kewX_58QdhgK"
      }
    },
    {
      "cell_type": "code",
      "source": [
        "import pandas as pd\n",
        "import numpy as np\n",
        "title =  ['RM','ZN','INDUS','CHAS', 'NOX','RM','AGE','RAD', 'TAX','PTRATIO','B', 'LSTAT', 'medv'] #medv : 집값\n",
        "data_url = \"http://lib.stat.cmu.edu/datasets/boston\"\n",
        "raw_df = pd.read_csv(data_url, sep=\"\\s+\", skiprows=22, header=None)\n",
        "data = np.hstack([raw_df.values[::2, :], raw_df.values[1::2, :2]])\n",
        "target = raw_df.values[1::2, 2]\n",
        "print(type(data))\n",
        "boston_df = pd.DataFrame(data, columns = title)\n",
        "boston_df.head()"
      ],
      "metadata": {
        "colab": {
          "base_uri": "https://localhost:8080/",
          "height": 225
        },
        "id": "w1JPZlIdE-XT",
        "outputId": "58b79d5a-f898-437b-e404-3f80af120c5c"
      },
      "execution_count": null,
      "outputs": [
        {
          "output_type": "stream",
          "name": "stdout",
          "text": [
            "<class 'numpy.ndarray'>\n"
          ]
        },
        {
          "output_type": "execute_result",
          "data": {
            "text/plain": [
              "        RM    ZN  INDUS  CHAS    NOX     RM   AGE     RAD  TAX  PTRATIO     B  \\\n",
              "0  0.00632  18.0   2.31   0.0  0.538  6.575  65.2  4.0900  1.0    296.0  15.3   \n",
              "1  0.02731   0.0   7.07   0.0  0.469  6.421  78.9  4.9671  2.0    242.0  17.8   \n",
              "2  0.02729   0.0   7.07   0.0  0.469  7.185  61.1  4.9671  2.0    242.0  17.8   \n",
              "3  0.03237   0.0   2.18   0.0  0.458  6.998  45.8  6.0622  3.0    222.0  18.7   \n",
              "4  0.06905   0.0   2.18   0.0  0.458  7.147  54.2  6.0622  3.0    222.0  18.7   \n",
              "\n",
              "    LSTAT  medv  \n",
              "0  396.90  4.98  \n",
              "1  396.90  9.14  \n",
              "2  392.83  4.03  \n",
              "3  394.63  2.94  \n",
              "4  396.90  5.33  "
            ],
            "text/html": [
              "\n",
              "  <div id=\"df-f5970da9-1b43-4ebf-999b-43ed18114ff9\" class=\"colab-df-container\">\n",
              "    <div>\n",
              "<style scoped>\n",
              "    .dataframe tbody tr th:only-of-type {\n",
              "        vertical-align: middle;\n",
              "    }\n",
              "\n",
              "    .dataframe tbody tr th {\n",
              "        vertical-align: top;\n",
              "    }\n",
              "\n",
              "    .dataframe thead th {\n",
              "        text-align: right;\n",
              "    }\n",
              "</style>\n",
              "<table border=\"1\" class=\"dataframe\">\n",
              "  <thead>\n",
              "    <tr style=\"text-align: right;\">\n",
              "      <th></th>\n",
              "      <th>RM</th>\n",
              "      <th>ZN</th>\n",
              "      <th>INDUS</th>\n",
              "      <th>CHAS</th>\n",
              "      <th>NOX</th>\n",
              "      <th>RM</th>\n",
              "      <th>AGE</th>\n",
              "      <th>RAD</th>\n",
              "      <th>TAX</th>\n",
              "      <th>PTRATIO</th>\n",
              "      <th>B</th>\n",
              "      <th>LSTAT</th>\n",
              "      <th>medv</th>\n",
              "    </tr>\n",
              "  </thead>\n",
              "  <tbody>\n",
              "    <tr>\n",
              "      <th>0</th>\n",
              "      <td>0.00632</td>\n",
              "      <td>18.0</td>\n",
              "      <td>2.31</td>\n",
              "      <td>0.0</td>\n",
              "      <td>0.538</td>\n",
              "      <td>6.575</td>\n",
              "      <td>65.2</td>\n",
              "      <td>4.0900</td>\n",
              "      <td>1.0</td>\n",
              "      <td>296.0</td>\n",
              "      <td>15.3</td>\n",
              "      <td>396.90</td>\n",
              "      <td>4.98</td>\n",
              "    </tr>\n",
              "    <tr>\n",
              "      <th>1</th>\n",
              "      <td>0.02731</td>\n",
              "      <td>0.0</td>\n",
              "      <td>7.07</td>\n",
              "      <td>0.0</td>\n",
              "      <td>0.469</td>\n",
              "      <td>6.421</td>\n",
              "      <td>78.9</td>\n",
              "      <td>4.9671</td>\n",
              "      <td>2.0</td>\n",
              "      <td>242.0</td>\n",
              "      <td>17.8</td>\n",
              "      <td>396.90</td>\n",
              "      <td>9.14</td>\n",
              "    </tr>\n",
              "    <tr>\n",
              "      <th>2</th>\n",
              "      <td>0.02729</td>\n",
              "      <td>0.0</td>\n",
              "      <td>7.07</td>\n",
              "      <td>0.0</td>\n",
              "      <td>0.469</td>\n",
              "      <td>7.185</td>\n",
              "      <td>61.1</td>\n",
              "      <td>4.9671</td>\n",
              "      <td>2.0</td>\n",
              "      <td>242.0</td>\n",
              "      <td>17.8</td>\n",
              "      <td>392.83</td>\n",
              "      <td>4.03</td>\n",
              "    </tr>\n",
              "    <tr>\n",
              "      <th>3</th>\n",
              "      <td>0.03237</td>\n",
              "      <td>0.0</td>\n",
              "      <td>2.18</td>\n",
              "      <td>0.0</td>\n",
              "      <td>0.458</td>\n",
              "      <td>6.998</td>\n",
              "      <td>45.8</td>\n",
              "      <td>6.0622</td>\n",
              "      <td>3.0</td>\n",
              "      <td>222.0</td>\n",
              "      <td>18.7</td>\n",
              "      <td>394.63</td>\n",
              "      <td>2.94</td>\n",
              "    </tr>\n",
              "    <tr>\n",
              "      <th>4</th>\n",
              "      <td>0.06905</td>\n",
              "      <td>0.0</td>\n",
              "      <td>2.18</td>\n",
              "      <td>0.0</td>\n",
              "      <td>0.458</td>\n",
              "      <td>7.147</td>\n",
              "      <td>54.2</td>\n",
              "      <td>6.0622</td>\n",
              "      <td>3.0</td>\n",
              "      <td>222.0</td>\n",
              "      <td>18.7</td>\n",
              "      <td>396.90</td>\n",
              "      <td>5.33</td>\n",
              "    </tr>\n",
              "  </tbody>\n",
              "</table>\n",
              "</div>\n",
              "    <div class=\"colab-df-buttons\">\n",
              "\n",
              "  <div class=\"colab-df-container\">\n",
              "    <button class=\"colab-df-convert\" onclick=\"convertToInteractive('df-f5970da9-1b43-4ebf-999b-43ed18114ff9')\"\n",
              "            title=\"Convert this dataframe to an interactive table.\"\n",
              "            style=\"display:none;\">\n",
              "\n",
              "  <svg xmlns=\"http://www.w3.org/2000/svg\" height=\"24px\" viewBox=\"0 -960 960 960\">\n",
              "    <path d=\"M120-120v-720h720v720H120Zm60-500h600v-160H180v160Zm220 220h160v-160H400v160Zm0 220h160v-160H400v160ZM180-400h160v-160H180v160Zm440 0h160v-160H620v160ZM180-180h160v-160H180v160Zm440 0h160v-160H620v160Z\"/>\n",
              "  </svg>\n",
              "    </button>\n",
              "\n",
              "  <style>\n",
              "    .colab-df-container {\n",
              "      display:flex;\n",
              "      gap: 12px;\n",
              "    }\n",
              "\n",
              "    .colab-df-convert {\n",
              "      background-color: #E8F0FE;\n",
              "      border: none;\n",
              "      border-radius: 50%;\n",
              "      cursor: pointer;\n",
              "      display: none;\n",
              "      fill: #1967D2;\n",
              "      height: 32px;\n",
              "      padding: 0 0 0 0;\n",
              "      width: 32px;\n",
              "    }\n",
              "\n",
              "    .colab-df-convert:hover {\n",
              "      background-color: #E2EBFA;\n",
              "      box-shadow: 0px 1px 2px rgba(60, 64, 67, 0.3), 0px 1px 3px 1px rgba(60, 64, 67, 0.15);\n",
              "      fill: #174EA6;\n",
              "    }\n",
              "\n",
              "    .colab-df-buttons div {\n",
              "      margin-bottom: 4px;\n",
              "    }\n",
              "\n",
              "    [theme=dark] .colab-df-convert {\n",
              "      background-color: #3B4455;\n",
              "      fill: #D2E3FC;\n",
              "    }\n",
              "\n",
              "    [theme=dark] .colab-df-convert:hover {\n",
              "      background-color: #434B5C;\n",
              "      box-shadow: 0px 1px 3px 1px rgba(0, 0, 0, 0.15);\n",
              "      filter: drop-shadow(0px 1px 2px rgba(0, 0, 0, 0.3));\n",
              "      fill: #FFFFFF;\n",
              "    }\n",
              "  </style>\n",
              "\n",
              "    <script>\n",
              "      const buttonEl =\n",
              "        document.querySelector('#df-f5970da9-1b43-4ebf-999b-43ed18114ff9 button.colab-df-convert');\n",
              "      buttonEl.style.display =\n",
              "        google.colab.kernel.accessAllowed ? 'block' : 'none';\n",
              "\n",
              "      async function convertToInteractive(key) {\n",
              "        const element = document.querySelector('#df-f5970da9-1b43-4ebf-999b-43ed18114ff9');\n",
              "        const dataTable =\n",
              "          await google.colab.kernel.invokeFunction('convertToInteractive',\n",
              "                                                    [key], {});\n",
              "        if (!dataTable) return;\n",
              "\n",
              "        const docLinkHtml = 'Like what you see? Visit the ' +\n",
              "          '<a target=\"_blank\" href=https://colab.research.google.com/notebooks/data_table.ipynb>data table notebook</a>'\n",
              "          + ' to learn more about interactive tables.';\n",
              "        element.innerHTML = '';\n",
              "        dataTable['output_type'] = 'display_data';\n",
              "        await google.colab.output.renderOutput(dataTable, element);\n",
              "        const docLink = document.createElement('div');\n",
              "        docLink.innerHTML = docLinkHtml;\n",
              "        element.appendChild(docLink);\n",
              "      }\n",
              "    </script>\n",
              "  </div>\n",
              "\n",
              "\n",
              "<div id=\"df-7877a926-b5f6-45a8-9944-5142b550d10d\">\n",
              "  <button class=\"colab-df-quickchart\" onclick=\"quickchart('df-7877a926-b5f6-45a8-9944-5142b550d10d')\"\n",
              "            title=\"Suggest charts\"\n",
              "            style=\"display:none;\">\n",
              "\n",
              "<svg xmlns=\"http://www.w3.org/2000/svg\" height=\"24px\"viewBox=\"0 0 24 24\"\n",
              "     width=\"24px\">\n",
              "    <g>\n",
              "        <path d=\"M19 3H5c-1.1 0-2 .9-2 2v14c0 1.1.9 2 2 2h14c1.1 0 2-.9 2-2V5c0-1.1-.9-2-2-2zM9 17H7v-7h2v7zm4 0h-2V7h2v10zm4 0h-2v-4h2v4z\"/>\n",
              "    </g>\n",
              "</svg>\n",
              "  </button>\n",
              "\n",
              "<style>\n",
              "  .colab-df-quickchart {\n",
              "      --bg-color: #E8F0FE;\n",
              "      --fill-color: #1967D2;\n",
              "      --hover-bg-color: #E2EBFA;\n",
              "      --hover-fill-color: #174EA6;\n",
              "      --disabled-fill-color: #AAA;\n",
              "      --disabled-bg-color: #DDD;\n",
              "  }\n",
              "\n",
              "  [theme=dark] .colab-df-quickchart {\n",
              "      --bg-color: #3B4455;\n",
              "      --fill-color: #D2E3FC;\n",
              "      --hover-bg-color: #434B5C;\n",
              "      --hover-fill-color: #FFFFFF;\n",
              "      --disabled-bg-color: #3B4455;\n",
              "      --disabled-fill-color: #666;\n",
              "  }\n",
              "\n",
              "  .colab-df-quickchart {\n",
              "    background-color: var(--bg-color);\n",
              "    border: none;\n",
              "    border-radius: 50%;\n",
              "    cursor: pointer;\n",
              "    display: none;\n",
              "    fill: var(--fill-color);\n",
              "    height: 32px;\n",
              "    padding: 0;\n",
              "    width: 32px;\n",
              "  }\n",
              "\n",
              "  .colab-df-quickchart:hover {\n",
              "    background-color: var(--hover-bg-color);\n",
              "    box-shadow: 0 1px 2px rgba(60, 64, 67, 0.3), 0 1px 3px 1px rgba(60, 64, 67, 0.15);\n",
              "    fill: var(--button-hover-fill-color);\n",
              "  }\n",
              "\n",
              "  .colab-df-quickchart-complete:disabled,\n",
              "  .colab-df-quickchart-complete:disabled:hover {\n",
              "    background-color: var(--disabled-bg-color);\n",
              "    fill: var(--disabled-fill-color);\n",
              "    box-shadow: none;\n",
              "  }\n",
              "\n",
              "  .colab-df-spinner {\n",
              "    border: 2px solid var(--fill-color);\n",
              "    border-color: transparent;\n",
              "    border-bottom-color: var(--fill-color);\n",
              "    animation:\n",
              "      spin 1s steps(1) infinite;\n",
              "  }\n",
              "\n",
              "  @keyframes spin {\n",
              "    0% {\n",
              "      border-color: transparent;\n",
              "      border-bottom-color: var(--fill-color);\n",
              "      border-left-color: var(--fill-color);\n",
              "    }\n",
              "    20% {\n",
              "      border-color: transparent;\n",
              "      border-left-color: var(--fill-color);\n",
              "      border-top-color: var(--fill-color);\n",
              "    }\n",
              "    30% {\n",
              "      border-color: transparent;\n",
              "      border-left-color: var(--fill-color);\n",
              "      border-top-color: var(--fill-color);\n",
              "      border-right-color: var(--fill-color);\n",
              "    }\n",
              "    40% {\n",
              "      border-color: transparent;\n",
              "      border-right-color: var(--fill-color);\n",
              "      border-top-color: var(--fill-color);\n",
              "    }\n",
              "    60% {\n",
              "      border-color: transparent;\n",
              "      border-right-color: var(--fill-color);\n",
              "    }\n",
              "    80% {\n",
              "      border-color: transparent;\n",
              "      border-right-color: var(--fill-color);\n",
              "      border-bottom-color: var(--fill-color);\n",
              "    }\n",
              "    90% {\n",
              "      border-color: transparent;\n",
              "      border-bottom-color: var(--fill-color);\n",
              "    }\n",
              "  }\n",
              "</style>\n",
              "\n",
              "  <script>\n",
              "    async function quickchart(key) {\n",
              "      const quickchartButtonEl =\n",
              "        document.querySelector('#' + key + ' button');\n",
              "      quickchartButtonEl.disabled = true;  // To prevent multiple clicks.\n",
              "      quickchartButtonEl.classList.add('colab-df-spinner');\n",
              "      try {\n",
              "        const charts = await google.colab.kernel.invokeFunction(\n",
              "            'suggestCharts', [key], {});\n",
              "      } catch (error) {\n",
              "        console.error('Error during call to suggestCharts:', error);\n",
              "      }\n",
              "      quickchartButtonEl.classList.remove('colab-df-spinner');\n",
              "      quickchartButtonEl.classList.add('colab-df-quickchart-complete');\n",
              "    }\n",
              "    (() => {\n",
              "      let quickchartButtonEl =\n",
              "        document.querySelector('#df-7877a926-b5f6-45a8-9944-5142b550d10d button');\n",
              "      quickchartButtonEl.style.display =\n",
              "        google.colab.kernel.accessAllowed ? 'block' : 'none';\n",
              "    })();\n",
              "  </script>\n",
              "</div>\n",
              "    </div>\n",
              "  </div>\n"
            ]
          },
          "metadata": {},
          "execution_count": 70
        }
      ]
    },
    {
      "cell_type": "code",
      "source": [
        "boston_df.shape"
      ],
      "metadata": {
        "colab": {
          "base_uri": "https://localhost:8080/"
        },
        "id": "Hm_JuYnsE-ZD",
        "outputId": "cb67113e-ceee-4951-8c75-e495e65d2075"
      },
      "execution_count": null,
      "outputs": [
        {
          "output_type": "execute_result",
          "data": {
            "text/plain": [
              "(506, 13)"
            ]
          },
          "metadata": {},
          "execution_count": 71
        }
      ]
    },
    {
      "cell_type": "markdown",
      "source": [
        "z점수에 의한 이상치 제거"
      ],
      "metadata": {
        "id": "wAFMkmNme9Yu"
      }
    },
    {
      "cell_type": "code",
      "source": [
        "from scipy import stats\n",
        "#z점수 : 표준 정규분포 곡선의 분위로 표현된 데이터\n",
        "#표준편차 몇배수 인가\n",
        "#표준편차  1배수 : 68%\n",
        "#표준편차  2배수 : 95%\n",
        "#표준편차  3배수 : 99.7%\n",
        "z=np.abs(stats.zscore(boston_df)) #z점수 -> 없으면 0으로\n",
        "print(z.shape)\n",
        "threshold=3 #표준편차 3배수\n",
        "print(np.where(z>threshold))"
      ],
      "metadata": {
        "colab": {
          "base_uri": "https://localhost:8080/"
        },
        "id": "M9ue3ZalE-a2",
        "outputId": "c9b742c9-fe96-4821-9c36-8f5ed9d38a87"
      },
      "execution_count": null,
      "outputs": [
        {
          "output_type": "stream",
          "name": "stdout",
          "text": [
            "(506, 13)\n",
            "(array([ 55,  56,  57, 102, 141, 142, 152, 154, 155, 160, 162, 163, 199,\n",
            "       200, 201, 202, 203, 204, 208, 209, 210, 211, 212, 216, 218, 219,\n",
            "       220, 221, 222, 225, 234, 236, 256, 257, 262, 269, 273, 274, 276,\n",
            "       277, 282, 283, 283, 284, 347, 351, 352, 353, 353, 354, 355, 356,\n",
            "       357, 358, 363, 364, 364, 365, 367, 369, 370, 372, 373, 374, 374,\n",
            "       380, 398, 404, 405, 406, 410, 410, 411, 412, 412, 414, 414, 415,\n",
            "       416, 418, 418, 419, 423, 424, 425, 426, 427, 427, 429, 431, 436,\n",
            "       437, 438, 445, 450, 454, 455, 456, 457, 466]), array([ 1,  1,  1, 11, 12,  3,  3,  3,  3,  3,  3,  3,  1,  1,  1,  1,  1,\n",
            "        1,  3,  3,  3,  3,  3,  3,  3,  3,  3,  3,  3,  5,  3,  3,  1,  5,\n",
            "        5,  3,  3,  3,  3,  3,  3,  1,  3,  1,  1,  7,  7,  1,  7,  7,  7,\n",
            "        3,  3,  3,  3,  3,  5,  5,  5,  3,  3,  3, 12,  5, 12,  0,  0,  0,\n",
            "        0,  5,  0, 11, 11, 11, 12,  0, 12, 11, 11,  0, 11, 11, 11, 11, 11,\n",
            "       11,  0, 11, 11, 11, 11, 11, 11, 11, 11, 11, 11, 11, 11, 11]))\n"
          ]
        }
      ]
    },
    {
      "cell_type": "code",
      "source": [
        "boston_df=boston_df[(z<3).all(axis=1)]\n",
        "boston_df.shape"
      ],
      "metadata": {
        "colab": {
          "base_uri": "https://localhost:8080/"
        },
        "id": "yypkKpwUfonV",
        "outputId": "da3bf60a-f886-42a4-c429-61cb327d9e96"
      },
      "execution_count": null,
      "outputs": [
        {
          "output_type": "execute_result",
          "data": {
            "text/plain": [
              "(415, 13)"
            ]
          },
          "metadata": {},
          "execution_count": 73
        }
      ]
    },
    {
      "cell_type": "code",
      "source": [
        "Q1=boston_df.quantile(0.25)\n",
        "Q3=boston_df.quantile(0.75)\n",
        "IQR=Q3-Q1\n",
        "print(IQR)\n",
        "#이상치 출력\n",
        "print(boston_df<(Q1-1.5*IQR))\n",
        "print(boston_df>(Q3+1.5*IQR))"
      ],
      "metadata": {
        "colab": {
          "base_uri": "https://localhost:8080/"
        },
        "id": "cNuJBWSjE-cs",
        "outputId": "b0ddd26b-6145-4aaf-ec91-c91709864c58"
      },
      "execution_count": null,
      "outputs": [
        {
          "output_type": "stream",
          "name": "stdout",
          "text": [
            "RM           2.07111\n",
            "ZN          12.50000\n",
            "INDUS       12.97000\n",
            "CHAS         0.00000\n",
            "NOX          0.16000\n",
            "RM           0.67350\n",
            "AGE         50.15000\n",
            "RAD          3.08410\n",
            "TAX          4.00000\n",
            "PTRATIO    158.00000\n",
            "B            2.80000\n",
            "LSTAT       19.02000\n",
            "medv         9.00500\n",
            "dtype: float64\n",
            "        RM     ZN  INDUS   CHAS    NOX     RM    AGE    RAD    TAX  PTRATIO  \\\n",
            "0    False  False  False  False  False  False  False  False  False    False   \n",
            "1    False  False  False  False  False  False  False  False  False    False   \n",
            "2    False  False  False  False  False  False  False  False  False    False   \n",
            "3    False  False  False  False  False  False  False  False  False    False   \n",
            "4    False  False  False  False  False  False  False  False  False    False   \n",
            "..     ...    ...    ...    ...    ...    ...    ...    ...    ...      ...   \n",
            "501  False  False  False  False  False  False  False  False  False    False   \n",
            "502  False  False  False  False  False  False  False  False  False    False   \n",
            "503  False  False  False  False  False  False  False  False  False    False   \n",
            "504  False  False  False  False  False  False  False  False  False    False   \n",
            "505  False  False  False  False  False  False  False  False  False    False   \n",
            "\n",
            "         B  LSTAT   medv  \n",
            "0    False  False  False  \n",
            "1    False  False  False  \n",
            "2    False  False  False  \n",
            "3    False  False  False  \n",
            "4    False  False  False  \n",
            "..     ...    ...    ...  \n",
            "501  False  False  False  \n",
            "502  False  False  False  \n",
            "503  False  False  False  \n",
            "504  False  False  False  \n",
            "505  False  False  False  \n",
            "\n",
            "[415 rows x 13 columns]\n",
            "        RM     ZN  INDUS   CHAS    NOX     RM    AGE    RAD    TAX  PTRATIO  \\\n",
            "0    False  False  False  False  False  False  False  False  False    False   \n",
            "1    False  False  False  False  False  False  False  False  False    False   \n",
            "2    False  False  False  False  False  False  False  False  False    False   \n",
            "3    False  False  False  False  False  False  False  False  False    False   \n",
            "4    False  False  False  False  False  False  False  False  False    False   \n",
            "..     ...    ...    ...    ...    ...    ...    ...    ...    ...      ...   \n",
            "501  False  False  False  False  False  False  False  False  False    False   \n",
            "502  False  False  False  False  False  False  False  False  False    False   \n",
            "503  False  False  False  False  False  False  False  False  False    False   \n",
            "504  False  False  False  False  False  False  False  False  False    False   \n",
            "505  False  False  False  False  False  False  False  False  False    False   \n",
            "\n",
            "         B  LSTAT   medv  \n",
            "0    False  False  False  \n",
            "1    False  False  False  \n",
            "2    False  False  False  \n",
            "3    False  False  False  \n",
            "4    False  False  False  \n",
            "..     ...    ...    ...  \n",
            "501  False  False  False  \n",
            "502  False  False  False  \n",
            "503  False  False  False  \n",
            "504  False  False  False  \n",
            "505  False  False  False  \n",
            "\n",
            "[415 rows x 13 columns]\n"
          ]
        }
      ]
    },
    {
      "cell_type": "code",
      "source": [
        "#문제\n",
        "#IQR 방식으로 이상치를 제거한 데이터를 추출하시오\n",
        "#robust_scale = (데이터-median)/(3사분위수-1사분위수)\n",
        "\n",
        "boston_df_out=boston_df[~(boston_df<(Q1-1.5*IQR)) | (boston_df>(Q3+1.5*IQR))]\n",
        "boston_df_out.shape"
      ],
      "metadata": {
        "colab": {
          "base_uri": "https://localhost:8080/"
        },
        "id": "InN59yz9E-ej",
        "outputId": "b388bf2c-5f52-4be4-b4a8-314ff424fa9a"
      },
      "execution_count": null,
      "outputs": [
        {
          "output_type": "execute_result",
          "data": {
            "text/plain": [
              "(415, 13)"
            ]
          },
          "metadata": {},
          "execution_count": 77
        }
      ]
    },
    {
      "cell_type": "code",
      "source": [
        "#문제\n",
        "#다음 데이터에서 z점수를 이용한 이상치 제거를 하시오\n",
        "data=[1,2,2,2,3,1,1,15,2,2,2,3,1,1,2]\n",
        "data=np.array(data)\n",
        "zd=(data-np.mean(data))/np.mean(data)<3\n",
        "data[zd]"
      ],
      "metadata": {
        "colab": {
          "base_uri": "https://localhost:8080/"
        },
        "id": "9Ii-DXWfE-gc",
        "outputId": "d5b11218-bd8e-4347-986c-62db6f3bab37"
      },
      "execution_count": null,
      "outputs": [
        {
          "output_type": "execute_result",
          "data": {
            "text/plain": [
              "array([1, 2, 2, 2, 3, 1, 1, 2, 2, 2, 3, 1, 1, 2])"
            ]
          },
          "metadata": {},
          "execution_count": 159
        }
      ]
    },
    {
      "cell_type": "code",
      "source": [
        "data=np.array(data)\n",
        "z=np.abs(stats.zscore(data))\n",
        "print(z.shape)\n",
        "threshold=3\n",
        "data[np.where(z<3)]"
      ],
      "metadata": {
        "colab": {
          "base_uri": "https://localhost:8080/"
        },
        "id": "i5wW72YTE-iM",
        "outputId": "7425fbf2-642e-498f-e464-ab7a77d4e371"
      },
      "execution_count": null,
      "outputs": [
        {
          "output_type": "stream",
          "name": "stdout",
          "text": [
            "(15,)\n"
          ]
        },
        {
          "output_type": "execute_result",
          "data": {
            "text/plain": [
              "array([1, 2, 2, 2, 3, 1, 1, 2, 2, 2, 3, 1, 1, 2])"
            ]
          },
          "metadata": {},
          "execution_count": 160
        }
      ]
    },
    {
      "cell_type": "markdown",
      "source": [
        "for문을 이용한 z점수 정규화"
      ],
      "metadata": {
        "id": "b-BC5SjmoMEQ"
      }
    },
    {
      "cell_type": "code",
      "source": [
        "mean=np.mean(data)\n",
        "std=np.std(data)\n",
        "print('평균 : ',mean)\n",
        "print('표준편차 : ',std)\n",
        "\n",
        "threshold=3 #문지방(경계선)\n",
        "outlier=[]\n",
        "for i in data:\n",
        "  z=(i-mean)/std\n",
        "  if np.abs(z)>threshold:\n",
        "    outlier.append(i)\n",
        "print(\"이상치 데이터 : \",outlier)"
      ],
      "metadata": {
        "colab": {
          "base_uri": "https://localhost:8080/"
        },
        "id": "1cIQPLm7E-j0",
        "outputId": "b1d1db71-10a9-4ef8-e254-da0ea74f7290"
      },
      "execution_count": null,
      "outputs": [
        {
          "output_type": "stream",
          "name": "stdout",
          "text": [
            "평균 :  2.6666666666666665\n",
            "표준편차 :  3.3598941782277745\n",
            "이상치 데이터 :  [15]\n"
          ]
        }
      ]
    },
    {
      "cell_type": "code",
      "source": [
        "nd_data=np.array(data)\n",
        "mean=np.mean(nd_data)\n",
        "std=np.std(nd_data)\n",
        "data_z=((nd_data-mean)/std)\n",
        "index=np.where(np.abs(data_z)>3)\n",
        "nd_data[index]"
      ],
      "metadata": {
        "colab": {
          "base_uri": "https://localhost:8080/"
        },
        "id": "IhYCQKZCE-l0",
        "outputId": "24fbd2cd-80c5-4638-d293-7a96d1dc96ee"
      },
      "execution_count": null,
      "outputs": [
        {
          "output_type": "execute_result",
          "data": {
            "text/plain": [
              "array([15])"
            ]
          },
          "metadata": {},
          "execution_count": 88
        }
      ]
    },
    {
      "cell_type": "code",
      "source": [
        "data2=scale(data) #scale의 리턴값 : ndarray\n",
        "np.array(data)[np.abs(data2)>3]"
      ],
      "metadata": {
        "colab": {
          "base_uri": "https://localhost:8080/"
        },
        "id": "Ad1ljgo5E-nm",
        "outputId": "4017256d-5326-4dd4-ab1d-610aded1c7ed"
      },
      "execution_count": null,
      "outputs": [
        {
          "output_type": "execute_result",
          "data": {
            "text/plain": [
              "array([15])"
            ]
          },
          "metadata": {},
          "execution_count": 89
        }
      ]
    },
    {
      "cell_type": "markdown",
      "source": [
        "원 핫 인코딩 : 범주형 데이터의 정규화(0과 1로 데이터 표현)"
      ],
      "metadata": {
        "id": "ufPDwlMMpZfk"
      }
    },
    {
      "cell_type": "code",
      "source": [
        "#원 핫 인코딩 : 전처리 모델 class\n",
        "import numpy as np\n",
        "\n",
        "from sklearn.preprocessing import OneHotEncoder\n",
        "ohe=OneHotEncoder()\n",
        "X=np.array([[2],[3],[4],[2],[4]])\n",
        "ohe.fit(X)\n",
        "ohe.categories_ #3개 종류"
      ],
      "metadata": {
        "colab": {
          "base_uri": "https://localhost:8080/"
        },
        "id": "Fu7JewwgE-pb",
        "outputId": "5d6f60fc-0f8e-43f5-f317-dfa65e67adbe"
      },
      "execution_count": null,
      "outputs": [
        {
          "output_type": "execute_result",
          "data": {
            "text/plain": [
              "[array([2, 3, 4])]"
            ]
          },
          "metadata": {},
          "execution_count": 2
        }
      ]
    },
    {
      "cell_type": "code",
      "source": [
        "print(ohe.transform([X[0]]).toarray()) #toarray()를 붙여줘야 정상적인 값 추출 가능 #데이터 입력은 2차원으로"
      ],
      "metadata": {
        "colab": {
          "base_uri": "https://localhost:8080/"
        },
        "id": "6KO-oqvcE-xe",
        "outputId": "7d36f1af-1a7c-41cc-da59-15b57f3ab34e"
      },
      "execution_count": null,
      "outputs": [
        {
          "output_type": "stream",
          "name": "stdout",
          "text": [
            "[[1. 0. 0.]]\n"
          ]
        }
      ]
    },
    {
      "cell_type": "code",
      "source": [
        "ohe.inverse_transform([[1.,0.,0.]])"
      ],
      "metadata": {
        "colab": {
          "base_uri": "https://localhost:8080/"
        },
        "id": "Ymuk5XpFE-x7",
        "outputId": "a9bab29f-99fa-48f9-c1b7-3a25e616cda0"
      },
      "execution_count": null,
      "outputs": [
        {
          "output_type": "execute_result",
          "data": {
            "text/plain": [
              "array([[2]])"
            ]
          },
          "metadata": {},
          "execution_count": 94
        }
      ]
    },
    {
      "cell_type": "code",
      "source": [
        "#요소별 종류 파악 / True Fasle로 만들어 사이즈가 1인 데이터로 (정규화 진)\n",
        "ohe=OneHotEncoder()\n",
        "X=np.array([[0,0,4],[1,1,0],[0,2,1],[1,0,2],[1,1,3]])\n",
        "ohe.fit(X)\n",
        "ohe.categories_"
      ],
      "metadata": {
        "colab": {
          "base_uri": "https://localhost:8080/"
        },
        "id": "9vVw9tjyE-ya",
        "outputId": "6f4a7fd8-e926-4b79-b0eb-da77d906f19d"
      },
      "execution_count": null,
      "outputs": [
        {
          "output_type": "execute_result",
          "data": {
            "text/plain": [
              "[array([0, 1]), array([0, 1, 2]), array([0, 1, 2, 3, 4])]"
            ]
          },
          "metadata": {},
          "execution_count": 96
        }
      ]
    },
    {
      "cell_type": "code",
      "source": [
        "ohe.transform(X).toarray()\n",
        "    #0 1 0 1 2 0 1 2 3 4 : 자리\n",
        "    #1 0 1 0 0 0 0 0 0 1\n",
        "    #0 1 0 1 0 1 0 0 0 0\n",
        "    #1 0 0 1 0 0 1 0 0 0\n",
        "    #0 1 0 0 0 0 0 1 0 0\n",
        "    #0 1 0 1 0 0 0 0 1 0"
      ],
      "metadata": {
        "colab": {
          "base_uri": "https://localhost:8080/"
        },
        "id": "XkrZQdZ9E-y3",
        "outputId": "aa6f2b86-c077-42a6-fdae-7c609adb1321"
      },
      "execution_count": null,
      "outputs": [
        {
          "output_type": "execute_result",
          "data": {
            "text/plain": [
              "array([[1., 0., 1., 0., 0., 0., 0., 0., 0., 1.],\n",
              "       [0., 1., 0., 1., 0., 1., 0., 0., 0., 0.],\n",
              "       [1., 0., 0., 0., 1., 0., 1., 0., 0., 0.],\n",
              "       [0., 1., 1., 0., 0., 0., 0., 1., 0., 0.],\n",
              "       [0., 1., 0., 1., 0., 0., 0., 0., 1., 0.]])"
            ]
          },
          "metadata": {},
          "execution_count": 98
        }
      ]
    },
    {
      "cell_type": "code",
      "source": [
        "ohe.inverse_transform([[1., 0., 1., 0., 0., 0., 0., 0., 0., 1.],\n",
        "       [0., 1., 0., 1., 0., 1., 0., 0., 0., 0.],\n",
        "       [1., 0., 0., 0., 1., 0., 1., 0., 0., 0.],\n",
        "       [0., 1., 1., 0., 0., 0., 0., 1., 0., 0.],\n",
        "       [0., 1., 0., 1., 0., 0., 0., 0., 1., 0.]])\n"
      ],
      "metadata": {
        "colab": {
          "base_uri": "https://localhost:8080/"
        },
        "id": "wnkzYH3XE-zX",
        "outputId": "28ae81f1-abe7-4fbb-a5fc-d62d766c3033"
      },
      "execution_count": null,
      "outputs": [
        {
          "output_type": "execute_result",
          "data": {
            "text/plain": [
              "array([[0, 0, 4],\n",
              "       [1, 1, 0],\n",
              "       [0, 2, 1],\n",
              "       [1, 0, 2],\n",
              "       [1, 1, 3]])"
            ]
          },
          "metadata": {},
          "execution_count": 99
        }
      ]
    },
    {
      "cell_type": "code",
      "source": [
        "#문제\n",
        "#원핫인코딩 하시오\n",
        "X=[[\"Male\",1],[\"Female\",2],[\"Female\",3]]\n",
        "ohe=OneHotEncoder(handle_unknown='ignore')\n",
        "ohe.fit(X)\n",
        "print(ohe.categories_)\n",
        "ohe.transform(X).toarray()"
      ],
      "metadata": {
        "colab": {
          "base_uri": "https://localhost:8080/"
        },
        "id": "SPCcKG4gE-z8",
        "outputId": "d2a3f306-804e-4e6d-f8fe-9acb3ba5b02d"
      },
      "execution_count": null,
      "outputs": [
        {
          "output_type": "stream",
          "name": "stdout",
          "text": [
            "[array(['Female', 'Male'], dtype=object), array([1, 2, 3], dtype=object)]\n"
          ]
        },
        {
          "output_type": "execute_result",
          "data": {
            "text/plain": [
              "array([[0., 1., 1., 0., 0.],\n",
              "       [1., 0., 0., 1., 0.],\n",
              "       [1., 0., 0., 0., 1.]])"
            ]
          },
          "metadata": {},
          "execution_count": 102
        }
      ]
    },
    {
      "cell_type": "markdown",
      "source": [
        "Label 범주화"
      ],
      "metadata": {
        "id": "vBKNPOGXtvZy"
      }
    },
    {
      "cell_type": "code",
      "source": [
        "from sklearn.preprocessing import LabelEncoder\n",
        "le=LabelEncoder()\n",
        "le.fit([1,2,2,6])\n",
        "le.fit([1,2,2,6,4])\n",
        "le.classes_ #정렬되고 중복을 제거\n",
        "# 0 1 2 3\n",
        "# 1 2 4 6"
      ],
      "metadata": {
        "colab": {
          "base_uri": "https://localhost:8080/"
        },
        "id": "-cKH3pWwE-0Z",
        "outputId": "bfd3198a-3b6f-4e3e-8ad0-9997b1520078"
      },
      "execution_count": null,
      "outputs": [
        {
          "output_type": "execute_result",
          "data": {
            "text/plain": [
              "array([1, 2, 4, 6])"
            ]
          },
          "metadata": {},
          "execution_count": 103
        }
      ]
    },
    {
      "cell_type": "code",
      "source": [
        "le.transform([1,1,2,6])"
      ],
      "metadata": {
        "colab": {
          "base_uri": "https://localhost:8080/"
        },
        "id": "mnxTXqFrE-06",
        "outputId": "01defb04-1d0a-4a62-94ad-29abe2481a62"
      },
      "execution_count": null,
      "outputs": [
        {
          "output_type": "execute_result",
          "data": {
            "text/plain": [
              "array([0, 0, 1, 3])"
            ]
          },
          "metadata": {},
          "execution_count": 107
        }
      ]
    },
    {
      "cell_type": "code",
      "source": [
        "le.inverse_transform([0,0,1,3])"
      ],
      "metadata": {
        "colab": {
          "base_uri": "https://localhost:8080/"
        },
        "id": "uDcceECGE-1o",
        "outputId": "5a0a55f7-66a7-410d-cbf4-ca53bd283175"
      },
      "execution_count": null,
      "outputs": [
        {
          "output_type": "execute_result",
          "data": {
            "text/plain": [
              "array([1, 1, 2, 6])"
            ]
          },
          "metadata": {},
          "execution_count": 108
        }
      ]
    },
    {
      "cell_type": "markdown",
      "source": [
        "DictVectorizer"
      ],
      "metadata": {
        "id": "4fqzZqN2uuVs"
      }
    },
    {
      "cell_type": "code",
      "source": [
        "from sklearn.feature_extraction import DictVectorizer\n",
        "v=DictVectorizer(sparse=False) #sparse : 희소행렬\n",
        "#단어 : foo, bar, baz.................................................sparce 메모리 낭비\n",
        "#        2    1    2\n",
        "#학습 데이터는 vector\n",
        "D=[{'foo':1,'bar':2},{'foo':3,'baz':1}] #text mining\n",
        "X=v.fit_transform(D)\n",
        "X"
      ],
      "metadata": {
        "colab": {
          "base_uri": "https://localhost:8080/"
        },
        "id": "7xTeOokxE-2K",
        "outputId": "ac35f3df-8070-4c34-93fd-1afc97eee0d0"
      },
      "execution_count": null,
      "outputs": [
        {
          "output_type": "execute_result",
          "data": {
            "text/plain": [
              "array([[2., 0., 1.],\n",
              "       [0., 1., 3.]])"
            ]
          },
          "metadata": {},
          "execution_count": 109
        }
      ]
    },
    {
      "cell_type": "code",
      "source": [
        "v.feature_names_ #열 이름\n",
        "# bar  baz  foo\n",
        "# 2     0    1\n",
        "# 0     1    3\n",
        "#학습하려면 대수적으로 표현되어야함(+-*/)"
      ],
      "metadata": {
        "colab": {
          "base_uri": "https://localhost:8080/"
        },
        "id": "7f1St3M-E-2s",
        "outputId": "14938193-d7e3-4c8b-9c02-963820b8a449"
      },
      "execution_count": null,
      "outputs": [
        {
          "output_type": "execute_result",
          "data": {
            "text/plain": [
              "['bar', 'baz', 'foo']"
            ]
          },
          "metadata": {},
          "execution_count": 110
        }
      ]
    },
    {
      "cell_type": "code",
      "source": [
        "v.inverse_transform(X)"
      ],
      "metadata": {
        "colab": {
          "base_uri": "https://localhost:8080/"
        },
        "id": "WNYNlnrOE-3M",
        "outputId": "76768be1-91f9-4dac-d6c3-6a76b639e763"
      },
      "execution_count": null,
      "outputs": [
        {
          "output_type": "execute_result",
          "data": {
            "text/plain": [
              "[{'bar': 2.0, 'foo': 1.0}, {'baz': 1.0, 'foo': 3.0}]"
            ]
          },
          "metadata": {},
          "execution_count": 111
        }
      ]
    },
    {
      "cell_type": "code",
      "source": [
        "from pandas import DataFrame, Series\n",
        "from itertools import cycle\n",
        "area = '서울 부산 대구 인천 광주 대전 울산 세종 경기 강원 충북 충남 전북 전남 경북 경남 제주'.split()\n",
        "college = '인문대학 사회과학대학 자연과학대학 간호대학 경영대학 공과대학 미술대학'.split()\n",
        "gender = '남성 여성'.split()\n",
        "fake_data = zip(range(100), cycle(area), cycle(college), cycle(gender)) #cycle : 반복\n",
        "hundred_students = DataFrame([data for num, *data in fake_data],\n",
        "                              columns='지역 단과대 성별'.split())\n",
        "hundred_students.head(10)"
      ],
      "metadata": {
        "colab": {
          "base_uri": "https://localhost:8080/",
          "height": 363
        },
        "id": "Ip32Nm-rwJU5",
        "outputId": "f4db2c78-2a6b-419d-f1c1-08ae2a7eb66c"
      },
      "execution_count": null,
      "outputs": [
        {
          "output_type": "execute_result",
          "data": {
            "text/plain": [
              "   지역     단과대  성별\n",
              "0  서울    인문대학  남성\n",
              "1  부산  사회과학대학  여성\n",
              "2  대구  자연과학대학  남성\n",
              "3  인천    간호대학  여성\n",
              "4  광주    경영대학  남성\n",
              "5  대전    공과대학  여성\n",
              "6  울산    미술대학  남성\n",
              "7  세종    인문대학  여성\n",
              "8  경기  사회과학대학  남성\n",
              "9  강원  자연과학대학  여성"
            ],
            "text/html": [
              "\n",
              "  <div id=\"df-aee48e7a-ad6b-412d-a382-bfac28e47a69\" class=\"colab-df-container\">\n",
              "    <div>\n",
              "<style scoped>\n",
              "    .dataframe tbody tr th:only-of-type {\n",
              "        vertical-align: middle;\n",
              "    }\n",
              "\n",
              "    .dataframe tbody tr th {\n",
              "        vertical-align: top;\n",
              "    }\n",
              "\n",
              "    .dataframe thead th {\n",
              "        text-align: right;\n",
              "    }\n",
              "</style>\n",
              "<table border=\"1\" class=\"dataframe\">\n",
              "  <thead>\n",
              "    <tr style=\"text-align: right;\">\n",
              "      <th></th>\n",
              "      <th>지역</th>\n",
              "      <th>단과대</th>\n",
              "      <th>성별</th>\n",
              "    </tr>\n",
              "  </thead>\n",
              "  <tbody>\n",
              "    <tr>\n",
              "      <th>0</th>\n",
              "      <td>서울</td>\n",
              "      <td>인문대학</td>\n",
              "      <td>남성</td>\n",
              "    </tr>\n",
              "    <tr>\n",
              "      <th>1</th>\n",
              "      <td>부산</td>\n",
              "      <td>사회과학대학</td>\n",
              "      <td>여성</td>\n",
              "    </tr>\n",
              "    <tr>\n",
              "      <th>2</th>\n",
              "      <td>대구</td>\n",
              "      <td>자연과학대학</td>\n",
              "      <td>남성</td>\n",
              "    </tr>\n",
              "    <tr>\n",
              "      <th>3</th>\n",
              "      <td>인천</td>\n",
              "      <td>간호대학</td>\n",
              "      <td>여성</td>\n",
              "    </tr>\n",
              "    <tr>\n",
              "      <th>4</th>\n",
              "      <td>광주</td>\n",
              "      <td>경영대학</td>\n",
              "      <td>남성</td>\n",
              "    </tr>\n",
              "    <tr>\n",
              "      <th>5</th>\n",
              "      <td>대전</td>\n",
              "      <td>공과대학</td>\n",
              "      <td>여성</td>\n",
              "    </tr>\n",
              "    <tr>\n",
              "      <th>6</th>\n",
              "      <td>울산</td>\n",
              "      <td>미술대학</td>\n",
              "      <td>남성</td>\n",
              "    </tr>\n",
              "    <tr>\n",
              "      <th>7</th>\n",
              "      <td>세종</td>\n",
              "      <td>인문대학</td>\n",
              "      <td>여성</td>\n",
              "    </tr>\n",
              "    <tr>\n",
              "      <th>8</th>\n",
              "      <td>경기</td>\n",
              "      <td>사회과학대학</td>\n",
              "      <td>남성</td>\n",
              "    </tr>\n",
              "    <tr>\n",
              "      <th>9</th>\n",
              "      <td>강원</td>\n",
              "      <td>자연과학대학</td>\n",
              "      <td>여성</td>\n",
              "    </tr>\n",
              "  </tbody>\n",
              "</table>\n",
              "</div>\n",
              "    <div class=\"colab-df-buttons\">\n",
              "\n",
              "  <div class=\"colab-df-container\">\n",
              "    <button class=\"colab-df-convert\" onclick=\"convertToInteractive('df-aee48e7a-ad6b-412d-a382-bfac28e47a69')\"\n",
              "            title=\"Convert this dataframe to an interactive table.\"\n",
              "            style=\"display:none;\">\n",
              "\n",
              "  <svg xmlns=\"http://www.w3.org/2000/svg\" height=\"24px\" viewBox=\"0 -960 960 960\">\n",
              "    <path d=\"M120-120v-720h720v720H120Zm60-500h600v-160H180v160Zm220 220h160v-160H400v160Zm0 220h160v-160H400v160ZM180-400h160v-160H180v160Zm440 0h160v-160H620v160ZM180-180h160v-160H180v160Zm440 0h160v-160H620v160Z\"/>\n",
              "  </svg>\n",
              "    </button>\n",
              "\n",
              "  <style>\n",
              "    .colab-df-container {\n",
              "      display:flex;\n",
              "      gap: 12px;\n",
              "    }\n",
              "\n",
              "    .colab-df-convert {\n",
              "      background-color: #E8F0FE;\n",
              "      border: none;\n",
              "      border-radius: 50%;\n",
              "      cursor: pointer;\n",
              "      display: none;\n",
              "      fill: #1967D2;\n",
              "      height: 32px;\n",
              "      padding: 0 0 0 0;\n",
              "      width: 32px;\n",
              "    }\n",
              "\n",
              "    .colab-df-convert:hover {\n",
              "      background-color: #E2EBFA;\n",
              "      box-shadow: 0px 1px 2px rgba(60, 64, 67, 0.3), 0px 1px 3px 1px rgba(60, 64, 67, 0.15);\n",
              "      fill: #174EA6;\n",
              "    }\n",
              "\n",
              "    .colab-df-buttons div {\n",
              "      margin-bottom: 4px;\n",
              "    }\n",
              "\n",
              "    [theme=dark] .colab-df-convert {\n",
              "      background-color: #3B4455;\n",
              "      fill: #D2E3FC;\n",
              "    }\n",
              "\n",
              "    [theme=dark] .colab-df-convert:hover {\n",
              "      background-color: #434B5C;\n",
              "      box-shadow: 0px 1px 3px 1px rgba(0, 0, 0, 0.15);\n",
              "      filter: drop-shadow(0px 1px 2px rgba(0, 0, 0, 0.3));\n",
              "      fill: #FFFFFF;\n",
              "    }\n",
              "  </style>\n",
              "\n",
              "    <script>\n",
              "      const buttonEl =\n",
              "        document.querySelector('#df-aee48e7a-ad6b-412d-a382-bfac28e47a69 button.colab-df-convert');\n",
              "      buttonEl.style.display =\n",
              "        google.colab.kernel.accessAllowed ? 'block' : 'none';\n",
              "\n",
              "      async function convertToInteractive(key) {\n",
              "        const element = document.querySelector('#df-aee48e7a-ad6b-412d-a382-bfac28e47a69');\n",
              "        const dataTable =\n",
              "          await google.colab.kernel.invokeFunction('convertToInteractive',\n",
              "                                                    [key], {});\n",
              "        if (!dataTable) return;\n",
              "\n",
              "        const docLinkHtml = 'Like what you see? Visit the ' +\n",
              "          '<a target=\"_blank\" href=https://colab.research.google.com/notebooks/data_table.ipynb>data table notebook</a>'\n",
              "          + ' to learn more about interactive tables.';\n",
              "        element.innerHTML = '';\n",
              "        dataTable['output_type'] = 'display_data';\n",
              "        await google.colab.output.renderOutput(dataTable, element);\n",
              "        const docLink = document.createElement('div');\n",
              "        docLink.innerHTML = docLinkHtml;\n",
              "        element.appendChild(docLink);\n",
              "      }\n",
              "    </script>\n",
              "  </div>\n",
              "\n",
              "\n",
              "<div id=\"df-d3531d53-aa0d-4d95-8e21-e8810cacea62\">\n",
              "  <button class=\"colab-df-quickchart\" onclick=\"quickchart('df-d3531d53-aa0d-4d95-8e21-e8810cacea62')\"\n",
              "            title=\"Suggest charts\"\n",
              "            style=\"display:none;\">\n",
              "\n",
              "<svg xmlns=\"http://www.w3.org/2000/svg\" height=\"24px\"viewBox=\"0 0 24 24\"\n",
              "     width=\"24px\">\n",
              "    <g>\n",
              "        <path d=\"M19 3H5c-1.1 0-2 .9-2 2v14c0 1.1.9 2 2 2h14c1.1 0 2-.9 2-2V5c0-1.1-.9-2-2-2zM9 17H7v-7h2v7zm4 0h-2V7h2v10zm4 0h-2v-4h2v4z\"/>\n",
              "    </g>\n",
              "</svg>\n",
              "  </button>\n",
              "\n",
              "<style>\n",
              "  .colab-df-quickchart {\n",
              "      --bg-color: #E8F0FE;\n",
              "      --fill-color: #1967D2;\n",
              "      --hover-bg-color: #E2EBFA;\n",
              "      --hover-fill-color: #174EA6;\n",
              "      --disabled-fill-color: #AAA;\n",
              "      --disabled-bg-color: #DDD;\n",
              "  }\n",
              "\n",
              "  [theme=dark] .colab-df-quickchart {\n",
              "      --bg-color: #3B4455;\n",
              "      --fill-color: #D2E3FC;\n",
              "      --hover-bg-color: #434B5C;\n",
              "      --hover-fill-color: #FFFFFF;\n",
              "      --disabled-bg-color: #3B4455;\n",
              "      --disabled-fill-color: #666;\n",
              "  }\n",
              "\n",
              "  .colab-df-quickchart {\n",
              "    background-color: var(--bg-color);\n",
              "    border: none;\n",
              "    border-radius: 50%;\n",
              "    cursor: pointer;\n",
              "    display: none;\n",
              "    fill: var(--fill-color);\n",
              "    height: 32px;\n",
              "    padding: 0;\n",
              "    width: 32px;\n",
              "  }\n",
              "\n",
              "  .colab-df-quickchart:hover {\n",
              "    background-color: var(--hover-bg-color);\n",
              "    box-shadow: 0 1px 2px rgba(60, 64, 67, 0.3), 0 1px 3px 1px rgba(60, 64, 67, 0.15);\n",
              "    fill: var(--button-hover-fill-color);\n",
              "  }\n",
              "\n",
              "  .colab-df-quickchart-complete:disabled,\n",
              "  .colab-df-quickchart-complete:disabled:hover {\n",
              "    background-color: var(--disabled-bg-color);\n",
              "    fill: var(--disabled-fill-color);\n",
              "    box-shadow: none;\n",
              "  }\n",
              "\n",
              "  .colab-df-spinner {\n",
              "    border: 2px solid var(--fill-color);\n",
              "    border-color: transparent;\n",
              "    border-bottom-color: var(--fill-color);\n",
              "    animation:\n",
              "      spin 1s steps(1) infinite;\n",
              "  }\n",
              "\n",
              "  @keyframes spin {\n",
              "    0% {\n",
              "      border-color: transparent;\n",
              "      border-bottom-color: var(--fill-color);\n",
              "      border-left-color: var(--fill-color);\n",
              "    }\n",
              "    20% {\n",
              "      border-color: transparent;\n",
              "      border-left-color: var(--fill-color);\n",
              "      border-top-color: var(--fill-color);\n",
              "    }\n",
              "    30% {\n",
              "      border-color: transparent;\n",
              "      border-left-color: var(--fill-color);\n",
              "      border-top-color: var(--fill-color);\n",
              "      border-right-color: var(--fill-color);\n",
              "    }\n",
              "    40% {\n",
              "      border-color: transparent;\n",
              "      border-right-color: var(--fill-color);\n",
              "      border-top-color: var(--fill-color);\n",
              "    }\n",
              "    60% {\n",
              "      border-color: transparent;\n",
              "      border-right-color: var(--fill-color);\n",
              "    }\n",
              "    80% {\n",
              "      border-color: transparent;\n",
              "      border-right-color: var(--fill-color);\n",
              "      border-bottom-color: var(--fill-color);\n",
              "    }\n",
              "    90% {\n",
              "      border-color: transparent;\n",
              "      border-bottom-color: var(--fill-color);\n",
              "    }\n",
              "  }\n",
              "</style>\n",
              "\n",
              "  <script>\n",
              "    async function quickchart(key) {\n",
              "      const quickchartButtonEl =\n",
              "        document.querySelector('#' + key + ' button');\n",
              "      quickchartButtonEl.disabled = true;  // To prevent multiple clicks.\n",
              "      quickchartButtonEl.classList.add('colab-df-spinner');\n",
              "      try {\n",
              "        const charts = await google.colab.kernel.invokeFunction(\n",
              "            'suggestCharts', [key], {});\n",
              "      } catch (error) {\n",
              "        console.error('Error during call to suggestCharts:', error);\n",
              "      }\n",
              "      quickchartButtonEl.classList.remove('colab-df-spinner');\n",
              "      quickchartButtonEl.classList.add('colab-df-quickchart-complete');\n",
              "    }\n",
              "    (() => {\n",
              "      let quickchartButtonEl =\n",
              "        document.querySelector('#df-d3531d53-aa0d-4d95-8e21-e8810cacea62 button');\n",
              "      quickchartButtonEl.style.display =\n",
              "        google.colab.kernel.accessAllowed ? 'block' : 'none';\n",
              "    })();\n",
              "  </script>\n",
              "</div>\n",
              "    </div>\n",
              "  </div>\n"
            ]
          },
          "metadata": {},
          "execution_count": 112
        }
      ]
    },
    {
      "cell_type": "code",
      "source": [
        "college_one_hot_encoded=pd.get_dummies(hundred_students.단과대)\n",
        "college_one_hot_encoded"
      ],
      "metadata": {
        "colab": {
          "base_uri": "https://localhost:8080/",
          "height": 424
        },
        "id": "rxTaa_Mlwq06",
        "outputId": "f07d8a6d-aba3-4dad-a8fe-d24d20033f62"
      },
      "execution_count": null,
      "outputs": [
        {
          "output_type": "execute_result",
          "data": {
            "text/plain": [
              "    간호대학  경영대학  공과대학  미술대학  사회과학대학  인문대학  자연과학대학\n",
              "0      0     0     0     0       0     1       0\n",
              "1      0     0     0     0       1     0       0\n",
              "2      0     0     0     0       0     0       1\n",
              "3      1     0     0     0       0     0       0\n",
              "4      0     1     0     0       0     0       0\n",
              "..   ...   ...   ...   ...     ...   ...     ...\n",
              "95     0     1     0     0       0     0       0\n",
              "96     0     0     1     0       0     0       0\n",
              "97     0     0     0     1       0     0       0\n",
              "98     0     0     0     0       0     1       0\n",
              "99     0     0     0     0       1     0       0\n",
              "\n",
              "[100 rows x 7 columns]"
            ],
            "text/html": [
              "\n",
              "  <div id=\"df-d90a47a3-03eb-47bc-ac20-60dc547ed1ff\" class=\"colab-df-container\">\n",
              "    <div>\n",
              "<style scoped>\n",
              "    .dataframe tbody tr th:only-of-type {\n",
              "        vertical-align: middle;\n",
              "    }\n",
              "\n",
              "    .dataframe tbody tr th {\n",
              "        vertical-align: top;\n",
              "    }\n",
              "\n",
              "    .dataframe thead th {\n",
              "        text-align: right;\n",
              "    }\n",
              "</style>\n",
              "<table border=\"1\" class=\"dataframe\">\n",
              "  <thead>\n",
              "    <tr style=\"text-align: right;\">\n",
              "      <th></th>\n",
              "      <th>간호대학</th>\n",
              "      <th>경영대학</th>\n",
              "      <th>공과대학</th>\n",
              "      <th>미술대학</th>\n",
              "      <th>사회과학대학</th>\n",
              "      <th>인문대학</th>\n",
              "      <th>자연과학대학</th>\n",
              "    </tr>\n",
              "  </thead>\n",
              "  <tbody>\n",
              "    <tr>\n",
              "      <th>0</th>\n",
              "      <td>0</td>\n",
              "      <td>0</td>\n",
              "      <td>0</td>\n",
              "      <td>0</td>\n",
              "      <td>0</td>\n",
              "      <td>1</td>\n",
              "      <td>0</td>\n",
              "    </tr>\n",
              "    <tr>\n",
              "      <th>1</th>\n",
              "      <td>0</td>\n",
              "      <td>0</td>\n",
              "      <td>0</td>\n",
              "      <td>0</td>\n",
              "      <td>1</td>\n",
              "      <td>0</td>\n",
              "      <td>0</td>\n",
              "    </tr>\n",
              "    <tr>\n",
              "      <th>2</th>\n",
              "      <td>0</td>\n",
              "      <td>0</td>\n",
              "      <td>0</td>\n",
              "      <td>0</td>\n",
              "      <td>0</td>\n",
              "      <td>0</td>\n",
              "      <td>1</td>\n",
              "    </tr>\n",
              "    <tr>\n",
              "      <th>3</th>\n",
              "      <td>1</td>\n",
              "      <td>0</td>\n",
              "      <td>0</td>\n",
              "      <td>0</td>\n",
              "      <td>0</td>\n",
              "      <td>0</td>\n",
              "      <td>0</td>\n",
              "    </tr>\n",
              "    <tr>\n",
              "      <th>4</th>\n",
              "      <td>0</td>\n",
              "      <td>1</td>\n",
              "      <td>0</td>\n",
              "      <td>0</td>\n",
              "      <td>0</td>\n",
              "      <td>0</td>\n",
              "      <td>0</td>\n",
              "    </tr>\n",
              "    <tr>\n",
              "      <th>...</th>\n",
              "      <td>...</td>\n",
              "      <td>...</td>\n",
              "      <td>...</td>\n",
              "      <td>...</td>\n",
              "      <td>...</td>\n",
              "      <td>...</td>\n",
              "      <td>...</td>\n",
              "    </tr>\n",
              "    <tr>\n",
              "      <th>95</th>\n",
              "      <td>0</td>\n",
              "      <td>1</td>\n",
              "      <td>0</td>\n",
              "      <td>0</td>\n",
              "      <td>0</td>\n",
              "      <td>0</td>\n",
              "      <td>0</td>\n",
              "    </tr>\n",
              "    <tr>\n",
              "      <th>96</th>\n",
              "      <td>0</td>\n",
              "      <td>0</td>\n",
              "      <td>1</td>\n",
              "      <td>0</td>\n",
              "      <td>0</td>\n",
              "      <td>0</td>\n",
              "      <td>0</td>\n",
              "    </tr>\n",
              "    <tr>\n",
              "      <th>97</th>\n",
              "      <td>0</td>\n",
              "      <td>0</td>\n",
              "      <td>0</td>\n",
              "      <td>1</td>\n",
              "      <td>0</td>\n",
              "      <td>0</td>\n",
              "      <td>0</td>\n",
              "    </tr>\n",
              "    <tr>\n",
              "      <th>98</th>\n",
              "      <td>0</td>\n",
              "      <td>0</td>\n",
              "      <td>0</td>\n",
              "      <td>0</td>\n",
              "      <td>0</td>\n",
              "      <td>1</td>\n",
              "      <td>0</td>\n",
              "    </tr>\n",
              "    <tr>\n",
              "      <th>99</th>\n",
              "      <td>0</td>\n",
              "      <td>0</td>\n",
              "      <td>0</td>\n",
              "      <td>0</td>\n",
              "      <td>1</td>\n",
              "      <td>0</td>\n",
              "      <td>0</td>\n",
              "    </tr>\n",
              "  </tbody>\n",
              "</table>\n",
              "<p>100 rows × 7 columns</p>\n",
              "</div>\n",
              "    <div class=\"colab-df-buttons\">\n",
              "\n",
              "  <div class=\"colab-df-container\">\n",
              "    <button class=\"colab-df-convert\" onclick=\"convertToInteractive('df-d90a47a3-03eb-47bc-ac20-60dc547ed1ff')\"\n",
              "            title=\"Convert this dataframe to an interactive table.\"\n",
              "            style=\"display:none;\">\n",
              "\n",
              "  <svg xmlns=\"http://www.w3.org/2000/svg\" height=\"24px\" viewBox=\"0 -960 960 960\">\n",
              "    <path d=\"M120-120v-720h720v720H120Zm60-500h600v-160H180v160Zm220 220h160v-160H400v160Zm0 220h160v-160H400v160ZM180-400h160v-160H180v160Zm440 0h160v-160H620v160ZM180-180h160v-160H180v160Zm440 0h160v-160H620v160Z\"/>\n",
              "  </svg>\n",
              "    </button>\n",
              "\n",
              "  <style>\n",
              "    .colab-df-container {\n",
              "      display:flex;\n",
              "      gap: 12px;\n",
              "    }\n",
              "\n",
              "    .colab-df-convert {\n",
              "      background-color: #E8F0FE;\n",
              "      border: none;\n",
              "      border-radius: 50%;\n",
              "      cursor: pointer;\n",
              "      display: none;\n",
              "      fill: #1967D2;\n",
              "      height: 32px;\n",
              "      padding: 0 0 0 0;\n",
              "      width: 32px;\n",
              "    }\n",
              "\n",
              "    .colab-df-convert:hover {\n",
              "      background-color: #E2EBFA;\n",
              "      box-shadow: 0px 1px 2px rgba(60, 64, 67, 0.3), 0px 1px 3px 1px rgba(60, 64, 67, 0.15);\n",
              "      fill: #174EA6;\n",
              "    }\n",
              "\n",
              "    .colab-df-buttons div {\n",
              "      margin-bottom: 4px;\n",
              "    }\n",
              "\n",
              "    [theme=dark] .colab-df-convert {\n",
              "      background-color: #3B4455;\n",
              "      fill: #D2E3FC;\n",
              "    }\n",
              "\n",
              "    [theme=dark] .colab-df-convert:hover {\n",
              "      background-color: #434B5C;\n",
              "      box-shadow: 0px 1px 3px 1px rgba(0, 0, 0, 0.15);\n",
              "      filter: drop-shadow(0px 1px 2px rgba(0, 0, 0, 0.3));\n",
              "      fill: #FFFFFF;\n",
              "    }\n",
              "  </style>\n",
              "\n",
              "    <script>\n",
              "      const buttonEl =\n",
              "        document.querySelector('#df-d90a47a3-03eb-47bc-ac20-60dc547ed1ff button.colab-df-convert');\n",
              "      buttonEl.style.display =\n",
              "        google.colab.kernel.accessAllowed ? 'block' : 'none';\n",
              "\n",
              "      async function convertToInteractive(key) {\n",
              "        const element = document.querySelector('#df-d90a47a3-03eb-47bc-ac20-60dc547ed1ff');\n",
              "        const dataTable =\n",
              "          await google.colab.kernel.invokeFunction('convertToInteractive',\n",
              "                                                    [key], {});\n",
              "        if (!dataTable) return;\n",
              "\n",
              "        const docLinkHtml = 'Like what you see? Visit the ' +\n",
              "          '<a target=\"_blank\" href=https://colab.research.google.com/notebooks/data_table.ipynb>data table notebook</a>'\n",
              "          + ' to learn more about interactive tables.';\n",
              "        element.innerHTML = '';\n",
              "        dataTable['output_type'] = 'display_data';\n",
              "        await google.colab.output.renderOutput(dataTable, element);\n",
              "        const docLink = document.createElement('div');\n",
              "        docLink.innerHTML = docLinkHtml;\n",
              "        element.appendChild(docLink);\n",
              "      }\n",
              "    </script>\n",
              "  </div>\n",
              "\n",
              "\n",
              "<div id=\"df-fb90a47d-6354-4d5b-bfe6-ea7c59502884\">\n",
              "  <button class=\"colab-df-quickchart\" onclick=\"quickchart('df-fb90a47d-6354-4d5b-bfe6-ea7c59502884')\"\n",
              "            title=\"Suggest charts\"\n",
              "            style=\"display:none;\">\n",
              "\n",
              "<svg xmlns=\"http://www.w3.org/2000/svg\" height=\"24px\"viewBox=\"0 0 24 24\"\n",
              "     width=\"24px\">\n",
              "    <g>\n",
              "        <path d=\"M19 3H5c-1.1 0-2 .9-2 2v14c0 1.1.9 2 2 2h14c1.1 0 2-.9 2-2V5c0-1.1-.9-2-2-2zM9 17H7v-7h2v7zm4 0h-2V7h2v10zm4 0h-2v-4h2v4z\"/>\n",
              "    </g>\n",
              "</svg>\n",
              "  </button>\n",
              "\n",
              "<style>\n",
              "  .colab-df-quickchart {\n",
              "      --bg-color: #E8F0FE;\n",
              "      --fill-color: #1967D2;\n",
              "      --hover-bg-color: #E2EBFA;\n",
              "      --hover-fill-color: #174EA6;\n",
              "      --disabled-fill-color: #AAA;\n",
              "      --disabled-bg-color: #DDD;\n",
              "  }\n",
              "\n",
              "  [theme=dark] .colab-df-quickchart {\n",
              "      --bg-color: #3B4455;\n",
              "      --fill-color: #D2E3FC;\n",
              "      --hover-bg-color: #434B5C;\n",
              "      --hover-fill-color: #FFFFFF;\n",
              "      --disabled-bg-color: #3B4455;\n",
              "      --disabled-fill-color: #666;\n",
              "  }\n",
              "\n",
              "  .colab-df-quickchart {\n",
              "    background-color: var(--bg-color);\n",
              "    border: none;\n",
              "    border-radius: 50%;\n",
              "    cursor: pointer;\n",
              "    display: none;\n",
              "    fill: var(--fill-color);\n",
              "    height: 32px;\n",
              "    padding: 0;\n",
              "    width: 32px;\n",
              "  }\n",
              "\n",
              "  .colab-df-quickchart:hover {\n",
              "    background-color: var(--hover-bg-color);\n",
              "    box-shadow: 0 1px 2px rgba(60, 64, 67, 0.3), 0 1px 3px 1px rgba(60, 64, 67, 0.15);\n",
              "    fill: var(--button-hover-fill-color);\n",
              "  }\n",
              "\n",
              "  .colab-df-quickchart-complete:disabled,\n",
              "  .colab-df-quickchart-complete:disabled:hover {\n",
              "    background-color: var(--disabled-bg-color);\n",
              "    fill: var(--disabled-fill-color);\n",
              "    box-shadow: none;\n",
              "  }\n",
              "\n",
              "  .colab-df-spinner {\n",
              "    border: 2px solid var(--fill-color);\n",
              "    border-color: transparent;\n",
              "    border-bottom-color: var(--fill-color);\n",
              "    animation:\n",
              "      spin 1s steps(1) infinite;\n",
              "  }\n",
              "\n",
              "  @keyframes spin {\n",
              "    0% {\n",
              "      border-color: transparent;\n",
              "      border-bottom-color: var(--fill-color);\n",
              "      border-left-color: var(--fill-color);\n",
              "    }\n",
              "    20% {\n",
              "      border-color: transparent;\n",
              "      border-left-color: var(--fill-color);\n",
              "      border-top-color: var(--fill-color);\n",
              "    }\n",
              "    30% {\n",
              "      border-color: transparent;\n",
              "      border-left-color: var(--fill-color);\n",
              "      border-top-color: var(--fill-color);\n",
              "      border-right-color: var(--fill-color);\n",
              "    }\n",
              "    40% {\n",
              "      border-color: transparent;\n",
              "      border-right-color: var(--fill-color);\n",
              "      border-top-color: var(--fill-color);\n",
              "    }\n",
              "    60% {\n",
              "      border-color: transparent;\n",
              "      border-right-color: var(--fill-color);\n",
              "    }\n",
              "    80% {\n",
              "      border-color: transparent;\n",
              "      border-right-color: var(--fill-color);\n",
              "      border-bottom-color: var(--fill-color);\n",
              "    }\n",
              "    90% {\n",
              "      border-color: transparent;\n",
              "      border-bottom-color: var(--fill-color);\n",
              "    }\n",
              "  }\n",
              "</style>\n",
              "\n",
              "  <script>\n",
              "    async function quickchart(key) {\n",
              "      const quickchartButtonEl =\n",
              "        document.querySelector('#' + key + ' button');\n",
              "      quickchartButtonEl.disabled = true;  // To prevent multiple clicks.\n",
              "      quickchartButtonEl.classList.add('colab-df-spinner');\n",
              "      try {\n",
              "        const charts = await google.colab.kernel.invokeFunction(\n",
              "            'suggestCharts', [key], {});\n",
              "      } catch (error) {\n",
              "        console.error('Error during call to suggestCharts:', error);\n",
              "      }\n",
              "      quickchartButtonEl.classList.remove('colab-df-spinner');\n",
              "      quickchartButtonEl.classList.add('colab-df-quickchart-complete');\n",
              "    }\n",
              "    (() => {\n",
              "      let quickchartButtonEl =\n",
              "        document.querySelector('#df-fb90a47d-6354-4d5b-bfe6-ea7c59502884 button');\n",
              "      quickchartButtonEl.style.display =\n",
              "        google.colab.kernel.accessAllowed ? 'block' : 'none';\n",
              "    })();\n",
              "  </script>\n",
              "</div>\n",
              "    </div>\n",
              "  </div>\n"
            ]
          },
          "metadata": {},
          "execution_count": 114
        }
      ]
    },
    {
      "cell_type": "code",
      "source": [
        "pd.get_dummies(hundred_students,prefix=['지역','단과대','성별']).head()"
      ],
      "metadata": {
        "colab": {
          "base_uri": "https://localhost:8080/",
          "height": 253
        },
        "id": "72QpTW6Gwq3S",
        "outputId": "3bab5f4a-4a9c-4782-f3f8-516825c90274"
      },
      "execution_count": null,
      "outputs": [
        {
          "output_type": "execute_result",
          "data": {
            "text/plain": [
              "   지역_강원  지역_경기  지역_경남  지역_경북  지역_광주  지역_대구  지역_대전  지역_부산  지역_서울  지역_세종  ...  \\\n",
              "0      0      0      0      0      0      0      0      0      1      0  ...   \n",
              "1      0      0      0      0      0      0      0      1      0      0  ...   \n",
              "2      0      0      0      0      0      1      0      0      0      0  ...   \n",
              "3      0      0      0      0      0      0      0      0      0      0  ...   \n",
              "4      0      0      0      0      1      0      0      0      0      0  ...   \n",
              "\n",
              "   지역_충북  단과대_간호대학  단과대_경영대학  단과대_공과대학  단과대_미술대학  단과대_사회과학대학  단과대_인문대학  \\\n",
              "0      0         0         0         0         0           0         1   \n",
              "1      0         0         0         0         0           1         0   \n",
              "2      0         0         0         0         0           0         0   \n",
              "3      0         1         0         0         0           0         0   \n",
              "4      0         0         1         0         0           0         0   \n",
              "\n",
              "   단과대_자연과학대학  성별_남성  성별_여성  \n",
              "0           0      1      0  \n",
              "1           0      0      1  \n",
              "2           1      1      0  \n",
              "3           0      0      1  \n",
              "4           0      1      0  \n",
              "\n",
              "[5 rows x 26 columns]"
            ],
            "text/html": [
              "\n",
              "  <div id=\"df-9bddd886-bf91-42ae-9220-3b00d9c9ab5b\" class=\"colab-df-container\">\n",
              "    <div>\n",
              "<style scoped>\n",
              "    .dataframe tbody tr th:only-of-type {\n",
              "        vertical-align: middle;\n",
              "    }\n",
              "\n",
              "    .dataframe tbody tr th {\n",
              "        vertical-align: top;\n",
              "    }\n",
              "\n",
              "    .dataframe thead th {\n",
              "        text-align: right;\n",
              "    }\n",
              "</style>\n",
              "<table border=\"1\" class=\"dataframe\">\n",
              "  <thead>\n",
              "    <tr style=\"text-align: right;\">\n",
              "      <th></th>\n",
              "      <th>지역_강원</th>\n",
              "      <th>지역_경기</th>\n",
              "      <th>지역_경남</th>\n",
              "      <th>지역_경북</th>\n",
              "      <th>지역_광주</th>\n",
              "      <th>지역_대구</th>\n",
              "      <th>지역_대전</th>\n",
              "      <th>지역_부산</th>\n",
              "      <th>지역_서울</th>\n",
              "      <th>지역_세종</th>\n",
              "      <th>...</th>\n",
              "      <th>지역_충북</th>\n",
              "      <th>단과대_간호대학</th>\n",
              "      <th>단과대_경영대학</th>\n",
              "      <th>단과대_공과대학</th>\n",
              "      <th>단과대_미술대학</th>\n",
              "      <th>단과대_사회과학대학</th>\n",
              "      <th>단과대_인문대학</th>\n",
              "      <th>단과대_자연과학대학</th>\n",
              "      <th>성별_남성</th>\n",
              "      <th>성별_여성</th>\n",
              "    </tr>\n",
              "  </thead>\n",
              "  <tbody>\n",
              "    <tr>\n",
              "      <th>0</th>\n",
              "      <td>0</td>\n",
              "      <td>0</td>\n",
              "      <td>0</td>\n",
              "      <td>0</td>\n",
              "      <td>0</td>\n",
              "      <td>0</td>\n",
              "      <td>0</td>\n",
              "      <td>0</td>\n",
              "      <td>1</td>\n",
              "      <td>0</td>\n",
              "      <td>...</td>\n",
              "      <td>0</td>\n",
              "      <td>0</td>\n",
              "      <td>0</td>\n",
              "      <td>0</td>\n",
              "      <td>0</td>\n",
              "      <td>0</td>\n",
              "      <td>1</td>\n",
              "      <td>0</td>\n",
              "      <td>1</td>\n",
              "      <td>0</td>\n",
              "    </tr>\n",
              "    <tr>\n",
              "      <th>1</th>\n",
              "      <td>0</td>\n",
              "      <td>0</td>\n",
              "      <td>0</td>\n",
              "      <td>0</td>\n",
              "      <td>0</td>\n",
              "      <td>0</td>\n",
              "      <td>0</td>\n",
              "      <td>1</td>\n",
              "      <td>0</td>\n",
              "      <td>0</td>\n",
              "      <td>...</td>\n",
              "      <td>0</td>\n",
              "      <td>0</td>\n",
              "      <td>0</td>\n",
              "      <td>0</td>\n",
              "      <td>0</td>\n",
              "      <td>1</td>\n",
              "      <td>0</td>\n",
              "      <td>0</td>\n",
              "      <td>0</td>\n",
              "      <td>1</td>\n",
              "    </tr>\n",
              "    <tr>\n",
              "      <th>2</th>\n",
              "      <td>0</td>\n",
              "      <td>0</td>\n",
              "      <td>0</td>\n",
              "      <td>0</td>\n",
              "      <td>0</td>\n",
              "      <td>1</td>\n",
              "      <td>0</td>\n",
              "      <td>0</td>\n",
              "      <td>0</td>\n",
              "      <td>0</td>\n",
              "      <td>...</td>\n",
              "      <td>0</td>\n",
              "      <td>0</td>\n",
              "      <td>0</td>\n",
              "      <td>0</td>\n",
              "      <td>0</td>\n",
              "      <td>0</td>\n",
              "      <td>0</td>\n",
              "      <td>1</td>\n",
              "      <td>1</td>\n",
              "      <td>0</td>\n",
              "    </tr>\n",
              "    <tr>\n",
              "      <th>3</th>\n",
              "      <td>0</td>\n",
              "      <td>0</td>\n",
              "      <td>0</td>\n",
              "      <td>0</td>\n",
              "      <td>0</td>\n",
              "      <td>0</td>\n",
              "      <td>0</td>\n",
              "      <td>0</td>\n",
              "      <td>0</td>\n",
              "      <td>0</td>\n",
              "      <td>...</td>\n",
              "      <td>0</td>\n",
              "      <td>1</td>\n",
              "      <td>0</td>\n",
              "      <td>0</td>\n",
              "      <td>0</td>\n",
              "      <td>0</td>\n",
              "      <td>0</td>\n",
              "      <td>0</td>\n",
              "      <td>0</td>\n",
              "      <td>1</td>\n",
              "    </tr>\n",
              "    <tr>\n",
              "      <th>4</th>\n",
              "      <td>0</td>\n",
              "      <td>0</td>\n",
              "      <td>0</td>\n",
              "      <td>0</td>\n",
              "      <td>1</td>\n",
              "      <td>0</td>\n",
              "      <td>0</td>\n",
              "      <td>0</td>\n",
              "      <td>0</td>\n",
              "      <td>0</td>\n",
              "      <td>...</td>\n",
              "      <td>0</td>\n",
              "      <td>0</td>\n",
              "      <td>1</td>\n",
              "      <td>0</td>\n",
              "      <td>0</td>\n",
              "      <td>0</td>\n",
              "      <td>0</td>\n",
              "      <td>0</td>\n",
              "      <td>1</td>\n",
              "      <td>0</td>\n",
              "    </tr>\n",
              "  </tbody>\n",
              "</table>\n",
              "<p>5 rows × 26 columns</p>\n",
              "</div>\n",
              "    <div class=\"colab-df-buttons\">\n",
              "\n",
              "  <div class=\"colab-df-container\">\n",
              "    <button class=\"colab-df-convert\" onclick=\"convertToInteractive('df-9bddd886-bf91-42ae-9220-3b00d9c9ab5b')\"\n",
              "            title=\"Convert this dataframe to an interactive table.\"\n",
              "            style=\"display:none;\">\n",
              "\n",
              "  <svg xmlns=\"http://www.w3.org/2000/svg\" height=\"24px\" viewBox=\"0 -960 960 960\">\n",
              "    <path d=\"M120-120v-720h720v720H120Zm60-500h600v-160H180v160Zm220 220h160v-160H400v160Zm0 220h160v-160H400v160ZM180-400h160v-160H180v160Zm440 0h160v-160H620v160ZM180-180h160v-160H180v160Zm440 0h160v-160H620v160Z\"/>\n",
              "  </svg>\n",
              "    </button>\n",
              "\n",
              "  <style>\n",
              "    .colab-df-container {\n",
              "      display:flex;\n",
              "      gap: 12px;\n",
              "    }\n",
              "\n",
              "    .colab-df-convert {\n",
              "      background-color: #E8F0FE;\n",
              "      border: none;\n",
              "      border-radius: 50%;\n",
              "      cursor: pointer;\n",
              "      display: none;\n",
              "      fill: #1967D2;\n",
              "      height: 32px;\n",
              "      padding: 0 0 0 0;\n",
              "      width: 32px;\n",
              "    }\n",
              "\n",
              "    .colab-df-convert:hover {\n",
              "      background-color: #E2EBFA;\n",
              "      box-shadow: 0px 1px 2px rgba(60, 64, 67, 0.3), 0px 1px 3px 1px rgba(60, 64, 67, 0.15);\n",
              "      fill: #174EA6;\n",
              "    }\n",
              "\n",
              "    .colab-df-buttons div {\n",
              "      margin-bottom: 4px;\n",
              "    }\n",
              "\n",
              "    [theme=dark] .colab-df-convert {\n",
              "      background-color: #3B4455;\n",
              "      fill: #D2E3FC;\n",
              "    }\n",
              "\n",
              "    [theme=dark] .colab-df-convert:hover {\n",
              "      background-color: #434B5C;\n",
              "      box-shadow: 0px 1px 3px 1px rgba(0, 0, 0, 0.15);\n",
              "      filter: drop-shadow(0px 1px 2px rgba(0, 0, 0, 0.3));\n",
              "      fill: #FFFFFF;\n",
              "    }\n",
              "  </style>\n",
              "\n",
              "    <script>\n",
              "      const buttonEl =\n",
              "        document.querySelector('#df-9bddd886-bf91-42ae-9220-3b00d9c9ab5b button.colab-df-convert');\n",
              "      buttonEl.style.display =\n",
              "        google.colab.kernel.accessAllowed ? 'block' : 'none';\n",
              "\n",
              "      async function convertToInteractive(key) {\n",
              "        const element = document.querySelector('#df-9bddd886-bf91-42ae-9220-3b00d9c9ab5b');\n",
              "        const dataTable =\n",
              "          await google.colab.kernel.invokeFunction('convertToInteractive',\n",
              "                                                    [key], {});\n",
              "        if (!dataTable) return;\n",
              "\n",
              "        const docLinkHtml = 'Like what you see? Visit the ' +\n",
              "          '<a target=\"_blank\" href=https://colab.research.google.com/notebooks/data_table.ipynb>data table notebook</a>'\n",
              "          + ' to learn more about interactive tables.';\n",
              "        element.innerHTML = '';\n",
              "        dataTable['output_type'] = 'display_data';\n",
              "        await google.colab.output.renderOutput(dataTable, element);\n",
              "        const docLink = document.createElement('div');\n",
              "        docLink.innerHTML = docLinkHtml;\n",
              "        element.appendChild(docLink);\n",
              "      }\n",
              "    </script>\n",
              "  </div>\n",
              "\n",
              "\n",
              "<div id=\"df-f2109c31-d3c0-4a05-b70f-4c87d37fce17\">\n",
              "  <button class=\"colab-df-quickchart\" onclick=\"quickchart('df-f2109c31-d3c0-4a05-b70f-4c87d37fce17')\"\n",
              "            title=\"Suggest charts\"\n",
              "            style=\"display:none;\">\n",
              "\n",
              "<svg xmlns=\"http://www.w3.org/2000/svg\" height=\"24px\"viewBox=\"0 0 24 24\"\n",
              "     width=\"24px\">\n",
              "    <g>\n",
              "        <path d=\"M19 3H5c-1.1 0-2 .9-2 2v14c0 1.1.9 2 2 2h14c1.1 0 2-.9 2-2V5c0-1.1-.9-2-2-2zM9 17H7v-7h2v7zm4 0h-2V7h2v10zm4 0h-2v-4h2v4z\"/>\n",
              "    </g>\n",
              "</svg>\n",
              "  </button>\n",
              "\n",
              "<style>\n",
              "  .colab-df-quickchart {\n",
              "      --bg-color: #E8F0FE;\n",
              "      --fill-color: #1967D2;\n",
              "      --hover-bg-color: #E2EBFA;\n",
              "      --hover-fill-color: #174EA6;\n",
              "      --disabled-fill-color: #AAA;\n",
              "      --disabled-bg-color: #DDD;\n",
              "  }\n",
              "\n",
              "  [theme=dark] .colab-df-quickchart {\n",
              "      --bg-color: #3B4455;\n",
              "      --fill-color: #D2E3FC;\n",
              "      --hover-bg-color: #434B5C;\n",
              "      --hover-fill-color: #FFFFFF;\n",
              "      --disabled-bg-color: #3B4455;\n",
              "      --disabled-fill-color: #666;\n",
              "  }\n",
              "\n",
              "  .colab-df-quickchart {\n",
              "    background-color: var(--bg-color);\n",
              "    border: none;\n",
              "    border-radius: 50%;\n",
              "    cursor: pointer;\n",
              "    display: none;\n",
              "    fill: var(--fill-color);\n",
              "    height: 32px;\n",
              "    padding: 0;\n",
              "    width: 32px;\n",
              "  }\n",
              "\n",
              "  .colab-df-quickchart:hover {\n",
              "    background-color: var(--hover-bg-color);\n",
              "    box-shadow: 0 1px 2px rgba(60, 64, 67, 0.3), 0 1px 3px 1px rgba(60, 64, 67, 0.15);\n",
              "    fill: var(--button-hover-fill-color);\n",
              "  }\n",
              "\n",
              "  .colab-df-quickchart-complete:disabled,\n",
              "  .colab-df-quickchart-complete:disabled:hover {\n",
              "    background-color: var(--disabled-bg-color);\n",
              "    fill: var(--disabled-fill-color);\n",
              "    box-shadow: none;\n",
              "  }\n",
              "\n",
              "  .colab-df-spinner {\n",
              "    border: 2px solid var(--fill-color);\n",
              "    border-color: transparent;\n",
              "    border-bottom-color: var(--fill-color);\n",
              "    animation:\n",
              "      spin 1s steps(1) infinite;\n",
              "  }\n",
              "\n",
              "  @keyframes spin {\n",
              "    0% {\n",
              "      border-color: transparent;\n",
              "      border-bottom-color: var(--fill-color);\n",
              "      border-left-color: var(--fill-color);\n",
              "    }\n",
              "    20% {\n",
              "      border-color: transparent;\n",
              "      border-left-color: var(--fill-color);\n",
              "      border-top-color: var(--fill-color);\n",
              "    }\n",
              "    30% {\n",
              "      border-color: transparent;\n",
              "      border-left-color: var(--fill-color);\n",
              "      border-top-color: var(--fill-color);\n",
              "      border-right-color: var(--fill-color);\n",
              "    }\n",
              "    40% {\n",
              "      border-color: transparent;\n",
              "      border-right-color: var(--fill-color);\n",
              "      border-top-color: var(--fill-color);\n",
              "    }\n",
              "    60% {\n",
              "      border-color: transparent;\n",
              "      border-right-color: var(--fill-color);\n",
              "    }\n",
              "    80% {\n",
              "      border-color: transparent;\n",
              "      border-right-color: var(--fill-color);\n",
              "      border-bottom-color: var(--fill-color);\n",
              "    }\n",
              "    90% {\n",
              "      border-color: transparent;\n",
              "      border-bottom-color: var(--fill-color);\n",
              "    }\n",
              "  }\n",
              "</style>\n",
              "\n",
              "  <script>\n",
              "    async function quickchart(key) {\n",
              "      const quickchartButtonEl =\n",
              "        document.querySelector('#' + key + ' button');\n",
              "      quickchartButtonEl.disabled = true;  // To prevent multiple clicks.\n",
              "      quickchartButtonEl.classList.add('colab-df-spinner');\n",
              "      try {\n",
              "        const charts = await google.colab.kernel.invokeFunction(\n",
              "            'suggestCharts', [key], {});\n",
              "      } catch (error) {\n",
              "        console.error('Error during call to suggestCharts:', error);\n",
              "      }\n",
              "      quickchartButtonEl.classList.remove('colab-df-spinner');\n",
              "      quickchartButtonEl.classList.add('colab-df-quickchart-complete');\n",
              "    }\n",
              "    (() => {\n",
              "      let quickchartButtonEl =\n",
              "        document.querySelector('#df-f2109c31-d3c0-4a05-b70f-4c87d37fce17 button');\n",
              "      quickchartButtonEl.style.display =\n",
              "        google.colab.kernel.accessAllowed ? 'block' : 'none';\n",
              "    })();\n",
              "  </script>\n",
              "</div>\n",
              "    </div>\n",
              "  </div>\n"
            ]
          },
          "metadata": {},
          "execution_count": 115
        }
      ]
    },
    {
      "cell_type": "code",
      "source": [
        "#변수 선택법-과대적합을 방지\n",
        "#중요변수 : 분산이 큰 것이 중요변수\n",
        "#SelectKbest, RFE(recursive feature eliminate) 재귀적으로\n",
        "#변수 중요도를 출력하는 모델을 중심한 모델 기준 : tree model(DT->RF, AdaBoost, gradient Boost -> XG Boost)\n",
        "#PCA 주성분 분석\n",
        "#feature_selection\n",
        "from sklearn.datasets import make_friedman1\n",
        "from sklearn.feature_selection import RFE\n",
        "from sklearn.svm import SVR\n",
        "#SVR : Support Vector Machine : 고차원을 좋아하는 모델\n",
        "#kernel 함수 : 선형, 다차방정식, 가우시안 커널, logistic kernel\n",
        "#support vector : 데이터의 최종위치를 연결선\n",
        "#convex hull : 최외곽의 경계선을 연결한 선\n",
        "X,y=make_friedman1(n_samples=50,n_features=5,random_state=0) #50X50\n",
        "estimator=SVR(kernel=\"linear\")\n",
        "\n",
        "selector=RFE(estimator) #모델을 감싼 변수선택기 : 분산\n",
        "selector=selector.fit(X,y)\n",
        "selector.support_"
      ],
      "metadata": {
        "colab": {
          "base_uri": "https://localhost:8080/"
        },
        "id": "qwHGr54Jwq5Z",
        "outputId": "74713026-47c3-4d61-b97d-0734f09de17d"
      },
      "execution_count": null,
      "outputs": [
        {
          "output_type": "execute_result",
          "data": {
            "text/plain": [
              "array([False, False, False,  True,  True])"
            ]
          },
          "metadata": {},
          "execution_count": 116
        }
      ]
    },
    {
      "cell_type": "code",
      "source": [
        "selector.ranking_"
      ],
      "metadata": {
        "id": "uSWiEzhawq7Q",
        "colab": {
          "base_uri": "https://localhost:8080/"
        },
        "outputId": "9d6bad51-3b80-424e-8493-649cd8a24acb"
      },
      "execution_count": null,
      "outputs": [
        {
          "output_type": "execute_result",
          "data": {
            "text/plain": [
              "array([3, 2, 4, 1, 1])"
            ]
          },
          "metadata": {},
          "execution_count": 117
        }
      ]
    },
    {
      "cell_type": "code",
      "source": [
        "from sklearn.feature_selection import VarianceThreshold #분산을 경계선으로\n",
        "X=[[0,0,1],[0,1,0],[1,0,0],[0,1,1],[0,1,0],[0,1,1]]\n",
        "sel=VarianceThreshold(threshold=(0.15))\n",
        "sel.fit_transform(X) #첫 열이 사라졌음"
      ],
      "metadata": {
        "id": "me2Uy5Nxwq85",
        "colab": {
          "base_uri": "https://localhost:8080/"
        },
        "outputId": "92a4472d-ce6b-4fe9-b388-aa2eef6779f5"
      },
      "execution_count": null,
      "outputs": [
        {
          "output_type": "execute_result",
          "data": {
            "text/plain": [
              "array([[0, 1],\n",
              "       [1, 0],\n",
              "       [0, 0],\n",
              "       [1, 1],\n",
              "       [1, 0],\n",
              "       [1, 1]])"
            ]
          },
          "metadata": {},
          "execution_count": 118
        }
      ]
    },
    {
      "cell_type": "code",
      "source": [
        "#필요없는 열들은 noise 역할을하여 제거하여야한다\n",
        "from sklearn.datasets import load_iris\n",
        "from sklearn.feature_selection import SelectKBest\n",
        "from sklearn.feature_selection import chi2 #카이제곱값을 기준으로\n",
        "X,y=load_iris(return_X_y=True)\n",
        "print(\"원본\",X.shape)\n",
        "X_new=SelectKBest(chi2,k=2).fit_transform(X,y)\n",
        "X_new.shape"
      ],
      "metadata": {
        "id": "lJyEJ4uawq-h",
        "colab": {
          "base_uri": "https://localhost:8080/"
        },
        "outputId": "3dfd7138-05fd-46d3-8b19-38c84f511ad2"
      },
      "execution_count": null,
      "outputs": [
        {
          "output_type": "stream",
          "name": "stdout",
          "text": [
            "원본 (150, 4)\n"
          ]
        },
        {
          "output_type": "execute_result",
          "data": {
            "text/plain": [
              "(150, 2)"
            ]
          },
          "metadata": {},
          "execution_count": 119
        }
      ]
    }
  ]
}