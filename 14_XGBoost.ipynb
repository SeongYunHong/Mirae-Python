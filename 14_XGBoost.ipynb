{
  "nbformat": 4,
  "nbformat_minor": 0,
  "metadata": {
    "colab": {
      "provenance": [],
      "mount_file_id": "1l6XRkMNLrHcZ-oYGLjtimCtmcJFHRqk8",
      "authorship_tag": "ABX9TyNYJ+uMjafAPbPiZnyAvisG",
      "include_colab_link": true
    },
    "kernelspec": {
      "name": "python3",
      "display_name": "Python 3"
    },
    "language_info": {
      "name": "python"
    }
  },
  "cells": [
    {
      "cell_type": "markdown",
      "metadata": {
        "id": "view-in-github",
        "colab_type": "text"
      },
      "source": [
        "<a href=\"https://colab.research.google.com/github/SeongYunHong/Mirae-Python_Machine_Learning/blob/main/14_XGBoost.ipynb\" target=\"_parent\"><img src=\"https://colab.research.google.com/assets/colab-badge.svg\" alt=\"Open In Colab\"/></a>"
      ]
    },
    {
      "cell_type": "markdown",
      "source": [
        "XGBoost\n",
        "* 대량의 데이터처리, 고속\n",
        "* 결측치에서 특성 패턴을 찾아서 자동으로 결측치 처리\n",
        "* 분산처리 및 병렬처리\n",
        "  - hadoop\n",
        "  - spark\n",
        "  - kubernetis\n",
        "* 언어적 호환성\n",
        "  - R, Python, Java 등과 협업\n",
        "* 모델 저장과 로딩 가능\n",
        "* boost의 종류 : gblinear, gbtree, dart(gbtree를 상속받고 : 정규화, dropout 지원)\n",
        "  - dropout : 행렬연산에서 모든 연산을 다하면 과적합됨 -> 일부회로는 계산하지 않는 것(보통 80%만 계산)\n",
        "* 알고리즘의 변화 최소제곱법(선형회귀) -> 경사하강법(학습률)\n",
        "* 오차학습법( 오차 = (예측값 - 실제값)**2 -> 포물선 => 오차로 뒤에 있는 가중치를 수정 : 신경망)\n",
        "  - 데이터 * 가중치 = 예측치 (learning rate (eta))"
      ],
      "metadata": {
        "id": "QkYRes9Z4jFd"
      }
    },
    {
      "cell_type": "code",
      "execution_count": null,
      "metadata": {
        "colab": {
          "base_uri": "https://localhost:8080/"
        },
        "id": "w247q3Li4elV",
        "outputId": "d8ae09d8-3fcc-4f65-df2a-12900af9ed00"
      },
      "outputs": [
        {
          "output_type": "stream",
          "name": "stdout",
          "text": [
            "[2. 0. 2. 0. 1.]\n"
          ]
        }
      ],
      "source": [
        "import xgboost as xgb\n",
        "from sklearn.datasets import load_iris\n",
        "from sklearn.model_selection import train_test_split\n",
        "data=load_iris()\n",
        "X_train,X_test,y_train,y_test=train_test_split(data['data'],data['target'],test_size=.2)\n",
        "dtrain=xgb.DMatrix(data=X_train, label=y_train) #xgb의 전용행렬 #dtrain으로 둘을 하나로 묶음\n",
        "dtest=xgb.DMatrix(data=X_test, label=y_test)\n",
        "#regularization\n",
        "param={'max_depth':2,'eta':1,'objective':'multi:softmax','num_class':3} #eta : learning rate : 학습률 #objective(회귀(reg : squared error), 분류(binary:logistic(이진분류), multi:softmax(다중분류)))\n",
        "#softmax : 클래스별로(범주별) 확률을 계산(구성비를 이용해서)\n",
        "num_round=2\n",
        "\n",
        "bst=xgb.train(param,dtrain,num_round)\n",
        "\n",
        "preds=bst.predict(dtest)\n",
        "print(preds[:5])"
      ]
    },
    {
      "cell_type": "code",
      "source": [
        "#dart를 활용해서\n",
        "param={'booster':'dart',\n",
        "       'max_depth':5,\n",
        "       'learning_rate':0.1, #학습률\n",
        "       'objective':'multi:softmax',\n",
        "       #dart의 전용 파라미터(4개)\n",
        "       #-------------------\n",
        "       'sample_type':'uniform',\n",
        "       'normalize_type':'tree', #tree, forest(평균을 낼 때 사용)\n",
        "       'rate_drop':0.1, #dropout 비율\n",
        "       'skip_drop':0.5,\n",
        "       #-------------------\n",
        "       'num_class':3}\n",
        "num_round=50\n",
        "bst=xgb.train(param,dtrain,num_round)\n",
        "preds=bst.predict(dtest)\n",
        "preds"
      ],
      "metadata": {
        "colab": {
          "base_uri": "https://localhost:8080/"
        },
        "id": "d4qI_Bjt9WC9",
        "outputId": "6fd8722c-df10-4eee-ff90-0f1f699b6ff5"
      },
      "execution_count": null,
      "outputs": [
        {
          "output_type": "execute_result",
          "data": {
            "text/plain": [
              "array([0., 0., 1., 0., 2., 1., 2., 0., 0., 2., 1., 0., 2., 1., 1., 0., 1.,\n",
              "       1., 0., 0., 1., 1., 2., 0., 2., 1., 0., 0., 1., 2.], dtype=float32)"
            ]
          },
          "metadata": {},
          "execution_count": 8
        }
      ]
    },
    {
      "cell_type": "code",
      "source": [
        "from sklearn.metrics import accuracy_score #일반함수\n",
        "accuracy_score(preds,y_test) #accuracy_score(예측값, 실제값)"
      ],
      "metadata": {
        "colab": {
          "base_uri": "https://localhost:8080/"
        },
        "id": "mtvPOrER9fkn",
        "outputId": "416a2d3b-e280-4bd9-cec5-a3706da9cece"
      },
      "execution_count": null,
      "outputs": [
        {
          "output_type": "execute_result",
          "data": {
            "text/plain": [
              "0.9333333333333333"
            ]
          },
          "metadata": {},
          "execution_count": 9
        }
      ]
    },
    {
      "cell_type": "code",
      "source": [
        "from xgboost import XGBClassifier\n",
        "from sklearn.datasets import load_iris\n",
        "from sklearn.model_selection import train_test_split\n",
        "data=load_iris()\n",
        "X_train,X_test,y_train,y_test=train_test_split(data['data'],data['target'],test_size=.2)\n",
        "#booster를 wrapper(감싼) -> scikits와 연동된 모델\n",
        "#scikits 모델로 인식됨\n",
        "#scikits 측에서 사용자 지정 모델을 작성할 수 있도록 open 시켜\n",
        "bst=XGBClassifier(n_estimator=2,max_depth=2,learning_rate=1,num_class=3,objective='binary:logistic')\n",
        "bst.fit(X_train,y_train)\n",
        "preds=bst.predict(X_test)\n",
        "bst.score(X_test,y_test)"
      ],
      "metadata": {
        "colab": {
          "base_uri": "https://localhost:8080/"
        },
        "id": "rhR_eT2h9fsS",
        "outputId": "eb344465-e21c-4948-cd18-90c02d0311a5"
      },
      "execution_count": null,
      "outputs": [
        {
          "output_type": "stream",
          "name": "stderr",
          "text": [
            "/usr/local/lib/python3.10/dist-packages/xgboost/core.py:160: UserWarning: [02:13:07] WARNING: /workspace/src/learner.cc:742: \n",
            "Parameters: { \"n_estimator\" } are not used.\n",
            "\n",
            "  warnings.warn(smsg, UserWarning)\n"
          ]
        },
        {
          "output_type": "execute_result",
          "data": {
            "text/plain": [
              "0.9666666666666667"
            ]
          },
          "metadata": {},
          "execution_count": 21
        }
      ]
    },
    {
      "cell_type": "code",
      "source": [
        "import pandas as pd\n",
        "import numpy as np\n",
        "\n",
        "data_url = \"http://lib.stat.cmu.edu/datasets/boston\"\n",
        "title =  ['CRIM','ZN','INDUS','CHAS', 'NOX','RM','AGE','RAD', 'TAX','PTRATIO',\n",
        "          'B', 'LSTAT', 'medv'] #12 종속변수\n",
        "raw_df = pd.read_csv(data_url, sep=\"\\s+\", skiprows=22, header=None)\n",
        "data = np.hstack([raw_df.values[::2, :], raw_df.values[1::2, :2]])\n",
        "target = raw_df.values[1::2, 2]\n",
        "print(type(data))\n",
        "boston_df = pd.DataFrame(data, columns = title )\n",
        "boston_df.head()"
      ],
      "metadata": {
        "colab": {
          "base_uri": "https://localhost:8080/",
          "height": 225
        },
        "id": "Q4_aeYhp9ftA",
        "outputId": "e175d574-5a1d-4bf3-bb62-5052c24c939d"
      },
      "execution_count": null,
      "outputs": [
        {
          "output_type": "stream",
          "name": "stdout",
          "text": [
            "<class 'numpy.ndarray'>\n"
          ]
        },
        {
          "output_type": "execute_result",
          "data": {
            "text/plain": [
              "      CRIM    ZN  INDUS  CHAS    NOX     RM   AGE     RAD  TAX  PTRATIO     B  \\\n",
              "0  0.00632  18.0   2.31   0.0  0.538  6.575  65.2  4.0900  1.0    296.0  15.3   \n",
              "1  0.02731   0.0   7.07   0.0  0.469  6.421  78.9  4.9671  2.0    242.0  17.8   \n",
              "2  0.02729   0.0   7.07   0.0  0.469  7.185  61.1  4.9671  2.0    242.0  17.8   \n",
              "3  0.03237   0.0   2.18   0.0  0.458  6.998  45.8  6.0622  3.0    222.0  18.7   \n",
              "4  0.06905   0.0   2.18   0.0  0.458  7.147  54.2  6.0622  3.0    222.0  18.7   \n",
              "\n",
              "    LSTAT  medv  \n",
              "0  396.90  4.98  \n",
              "1  396.90  9.14  \n",
              "2  392.83  4.03  \n",
              "3  394.63  2.94  \n",
              "4  396.90  5.33  "
            ],
            "text/html": [
              "\n",
              "  <div id=\"df-d486efcd-3a73-4460-ac51-4c73372a9815\" class=\"colab-df-container\">\n",
              "    <div>\n",
              "<style scoped>\n",
              "    .dataframe tbody tr th:only-of-type {\n",
              "        vertical-align: middle;\n",
              "    }\n",
              "\n",
              "    .dataframe tbody tr th {\n",
              "        vertical-align: top;\n",
              "    }\n",
              "\n",
              "    .dataframe thead th {\n",
              "        text-align: right;\n",
              "    }\n",
              "</style>\n",
              "<table border=\"1\" class=\"dataframe\">\n",
              "  <thead>\n",
              "    <tr style=\"text-align: right;\">\n",
              "      <th></th>\n",
              "      <th>CRIM</th>\n",
              "      <th>ZN</th>\n",
              "      <th>INDUS</th>\n",
              "      <th>CHAS</th>\n",
              "      <th>NOX</th>\n",
              "      <th>RM</th>\n",
              "      <th>AGE</th>\n",
              "      <th>RAD</th>\n",
              "      <th>TAX</th>\n",
              "      <th>PTRATIO</th>\n",
              "      <th>B</th>\n",
              "      <th>LSTAT</th>\n",
              "      <th>medv</th>\n",
              "    </tr>\n",
              "  </thead>\n",
              "  <tbody>\n",
              "    <tr>\n",
              "      <th>0</th>\n",
              "      <td>0.00632</td>\n",
              "      <td>18.0</td>\n",
              "      <td>2.31</td>\n",
              "      <td>0.0</td>\n",
              "      <td>0.538</td>\n",
              "      <td>6.575</td>\n",
              "      <td>65.2</td>\n",
              "      <td>4.0900</td>\n",
              "      <td>1.0</td>\n",
              "      <td>296.0</td>\n",
              "      <td>15.3</td>\n",
              "      <td>396.90</td>\n",
              "      <td>4.98</td>\n",
              "    </tr>\n",
              "    <tr>\n",
              "      <th>1</th>\n",
              "      <td>0.02731</td>\n",
              "      <td>0.0</td>\n",
              "      <td>7.07</td>\n",
              "      <td>0.0</td>\n",
              "      <td>0.469</td>\n",
              "      <td>6.421</td>\n",
              "      <td>78.9</td>\n",
              "      <td>4.9671</td>\n",
              "      <td>2.0</td>\n",
              "      <td>242.0</td>\n",
              "      <td>17.8</td>\n",
              "      <td>396.90</td>\n",
              "      <td>9.14</td>\n",
              "    </tr>\n",
              "    <tr>\n",
              "      <th>2</th>\n",
              "      <td>0.02729</td>\n",
              "      <td>0.0</td>\n",
              "      <td>7.07</td>\n",
              "      <td>0.0</td>\n",
              "      <td>0.469</td>\n",
              "      <td>7.185</td>\n",
              "      <td>61.1</td>\n",
              "      <td>4.9671</td>\n",
              "      <td>2.0</td>\n",
              "      <td>242.0</td>\n",
              "      <td>17.8</td>\n",
              "      <td>392.83</td>\n",
              "      <td>4.03</td>\n",
              "    </tr>\n",
              "    <tr>\n",
              "      <th>3</th>\n",
              "      <td>0.03237</td>\n",
              "      <td>0.0</td>\n",
              "      <td>2.18</td>\n",
              "      <td>0.0</td>\n",
              "      <td>0.458</td>\n",
              "      <td>6.998</td>\n",
              "      <td>45.8</td>\n",
              "      <td>6.0622</td>\n",
              "      <td>3.0</td>\n",
              "      <td>222.0</td>\n",
              "      <td>18.7</td>\n",
              "      <td>394.63</td>\n",
              "      <td>2.94</td>\n",
              "    </tr>\n",
              "    <tr>\n",
              "      <th>4</th>\n",
              "      <td>0.06905</td>\n",
              "      <td>0.0</td>\n",
              "      <td>2.18</td>\n",
              "      <td>0.0</td>\n",
              "      <td>0.458</td>\n",
              "      <td>7.147</td>\n",
              "      <td>54.2</td>\n",
              "      <td>6.0622</td>\n",
              "      <td>3.0</td>\n",
              "      <td>222.0</td>\n",
              "      <td>18.7</td>\n",
              "      <td>396.90</td>\n",
              "      <td>5.33</td>\n",
              "    </tr>\n",
              "  </tbody>\n",
              "</table>\n",
              "</div>\n",
              "    <div class=\"colab-df-buttons\">\n",
              "\n",
              "  <div class=\"colab-df-container\">\n",
              "    <button class=\"colab-df-convert\" onclick=\"convertToInteractive('df-d486efcd-3a73-4460-ac51-4c73372a9815')\"\n",
              "            title=\"Convert this dataframe to an interactive table.\"\n",
              "            style=\"display:none;\">\n",
              "\n",
              "  <svg xmlns=\"http://www.w3.org/2000/svg\" height=\"24px\" viewBox=\"0 -960 960 960\">\n",
              "    <path d=\"M120-120v-720h720v720H120Zm60-500h600v-160H180v160Zm220 220h160v-160H400v160Zm0 220h160v-160H400v160ZM180-400h160v-160H180v160Zm440 0h160v-160H620v160ZM180-180h160v-160H180v160Zm440 0h160v-160H620v160Z\"/>\n",
              "  </svg>\n",
              "    </button>\n",
              "\n",
              "  <style>\n",
              "    .colab-df-container {\n",
              "      display:flex;\n",
              "      gap: 12px;\n",
              "    }\n",
              "\n",
              "    .colab-df-convert {\n",
              "      background-color: #E8F0FE;\n",
              "      border: none;\n",
              "      border-radius: 50%;\n",
              "      cursor: pointer;\n",
              "      display: none;\n",
              "      fill: #1967D2;\n",
              "      height: 32px;\n",
              "      padding: 0 0 0 0;\n",
              "      width: 32px;\n",
              "    }\n",
              "\n",
              "    .colab-df-convert:hover {\n",
              "      background-color: #E2EBFA;\n",
              "      box-shadow: 0px 1px 2px rgba(60, 64, 67, 0.3), 0px 1px 3px 1px rgba(60, 64, 67, 0.15);\n",
              "      fill: #174EA6;\n",
              "    }\n",
              "\n",
              "    .colab-df-buttons div {\n",
              "      margin-bottom: 4px;\n",
              "    }\n",
              "\n",
              "    [theme=dark] .colab-df-convert {\n",
              "      background-color: #3B4455;\n",
              "      fill: #D2E3FC;\n",
              "    }\n",
              "\n",
              "    [theme=dark] .colab-df-convert:hover {\n",
              "      background-color: #434B5C;\n",
              "      box-shadow: 0px 1px 3px 1px rgba(0, 0, 0, 0.15);\n",
              "      filter: drop-shadow(0px 1px 2px rgba(0, 0, 0, 0.3));\n",
              "      fill: #FFFFFF;\n",
              "    }\n",
              "  </style>\n",
              "\n",
              "    <script>\n",
              "      const buttonEl =\n",
              "        document.querySelector('#df-d486efcd-3a73-4460-ac51-4c73372a9815 button.colab-df-convert');\n",
              "      buttonEl.style.display =\n",
              "        google.colab.kernel.accessAllowed ? 'block' : 'none';\n",
              "\n",
              "      async function convertToInteractive(key) {\n",
              "        const element = document.querySelector('#df-d486efcd-3a73-4460-ac51-4c73372a9815');\n",
              "        const dataTable =\n",
              "          await google.colab.kernel.invokeFunction('convertToInteractive',\n",
              "                                                    [key], {});\n",
              "        if (!dataTable) return;\n",
              "\n",
              "        const docLinkHtml = 'Like what you see? Visit the ' +\n",
              "          '<a target=\"_blank\" href=https://colab.research.google.com/notebooks/data_table.ipynb>data table notebook</a>'\n",
              "          + ' to learn more about interactive tables.';\n",
              "        element.innerHTML = '';\n",
              "        dataTable['output_type'] = 'display_data';\n",
              "        await google.colab.output.renderOutput(dataTable, element);\n",
              "        const docLink = document.createElement('div');\n",
              "        docLink.innerHTML = docLinkHtml;\n",
              "        element.appendChild(docLink);\n",
              "      }\n",
              "    </script>\n",
              "  </div>\n",
              "\n",
              "\n",
              "<div id=\"df-563741af-00a5-47ce-a145-b2fe7d121be6\">\n",
              "  <button class=\"colab-df-quickchart\" onclick=\"quickchart('df-563741af-00a5-47ce-a145-b2fe7d121be6')\"\n",
              "            title=\"Suggest charts\"\n",
              "            style=\"display:none;\">\n",
              "\n",
              "<svg xmlns=\"http://www.w3.org/2000/svg\" height=\"24px\"viewBox=\"0 0 24 24\"\n",
              "     width=\"24px\">\n",
              "    <g>\n",
              "        <path d=\"M19 3H5c-1.1 0-2 .9-2 2v14c0 1.1.9 2 2 2h14c1.1 0 2-.9 2-2V5c0-1.1-.9-2-2-2zM9 17H7v-7h2v7zm4 0h-2V7h2v10zm4 0h-2v-4h2v4z\"/>\n",
              "    </g>\n",
              "</svg>\n",
              "  </button>\n",
              "\n",
              "<style>\n",
              "  .colab-df-quickchart {\n",
              "      --bg-color: #E8F0FE;\n",
              "      --fill-color: #1967D2;\n",
              "      --hover-bg-color: #E2EBFA;\n",
              "      --hover-fill-color: #174EA6;\n",
              "      --disabled-fill-color: #AAA;\n",
              "      --disabled-bg-color: #DDD;\n",
              "  }\n",
              "\n",
              "  [theme=dark] .colab-df-quickchart {\n",
              "      --bg-color: #3B4455;\n",
              "      --fill-color: #D2E3FC;\n",
              "      --hover-bg-color: #434B5C;\n",
              "      --hover-fill-color: #FFFFFF;\n",
              "      --disabled-bg-color: #3B4455;\n",
              "      --disabled-fill-color: #666;\n",
              "  }\n",
              "\n",
              "  .colab-df-quickchart {\n",
              "    background-color: var(--bg-color);\n",
              "    border: none;\n",
              "    border-radius: 50%;\n",
              "    cursor: pointer;\n",
              "    display: none;\n",
              "    fill: var(--fill-color);\n",
              "    height: 32px;\n",
              "    padding: 0;\n",
              "    width: 32px;\n",
              "  }\n",
              "\n",
              "  .colab-df-quickchart:hover {\n",
              "    background-color: var(--hover-bg-color);\n",
              "    box-shadow: 0 1px 2px rgba(60, 64, 67, 0.3), 0 1px 3px 1px rgba(60, 64, 67, 0.15);\n",
              "    fill: var(--button-hover-fill-color);\n",
              "  }\n",
              "\n",
              "  .colab-df-quickchart-complete:disabled,\n",
              "  .colab-df-quickchart-complete:disabled:hover {\n",
              "    background-color: var(--disabled-bg-color);\n",
              "    fill: var(--disabled-fill-color);\n",
              "    box-shadow: none;\n",
              "  }\n",
              "\n",
              "  .colab-df-spinner {\n",
              "    border: 2px solid var(--fill-color);\n",
              "    border-color: transparent;\n",
              "    border-bottom-color: var(--fill-color);\n",
              "    animation:\n",
              "      spin 1s steps(1) infinite;\n",
              "  }\n",
              "\n",
              "  @keyframes spin {\n",
              "    0% {\n",
              "      border-color: transparent;\n",
              "      border-bottom-color: var(--fill-color);\n",
              "      border-left-color: var(--fill-color);\n",
              "    }\n",
              "    20% {\n",
              "      border-color: transparent;\n",
              "      border-left-color: var(--fill-color);\n",
              "      border-top-color: var(--fill-color);\n",
              "    }\n",
              "    30% {\n",
              "      border-color: transparent;\n",
              "      border-left-color: var(--fill-color);\n",
              "      border-top-color: var(--fill-color);\n",
              "      border-right-color: var(--fill-color);\n",
              "    }\n",
              "    40% {\n",
              "      border-color: transparent;\n",
              "      border-right-color: var(--fill-color);\n",
              "      border-top-color: var(--fill-color);\n",
              "    }\n",
              "    60% {\n",
              "      border-color: transparent;\n",
              "      border-right-color: var(--fill-color);\n",
              "    }\n",
              "    80% {\n",
              "      border-color: transparent;\n",
              "      border-right-color: var(--fill-color);\n",
              "      border-bottom-color: var(--fill-color);\n",
              "    }\n",
              "    90% {\n",
              "      border-color: transparent;\n",
              "      border-bottom-color: var(--fill-color);\n",
              "    }\n",
              "  }\n",
              "</style>\n",
              "\n",
              "  <script>\n",
              "    async function quickchart(key) {\n",
              "      const quickchartButtonEl =\n",
              "        document.querySelector('#' + key + ' button');\n",
              "      quickchartButtonEl.disabled = true;  // To prevent multiple clicks.\n",
              "      quickchartButtonEl.classList.add('colab-df-spinner');\n",
              "      try {\n",
              "        const charts = await google.colab.kernel.invokeFunction(\n",
              "            'suggestCharts', [key], {});\n",
              "      } catch (error) {\n",
              "        console.error('Error during call to suggestCharts:', error);\n",
              "      }\n",
              "      quickchartButtonEl.classList.remove('colab-df-spinner');\n",
              "      quickchartButtonEl.classList.add('colab-df-quickchart-complete');\n",
              "    }\n",
              "    (() => {\n",
              "      let quickchartButtonEl =\n",
              "        document.querySelector('#df-563741af-00a5-47ce-a145-b2fe7d121be6 button');\n",
              "      quickchartButtonEl.style.display =\n",
              "        google.colab.kernel.accessAllowed ? 'block' : 'none';\n",
              "    })();\n",
              "  </script>\n",
              "</div>\n",
              "    </div>\n",
              "  </div>\n"
            ]
          },
          "metadata": {},
          "execution_count": 29
        }
      ]
    },
    {
      "cell_type": "code",
      "source": [
        "X=boston_df.iloc[:,:12]\n",
        "print(X.shape)\n",
        "y=boston_df.iloc[:,12]\n",
        "print(y.shape)"
      ],
      "metadata": {
        "colab": {
          "base_uri": "https://localhost:8080/"
        },
        "id": "f4ramv5t9ftb",
        "outputId": "651b2eda-706e-4eca-ce6f-63bbba689039"
      },
      "execution_count": null,
      "outputs": [
        {
          "output_type": "stream",
          "name": "stdout",
          "text": [
            "(506, 12)\n",
            "(506,)\n"
          ]
        }
      ]
    },
    {
      "cell_type": "code",
      "source": [
        "from sklearn.metrics import mean_squared_error\n",
        "from sklearn.model_selection import train_test_split\n",
        "X_train,X_test,y_train,y_test=train_test_split(X,y,test_size=.2, random_state=123)"
      ],
      "metadata": {
        "id": "pDD-XjMu9ft3"
      },
      "execution_count": null,
      "outputs": []
    },
    {
      "cell_type": "code",
      "source": [
        "#회귀모델 -> 분류, 예측\n",
        "#예측 용도\n",
        "#gblinsar에서는 \"colsample_bytree\", \"max_depth\"불필요\n",
        "#squarederror = (예측치- 실제값)**2 -> 비용함수로 사용\n",
        "xg_reg=xgb.XGBRegressor(booster='gbtree',objective='reg:squarederror',colsample_bytree=0.3,learning_rate=0.1,max_depth=5,alpha=10,n_estimator=20)\n",
        "#colsample_bytree=0.3 : 속성, 변수의 30%만 고려(단순화 시켜라)\n",
        "#learning_rate가 작으면 오래걸리고, 크면 최적화가 안될수도 있음(처음에는 크게 나중에 작게해줘야함)\n",
        "#L1 강도 : alpha\n",
        "xg_reg.fit(X_train,y_train)\n",
        "preds=xg_reg.predict(X_test)\n",
        "rmse=np.sqrt(mean_squared_error(y_test,preds)) #RMSE = Root Mean Squared Error(제곱해준 값에 루트 씌워줌)\n",
        "print(\"RMSE : %f\"%(rmse))"
      ],
      "metadata": {
        "colab": {
          "base_uri": "https://localhost:8080/"
        },
        "id": "_7pbOyLu9fuY",
        "outputId": "47c2779d-c626-4448-e171-16039b5bfba8"
      },
      "execution_count": null,
      "outputs": [
        {
          "output_type": "stream",
          "name": "stderr",
          "text": [
            "/usr/local/lib/python3.10/dist-packages/xgboost/core.py:160: UserWarning: [02:30:06] WARNING: /workspace/src/learner.cc:742: \n",
            "Parameters: { \"n_estimator\" } are not used.\n",
            "\n",
            "  warnings.warn(smsg, UserWarning)\n"
          ]
        },
        {
          "output_type": "stream",
          "name": "stdout",
          "text": [
            "RMSE : 3.927077\n"
          ]
        }
      ]
    },
    {
      "cell_type": "code",
      "source": [
        "import matplotlib.pyplot as plt\n",
        "xgb.plot_tree(xg_reg,num_trees=0) #구조값만 나옴\n",
        "plt.rcParams['figure.figsize']=[200,100]\n",
        "plt.show()"
      ],
      "metadata": {
        "colab": {
          "base_uri": "https://localhost:8080/",
          "height": 361
        },
        "id": "xCZ_ZNF89fu3",
        "outputId": "29707f97-f9c3-4d38-f366-78d6bdaa9747"
      },
      "execution_count": null,
      "outputs": [
        {
          "output_type": "display_data",
          "data": {
            "text/plain": [
              "<Figure size 2000x1000 with 1 Axes>"
            ],
            "image/png": "[encoded data removed]"
          },
          "metadata": {}
        }
      ]
    },
    {
      "cell_type": "code",
      "source": [
        "data_dmatrix=xgb.DMatrix(data=X,label=y) #데이터를 나누지 않고 통째로 집어넣음\n",
        "params={'objective':'reg:squarederror','colsample_bytree':0.3,'learning_rate':0.1,'max_depth':5,'alpha':10}\n",
        "#booster\n",
        "#XGBClassifier : scikits wrapper\n",
        "#데이터를 한꺼번에 입력하더라도 내부에서 train/test 데이터를 나눠서 처리\n",
        "#callbacks 함수 : 시스템에서 직접 호출하는 호출함수\n",
        "cv_results=xgb.cv(dtrain=data_dmatrix, params=params, nfold=3, num_boost_round=500, early_stopping_rounds=10,metrics='rmse',as_pandas=True,seed=123, callbacks=[xgb.callback.EvaluationMonitor(show_stdv=True)])\n",
        "#nfold=3 : 데이터를 3덩이로 나눠라 #num_boost_round=50 : 오차를 줄여나가는 횟수 50번 #early_stopping_rounds=10 : 10번 이상이면 종료 #metrics='rmse' : 평가 기준\n",
        "print(cv_results.head())"
      ],
      "metadata": {
        "colab": {
          "base_uri": "https://localhost:8080/"
        },
        "id": "D7wr4Ury9fvY",
        "outputId": "ab95da53-bc19-4bdb-e648-e5e08eefcf06"
      },
      "execution_count": null,
      "outputs": [
        {
          "output_type": "stream",
          "name": "stdout",
          "text": [
            "[0]\ttrain-rmse:6.75129+0.05441\ttest-rmse:6.82019+0.13762\n",
            "[1]\ttrain-rmse:6.40630+0.03029\ttest-rmse:6.53104+0.13838\n",
            "[2]\ttrain-rmse:6.09260+0.01323\ttest-rmse:6.29082+0.15014\n",
            "[3]\ttrain-rmse:5.86080+0.02939\ttest-rmse:6.12159+0.16615\n",
            "[4]\ttrain-rmse:5.62165+0.03553\ttest-rmse:5.93653+0.13593\n",
            "[5]\ttrain-rmse:5.38394+0.03948\ttest-rmse:5.75802+0.12321\n",
            "[6]\ttrain-rmse:5.25579+0.05007\ttest-rmse:5.65999+0.11301\n",
            "[7]\ttrain-rmse:5.06409+0.05239\ttest-rmse:5.52955+0.09936\n",
            "[8]\ttrain-rmse:4.88735+0.06385\ttest-rmse:5.40221+0.09753\n",
            "[9]\ttrain-rmse:4.63469+0.06177\ttest-rmse:5.21373+0.07699\n",
            "[10]\ttrain-rmse:4.54071+0.06969\ttest-rmse:5.13419+0.07287\n",
            "[11]\ttrain-rmse:4.42213+0.07748\ttest-rmse:5.05193+0.05810\n",
            "[12]\ttrain-rmse:4.29481+0.08628\ttest-rmse:4.97589+0.04683\n",
            "[13]\ttrain-rmse:4.24072+0.08316\ttest-rmse:4.93821+0.04273\n",
            "[14]\ttrain-rmse:4.18789+0.08693\ttest-rmse:4.89866+0.03851\n",
            "[15]\ttrain-rmse:4.09606+0.08285\ttest-rmse:4.84858+0.03358\n",
            "[16]\ttrain-rmse:3.93866+0.06845\ttest-rmse:4.73318+0.02802\n",
            "[17]\ttrain-rmse:3.86999+0.06916\ttest-rmse:4.69539+0.02785\n",
            "[18]\ttrain-rmse:3.84155+0.06892\ttest-rmse:4.67623+0.03244\n",
            "[19]\ttrain-rmse:3.79130+0.07410\ttest-rmse:4.65866+0.03599\n",
            "[20]\ttrain-rmse:3.70643+0.07598\ttest-rmse:4.62325+0.04232\n",
            "[21]\ttrain-rmse:3.57946+0.05950\ttest-rmse:4.55296+0.05370\n",
            "[22]\ttrain-rmse:3.51603+0.05838\ttest-rmse:4.52085+0.06267\n",
            "[23]\ttrain-rmse:3.42113+0.05224\ttest-rmse:4.45870+0.05930\n",
            "[24]\ttrain-rmse:3.34469+0.04672\ttest-rmse:4.41164+0.06411\n",
            "[25]\ttrain-rmse:3.30596+0.04581\ttest-rmse:4.38564+0.06581\n",
            "[26]\ttrain-rmse:3.25430+0.04061\ttest-rmse:4.35649+0.08308\n",
            "[27]\ttrain-rmse:3.21005+0.04208\ttest-rmse:4.34166+0.08161\n",
            "[28]\ttrain-rmse:3.17486+0.05053\ttest-rmse:4.33012+0.08978\n",
            "[29]\ttrain-rmse:3.15194+0.04887\ttest-rmse:4.32408+0.09531\n",
            "[30]\ttrain-rmse:3.08749+0.05055\ttest-rmse:4.28078+0.10012\n",
            "[31]\ttrain-rmse:3.07949+0.05104\ttest-rmse:4.27906+0.10183\n",
            "[32]\ttrain-rmse:3.07258+0.05195\ttest-rmse:4.27670+0.10575\n",
            "[33]\ttrain-rmse:3.03907+0.05356\ttest-rmse:4.26427+0.10415\n",
            "[34]\ttrain-rmse:2.96280+0.05136\ttest-rmse:4.22668+0.10254\n",
            "[35]\ttrain-rmse:2.91152+0.04996\ttest-rmse:4.20094+0.10352\n",
            "[36]\ttrain-rmse:2.89155+0.04758\ttest-rmse:4.18951+0.10350\n",
            "[37]\ttrain-rmse:2.83789+0.04589\ttest-rmse:4.16775+0.09863\n",
            "[38]\ttrain-rmse:2.83135+0.04695\ttest-rmse:4.16514+0.09847\n",
            "[39]\ttrain-rmse:2.80668+0.04718\ttest-rmse:4.16032+0.09789\n",
            "[40]\ttrain-rmse:2.77073+0.04599\ttest-rmse:4.14108+0.09659\n",
            "[41]\ttrain-rmse:2.73186+0.04812\ttest-rmse:4.12733+0.09494\n",
            "[42]\ttrain-rmse:2.71501+0.04844\ttest-rmse:4.12487+0.09846\n",
            "[43]\ttrain-rmse:2.68942+0.04941\ttest-rmse:4.12030+0.09915\n",
            "[44]\ttrain-rmse:2.67206+0.05029\ttest-rmse:4.12176+0.10381\n",
            "[45]\ttrain-rmse:2.64249+0.05176\ttest-rmse:4.10821+0.10976\n",
            "[46]\ttrain-rmse:2.60616+0.05679\ttest-rmse:4.09244+0.11102\n",
            "[47]\ttrain-rmse:2.57120+0.06129\ttest-rmse:4.07773+0.11292\n",
            "[48]\ttrain-rmse:2.54892+0.06680\ttest-rmse:4.07391+0.11543\n",
            "[49]\ttrain-rmse:2.52467+0.07009\ttest-rmse:4.06273+0.11658\n",
            "[50]\ttrain-rmse:2.50070+0.07017\ttest-rmse:4.04973+0.12163\n",
            "[51]\ttrain-rmse:2.48840+0.06805\ttest-rmse:4.04274+0.12149\n",
            "[52]\ttrain-rmse:2.47133+0.07149\ttest-rmse:4.04161+0.11937\n",
            "[53]\ttrain-rmse:2.45814+0.06692\ttest-rmse:4.03865+0.12138\n",
            "[54]\ttrain-rmse:2.42921+0.06682\ttest-rmse:4.03101+0.12358\n",
            "[55]\ttrain-rmse:2.40346+0.07094\ttest-rmse:4.02170+0.12414\n",
            "[56]\ttrain-rmse:2.39110+0.07020\ttest-rmse:4.01706+0.12442\n",
            "[57]\ttrain-rmse:2.37985+0.07142\ttest-rmse:4.01611+0.12318\n",
            "[58]\ttrain-rmse:2.37858+0.07101\ttest-rmse:4.01605+0.12251\n",
            "[59]\ttrain-rmse:2.35887+0.07343\ttest-rmse:4.00786+0.12184\n",
            "[60]\ttrain-rmse:2.32887+0.07230\ttest-rmse:3.99952+0.12893\n",
            "[61]\ttrain-rmse:2.32057+0.07092\ttest-rmse:3.99289+0.12813\n",
            "[62]\ttrain-rmse:2.30529+0.07223\ttest-rmse:3.98593+0.12476\n",
            "[63]\ttrain-rmse:2.29446+0.07660\ttest-rmse:3.98581+0.12427\n",
            "[64]\ttrain-rmse:2.27171+0.07729\ttest-rmse:3.97626+0.13321\n",
            "[65]\ttrain-rmse:2.26992+0.07694\ttest-rmse:3.97589+0.13310\n",
            "[66]\ttrain-rmse:2.26012+0.07877\ttest-rmse:3.97334+0.13274\n",
            "[67]\ttrain-rmse:2.24090+0.07730\ttest-rmse:3.96414+0.12536\n",
            "[68]\ttrain-rmse:2.23920+0.07703\ttest-rmse:3.96337+0.12476\n",
            "[69]\ttrain-rmse:2.22920+0.07949\ttest-rmse:3.96404+0.12544\n",
            "[70]\ttrain-rmse:2.20973+0.07827\ttest-rmse:3.95918+0.12851\n",
            "[71]\ttrain-rmse:2.19578+0.07856\ttest-rmse:3.95617+0.13076\n",
            "[72]\ttrain-rmse:2.18569+0.07923\ttest-rmse:3.95243+0.12860\n",
            "[73]\ttrain-rmse:2.18476+0.07913\ttest-rmse:3.95218+0.12814\n",
            "[74]\ttrain-rmse:2.15526+0.07111\ttest-rmse:3.93710+0.12137\n",
            "[75]\ttrain-rmse:2.14248+0.06719\ttest-rmse:3.92974+0.11725\n",
            "[76]\ttrain-rmse:2.13347+0.06749\ttest-rmse:3.92663+0.12008\n",
            "[77]\ttrain-rmse:2.12136+0.06692\ttest-rmse:3.91695+0.11765\n",
            "[78]\ttrain-rmse:2.10579+0.06478\ttest-rmse:3.91264+0.11687\n",
            "[79]\ttrain-rmse:2.08812+0.06550\ttest-rmse:3.90726+0.11742\n",
            "[80]\ttrain-rmse:2.07929+0.06510\ttest-rmse:3.90767+0.11702\n",
            "[81]\ttrain-rmse:2.06524+0.07087\ttest-rmse:3.90501+0.12068\n",
            "[82]\ttrain-rmse:2.05751+0.06918\ttest-rmse:3.90494+0.12350\n",
            "[83]\ttrain-rmse:2.04904+0.06740\ttest-rmse:3.90386+0.12340\n",
            "[84]\ttrain-rmse:2.04130+0.06623\ttest-rmse:3.90352+0.12200\n",
            "[85]\ttrain-rmse:2.02860+0.06581\ttest-rmse:3.89784+0.11531\n",
            "[86]\ttrain-rmse:2.02161+0.06471\ttest-rmse:3.89678+0.11759\n",
            "[87]\ttrain-rmse:2.01148+0.06412\ttest-rmse:3.89640+0.11818\n",
            "[88]\ttrain-rmse:2.00072+0.06520\ttest-rmse:3.89448+0.11865\n",
            "[89]\ttrain-rmse:1.98753+0.06647\ttest-rmse:3.89424+0.12099\n",
            "[90]\ttrain-rmse:1.98103+0.06623\ttest-rmse:3.89011+0.11854\n",
            "[91]\ttrain-rmse:1.97386+0.06511\ttest-rmse:3.88957+0.11814\n",
            "[92]\ttrain-rmse:1.95786+0.06249\ttest-rmse:3.88185+0.11237\n",
            "[93]\ttrain-rmse:1.94742+0.06184\ttest-rmse:3.88117+0.11345\n",
            "[94]\ttrain-rmse:1.94537+0.06158\ttest-rmse:3.88021+0.11146\n",
            "[95]\ttrain-rmse:1.94025+0.06193\ttest-rmse:3.87973+0.11285\n",
            "[96]\ttrain-rmse:1.93381+0.06238\ttest-rmse:3.87775+0.11324\n",
            "[97]\ttrain-rmse:1.92919+0.06250\ttest-rmse:3.87548+0.11174\n",
            "[98]\ttrain-rmse:1.92526+0.06293\ttest-rmse:3.87486+0.11195\n",
            "[99]\ttrain-rmse:1.92209+0.06327\ttest-rmse:3.87426+0.11241\n",
            "[100]\ttrain-rmse:1.91246+0.06355\ttest-rmse:3.87135+0.11509\n",
            "[101]\ttrain-rmse:1.90724+0.06388\ttest-rmse:3.87097+0.11545\n",
            "[102]\ttrain-rmse:1.90220+0.06427\ttest-rmse:3.86979+0.11591\n",
            "[103]\ttrain-rmse:1.89972+0.06367\ttest-rmse:3.86801+0.11624\n",
            "[104]\ttrain-rmse:1.89955+0.06372\ttest-rmse:3.86811+0.11620\n",
            "[105]\ttrain-rmse:1.89467+0.06380\ttest-rmse:3.86456+0.11564\n",
            "[106]\ttrain-rmse:1.88668+0.06273\ttest-rmse:3.86422+0.11663\n",
            "[107]\ttrain-rmse:1.88140+0.06160\ttest-rmse:3.86472+0.11762\n",
            "[108]\ttrain-rmse:1.87774+0.06233\ttest-rmse:3.86372+0.11758\n",
            "[109]\ttrain-rmse:1.86960+0.06256\ttest-rmse:3.86434+0.11824\n",
            "[110]\ttrain-rmse:1.86361+0.06159\ttest-rmse:3.86404+0.11792\n",
            "[111]\ttrain-rmse:1.86136+0.06287\ttest-rmse:3.86411+0.11784\n",
            "[112]\ttrain-rmse:1.84843+0.06030\ttest-rmse:3.85975+0.11691\n",
            "[113]\ttrain-rmse:1.84555+0.06083\ttest-rmse:3.85909+0.11663\n",
            "[114]\ttrain-rmse:1.83573+0.05953\ttest-rmse:3.85636+0.11566\n",
            "[115]\ttrain-rmse:1.82966+0.05919\ttest-rmse:3.85750+0.11452\n",
            "[116]\ttrain-rmse:1.82315+0.05698\ttest-rmse:3.85271+0.11001\n",
            "[117]\ttrain-rmse:1.81630+0.05689\ttest-rmse:3.85129+0.10993\n",
            "[118]\ttrain-rmse:1.81612+0.05700\ttest-rmse:3.85155+0.10980\n",
            "[119]\ttrain-rmse:1.80891+0.05465\ttest-rmse:3.84979+0.11142\n",
            "[120]\ttrain-rmse:1.80723+0.05397\ttest-rmse:3.84881+0.11157\n",
            "[121]\ttrain-rmse:1.79774+0.05053\ttest-rmse:3.84674+0.10889\n",
            "[122]\ttrain-rmse:1.79719+0.05040\ttest-rmse:3.84670+0.10861\n",
            "[123]\ttrain-rmse:1.78923+0.04911\ttest-rmse:3.84519+0.11044\n",
            "[124]\ttrain-rmse:1.78571+0.04869\ttest-rmse:3.84450+0.11050\n",
            "[125]\ttrain-rmse:1.77982+0.04798\ttest-rmse:3.84306+0.11269\n",
            "[126]\ttrain-rmse:1.77314+0.04770\ttest-rmse:3.84113+0.11386\n",
            "[127]\ttrain-rmse:1.76642+0.04628\ttest-rmse:3.84139+0.11460\n",
            "[128]\ttrain-rmse:1.75892+0.04590\ttest-rmse:3.84078+0.11517\n",
            "[129]\ttrain-rmse:1.74936+0.04493\ttest-rmse:3.84082+0.11552\n",
            "[130]\ttrain-rmse:1.74186+0.04366\ttest-rmse:3.83760+0.11368\n",
            "[131]\ttrain-rmse:1.73867+0.04455\ttest-rmse:3.83632+0.11439\n",
            "[132]\ttrain-rmse:1.73699+0.04490\ttest-rmse:3.83527+0.11521\n",
            "[133]\ttrain-rmse:1.73604+0.04467\ttest-rmse:3.83486+0.11508\n",
            "[134]\ttrain-rmse:1.73101+0.04470\ttest-rmse:3.83233+0.11434\n",
            "[135]\ttrain-rmse:1.72741+0.04445\ttest-rmse:3.83269+0.11270\n",
            "[136]\ttrain-rmse:1.72472+0.04392\ttest-rmse:3.83298+0.11238\n",
            "[137]\ttrain-rmse:1.72113+0.04242\ttest-rmse:3.83017+0.10846\n",
            "[138]\ttrain-rmse:1.72083+0.04254\ttest-rmse:3.83009+0.10862\n",
            "[139]\ttrain-rmse:1.71287+0.04120\ttest-rmse:3.83009+0.10825\n",
            "[140]\ttrain-rmse:1.71268+0.04136\ttest-rmse:3.83014+0.10824\n",
            "[141]\ttrain-rmse:1.70689+0.04047\ttest-rmse:3.82815+0.10823\n",
            "[142]\ttrain-rmse:1.70467+0.04102\ttest-rmse:3.82847+0.10881\n",
            "[143]\ttrain-rmse:1.69790+0.03895\ttest-rmse:3.82838+0.10799\n",
            "[144]\ttrain-rmse:1.69591+0.03860\ttest-rmse:3.82827+0.10814\n",
            "[145]\ttrain-rmse:1.69299+0.03764\ttest-rmse:3.82765+0.10898\n",
            "[146]\ttrain-rmse:1.68474+0.03484\ttest-rmse:3.82714+0.10774\n",
            "[147]\ttrain-rmse:1.68453+0.03498\ttest-rmse:3.82718+0.10778\n",
            "[148]\ttrain-rmse:1.68360+0.03476\ttest-rmse:3.82638+0.10675\n",
            "[149]\ttrain-rmse:1.67883+0.03427\ttest-rmse:3.82725+0.10710\n",
            "[150]\ttrain-rmse:1.67380+0.03070\ttest-rmse:3.82716+0.10682\n",
            "[151]\ttrain-rmse:1.67085+0.03054\ttest-rmse:3.82754+0.10810\n",
            "[152]\ttrain-rmse:1.66462+0.02919\ttest-rmse:3.82724+0.11114\n",
            "[153]\ttrain-rmse:1.65985+0.02844\ttest-rmse:3.82622+0.11205\n",
            "[154]\ttrain-rmse:1.65618+0.03009\ttest-rmse:3.82509+0.11312\n",
            "[155]\ttrain-rmse:1.65415+0.03002\ttest-rmse:3.82445+0.11340\n",
            "[156]\ttrain-rmse:1.64358+0.02718\ttest-rmse:3.82322+0.11457\n",
            "[157]\ttrain-rmse:1.63979+0.02787\ttest-rmse:3.82313+0.11454\n",
            "[158]\ttrain-rmse:1.63521+0.02721\ttest-rmse:3.82156+0.11109\n",
            "[159]\ttrain-rmse:1.63511+0.02715\ttest-rmse:3.82154+0.11116\n",
            "[160]\ttrain-rmse:1.63356+0.02707\ttest-rmse:3.82188+0.11220\n",
            "[161]\ttrain-rmse:1.62479+0.02386\ttest-rmse:3.81906+0.11236\n",
            "[162]\ttrain-rmse:1.62124+0.02337\ttest-rmse:3.81831+0.11131\n",
            "[163]\ttrain-rmse:1.61861+0.02365\ttest-rmse:3.81720+0.11100\n",
            "[164]\ttrain-rmse:1.61719+0.02248\ttest-rmse:3.81636+0.11188\n",
            "[165]\ttrain-rmse:1.61553+0.02214\ttest-rmse:3.81610+0.11209\n",
            "[166]\ttrain-rmse:1.61238+0.02252\ttest-rmse:3.81746+0.11170\n",
            "[167]\ttrain-rmse:1.60745+0.02077\ttest-rmse:3.81747+0.11103\n",
            "[168]\ttrain-rmse:1.59791+0.01905\ttest-rmse:3.81665+0.11103\n",
            "[169]\ttrain-rmse:1.58957+0.01713\ttest-rmse:3.81265+0.11233\n",
            "[170]\ttrain-rmse:1.58799+0.01742\ttest-rmse:3.81221+0.11210\n",
            "[171]\ttrain-rmse:1.58799+0.01742\ttest-rmse:3.81221+0.11210\n",
            "[172]\ttrain-rmse:1.58772+0.01781\ttest-rmse:3.81234+0.11206\n",
            "[173]\ttrain-rmse:1.58759+0.01800\ttest-rmse:3.81230+0.11207\n",
            "[174]\ttrain-rmse:1.58734+0.01810\ttest-rmse:3.81236+0.11174\n",
            "[175]\ttrain-rmse:1.58734+0.01810\ttest-rmse:3.81236+0.11174\n",
            "[176]\ttrain-rmse:1.58624+0.01966\ttest-rmse:3.81218+0.11181\n",
            "[177]\ttrain-rmse:1.58594+0.01947\ttest-rmse:3.81181+0.11131\n",
            "[178]\ttrain-rmse:1.58176+0.02167\ttest-rmse:3.81179+0.11223\n",
            "[179]\ttrain-rmse:1.58154+0.02148\ttest-rmse:3.81174+0.11227\n",
            "[180]\ttrain-rmse:1.57699+0.02248\ttest-rmse:3.81228+0.11209\n",
            "[181]\ttrain-rmse:1.57091+0.02055\ttest-rmse:3.81309+0.11216\n",
            "[182]\ttrain-rmse:1.56882+0.02048\ttest-rmse:3.81299+0.11197\n",
            "[183]\ttrain-rmse:1.56748+0.02049\ttest-rmse:3.81287+0.11190\n",
            "[184]\ttrain-rmse:1.56632+0.02066\ttest-rmse:3.81265+0.11190\n",
            "[185]\ttrain-rmse:1.56222+0.02110\ttest-rmse:3.81190+0.11259\n",
            "[186]\ttrain-rmse:1.55861+0.02166\ttest-rmse:3.81110+0.11225\n",
            "[187]\ttrain-rmse:1.55804+0.02177\ttest-rmse:3.81127+0.11213\n",
            "[188]\ttrain-rmse:1.55710+0.02110\ttest-rmse:3.81103+0.11203\n",
            "[189]\ttrain-rmse:1.55693+0.02121\ttest-rmse:3.81108+0.11202\n",
            "[190]\ttrain-rmse:1.55693+0.02121\ttest-rmse:3.81108+0.11202\n",
            "[191]\ttrain-rmse:1.55475+0.01966\ttest-rmse:3.81074+0.11156\n",
            "[192]\ttrain-rmse:1.55475+0.01966\ttest-rmse:3.81074+0.11156\n",
            "[193]\ttrain-rmse:1.55472+0.01964\ttest-rmse:3.81078+0.11152\n",
            "[194]\ttrain-rmse:1.54994+0.01863\ttest-rmse:3.81006+0.11116\n",
            "[195]\ttrain-rmse:1.54994+0.01863\ttest-rmse:3.81006+0.11116\n",
            "[196]\ttrain-rmse:1.54965+0.01839\ttest-rmse:3.81009+0.11122\n",
            "[197]\ttrain-rmse:1.54848+0.01750\ttest-rmse:3.81005+0.11116\n",
            "[198]\ttrain-rmse:1.54848+0.01750\ttest-rmse:3.81005+0.11116\n",
            "[199]\ttrain-rmse:1.54734+0.01675\ttest-rmse:3.81023+0.11140\n",
            "[200]\ttrain-rmse:1.54690+0.01648\ttest-rmse:3.81002+0.11112\n",
            "[201]\ttrain-rmse:1.54169+0.01624\ttest-rmse:3.80856+0.10928\n",
            "[202]\ttrain-rmse:1.54049+0.01634\ttest-rmse:3.80747+0.10828\n",
            "[203]\ttrain-rmse:1.53874+0.01556\ttest-rmse:3.80729+0.10803\n",
            "[204]\ttrain-rmse:1.53551+0.01518\ttest-rmse:3.80670+0.10952\n",
            "[205]\ttrain-rmse:1.53484+0.01548\ttest-rmse:3.80645+0.10994\n",
            "[206]\ttrain-rmse:1.53392+0.01559\ttest-rmse:3.80641+0.10983\n",
            "[207]\ttrain-rmse:1.53392+0.01559\ttest-rmse:3.80641+0.10983\n",
            "[208]\ttrain-rmse:1.53280+0.01521\ttest-rmse:3.80695+0.11057\n",
            "[209]\ttrain-rmse:1.53280+0.01521\ttest-rmse:3.80695+0.11057\n",
            "[210]\ttrain-rmse:1.53231+0.01509\ttest-rmse:3.80722+0.11094\n",
            "[211]\ttrain-rmse:1.53231+0.01509\ttest-rmse:3.80722+0.11094\n",
            "[212]\ttrain-rmse:1.52623+0.01233\ttest-rmse:3.80669+0.11195\n",
            "[213]\ttrain-rmse:1.52490+0.01131\ttest-rmse:3.80700+0.11233\n",
            "[214]\ttrain-rmse:1.52348+0.01076\ttest-rmse:3.80736+0.11181\n",
            "[215]\ttrain-rmse:1.52347+0.01077\ttest-rmse:3.80738+0.11180\n",
            "   train-rmse-mean  train-rmse-std  test-rmse-mean  test-rmse-std\n",
            "0         6.751287        0.054410        6.820195       0.137625\n",
            "1         6.406304        0.030288        6.531044       0.138377\n",
            "2         6.092604        0.013229        6.290821       0.150136\n",
            "3         5.860804        0.029386        6.121593       0.166152\n",
            "4         5.621645        0.035530        5.936525       0.135931\n"
          ]
        }
      ]
    },
    {
      "cell_type": "code",
      "source": [
        "cv_results['test-rmse-mean'].tail(1)"
      ],
      "metadata": {
        "colab": {
          "base_uri": "https://localhost:8080/"
        },
        "id": "jFpeFO3A9fv5",
        "outputId": "bd885dcc-ac6b-42bd-9f8e-134ba65d5cdd"
      },
      "execution_count": null,
      "outputs": [
        {
          "output_type": "execute_result",
          "data": {
            "text/plain": [
              "206    3.806411\n",
              "Name: test-rmse-mean, dtype: float64"
            ]
          },
          "metadata": {},
          "execution_count": 52
        }
      ]
    },
    {
      "cell_type": "code",
      "source": [
        "#hyper parameter tuning -> 어제는 GridSearchCV로 진행\n",
        "#RandomizedSearchCV(연속적인 경우)와 GridSearchCV\n",
        "import scipy.stats as st\n",
        "xgbreg=xgb.XGBRegressor(objective='reg:squarederror',n_jobs=-1) #n_jobs=-1 : 사용할 코어의 개수(-1이면 전부 다 사용)\n",
        "params={'n_estimators':st.randint(3,40),        #24\n",
        "        'max_depth':st.randint(3,40),           #5\n",
        "        'learning_rate':st.uniform(0.05,0.4),   #0.12\n",
        "        'gamma':st.uniform(0,10)}               #1.36"
      ],
      "metadata": {
        "id": "zN_WonFt9fwf"
      },
      "execution_count": null,
      "outputs": []
    },
    {
      "cell_type": "code",
      "source": [
        "from sklearn.model_selection import RandomizedSearchCV\n",
        "gs=RandomizedSearchCV(xgbreg,params,n_jobs=1)\n",
        "gs.fit(X_train,y_train)\n",
        "gs.best_estimator_"
      ],
      "metadata": {
        "colab": {
          "base_uri": "https://localhost:8080/",
          "height": 248
        },
        "id": "zzjPpRJY9fxC",
        "outputId": "37535014-0de2-4669-f572-4d916bd64eb4"
      },
      "execution_count": null,
      "outputs": [
        {
          "output_type": "execute_result",
          "data": {
            "text/plain": [
              "XGBRegressor(base_score=None, booster=None, callbacks=None,\n",
              "             colsample_bylevel=None, colsample_bynode=None,\n",
              "             colsample_bytree=None, device=None, early_stopping_rounds=None,\n",
              "             enable_categorical=False, eval_metric=None, feature_types=None,\n",
              "             gamma=1.551271477456131, grow_policy=None, importance_type=None,\n",
              "             interaction_constraints=None, learning_rate=0.4498685675701387,\n",
              "             max_bin=None, max_cat_threshold=None, max_cat_to_onehot=None,\n",
              "             max_delta_step=None, max_depth=27, max_leaves=None,\n",
              "             min_child_weight=None, missing=nan, monotone_constraints=None,\n",
              "             multi_strategy=None, n_estimators=8, n_jobs=-1,\n",
              "             num_parallel_tree=None, random_state=None, ...)"
            ],
            "text/html": [
              "<style>#sk-container-id-7 {color: black;background-color: white;}#sk-container-id-7 pre{padding: 0;}#sk-container-id-7 div.sk-toggleable {background-color: white;}#sk-container-id-7 label.sk-toggleable__label {cursor: pointer;display: block;width: 100%;margin-bottom: 0;padding: 0.3em;box-sizing: border-box;text-align: center;}#sk-container-id-7 label.sk-toggleable__label-arrow:before {content: \"▸\";float: left;margin-right: 0.25em;color: #696969;}#sk-container-id-7 label.sk-toggleable__label-arrow:hover:before {color: black;}#sk-container-id-7 div.sk-estimator:hover label.sk-toggleable__label-arrow:before {color: black;}#sk-container-id-7 div.sk-toggleable__content {max-height: 0;max-width: 0;overflow: hidden;text-align: left;background-color: #f0f8ff;}#sk-container-id-7 div.sk-toggleable__content pre {margin: 0.2em;color: black;border-radius: 0.25em;background-color: #f0f8ff;}#sk-container-id-7 input.sk-toggleable__control:checked~div.sk-toggleable__content {max-height: 200px;max-width: 100%;overflow: auto;}#sk-container-id-7 input.sk-toggleable__control:checked~label.sk-toggleable__label-arrow:before {content: \"▾\";}#sk-container-id-7 div.sk-estimator input.sk-toggleable__control:checked~label.sk-toggleable__label {background-color: #d4ebff;}#sk-container-id-7 div.sk-label input.sk-toggleable__control:checked~label.sk-toggleable__label {background-color: #d4ebff;}#sk-container-id-7 input.sk-hidden--visually {border: 0;clip: rect(1px 1px 1px 1px);clip: rect(1px, 1px, 1px, 1px);height: 1px;margin: -1px;overflow: hidden;padding: 0;position: absolute;width: 1px;}#sk-container-id-7 div.sk-estimator {font-family: monospace;background-color: #f0f8ff;border: 1px dotted black;border-radius: 0.25em;box-sizing: border-box;margin-bottom: 0.5em;}#sk-container-id-7 div.sk-estimator:hover {background-color: #d4ebff;}#sk-container-id-7 div.sk-parallel-item::after {content: \"\";width: 100%;border-bottom: 1px solid gray;flex-grow: 1;}#sk-container-id-7 div.sk-label:hover label.sk-toggleable__label {background-color: #d4ebff;}#sk-container-id-7 div.sk-serial::before {content: \"\";position: absolute;border-left: 1px solid gray;box-sizing: border-box;top: 0;bottom: 0;left: 50%;z-index: 0;}#sk-container-id-7 div.sk-serial {display: flex;flex-direction: column;align-items: center;background-color: white;padding-right: 0.2em;padding-left: 0.2em;position: relative;}#sk-container-id-7 div.sk-item {position: relative;z-index: 1;}#sk-container-id-7 div.sk-parallel {display: flex;align-items: stretch;justify-content: center;background-color: white;position: relative;}#sk-container-id-7 div.sk-item::before, #sk-container-id-7 div.sk-parallel-item::before {content: \"\";position: absolute;border-left: 1px solid gray;box-sizing: border-box;top: 0;bottom: 0;left: 50%;z-index: -1;}#sk-container-id-7 div.sk-parallel-item {display: flex;flex-direction: column;z-index: 1;position: relative;background-color: white;}#sk-container-id-7 div.sk-parallel-item:first-child::after {align-self: flex-end;width: 50%;}#sk-container-id-7 div.sk-parallel-item:last-child::after {align-self: flex-start;width: 50%;}#sk-container-id-7 div.sk-parallel-item:only-child::after {width: 0;}#sk-container-id-7 div.sk-dashed-wrapped {border: 1px dashed gray;margin: 0 0.4em 0.5em 0.4em;box-sizing: border-box;padding-bottom: 0.4em;background-color: white;}#sk-container-id-7 div.sk-label label {font-family: monospace;font-weight: bold;display: inline-block;line-height: 1.2em;}#sk-container-id-7 div.sk-label-container {text-align: center;}#sk-container-id-7 div.sk-container {/* jupyter's `normalize.less` sets `[hidden] { display: none; }` but bootstrap.min.css set `[hidden] { display: none !important; }` so we also need the `!important` here to be able to override the default hidden behavior on the sphinx rendered scikit-learn.org. See: https://github.com/scikit-learn/scikit-learn/issues/21755 */display: inline-block !important;position: relative;}#sk-container-id-7 div.sk-text-repr-fallback {display: none;}</style><div id=\"sk-container-id-7\" class=\"sk-top-container\"><div class=\"sk-text-repr-fallback\"><pre>XGBRegressor(base_score=None, booster=None, callbacks=None,\n",
              "             colsample_bylevel=None, colsample_bynode=None,\n",
              "             colsample_bytree=None, device=None, early_stopping_rounds=None,\n",
              "             enable_categorical=False, eval_metric=None, feature_types=None,\n",
              "             gamma=1.551271477456131, grow_policy=None, importance_type=None,\n",
              "             interaction_constraints=None, learning_rate=0.4498685675701387,\n",
              "             max_bin=None, max_cat_threshold=None, max_cat_to_onehot=None,\n",
              "             max_delta_step=None, max_depth=27, max_leaves=None,\n",
              "             min_child_weight=None, missing=nan, monotone_constraints=None,\n",
              "             multi_strategy=None, n_estimators=8, n_jobs=-1,\n",
              "             num_parallel_tree=None, random_state=None, ...)</pre><b>In a Jupyter environment, please rerun this cell to show the HTML representation or trust the notebook. <br />On GitHub, the HTML representation is unable to render, please try loading this page with nbviewer.org.</b></div><div class=\"sk-container\" hidden><div class=\"sk-item\"><div class=\"sk-estimator sk-toggleable\"><input class=\"sk-toggleable__control sk-hidden--visually\" id=\"sk-estimator-id-7\" type=\"checkbox\" checked><label for=\"sk-estimator-id-7\" class=\"sk-toggleable__label sk-toggleable__label-arrow\">XGBRegressor</label><div class=\"sk-toggleable__content\"><pre>XGBRegressor(base_score=None, booster=None, callbacks=None,\n",
              "             colsample_bylevel=None, colsample_bynode=None,\n",
              "             colsample_bytree=None, device=None, early_stopping_rounds=None,\n",
              "             enable_categorical=False, eval_metric=None, feature_types=None,\n",
              "             gamma=1.551271477456131, grow_policy=None, importance_type=None,\n",
              "             interaction_constraints=None, learning_rate=0.4498685675701387,\n",
              "             max_bin=None, max_cat_threshold=None, max_cat_to_onehot=None,\n",
              "             max_delta_step=None, max_depth=27, max_leaves=None,\n",
              "             min_child_weight=None, missing=nan, monotone_constraints=None,\n",
              "             multi_strategy=None, n_estimators=8, n_jobs=-1,\n",
              "             num_parallel_tree=None, random_state=None, ...)</pre></div></div></div></div></div>"
            ]
          },
          "metadata": {},
          "execution_count": 158
        }
      ]
    },
    {
      "cell_type": "code",
      "source": [
        "gs.best_params_"
      ],
      "metadata": {
        "colab": {
          "base_uri": "https://localhost:8080/"
        },
        "id": "EkevJiOx9fxe",
        "outputId": "586a04fe-6802-461d-dbf8-8879558b4352"
      },
      "execution_count": null,
      "outputs": [
        {
          "output_type": "execute_result",
          "data": {
            "text/plain": [
              "{'gamma': 1.551271477456131,\n",
              " 'learning_rate': 0.4498685675701387,\n",
              " 'max_depth': 27,\n",
              " 'n_estimators': 8}"
            ]
          },
          "metadata": {},
          "execution_count": 159
        }
      ]
    },
    {
      "cell_type": "code",
      "source": [
        "#문제\n",
        "#다음을 XGBClassifier로 구현해보시오\n",
        "#훈련정확도와 테스트 정확도를 출력하시오\n",
        "#params={'n_estimators':st.randint(3,40),\n",
        "#        'max_depth':st.randint(3,40),\n",
        "#        'learning_rate':st.uniform(0.05,0.4),\n",
        "#        'gamma':st.uniform(0,10)}\n",
        "#parameter tuning 후 테스트 정확도 다시 출력하시오\n",
        "import pandas as pd\n",
        "df=pd.read_csv('/content/drive/MyDrive/mirae/csv/pima.csv')\n",
        "df=df.iloc[:,1:]\n",
        "X=df.iloc[:,:7]\n",
        "y=pd.get_dummies(df.iloc[:,7])"
      ],
      "metadata": {
        "id": "WmdXO_d39fyD"
      },
      "execution_count": null,
      "outputs": []
    },
    {
      "cell_type": "code",
      "source": [
        "#다음을 XGBClassifier로 구현해보시오\n",
        "#훈련정확도와 테스트 정확도를 출력하시오\n",
        "from xgboost import XGBClassifier\n",
        "from sklearn.model_selection import train_test_split\n",
        "X_train,X_test,y_train,y_test=train_test_split(X,y,test_size=.3, random_state=12)\n",
        "\n",
        "bst=XGBClassifier(n_estimators=2,max_depth=2,learning_rate=0.01,objective='binary:logistic')\n",
        "bst.fit(X_train,y_train)\n",
        "pred=bst.predict(X_test)\n",
        "print(\"튜닝 전 트레인 : \",bst.score(X_train,y_train)) #0.8189655172413793\n",
        "print(\"튜닝 전 테스트 : \",bst.score(X_test,y_test))   #0.72\n",
        "\n",
        "print(\"튜닝 전 트레인 : \",accuracy_score(bst.predict(X_train),y_train)) #0.8189655172413793\n",
        "print(\"튜닝 전 테스트 : \",accuracy_score(bst.predict(X_test),y_test))   #0.72"
      ],
      "metadata": {
        "colab": {
          "base_uri": "https://localhost:8080/"
        },
        "id": "U1ECLYEv9fyd",
        "outputId": "ac209de2-cc30-4399-8694-06f8da540b48"
      },
      "execution_count": null,
      "outputs": [
        {
          "output_type": "stream",
          "name": "stdout",
          "text": [
            "튜닝 후 트레인 :  0.8189655172413793\n",
            "튜닝 후 테스트 :  0.72\n",
            "튜닝 후 트레인 :  0.8189655172413793\n",
            "튜닝 후 테스트 :  0.72\n"
          ]
        }
      ]
    },
    {
      "cell_type": "code",
      "source": [
        "#parameter tuning 후 테스트 정확도 다시 출력하시오\n",
        "import scipy.stats as st\n",
        "from sklearn.model_selection import RandomizedSearchCV\n",
        "params={'n_estimators':st.randint(3,40),        #31\n",
        "        'max_depth':st.randint(3,40),           #26\n",
        "        'learning_rate':st.uniform(0.05,0.4),   #0.28\n",
        "        'gamma':st.uniform(0,10)}               #1.02\n",
        "\n",
        "gs=RandomizedSearchCV(bst,params,n_jobs=1)\n",
        "gs.fit(X_train,y_train)\n",
        "gs.best_estimator_\n",
        "gs.best_params_"
      ],
      "metadata": {
        "colab": {
          "base_uri": "https://localhost:8080/",
          "height": 248
        },
        "id": "7AF2BC0v9fzB",
        "outputId": "8baf2414-cd2a-4697-dfef-fc8c673c8d6a"
      },
      "execution_count": null,
      "outputs": [
        {
          "output_type": "execute_result",
          "data": {
            "text/plain": [
              "XGBClassifier(base_score=None, booster=None, callbacks=None,\n",
              "              colsample_bylevel=None, colsample_bynode=None,\n",
              "              colsample_bytree=None, device=None, early_stopping_rounds=None,\n",
              "              enable_categorical=False, eval_metric=None, feature_types=None,\n",
              "              gamma=5.025403949520087, grow_policy=None, importance_type=None,\n",
              "              interaction_constraints=None, learning_rate=0.141315617269392,\n",
              "              max_bin=None, max_cat_threshold=None, max_cat_to_onehot=None,\n",
              "              max_delta_step=None, max_depth=24, max_leaves=None,\n",
              "              min_child_weight=None, missing=nan, monotone_constraints=None,\n",
              "              multi_strategy=None, n_estimators=35, n_jobs=None,\n",
              "              num_parallel_tree=None, random_state=None, ...)"
            ],
            "text/html": [
              "<style>#sk-container-id-10 {color: black;background-color: white;}#sk-container-id-10 pre{padding: 0;}#sk-container-id-10 div.sk-toggleable {background-color: white;}#sk-container-id-10 label.sk-toggleable__label {cursor: pointer;display: block;width: 100%;margin-bottom: 0;padding: 0.3em;box-sizing: border-box;text-align: center;}#sk-container-id-10 label.sk-toggleable__label-arrow:before {content: \"▸\";float: left;margin-right: 0.25em;color: #696969;}#sk-container-id-10 label.sk-toggleable__label-arrow:hover:before {color: black;}#sk-container-id-10 div.sk-estimator:hover label.sk-toggleable__label-arrow:before {color: black;}#sk-container-id-10 div.sk-toggleable__content {max-height: 0;max-width: 0;overflow: hidden;text-align: left;background-color: #f0f8ff;}#sk-container-id-10 div.sk-toggleable__content pre {margin: 0.2em;color: black;border-radius: 0.25em;background-color: #f0f8ff;}#sk-container-id-10 input.sk-toggleable__control:checked~div.sk-toggleable__content {max-height: 200px;max-width: 100%;overflow: auto;}#sk-container-id-10 input.sk-toggleable__control:checked~label.sk-toggleable__label-arrow:before {content: \"▾\";}#sk-container-id-10 div.sk-estimator input.sk-toggleable__control:checked~label.sk-toggleable__label {background-color: #d4ebff;}#sk-container-id-10 div.sk-label input.sk-toggleable__control:checked~label.sk-toggleable__label {background-color: #d4ebff;}#sk-container-id-10 input.sk-hidden--visually {border: 0;clip: rect(1px 1px 1px 1px);clip: rect(1px, 1px, 1px, 1px);height: 1px;margin: -1px;overflow: hidden;padding: 0;position: absolute;width: 1px;}#sk-container-id-10 div.sk-estimator {font-family: monospace;background-color: #f0f8ff;border: 1px dotted black;border-radius: 0.25em;box-sizing: border-box;margin-bottom: 0.5em;}#sk-container-id-10 div.sk-estimator:hover {background-color: #d4ebff;}#sk-container-id-10 div.sk-parallel-item::after {content: \"\";width: 100%;border-bottom: 1px solid gray;flex-grow: 1;}#sk-container-id-10 div.sk-label:hover label.sk-toggleable__label {background-color: #d4ebff;}#sk-container-id-10 div.sk-serial::before {content: \"\";position: absolute;border-left: 1px solid gray;box-sizing: border-box;top: 0;bottom: 0;left: 50%;z-index: 0;}#sk-container-id-10 div.sk-serial {display: flex;flex-direction: column;align-items: center;background-color: white;padding-right: 0.2em;padding-left: 0.2em;position: relative;}#sk-container-id-10 div.sk-item {position: relative;z-index: 1;}#sk-container-id-10 div.sk-parallel {display: flex;align-items: stretch;justify-content: center;background-color: white;position: relative;}#sk-container-id-10 div.sk-item::before, #sk-container-id-10 div.sk-parallel-item::before {content: \"\";position: absolute;border-left: 1px solid gray;box-sizing: border-box;top: 0;bottom: 0;left: 50%;z-index: -1;}#sk-container-id-10 div.sk-parallel-item {display: flex;flex-direction: column;z-index: 1;position: relative;background-color: white;}#sk-container-id-10 div.sk-parallel-item:first-child::after {align-self: flex-end;width: 50%;}#sk-container-id-10 div.sk-parallel-item:last-child::after {align-self: flex-start;width: 50%;}#sk-container-id-10 div.sk-parallel-item:only-child::after {width: 0;}#sk-container-id-10 div.sk-dashed-wrapped {border: 1px dashed gray;margin: 0 0.4em 0.5em 0.4em;box-sizing: border-box;padding-bottom: 0.4em;background-color: white;}#sk-container-id-10 div.sk-label label {font-family: monospace;font-weight: bold;display: inline-block;line-height: 1.2em;}#sk-container-id-10 div.sk-label-container {text-align: center;}#sk-container-id-10 div.sk-container {/* jupyter's `normalize.less` sets `[hidden] { display: none; }` but bootstrap.min.css set `[hidden] { display: none !important; }` so we also need the `!important` here to be able to override the default hidden behavior on the sphinx rendered scikit-learn.org. See: https://github.com/scikit-learn/scikit-learn/issues/21755 */display: inline-block !important;position: relative;}#sk-container-id-10 div.sk-text-repr-fallback {display: none;}</style><div id=\"sk-container-id-10\" class=\"sk-top-container\"><div class=\"sk-text-repr-fallback\"><pre>XGBClassifier(base_score=None, booster=None, callbacks=None,\n",
              "              colsample_bylevel=None, colsample_bynode=None,\n",
              "              colsample_bytree=None, device=None, early_stopping_rounds=None,\n",
              "              enable_categorical=False, eval_metric=None, feature_types=None,\n",
              "              gamma=5.025403949520087, grow_policy=None, importance_type=None,\n",
              "              interaction_constraints=None, learning_rate=0.141315617269392,\n",
              "              max_bin=None, max_cat_threshold=None, max_cat_to_onehot=None,\n",
              "              max_delta_step=None, max_depth=24, max_leaves=None,\n",
              "              min_child_weight=None, missing=nan, monotone_constraints=None,\n",
              "              multi_strategy=None, n_estimators=35, n_jobs=None,\n",
              "              num_parallel_tree=None, random_state=None, ...)</pre><b>In a Jupyter environment, please rerun this cell to show the HTML representation or trust the notebook. <br />On GitHub, the HTML representation is unable to render, please try loading this page with nbviewer.org.</b></div><div class=\"sk-container\" hidden><div class=\"sk-item\"><div class=\"sk-estimator sk-toggleable\"><input class=\"sk-toggleable__control sk-hidden--visually\" id=\"sk-estimator-id-10\" type=\"checkbox\" checked><label for=\"sk-estimator-id-10\" class=\"sk-toggleable__label sk-toggleable__label-arrow\">XGBClassifier</label><div class=\"sk-toggleable__content\"><pre>XGBClassifier(base_score=None, booster=None, callbacks=None,\n",
              "              colsample_bylevel=None, colsample_bynode=None,\n",
              "              colsample_bytree=None, device=None, early_stopping_rounds=None,\n",
              "              enable_categorical=False, eval_metric=None, feature_types=None,\n",
              "              gamma=5.025403949520087, grow_policy=None, importance_type=None,\n",
              "              interaction_constraints=None, learning_rate=0.141315617269392,\n",
              "              max_bin=None, max_cat_threshold=None, max_cat_to_onehot=None,\n",
              "              max_delta_step=None, max_depth=24, max_leaves=None,\n",
              "              min_child_weight=None, missing=nan, monotone_constraints=None,\n",
              "              multi_strategy=None, n_estimators=35, n_jobs=None,\n",
              "              num_parallel_tree=None, random_state=None, ...)</pre></div></div></div></div></div>"
            ]
          },
          "metadata": {},
          "execution_count": 169
        }
      ]
    },
    {
      "cell_type": "code",
      "source": [
        "print(\"튜닝 후 트레인 : \",gs.score(X_train,y_train)) #0.69\n",
        "print(\"튜닝 후 테스트 : \",gs.score(X_test,y_test))   #0.62\n",
        "\n",
        "print(\"튜닝 후 트레인 : \",accuracy_score(gs.best_estimator_.predict(X_train),y_train)) #0.85\n",
        "print(\"튜닝 후 테스트 : \",accuracy_score(gs.best_estimator_.predict(X_test),y_test))   #0.74"
      ],
      "metadata": {
        "colab": {
          "base_uri": "https://localhost:8080/"
        },
        "id": "eGiHV81Y9fzg",
        "outputId": "866f0164-8fe7-4162-97f5-e7d8a801878a"
      },
      "execution_count": null,
      "outputs": [
        {
          "output_type": "stream",
          "name": "stdout",
          "text": [
            "튜닝 후 트레인 :  0.8577586206896551\n",
            "튜닝 후 테스트 :  0.74\n",
            "튜닝 후 트레인 :  0.8577586206896551\n",
            "튜닝 후 테스트 :  0.74\n"
          ]
        }
      ]
    },
    {
      "cell_type": "code",
      "source": [],
      "metadata": {
        "id": "lis2F1k19f0n"
      },
      "execution_count": null,
      "outputs": []
    },
    {
      "cell_type": "code",
      "source": [],
      "metadata": {
        "id": "fE-_ovGY9f1L"
      },
      "execution_count": null,
      "outputs": []
    },
    {
      "cell_type": "code",
      "source": [],
      "metadata": {
        "id": "HmAVqYtD9f1n"
      },
      "execution_count": null,
      "outputs": []
    },
    {
      "cell_type": "code",
      "source": [],
      "metadata": {
        "id": "-7K5v63r9f2K"
      },
      "execution_count": null,
      "outputs": []
    },
    {
      "cell_type": "code",
      "source": [],
      "metadata": {
        "id": "4fVO35Q09f2r"
      },
      "execution_count": null,
      "outputs": []
    },
    {
      "cell_type": "code",
      "source": [],
      "metadata": {
        "id": "ayunA3f69f3N"
      },
      "execution_count": null,
      "outputs": []
    },
    {
      "cell_type": "code",
      "source": [],
      "metadata": {
        "id": "PgPadykg9f3s"
      },
      "execution_count": null,
      "outputs": []
    },
    {
      "cell_type": "code",
      "source": [],
      "metadata": {
        "id": "45SN-zC99f4K"
      },
      "execution_count": null,
      "outputs": []
    },
    {
      "cell_type": "code",
      "source": [],
      "metadata": {
        "id": "_8Cgl70g9f4p"
      },
      "execution_count": null,
      "outputs": []
    },
    {
      "cell_type": "code",
      "source": [],
      "metadata": {
        "id": "9hsyRARt9f5K"
      },
      "execution_count": null,
      "outputs": []
    },
    {
      "cell_type": "code",
      "source": [],
      "metadata": {
        "id": "ht3bmA_W9f5r"
      },
      "execution_count": null,
      "outputs": []
    },
    {
      "cell_type": "code",
      "source": [],
      "metadata": {
        "id": "6Q6mTlZq9f6O"
      },
      "execution_count": null,
      "outputs": []
    },
    {
      "cell_type": "code",
      "source": [],
      "metadata": {
        "id": "MR6UsJrx9f6u"
      },
      "execution_count": null,
      "outputs": []
    },
    {
      "cell_type": "code",
      "source": [],
      "metadata": {
        "id": "N2_WJXxX9f7P"
      },
      "execution_count": null,
      "outputs": []
    },
    {
      "cell_type": "code",
      "source": [],
      "metadata": {
        "id": "pIGOG12J9f7w"
      },
      "execution_count": null,
      "outputs": []
    },
    {
      "cell_type": "code",
      "source": [],
      "metadata": {
        "id": "FXWESk6P9f8Z"
      },
      "execution_count": null,
      "outputs": []
    },
    {
      "cell_type": "code",
      "source": [],
      "metadata": {
        "id": "aLQyafmJ9f84"
      },
      "execution_count": null,
      "outputs": []
    },
    {
      "cell_type": "code",
      "source": [],
      "metadata": {
        "id": "ryFOLcQB9f9X"
      },
      "execution_count": null,
      "outputs": []
    },
    {
      "cell_type": "code",
      "source": [],
      "metadata": {
        "id": "CCTMZCzr9f92"
      },
      "execution_count": null,
      "outputs": []
    },
    {
      "cell_type": "code",
      "source": [],
      "metadata": {
        "id": "JI1Yg1Pp9f-f"
      },
      "execution_count": null,
      "outputs": []
    },
    {
      "cell_type": "code",
      "source": [],
      "metadata": {
        "id": "ttkoThOA9f_A"
      },
      "execution_count": null,
      "outputs": []
    },
    {
      "cell_type": "code",
      "source": [],
      "metadata": {
        "id": "tCAoOP6q9f_i"
      },
      "execution_count": null,
      "outputs": []
    },
    {
      "cell_type": "code",
      "source": [],
      "metadata": {
        "id": "pil08Kka9f_-"
      },
      "execution_count": null,
      "outputs": []
    },
    {
      "cell_type": "code",
      "source": [],
      "metadata": {
        "id": "TBzUV6-z9gAg"
      },
      "execution_count": null,
      "outputs": []
    },
    {
      "cell_type": "code",
      "source": [],
      "metadata": {
        "id": "uI0OcHRi9gBG"
      },
      "execution_count": null,
      "outputs": []
    },
    {
      "cell_type": "code",
      "source": [],
      "metadata": {
        "id": "JgSGuWZD9gBp"
      },
      "execution_count": null,
      "outputs": []
    },
    {
      "cell_type": "code",
      "source": [],
      "metadata": {
        "id": "ghlVgUMS9gCJ"
      },
      "execution_count": null,
      "outputs": []
    },
    {
      "cell_type": "code",
      "source": [],
      "metadata": {
        "id": "Z1oKRmDs9gCp"
      },
      "execution_count": null,
      "outputs": []
    },
    {
      "cell_type": "code",
      "source": [],
      "metadata": {
        "id": "Uga2TgTS9gDN"
      },
      "execution_count": null,
      "outputs": []
    },
    {
      "cell_type": "code",
      "source": [],
      "metadata": {
        "id": "5s4iKp5K9gDs"
      },
      "execution_count": null,
      "outputs": []
    },
    {
      "cell_type": "code",
      "source": [],
      "metadata": {
        "id": "QJnN9GIm9gEO"
      },
      "execution_count": null,
      "outputs": []
    },
    {
      "cell_type": "code",
      "source": [],
      "metadata": {
        "id": "3wtYBZKm9gEr"
      },
      "execution_count": null,
      "outputs": []
    },
    {
      "cell_type": "code",
      "source": [],
      "metadata": {
        "id": "Yz5TVHTi9gFP"
      },
      "execution_count": null,
      "outputs": []
    },
    {
      "cell_type": "code",
      "source": [],
      "metadata": {
        "id": "fl5CDblE9gFu"
      },
      "execution_count": null,
      "outputs": []
    },
    {
      "cell_type": "code",
      "source": [],
      "metadata": {
        "id": "qRj5odlM9gGQ"
      },
      "execution_count": null,
      "outputs": []
    },
    {
      "cell_type": "code",
      "source": [],
      "metadata": {
        "id": "VW9cB95X9gG2"
      },
      "execution_count": null,
      "outputs": []
    }
  ]
}