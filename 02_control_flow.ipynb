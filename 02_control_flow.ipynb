{
  "nbformat": 4,
  "nbformat_minor": 0,
  "metadata": {
    "colab": {
      "provenance": [],
      "authorship_tag": "ABX9TyPLW15ogEiRm7Sm+COsXxqY",
      "include_colab_link": true
    },
    "kernelspec": {
      "name": "python3",
      "display_name": "Python 3"
    },
    "language_info": {
      "name": "python"
    }
  },
  "cells": [
    {
      "cell_type": "markdown",
      "metadata": {
        "id": "view-in-github",
        "colab_type": "text"
      },
      "source": [
        "<a href=\"https://colab.research.google.com/github/SeongYunHong/mirae-python/blob/main/02_control_flow.ipynb\" target=\"_parent\"><img src=\"https://colab.research.google.com/assets/colab-badge.svg\" alt=\"Open In Colab\"/></a>"
      ]
    },
    {
      "cell_type": "markdown",
      "source": [
        "if문에서 false인 경우\n",
        "*   0\n",
        "*   ''\n",
        "*   []\n",
        "*   {}\n",
        "*   ()\n",
        "*   false\n",
        "\n",
        "for문에서 in 뒤에 올 수 있는 경우\n",
        "*   Collections\n",
        "*   range\n",
        "*   interator\n",
        "*   enumerator : 인덱스+데이터\n",
        "*   zip : 여러개의 리스트\n",
        "*   generator : 데이터 생성\n",
        "\n",
        "\n",
        "\n"
      ],
      "metadata": {
        "id": "WVGGzNBUQUF-"
      }
    },
    {
      "cell_type": "code",
      "execution_count": null,
      "metadata": {
        "colab": {
          "base_uri": "https://localhost:8080/"
        },
        "id": "qtIgfPiwQMTx",
        "outputId": "929cd7a0-14b0-421d-d4a1-8c7ed726a6cf"
      },
      "outputs": [
        {
          "output_type": "stream",
          "name": "stdout",
          "text": [
            "80이하\n"
          ]
        }
      ],
      "source": [
        "score=70\n",
        "if score>=80:\n",
        "  print(\"80이상\")\n",
        "else:\n",
        "  print('80이하')"
      ]
    },
    {
      "cell_type": "code",
      "source": [
        "city=''\n",
        "if not city:\n",
        "  print('빈문자열')"
      ],
      "metadata": {
        "colab": {
          "base_uri": "https://localhost:8080/"
        },
        "id": "sAIrb78ORiQQ",
        "outputId": "8ea325ad-7f5a-4b8d-f9ae-4a5d09ef65eb"
      },
      "execution_count": null,
      "outputs": [
        {
          "output_type": "stream",
          "name": "stdout",
          "text": [
            "빈문자열\n"
          ]
        }
      ]
    },
    {
      "cell_type": "code",
      "source": [
        "x=5\n",
        "ans='양수' if x>=0 else '음수'\n",
        "print(ans)"
      ],
      "metadata": {
        "colab": {
          "base_uri": "https://localhost:8080/"
        },
        "id": "taTslK8-Rj_Z",
        "outputId": "d52c055e-b257-40aa-ca4f-b012708fad95"
      },
      "execution_count": null,
      "outputs": [
        {
          "output_type": "stream",
          "name": "stdout",
          "text": [
            "양수\n"
          ]
        }
      ]
    },
    {
      "cell_type": "code",
      "source": [
        "names=['대한','민국','만세']\n",
        "for name in names: #Collections(list, tuple, dict, set)\n",
        "  print(name)"
      ],
      "metadata": {
        "colab": {
          "base_uri": "https://localhost:8080/"
        },
        "id": "xHMgk_iTRkCB",
        "outputId": "01ac1941-31b6-4b23-8377-fc5e1b0777f6"
      },
      "execution_count": null,
      "outputs": [
        {
          "output_type": "stream",
          "name": "stdout",
          "text": [
            "대한\n",
            "민국\n",
            "만세\n"
          ]
        }
      ]
    },
    {
      "cell_type": "code",
      "source": [
        "enumerate(names)"
      ],
      "metadata": {
        "colab": {
          "base_uri": "https://localhost:8080/"
        },
        "id": "txT9p4uZRkEo",
        "outputId": "16f412f3-1214-454b-d8f8-be4d86fecbba"
      },
      "execution_count": null,
      "outputs": [
        {
          "output_type": "execute_result",
          "data": {
            "text/plain": [
              "<enumerate at 0x797afd214fc0>"
            ]
          },
          "metadata": {},
          "execution_count": 5
        }
      ]
    },
    {
      "cell_type": "code",
      "source": [
        "list(enumerate(names))"
      ],
      "metadata": {
        "colab": {
          "base_uri": "https://localhost:8080/"
        },
        "id": "hMI57ua4RkGg",
        "outputId": "737c67f2-dcd0-4973-aaad-a641952aca3e"
      },
      "execution_count": null,
      "outputs": [
        {
          "output_type": "execute_result",
          "data": {
            "text/plain": [
              "[(0, '대한'), (1, '민국'), (2, '만세')]"
            ]
          },
          "metadata": {},
          "execution_count": 6
        }
      ]
    },
    {
      "cell_type": "code",
      "source": [
        "for name in enumerate(names):\n",
        "  print(name)"
      ],
      "metadata": {
        "colab": {
          "base_uri": "https://localhost:8080/"
        },
        "id": "KhaVtCMpRkIo",
        "outputId": "e609c6c2-3473-4dce-92b4-a957a3b100d1"
      },
      "execution_count": null,
      "outputs": [
        {
          "output_type": "stream",
          "name": "stdout",
          "text": [
            "(0, '대한')\n",
            "(1, '민국')\n",
            "(2, '만세')\n"
          ]
        }
      ]
    },
    {
      "cell_type": "code",
      "source": [
        "for num, name in enumerate(names):\n",
        "  print(num,name)"
      ],
      "metadata": {
        "colab": {
          "base_uri": "https://localhost:8080/"
        },
        "id": "ZzHKuRCBRkKx",
        "outputId": "a02235c3-a698-4bd2-bbc5-890f1eaff509"
      },
      "execution_count": null,
      "outputs": [
        {
          "output_type": "stream",
          "name": "stdout",
          "text": [
            "0 대한\n",
            "1 민국\n",
            "2 만세\n"
          ]
        }
      ]
    },
    {
      "cell_type": "markdown",
      "source": [
        "list 명령어\n",
        "\n",
        "*   insert\n",
        "*   remove\n",
        "*   pop 등등\n",
        "*  del은 일반 명령어-주소만 없앰, 데이터에서는 가비지 콜렉션을 없앰\n"
      ],
      "metadata": {
        "id": "zwky9ns7XWrY"
      }
    },
    {
      "cell_type": "code",
      "source": [
        "names=[\"대한\",\"민국\",\"만세\",\"성공\"]\n",
        "data=[1,3,6,1]\n",
        "zip(names,data)\n",
        "monarchs=list(zip(names,data))"
      ],
      "metadata": {
        "colab": {
          "base_uri": "https://localhost:8080/"
        },
        "id": "WKNaDWgaW5ae",
        "outputId": "96d1af52-0921-4b9d-e8b0-93362af83bdb"
      },
      "execution_count": null,
      "outputs": [
        {
          "output_type": "execute_result",
          "data": {
            "text/plain": [
              "[('대한', 1), ('민국', 3), ('만세', 6), ('성공', 1)]"
            ]
          },
          "metadata": {},
          "execution_count": 14
        }
      ]
    },
    {
      "cell_type": "code",
      "source": [
        "monarchs=[(\"대한\",1),(\"민국\",3),(\"만세\",6),(\"성공\",1)]\n",
        "monarchs.sort()\n",
        "print(monarchs)"
      ],
      "metadata": {
        "colab": {
          "base_uri": "https://localhost:8080/"
        },
        "id": "6BNtJ0eLWMRf",
        "outputId": "fff6b481-a76d-4a59-deca-a2a334e94d4d"
      },
      "execution_count": null,
      "outputs": [
        {
          "output_type": "stream",
          "name": "stdout",
          "text": [
            "[('대한', 1), ('만세', 6), ('민국', 3), ('성공', 1)]\n"
          ]
        }
      ]
    },
    {
      "cell_type": "code",
      "source": [
        "#lambda 함수는 무명함수(일회용 함수)\n",
        "#파이썬의 함수도 객체이다, 클래스도 함수가 될 수 있\n",
        "select=lambda row : row[1]\n",
        "monarchs.sort(key=select)\n",
        "print(monarchs)"
      ],
      "metadata": {
        "colab": {
          "base_uri": "https://localhost:8080/"
        },
        "id": "jXAs1yBTWNB3",
        "outputId": "04f491d4-0f07-4e92-a1c7-abfc2f814f2d"
      },
      "execution_count": null,
      "outputs": [
        {
          "output_type": "stream",
          "name": "stdout",
          "text": [
            "[('대한', 1), ('성공', 1), ('민국', 3), ('만세', 6)]\n"
          ]
        }
      ]
    },
    {
      "cell_type": "code",
      "source": [
        "monarchs.sort(key=lambda row : row[1], reverse=True)\n",
        "print(monarchs)"
      ],
      "metadata": {
        "id": "-96rWcfKWNEG"
      },
      "execution_count": null,
      "outputs": []
    },
    {
      "cell_type": "code",
      "source": [
        "#monarchs[0][0]=\"대한민국\" #투퓰은 수정 불가능"
      ],
      "metadata": {
        "id": "JMt_vfdRWNGO"
      },
      "execution_count": null,
      "outputs": []
    },
    {
      "cell_type": "code",
      "source": [
        "school=[]\n",
        "name=input(\"이름을 입력하시오 : \")\n",
        "kor=eval(input(\"국어점수를 입력하시오 : \"))\n",
        "school.append([name,kor])\n",
        "\n",
        "name=input(\"이름을 입력하시오 : \")\n",
        "kor=eval(input(\"국어점수를 입력하시오 : \"))\n",
        "school.append([name,kor])\n",
        "\n",
        "name=input(\"이름을 입력하시오 : \")\n",
        "kor=eval(input(\"국어점수를 입력하시오 : \"))\n",
        "school.append([name,kor])"
      ],
      "metadata": {
        "colab": {
          "base_uri": "https://localhost:8080/"
        },
        "id": "ZHT2V-DQWNIf",
        "outputId": "b12d32ae-2bf9-45b2-dd06-4367d2e0ff0c"
      },
      "execution_count": null,
      "outputs": [
        {
          "output_type": "stream",
          "name": "stdout",
          "text": [
            "이름을 입력하시오 : a\n",
            "국어점수를 입력하시오 : 50\n",
            "이름을 입력하시오 : ax\n",
            "국어점수를 입력하시오 : 80\n",
            "이름을 입력하시오 : z\n",
            "국어점수를 입력하시오 : 70\n",
            "[['a', 50], ['z', 70], ['ax', 80]]\n"
          ]
        }
      ]
    },
    {
      "cell_type": "code",
      "source": [
        "school.sort(key=lambda row : row[1],revers=True)\n",
        "print(school)"
      ],
      "metadata": {
        "id": "6MNwjbluWNKf"
      },
      "execution_count": null,
      "outputs": []
    },
    {
      "cell_type": "code",
      "source": [
        "schools=[]\n",
        "for i in range(3):\n",
        "  name=input(\"이름을 입력하시오 : \")\n",
        "  kor=eval(input(\"국어점수를 입력하시오 : \"))\n",
        "  pair=[]\n",
        "  pair.append(name)\n",
        "  pair.append(kor)\n",
        "  schools.append(pair)\n",
        "schools.sort(key=lambda row : row[1],revers=True)\n",
        "print(schools)"
      ],
      "metadata": {
        "id": "si9JKaSTWNP_"
      },
      "execution_count": null,
      "outputs": []
    },
    {
      "cell_type": "code",
      "source": [
        "#문제\n",
        "#010-123-4567에서 010만 추출하시오\n",
        "tel='010-123-4567'\n",
        "tel.split('-')[0]"
      ],
      "metadata": {
        "colab": {
          "base_uri": "https://localhost:8080/",
          "height": 35
        },
        "id": "FysAhJ-mcZdv",
        "outputId": "3f178cc1-0e30-41b5-8597-f7fdb107d157"
      },
      "execution_count": null,
      "outputs": [
        {
          "output_type": "execute_result",
          "data": {
            "text/plain": [
              "'010'"
            ],
            "application/vnd.google.colaboratory.intrinsic+json": {
              "type": "string"
            }
          },
          "metadata": {},
          "execution_count": 37
        }
      ]
    },
    {
      "cell_type": "code",
      "source": [
        "number=0\n",
        "if number>0:\n",
        "  print(\"Positive number\")\n",
        "elif number==0:\n",
        "  print('Zero')\n",
        "else:\n",
        "  print('Negative number')"
      ],
      "metadata": {
        "colab": {
          "base_uri": "https://localhost:8080/"
        },
        "id": "Vq-SQvCAca2A",
        "outputId": "3951580f-25b9-46a9-e4e1-27a2b5c8a762"
      },
      "execution_count": null,
      "outputs": [
        {
          "output_type": "stream",
          "name": "stdout",
          "text": [
            "Zero\n"
          ]
        }
      ]
    },
    {
      "cell_type": "code",
      "source": [
        "#문제\n",
        "#수입(income)과 지출(costs)를 입력받아서 순수입을 출력하는 프로그램\n",
        "#손익분기점, 순수입, 순손실\n",
        "\n",
        "income=int(input(\"수입을 입력하시오 : \"))\n",
        "costs=int(input(\"지출을 입력하시오 : \"))\n",
        "\n",
        "if(income>costs):\n",
        "  #result='순수익={0:.2f}'.format(income-costs)\n",
        "  print(\"순수익 : \",(income-costs))\n",
        "\n",
        "elif(income<costs):\n",
        "  #result='순손실={0:.2f}'.format(costs-income)\n",
        "  print(\"순손실 : \",(costs-income))\n",
        "\n",
        "else : print(\"손익분기점\")\n",
        "#print(result)"
      ],
      "metadata": {
        "colab": {
          "base_uri": "https://localhost:8080/"
        },
        "id": "yR4Z3lF_ca4f",
        "outputId": "a0500a19-901f-4f67-efdc-97fef0ed2a04"
      },
      "execution_count": null,
      "outputs": [
        {
          "output_type": "stream",
          "name": "stdout",
          "text": [
            "수입을 입력하시오 : 100\n",
            "지출을 입력하시오 : 30\n",
            "순수익 :  70\n"
          ]
        }
      ]
    },
    {
      "cell_type": "code",
      "source": [
        "#문제\n",
        "#color와 mode를 입력받아서 날씨 예측 프로그램\n",
        "color=input(\"색을 입력하시오 (BLUE, RED) : \").upper()\n",
        "mode=input(\"모드를 입력하시오 (STEADY, FLASHING): \").upper()\n",
        "\n",
        "if color==\"BLUE\" and mode==\"STEADY\":\n",
        "  print(\"화창\")\n",
        "elif color==\"BLUE\" and mode==\"FLASHING\":\n",
        "  print(\"구름\")\n",
        "elif color==\"RED\" and mode==\"STEADY\":\n",
        "  print(\"비오는날\")\n",
        "elif color==\"RED\" and mode==\"FLASHING\":\n",
        "  print(\"눈오는날\")\n",
        "else : print(\"잘못입력하셨습니다.\")"
      ],
      "metadata": {
        "colab": {
          "base_uri": "https://localhost:8080/"
        },
        "id": "n6SmgFCXca6f",
        "outputId": "d90f10d2-2c07-4794-de74-2eab57a6cbec"
      },
      "execution_count": null,
      "outputs": [
        {
          "output_type": "stream",
          "name": "stdout",
          "text": [
            "색을 입력하시오 (BLUE, RED) : red\n",
            "모드를 입력하시오 (STEADY, FLASHING): steady\n",
            "비오는날\n"
          ]
        }
      ]
    },
    {
      "cell_type": "code",
      "source": [
        "#문제\n",
        "#점수를 입력받아서 a,b,c,d,f 출력\n",
        "\n",
        "jumsu=int(input(\"점수를 입력하시오 : \"))\n",
        "\n",
        "if jumsu>=90 and jumsu<=100:\n",
        "  grade='A'\n",
        "elif jumsu>=80 and jumsu<90:\n",
        "  grade='B'\n",
        "elif jumsu>=70 and jumsu<80:\n",
        "  grade='C'\n",
        "elif jumsu>=60 and jumsu<70:\n",
        "  grade='D'\n",
        "else:\n",
        "  grade='F'\n",
        "print(\"학점 : \",grade)"
      ],
      "metadata": {
        "colab": {
          "base_uri": "https://localhost:8080/"
        },
        "id": "MQc_etGMca8e",
        "outputId": "ad43f8cc-145a-42ec-b9d8-6c30a0e846fc"
      },
      "execution_count": null,
      "outputs": [
        {
          "output_type": "stream",
          "name": "stdout",
          "text": [
            "점수를 입력하시오 : 23\n",
            "학점 :  F\n"
          ]
        }
      ]
    },
    {
      "cell_type": "code",
      "source": [
        "#문제\n",
        "#1개의 과일가격 100.50원에 세금 12.5%를 붙여서 팔았다.\n",
        "#세금과 매출액을 출력(소수점 둘째자리까지)\n",
        "tax_rate=0.125\n",
        "price=100.50\n",
        "tax_per_one = price*tax_rate\n",
        "sales_price=price*(1+tax_rate)\n",
        "print(\"매출액 : {}, 세금 : {}\".format(round(sales_price,2),round(tax_per_one,2)))"
      ],
      "metadata": {
        "colab": {
          "base_uri": "https://localhost:8080/"
        },
        "id": "Ux8-NmF6pD3Z",
        "outputId": "d64c069b-05ce-4fe2-8107-af53d4ebcca9"
      },
      "execution_count": null,
      "outputs": [
        {
          "output_type": "stream",
          "name": "stdout",
          "text": [
            "매출액 : 113.06, 세금 : 12.56\n"
          ]
        }
      ]
    },
    {
      "cell_type": "code",
      "source": [
        "n=int(input(\"판매 개수 입력 : \"))\n",
        "tax_rate=0.125\n",
        "price=100.50\n",
        "tax_per_one = price*tax_rate\n",
        "sales_price=price*(1+tax_rate)\n",
        "print(\"매출액 : {}, 세금 : {}\".format(round(sales_price*n,2),round(tax_per_one*n,2)))"
      ],
      "metadata": {
        "colab": {
          "base_uri": "https://localhost:8080/"
        },
        "id": "F29HrvhmpD5o",
        "outputId": "655aa388-b663-41d7-f085-c0cd64ef2fc9"
      },
      "execution_count": null,
      "outputs": [
        {
          "output_type": "stream",
          "name": "stdout",
          "text": [
            "판매 개수 입력 : 3\n",
            "매출액 : 339.19, 세금 : 37.69\n"
          ]
        }
      ]
    },
    {
      "cell_type": "code",
      "source": [
        "#문제\n",
        "#평수=제곱미터/3.305\n",
        "#제곱미터로 입력되는 아파트 면적을 평수로 계산하고 종류를 판정하시오(17<=소형, 17<중형<30,30<=대형)\n",
        "\n",
        "area=int(input(\"크기를 입력하시오 (제곱미터) : \"))\n",
        "c=3.305\n",
        "p=area/c\n",
        "\n",
        "if p<=17:\n",
        "  result=\"소형\"\n",
        "elif p>17 and p<30:\n",
        "  result=\"중형\"\n",
        "elif p>30:\n",
        "  result=\"대형\"\n",
        "print(\"집의 먼젹은\",area,\"이고 크기는 \",result,\"입니다.\")"
      ],
      "metadata": {
        "id": "yYx8cNwSyYfI"
      },
      "execution_count": null,
      "outputs": []
    },
    {
      "cell_type": "code",
      "source": [
        "#문제\n",
        "#놀이공원 매표소 단체 입장료 계산\n",
        "#팀별 인원 구성을 입력(초등,청소년,일반,경로대상)\n",
        "#초등 : 5000/ 청소년 : 10000/ 일반 : 15000, 경로대상 : 3000\n",
        "#팀별 할인카드 : 없음, 일반(10%), vip(20%)\n",
        "peo=[0,0,0,0]\n",
        "cho=5000\n",
        "chung=10000\n",
        "il=15000\n",
        "gy=3000\n",
        "il_discount=0.9\n",
        "vip_discount=0.8\n",
        "\n",
        "peo[0]=int(input(\"초등학생 수를 입력하시오 : \"))\n",
        "peo[1]=int(input(\"청소년 수를 입력하시오 : \"))\n",
        "peo[2]=int(input(\"일반인 수를 입력하시오 : \"))\n",
        "peo[3]=int(input(\"경로대상 수를 입력하시오 : \"))\n",
        "\n",
        "card=input(\"할인카드를 입력하시오 : \")\n",
        "if card==\"없음\":\n",
        "  result=(peo[0]*cho)+(peo[1]*chung)+(peo[2]*il)+(peo[3]*gy)\n",
        "elif card==\"일반\":\n",
        "  result=((peo[0]*cho)+(peo[1]*chung)+(peo[2]*il)+(peo[3]*gy))*il_discount\n",
        "elif card==\"vip\":\n",
        "  result=((peo[0]*cho)+(peo[1]*chung)+(peo[2]*il)+(peo[3]*gy))*vip_discount\n",
        "print(\"총 가격은 \",result,\"원입니다.\")"
      ],
      "metadata": {
        "colab": {
          "base_uri": "https://localhost:8080/"
        },
        "id": "J92paNfvpD75",
        "outputId": "2c2e67b1-9f34-465c-ddd7-bd1c695f1880"
      },
      "execution_count": null,
      "outputs": [
        {
          "output_type": "stream",
          "name": "stdout",
          "text": [
            "초등학생 수를 입력하시오 : 1\n",
            "청소년 수를 입력하시오 : 1\n",
            "일반인 수를 입력하시오 : 1\n",
            "경로대상 수를 입력하시오 : 1\n",
            "할인카드를 입력하시오 : 없음\n",
            "총 가격은  33000 원입니다.\n"
          ]
        }
      ]
    },
    {
      "cell_type": "code",
      "source": [
        "#문제\n",
        "#놀이공원 매표소 단체 입장료 계산\n",
        "#팀별 인원 구성을 입력(초등,청소년,일반,경로대상)\n",
        "#초등 : 5000/ 청소년 : 10000/ 일반 : 15000, 경로대상 : 3000\n",
        "#팀별 할인카드 : 없음, 일반(10%), vip(20%)\n",
        "peo=[0,0,0,0,0]\n",
        "cho=5000\n",
        "chung=10000\n",
        "il=15000\n",
        "gy=3000\n",
        "il_discount=0.9\n",
        "vip_discount=0.8\n",
        "\n",
        "peo[0]=int(input(\"초등학생 수를 입력하시오 : \"))\n",
        "peo[1]=int(input(\"청소년 수를 입력하시오 : \"))\n",
        "peo[2]=int(input(\"일반인 수를 입력하시오 : \"))\n",
        "peo[3]=int(input(\"경로대상 수를 입력하시오 : \"))\n",
        "\n",
        "peo[4]=int(input(\"할인카드를 입력하시오 (없음 : 0, 일반 : 1, vip : 2) : \"))\n",
        "result=((peo[0]*cho)+(peo[1]*chung)+(peo[2]*il)+(peo[3]*gy))*(1-(0.1*peo[4]))\n",
        "print(\"총 가격은 \",result,\"원입니다.\")"
      ],
      "metadata": {
        "id": "O4EeLCpbpD94"
      },
      "execution_count": null,
      "outputs": []
    },
    {
      "cell_type": "code",
      "source": [
        "year=int(input(\"연봉을 입력하시오 : \"))\n",
        "tax=0.0\n",
        "if year<=14000000:\n",
        "  tax=year*0.06\n",
        "elif year<50000000:\n",
        "  tax=14000000*0.06+(year-14000000)*0.15\n",
        "elif year<88000000:\n",
        "  tax=14000000*0.06+(50000000-14000000)*0.15+(year-50000000)*0.24\n",
        "elif year<150000000:\n",
        "  tax=14000000*0.06+(50000000-14000000)*0.15+(88000000-50000000)*0.24+(year-88000000)*0.35"
      ],
      "metadata": {
        "id": "LC6LUtV3pEDg"
      },
      "execution_count": null,
      "outputs": []
    },
    {
      "cell_type": "code",
      "source": [
        "year=int(input(\"연봉을 입력하시오 : \"))\n",
        "tax=0.0\n",
        "income_interval=[14000000,50000000,88000000,150000000,300000000,500000000,1000000000]\n",
        "income_level=[0,14000000,50000000,88000000,150000000,300000000,500000000,1000000000]\n",
        "basic_tax=[0,840000,6240000,15360000,37060000,94060000,174060000,384060000]\n",
        "tax_rate=[0.06,0.15,0.24,0.35,0.38,0.4,0.42,0.45]\n",
        "\n",
        "for i in range(8):\n",
        "  if i==0:\n",
        "    if year<income_interval[0]:\n",
        "      tax=basic_tax[0]+(year-income_level[0])*tax_rate[0]\n",
        "  elif income_interval[i-1]<year<income_interval[i]:\n",
        "    tax=basic_tax[i]+(year-income_level[i])*tax_rate[i]\n",
        "print(\"연봉 \",year,\"원에 대한 세금은 \",tax,\"원입니다.\")"
      ],
      "metadata": {
        "colab": {
          "base_uri": "https://localhost:8080/"
        },
        "id": "u8Fpb7HQpEHZ",
        "outputId": "118535c3-afec-474a-e85a-30fc8936d6dd"
      },
      "execution_count": null,
      "outputs": [
        {
          "output_type": "stream",
          "name": "stdout",
          "text": [
            "연봉을 입력하시오 : 13000000\n",
            "13000000.0\n"
          ]
        }
      ]
    },
    {
      "cell_type": "code",
      "source": [
        "year=int(input(\"연봉을 입력하시오 : \"))\n",
        "tax=0.0\n",
        "income_interval=[14000000,50000000,88000000,150000000,300000000,500000000,1000000000]\n",
        "tax_rate=[0.06,0.15,0.24,0.35,0.38,0.4,0.42,0.45]\n",
        "subtract_money=[0,1260000,5760000,15440000,19940000,25940000,35940000,65940000]\n",
        "\n",
        "if year<income_interval[0]:\n",
        "  tax=year*tax_rate[0]-subtract_money[0]\n",
        "\n",
        "for i in range(8):\n",
        "  if i==0:\n",
        "    if year<income_interval[i]:\n",
        "      tax=year*tax_rate[i]-subtract_money[i]\n",
        "  elif income_interval[i-1]<year<income_interval[i]:\n",
        "    tax=year*tax_rate[i]-subtract_money[i]\n",
        "print(\"연봉 \",year,\"원에 대한 세금은 \",tax,\"원입니다.\")"
      ],
      "metadata": {
        "id": "um4M-pb2pEFX"
      },
      "execution_count": null,
      "outputs": []
    },
    {
      "cell_type": "code",
      "source": [
        "elements=[\"earth\",\"air\",\"fire\",\"water\"]\n",
        "for i in elements:\n",
        "  print(i,end=\" \")"
      ],
      "metadata": {
        "colab": {
          "base_uri": "https://localhost:8080/"
        },
        "id": "ZEw6Mk05pEJQ",
        "outputId": "8057a721-be2f-439f-d961-e8a4d64dbebc"
      },
      "execution_count": null,
      "outputs": [
        {
          "output_type": "stream",
          "name": "stdout",
          "text": [
            "earth air fire water "
          ]
        }
      ]
    },
    {
      "cell_type": "code",
      "source": [
        "elements=[\"earth\",\"air\",\"fire\",\"water\"]\n",
        "for i in range(len(elements)):\n",
        "  print(elements[i], end=\" \")"
      ],
      "metadata": {
        "colab": {
          "base_uri": "https://localhost:8080/"
        },
        "id": "qIZ11kLBpELB",
        "outputId": "2f9f2637-c506-4061-da75-5d2726c26ba7"
      },
      "execution_count": null,
      "outputs": [
        {
          "output_type": "stream",
          "name": "stdout",
          "text": [
            "earth air fire water "
          ]
        }
      ]
    },
    {
      "cell_type": "code",
      "source": [
        "cart=[10,20,500,700,50,60]\n",
        "for item in cart:\n",
        "  if item>=500:\n",
        "    continue\n",
        "  print(item,end=\" \")"
      ],
      "metadata": {
        "colab": {
          "base_uri": "https://localhost:8080/"
        },
        "id": "xIRlpqW-pEM6",
        "outputId": "66cd05b5-25dd-48a9-bd81-f5a1dda78c6f"
      },
      "execution_count": null,
      "outputs": [
        {
          "output_type": "stream",
          "name": "stdout",
          "text": [
            "10 20 50 60 "
          ]
        }
      ]
    },
    {
      "cell_type": "code",
      "source": [
        "items=[1,5,7,9,11,15]\n",
        "target=9\n",
        "for item in items:\n",
        "  if item==target:\n",
        "    print(f\"원하는 값 검색:{item}\")\n",
        "    break\n",
        "  print(f\"현재 확인값{item}\")"
      ],
      "metadata": {
        "colab": {
          "base_uri": "https://localhost:8080/"
        },
        "id": "uX0cvKFJpEOZ",
        "outputId": "ad2ddb5e-9786-4b40-a5f2-fcaccebed965"
      },
      "execution_count": null,
      "outputs": [
        {
          "output_type": "stream",
          "name": "stdout",
          "text": [
            "현재 확인값1\n",
            "현재 확인값5\n",
            "현재 확인값7\n",
            "원하는 값 검색:9\n"
          ]
        }
      ]
    },
    {
      "cell_type": "markdown",
      "source": [
        "range(start,stop,step)\n",
        "\n",
        "range(start,stop) step=1\n",
        "\n",
        "range(stop) start=0, step=1"
      ],
      "metadata": {
        "id": "IXicnyljlcjM"
      }
    },
    {
      "cell_type": "code",
      "source": [
        "print(list(range(10)))\n",
        "#print(list(range(10,2)))\n",
        "print(list(range(1,10)))\n",
        "print(list(range(1,10,2)))\n",
        "print(list(range(10,1,-1)))\n",
        "#print(list(range(1,11,-1)))\n",
        "print(list(reversed(range(10)))) #거꾸로"
      ],
      "metadata": {
        "colab": {
          "base_uri": "https://localhost:8080/"
        },
        "id": "nDeS4RZpiN9d",
        "outputId": "fa24ac8d-1676-4838-856f-ef4600a0d1e4"
      },
      "execution_count": null,
      "outputs": [
        {
          "output_type": "stream",
          "name": "stdout",
          "text": [
            "[0, 1, 2, 3, 4, 5, 6, 7, 8, 9]\n",
            "[]\n",
            "[1, 2, 3, 4, 5, 6, 7, 8, 9]\n",
            "[1, 3, 5, 7, 9]\n",
            "[10, 9, 8, 7, 6, 5, 4, 3, 2]\n",
            "[]\n",
            "[9, 8, 7, 6, 5, 4, 3, 2, 1, 0]\n"
          ]
        }
      ]
    },
    {
      "cell_type": "code",
      "source": [
        "ra=range(4)\n",
        "ra=iter(ra)\n",
        "next(ra)\n",
        "next(ra)\n",
        "next(ra)\n",
        "next(ra)\n",
        "#next(ra) #범위 초과"
      ],
      "metadata": {
        "colab": {
          "base_uri": "https://localhost:8080/"
        },
        "id": "-0WprKU3iOAU",
        "outputId": "d183e59a-d7a0-436a-9bb3-280f47463540"
      },
      "execution_count": null,
      "outputs": [
        {
          "output_type": "execute_result",
          "data": {
            "text/plain": [
              "3"
            ]
          },
          "metadata": {},
          "execution_count": 97
        }
      ]
    },
    {
      "cell_type": "code",
      "source": [
        "#예외처리가 있는 이유 : 프로그램은 항상 정상 작동해야한다.\n",
        "ra=range(4)\n",
        "ra=iter(ra)\n",
        "print(ra)\n",
        "res=None #None : 데이터가 없음을 명시적으로 지정\n",
        "while True:\n",
        "  try:\n",
        "    res=next(ra)\n",
        "    print(res)\n",
        "  except StopIteration:\n",
        "    break"
      ],
      "metadata": {
        "colab": {
          "base_uri": "https://localhost:8080/"
        },
        "id": "cw80Loj-iOCz",
        "outputId": "50a32ee5-700f-4121-c9af-4b55883ea65d"
      },
      "execution_count": null,
      "outputs": [
        {
          "output_type": "stream",
          "name": "stdout",
          "text": [
            "<range_iterator object at 0x797ae363f2a0>\n",
            "0\n",
            "1\n",
            "2\n",
            "3\n"
          ]
        }
      ]
    },
    {
      "cell_type": "code",
      "source": [
        "print(sorted([7,1,2,6,0,3,2]))"
      ],
      "metadata": {
        "colab": {
          "base_uri": "https://localhost:8080/"
        },
        "id": "ayUFx8X5iOFT",
        "outputId": "9716188a-56c2-4521-a771-60134e3490b3"
      },
      "execution_count": null,
      "outputs": [
        {
          "output_type": "stream",
          "name": "stdout",
          "text": [
            "[0, 1, 2, 2, 3, 6, 7]\n"
          ]
        }
      ]
    },
    {
      "cell_type": "code",
      "source": [
        "my_list=['bobby','hadz','com']\n",
        "while my_list:\n",
        "  my_list.pop() #뒤에서 제거, 데이터를 인덱싱하고 제거(remove 리스트 밑에, del 일반함수 : 주소값만 없앰)\n",
        "  print(my_list)"
      ],
      "metadata": {
        "colab": {
          "base_uri": "https://localhost:8080/"
        },
        "id": "8bQw0qvUiOHj",
        "outputId": "250ffed2-fb2d-4624-bb5e-7cc4dfb531f0"
      },
      "execution_count": null,
      "outputs": [
        {
          "output_type": "stream",
          "name": "stdout",
          "text": [
            "['bobby', 'hadz']\n",
            "['bobby']\n",
            "[]\n"
          ]
        }
      ]
    },
    {
      "cell_type": "code",
      "source": [
        "for x in range(2,10):\n",
        "  for y in range(2,10):\n",
        "    print(x,'x',y,'=',x*y,end=\"   \")\n",
        "  print()"
      ],
      "metadata": {
        "colab": {
          "base_uri": "https://localhost:8080/"
        },
        "id": "E6jottNbiOJq",
        "outputId": "b182b2a0-c6de-49ef-a17d-49b01d3f1d50"
      },
      "execution_count": null,
      "outputs": [
        {
          "output_type": "stream",
          "name": "stdout",
          "text": [
            "2 x 2 = 4   2 x 3 = 6   2 x 4 = 8   2 x 5 = 10   2 x 6 = 12   2 x 7 = 14   2 x 8 = 16   2 x 9 = 18   \n",
            "3 x 2 = 6   3 x 3 = 9   3 x 4 = 12   3 x 5 = 15   3 x 6 = 18   3 x 7 = 21   3 x 8 = 24   3 x 9 = 27   \n",
            "4 x 2 = 8   4 x 3 = 12   4 x 4 = 16   4 x 5 = 20   4 x 6 = 24   4 x 7 = 28   4 x 8 = 32   4 x 9 = 36   \n",
            "5 x 2 = 10   5 x 3 = 15   5 x 4 = 20   5 x 5 = 25   5 x 6 = 30   5 x 7 = 35   5 x 8 = 40   5 x 9 = 45   \n",
            "6 x 2 = 12   6 x 3 = 18   6 x 4 = 24   6 x 5 = 30   6 x 6 = 36   6 x 7 = 42   6 x 8 = 48   6 x 9 = 54   \n",
            "7 x 2 = 14   7 x 3 = 21   7 x 4 = 28   7 x 5 = 35   7 x 6 = 42   7 x 7 = 49   7 x 8 = 56   7 x 9 = 63   \n",
            "8 x 2 = 16   8 x 3 = 24   8 x 4 = 32   8 x 5 = 40   8 x 6 = 48   8 x 7 = 56   8 x 8 = 64   8 x 9 = 72   \n",
            "9 x 2 = 18   9 x 3 = 27   9 x 4 = 36   9 x 5 = 45   9 x 6 = 54   9 x 7 = 63   9 x 8 = 72   9 x 9 = 81   \n"
          ]
        }
      ]
    },
    {
      "cell_type": "code",
      "source": [
        "for x in range(2,10):\n",
        "  for y in range(2,10):\n",
        "    print(x,'x',y,'=',x*y)\n",
        "  print()"
      ],
      "metadata": {
        "colab": {
          "base_uri": "https://localhost:8080/"
        },
        "id": "V9bIBKk4iOL7",
        "outputId": "f801b9a6-d21e-4c4c-b48a-5e5d460fcabe"
      },
      "execution_count": null,
      "outputs": [
        {
          "output_type": "stream",
          "name": "stdout",
          "text": [
            "2 x 2 = 4\n",
            "2 x 3 = 6\n",
            "2 x 4 = 8\n",
            "2 x 5 = 10\n",
            "2 x 6 = 12\n",
            "2 x 7 = 14\n",
            "2 x 8 = 16\n",
            "2 x 9 = 18\n",
            "\n",
            "3 x 2 = 6\n",
            "3 x 3 = 9\n",
            "3 x 4 = 12\n",
            "3 x 5 = 15\n",
            "3 x 6 = 18\n",
            "3 x 7 = 21\n",
            "3 x 8 = 24\n",
            "3 x 9 = 27\n",
            "\n",
            "4 x 2 = 8\n",
            "4 x 3 = 12\n",
            "4 x 4 = 16\n",
            "4 x 5 = 20\n",
            "4 x 6 = 24\n",
            "4 x 7 = 28\n",
            "4 x 8 = 32\n",
            "4 x 9 = 36\n",
            "\n",
            "5 x 2 = 10\n",
            "5 x 3 = 15\n",
            "5 x 4 = 20\n",
            "5 x 5 = 25\n",
            "5 x 6 = 30\n",
            "5 x 7 = 35\n",
            "5 x 8 = 40\n",
            "5 x 9 = 45\n",
            "\n",
            "6 x 2 = 12\n",
            "6 x 3 = 18\n",
            "6 x 4 = 24\n",
            "6 x 5 = 30\n",
            "6 x 6 = 36\n",
            "6 x 7 = 42\n",
            "6 x 8 = 48\n",
            "6 x 9 = 54\n",
            "\n",
            "7 x 2 = 14\n",
            "7 x 3 = 21\n",
            "7 x 4 = 28\n",
            "7 x 5 = 35\n",
            "7 x 6 = 42\n",
            "7 x 7 = 49\n",
            "7 x 8 = 56\n",
            "7 x 9 = 63\n",
            "\n",
            "8 x 2 = 16\n",
            "8 x 3 = 24\n",
            "8 x 4 = 32\n",
            "8 x 5 = 40\n",
            "8 x 6 = 48\n",
            "8 x 7 = 56\n",
            "8 x 8 = 64\n",
            "8 x 9 = 72\n",
            "\n",
            "9 x 2 = 18\n",
            "9 x 3 = 27\n",
            "9 x 4 = 36\n",
            "9 x 5 = 45\n",
            "9 x 6 = 54\n",
            "9 x 7 = 63\n",
            "9 x 8 = 72\n",
            "9 x 9 = 81\n",
            "\n"
          ]
        }
      ]
    },
    {
      "cell_type": "code",
      "source": [
        "#문제\n",
        "#두 수를 입력받아서 숫자이면 합계를 출력하고\n",
        "#숫자가 아닌 경우가 있는지 확인하시오\n",
        "\n",
        "a=input(\"수를 입력하시오 : \")\n",
        "b=input(\"수를 입력하시오 : \")\n",
        "\n",
        "if a.isdigit() and b.isdigit() == True:\n",
        "  result=int(a)+int(b)\n",
        "elif a.isdigit() and b.isalpha() == True:\n",
        "  result=b+\"는 문자입니다.\"\n",
        "elif a.isalpha() and b.isdigit() == True:\n",
        "  result=a+\"는 문자입니다.\"\n",
        "else :\n",
        "  result=\"모두 숫자가 아닌것이 입력되었습니다.\"\n",
        "print(result)"
      ],
      "metadata": {
        "colab": {
          "base_uri": "https://localhost:8080/"
        },
        "id": "ALivFuN-iOOD",
        "outputId": "a261eca2-521c-4a38-dc3c-5076d768a565"
      },
      "execution_count": null,
      "outputs": [
        {
          "output_type": "stream",
          "name": "stdout",
          "text": [
            "수를 입력하시오 : 2\n",
            "수를 입력하시오 : 1\n",
            "3\n"
          ]
        }
      ]
    },
    {
      "cell_type": "code",
      "source": [
        "#문제\n",
        "#3명의 (이름, 국어, 영어, 수학점수를 입력받아서 2차원 list에 입력하고 합계와 평균을 구하여 출력하시오)\n",
        "st=[]\n",
        "for i in range(3):\n",
        "  name=input(\"이름을 입력하시오 : \")\n",
        "  kor=int(input(\"국어 성적을 입력하시오 : \"))\n",
        "  eng=int(input(\"영어 성적을 입력하시오 : \"))\n",
        "  mat=int(input(\"수학 성적을 입력하시오 : \"))\n",
        "  sum=kor+eng+mat\n",
        "  avg=round(float(sum/3),2)\n",
        "  st.append([name,kor,eng,mat,sum,avg])\n",
        "  if st[i][5]>=90:\n",
        "    grd='A'\n",
        "  elif st[i][5]>=80:\n",
        "    grd='B'\n",
        "  elif st[i][5]>=70:\n",
        "    grd='C'\n",
        "  elif st[i][5]>=60:\n",
        "    grd='D'\n",
        "  else : grd='F'\n",
        "  st[i].append(grd)\n",
        "for i in range(3):\n",
        "  print(st[i][0],\"의 학점은 \",st[i][6],\"입니다.\")"
      ],
      "metadata": {
        "colab": {
          "base_uri": "https://localhost:8080/"
        },
        "id": "xA2D4H5GrkFT",
        "outputId": "a1c4459f-bd93-4d0f-b978-0611dab26bad"
      },
      "execution_count": null,
      "outputs": [
        {
          "output_type": "stream",
          "name": "stdout",
          "text": [
            "이름을 입력하시오 : a\n",
            "국어 성적을 입력하시오 : 90\n",
            "영어 성적을 입력하시오 : 1\n",
            "수학 성적을 입력하시오 : 2\n",
            "이름을 입력하시오 : v\n",
            "국어 성적을 입력하시오 : 45\n",
            "영어 성적을 입력하시오 : 65\n",
            "수학 성적을 입력하시오 : 77\n",
            "이름을 입력하시오 : ac\n",
            "국어 성적을 입력하시오 : 45\n",
            "영어 성적을 입력하시오 : 67\n",
            "수학 성적을 입력하시오 : 43\n",
            "a 의 학점은  F 입니다.\n",
            "v 의 학점은  D 입니다.\n",
            "ac 의 학점은  F 입니다.\n"
          ]
        }
      ]
    }
  ]
}