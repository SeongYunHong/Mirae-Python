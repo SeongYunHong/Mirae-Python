{
  "nbformat": 4,
  "nbformat_minor": 0,
  "metadata": {
    "colab": {
      "provenance": [],
      "authorship_tag": "ABX9TyOd59xlnlqpHPO6Pgg6aYoL",
      "include_colab_link": true
    },
    "kernelspec": {
      "name": "python3",
      "display_name": "Python 3"
    },
    "language_info": {
      "name": "python"
    }
  },
  "cells": [
    {
      "cell_type": "markdown",
      "metadata": {
        "id": "view-in-github",
        "colab_type": "text"
      },
      "source": [
        "<a href=\"https://colab.research.google.com/github/SeongYunHong/Mirae-Python/blob/main/06_numpy.ipynb\" target=\"_parent\"><img src=\"https://colab.research.google.com/assets/colab-badge.svg\" alt=\"Open In Colab\"/></a>"
      ]
    },
    {
      "cell_type": "code",
      "execution_count": null,
      "metadata": {
        "colab": {
          "base_uri": "https://localhost:8080/"
        },
        "id": "YxgVfSYQO4hP",
        "outputId": "81ce0555-fa42-4ed3-9c59-be236c75da6d"
      },
      "outputs": [
        {
          "output_type": "stream",
          "name": "stdout",
          "text": [
            "1.23.5\n",
            "[[1. 0. 0. 0. 0.]\n",
            " [0. 1. 0. 0. 0.]\n",
            " [0. 0. 1. 0. 0.]\n",
            " [0. 0. 0. 1. 0.]\n",
            " [0. 0. 0. 0. 1.]]\n"
          ]
        },
        {
          "output_type": "execute_result",
          "data": {
            "text/plain": [
              "array([[1., 0., 0., 0., 0.],\n",
              "       [0., 1., 0., 0., 0.],\n",
              "       [0., 0., 1., 0., 0.],\n",
              "       [0., 0., 0., 1., 0.],\n",
              "       [0., 0., 0., 0., 1.]])"
            ]
          },
          "metadata": {},
          "execution_count": 1
        }
      ],
      "source": [
        "import numpy as np\n",
        "print(np.__version__) #1.23.5\n",
        "print(np.eye(5)) #단위행렬\n",
        "np.identity(5) #단위행렬"
      ]
    },
    {
      "cell_type": "code",
      "source": [
        "#C-type 행우선, Fortran(과학 계산 용어)  열우선\n",
        "#order = c , f ,a ,k\n",
        "#행우선이 5-10배 빠르게 계산\n",
        "first=np.ndarray(shape=(2,2), dtype=float, order=\"F\")\n",
        "first.fill(10)\n",
        "first"
      ],
      "metadata": {
        "colab": {
          "base_uri": "https://localhost:8080/"
        },
        "id": "-d85vDSePF_i",
        "outputId": "a00d7e03-1ab9-4866-dd3f-4eac2bf35e82"
      },
      "execution_count": null,
      "outputs": [
        {
          "output_type": "execute_result",
          "data": {
            "text/plain": [
              "array([[10., 10.],\n",
              "       [10., 10.]])"
            ]
          },
          "metadata": {},
          "execution_count": 3
        }
      ]
    },
    {
      "cell_type": "code",
      "source": [
        "#range-list\n",
        "#생성시 데이터 수와 차원 수가 일치\n",
        "#연산시 broadcasting\n",
        "print(np.arange(10)) #ndarray\n",
        "array=np.arange(10).reshape(5,2) #list #차원확인\n",
        "print(\"원배열 : \\n\",array)"
      ],
      "metadata": {
        "id": "aYx0o9oDPPRL",
        "colab": {
          "base_uri": "https://localhost:8080/"
        },
        "outputId": "164151e6-9e11-4776-d8fb-7a5db1b7be94"
      },
      "execution_count": null,
      "outputs": [
        {
          "output_type": "stream",
          "name": "stdout",
          "text": [
            "[0 1 2 3 4 5 6 7 8 9]\n",
            "원배열 : \n",
            " [[0 1]\n",
            " [2 3]\n",
            " [4 5]\n",
            " [6 7]\n",
            " [8 9]]\n"
          ]
        }
      ]
    },
    {
      "cell_type": "code",
      "source": [
        "b=np.zeros_like(array,float) #데이터는 안가져오고 차수만 가져옴 #like 붙으면 행렬의 사이즈만 가져옴\n",
        "print(\"\\n동일 사이즈 행렬 : \\n\",b)\n",
        "array=np.arange(8)\n",
        "c=np.ones_like(array)\n",
        "print(\"\\nMatrix c : \\n\",c)"
      ],
      "metadata": {
        "id": "EkF-xa8BPPry",
        "colab": {
          "base_uri": "https://localhost:8080/"
        },
        "outputId": "046b5386-aad9-46ae-e178-01aa7e273384"
      },
      "execution_count": null,
      "outputs": [
        {
          "output_type": "stream",
          "name": "stdout",
          "text": [
            "\n",
            "동일 사이즈 행렬 : \n",
            " [0. 0. 0. 0. 0. 0. 0. 0.]\n",
            "\n",
            "Matrix c : \n",
            " [1 1 1 1 1 1 1 1]\n"
          ]
        }
      ]
    },
    {
      "cell_type": "code",
      "source": [
        "c_copy=c[0:5] #맨 뒤에 제외하고 slicing\n",
        "print(c_copy)\n",
        "\n",
        "c_copy[0:2]=100\n",
        "print(c)\n",
        "print(c_copy) #slicing은 pointer를 리턴\n",
        "#원본에 영향을 미치지 않으려면 deep_copy를 해야함"
      ],
      "metadata": {
        "id": "OawNLTrkPPze",
        "colab": {
          "base_uri": "https://localhost:8080/"
        },
        "outputId": "7fa1d4dd-8734-42e4-e57c-0f08345978e7"
      },
      "execution_count": null,
      "outputs": [
        {
          "output_type": "stream",
          "name": "stdout",
          "text": [
            "[100 100   1   1   1]\n",
            "[100 100   1   1   1   1   1   1]\n",
            "[100 100   1   1   1]\n"
          ]
        }
      ]
    },
    {
      "cell_type": "code",
      "source": [
        "e=np.arange(24).reshape(2,3,4) #3차원 2x3x4 면,행,열\n",
        "print(e)\n",
        "print(e.flatten()) #1차원으로 복사\n",
        "e=np.arange(24).reshape(1,1,1,1,1,1,1,1,1,1,2,3,4)\n",
        "print(\"차원확대\")\n",
        "print(e)\n",
        "print(\"차원축소\")\n",
        "\n",
        "e=e.reshape(-1,4)\n",
        "print(e)\n",
        "print(e[1])"
      ],
      "metadata": {
        "id": "Cts3p5UPPP0C",
        "colab": {
          "base_uri": "https://localhost:8080/"
        },
        "outputId": "44cf875a-bf49-48b9-8a8a-5c08a36c7247"
      },
      "execution_count": null,
      "outputs": [
        {
          "output_type": "stream",
          "name": "stdout",
          "text": [
            "[[[ 0  1  2  3]\n",
            "  [ 4  5  6  7]\n",
            "  [ 8  9 10 11]]\n",
            "\n",
            " [[12 13 14 15]\n",
            "  [16 17 18 19]\n",
            "  [20 21 22 23]]]\n",
            "[ 0  1  2  3  4  5  6  7  8  9 10 11 12 13 14 15 16 17 18 19 20 21 22 23]\n",
            "차원확대\n",
            "[[[[[[[[[[[[[ 0  1  2  3]\n",
            "            [ 4  5  6  7]\n",
            "            [ 8  9 10 11]]\n",
            "\n",
            "           [[12 13 14 15]\n",
            "            [16 17 18 19]\n",
            "            [20 21 22 23]]]]]]]]]]]]]\n",
            "차원축소\n",
            "[[ 0  1  2  3]\n",
            " [ 4  5  6  7]\n",
            " [ 8  9 10 11]\n",
            " [12 13 14 15]\n",
            " [16 17 18 19]\n",
            " [20 21 22 23]]\n",
            "[4 5 6 7]\n"
          ]
        }
      ]
    },
    {
      "cell_type": "code",
      "source": [
        "a=np.arange(10)\n",
        "print(type(a)) #ndarray\n",
        "print(a.dtype) #int64\n",
        "print(a.shape) #(10,)\n",
        "print(a.ndim)\n",
        "print(a.size)#10 요소수\n",
        "print(\"아이템 사이즈\",a.dtype.itemsize)\n",
        "print(a.astype(np.float32))"
      ],
      "metadata": {
        "id": "zJO9_tlMPP0i",
        "colab": {
          "base_uri": "https://localhost:8080/"
        },
        "outputId": "03f54bf0-5889-4b4f-e306-02c431321593"
      },
      "execution_count": null,
      "outputs": [
        {
          "output_type": "stream",
          "name": "stdout",
          "text": [
            "<class 'numpy.ndarray'>\n",
            "int64\n",
            "(10,)\n",
            "1\n",
            "10\n",
            "아이템 사이즈 8\n",
            "[0. 1. 2. 3. 4. 5. 6. 7. 8. 9.]\n"
          ]
        }
      ]
    },
    {
      "cell_type": "code",
      "source": [
        "arr=[1,2,3]\n",
        "a=np.array([1,2,3])\n",
        "print(a)"
      ],
      "metadata": {
        "id": "EVlK4uWmPP1F",
        "colab": {
          "base_uri": "https://localhost:8080/"
        },
        "outputId": "776c97c9-a6b7-461c-8b6d-0fecf5fb6245"
      },
      "execution_count": null,
      "outputs": [
        {
          "output_type": "stream",
          "name": "stdout",
          "text": [
            "[1 2 3]\n"
          ]
        }
      ]
    },
    {
      "cell_type": "code",
      "source": [
        "array=np.arange(11,36).reshape(5,-1)\n",
        "print(array)"
      ],
      "metadata": {
        "id": "0uYE0cFGPP1j",
        "colab": {
          "base_uri": "https://localhost:8080/"
        },
        "outputId": "5b6432f8-c4ab-43ab-fd4e-2ffd067e5ff5"
      },
      "execution_count": null,
      "outputs": [
        {
          "output_type": "stream",
          "name": "stdout",
          "text": [
            "(5, 5)\n",
            "[[11 12 13 14 15]\n",
            " [16 17 18 19 20]\n",
            " [21 22 23 24 25]\n",
            " [26 27 28 29 30]\n",
            " [31 32 33 34 35]]\n"
          ]
        }
      ]
    },
    {
      "cell_type": "code",
      "source": [
        "array.transpose() #전치\n",
        "array.T #전치"
      ],
      "metadata": {
        "id": "gjTaa6A-PP2G"
      },
      "execution_count": null,
      "outputs": []
    },
    {
      "cell_type": "code",
      "source": [
        "array"
      ],
      "metadata": {
        "id": "BRmeHzHXPP2i",
        "colab": {
          "base_uri": "https://localhost:8080/"
        },
        "outputId": "be7f3e80-aa47-439a-b459-4a1a01261ef1"
      },
      "execution_count": null,
      "outputs": [
        {
          "output_type": "execute_result",
          "data": {
            "text/plain": [
              "array([[11, 12, 13, 14, 15],\n",
              "       [16, 17, 18, 19, 20],\n",
              "       [21, 22, 23, 24, 25],\n",
              "       [26, 27, 28, 29, 30],\n",
              "       [31, 32, 33, 34, 35]])"
            ]
          },
          "metadata": {},
          "execution_count": 33
        }
      ]
    },
    {
      "cell_type": "code",
      "source": [
        "arr2d=np.array([[1,2,3],[4,5,6],[7,8,9]])\n",
        "print(arr2d.dtype)\n",
        "print(arr2d)\n",
        "print(arr2d[:2])\n",
        "print(arr2d[0])\n",
        "print(arr2d[0][2])\n",
        "print(arr2d[0,2])\n",
        "\n",
        "print(arr2d[:2])\n",
        "print(arr2d[:2,1:])\n",
        "print(arr2d[1,:2])\n",
        "print(arr2d[2,:1])"
      ],
      "metadata": {
        "id": "cxTWtjuuPP3U",
        "colab": {
          "base_uri": "https://localhost:8080/"
        },
        "outputId": "249acf30-f4e1-41aa-f99b-2675d7bd0b0d"
      },
      "execution_count": null,
      "outputs": [
        {
          "output_type": "stream",
          "name": "stdout",
          "text": [
            "int64\n",
            "[[1 2 3]\n",
            " [4 5 6]\n",
            " [7 8 9]]\n",
            "[[1 2 3]\n",
            " [4 5 6]]\n",
            "[1 2 3]\n",
            "3\n",
            "3\n",
            "[[1 2 3]\n",
            " [4 5 6]]\n",
            "[[2 3]\n",
            " [5 6]]\n",
            "[4 5]\n",
            "[7]\n"
          ]
        }
      ]
    },
    {
      "cell_type": "code",
      "source": [
        "arr2d[:2,:1]=0\n",
        "print(arr2d.ndim)\n",
        "print(arr2d.strides) #24,8 #행이 변하려면 24바이트를 건너뛰어야함, 열이 변하려면 8바이트를 건너뛰어야함"
      ],
      "metadata": {
        "id": "D_zOTYv_PP3u",
        "colab": {
          "base_uri": "https://localhost:8080/"
        },
        "outputId": "1101fc49-85a8-41ec-ac8e-1c0e7e4886d5"
      },
      "execution_count": null,
      "outputs": [
        {
          "output_type": "stream",
          "name": "stdout",
          "text": [
            "2\n",
            "(24, 8)\n"
          ]
        }
      ]
    },
    {
      "cell_type": "code",
      "source": [
        "a=np.array([[1,2],[3,4]])\n",
        "b=np.array([[4,3,4],[2,1,5]])\n",
        "#print(a+b) #요소연산할땐 차수가 일치해야함\n",
        "print(a+a)\n",
        "#print(a*b) #요소연산할땐 차수가 일치해야함\n",
        "print(a*a)\n",
        "print(a.dot(b)) #행렬곱"
      ],
      "metadata": {
        "id": "95qKy4fKPP4I",
        "colab": {
          "base_uri": "https://localhost:8080/"
        },
        "outputId": "147454ff-8841-4830-8e25-eae36b7a7e1a"
      },
      "execution_count": null,
      "outputs": [
        {
          "output_type": "stream",
          "name": "stdout",
          "text": [
            "[[2 4]\n",
            " [6 8]]\n",
            "[[ 1  4]\n",
            " [ 9 16]]\n",
            "[[ 8  5 14]\n",
            " [20 13 32]]\n"
          ]
        }
      ]
    },
    {
      "cell_type": "code",
      "source": [
        "Z=np.arange(36)\n",
        "Z=Z.reshape((6,6))\n",
        "print(Z)\n",
        "print(Z[1:5,1:5])\n",
        "print(Z[[1,2,3],[1,2,3]]) #[ 7 14 21]  두개씩 짝을 지어서 나옴 1,1 과 2,2 ,3,3 맵핑되어서 나옴"
      ],
      "metadata": {
        "id": "H_HYumwuPP4x",
        "colab": {
          "base_uri": "https://localhost:8080/"
        },
        "outputId": "78317b8b-8dbb-4c93-991b-a2da9a2cbe2d"
      },
      "execution_count": null,
      "outputs": [
        {
          "output_type": "stream",
          "name": "stdout",
          "text": [
            "[[ 0  1  2  3  4  5]\n",
            " [ 6  7  8  9 10 11]\n",
            " [12 13 14 15 16 17]\n",
            " [18 19 20 21 22 23]\n",
            " [24 25 26 27 28 29]\n",
            " [30 31 32 33 34 35]]\n",
            "[[ 7  8  9 10]\n",
            " [13 14 15 16]\n",
            " [19 20 21 22]\n",
            " [25 26 27 28]]\n",
            "[ 7 14 21]\n"
          ]
        }
      ]
    },
    {
      "cell_type": "code",
      "source": [
        "arr=np.arange(32).reshape((8,4))\n",
        "print(arr)\n",
        "print(arr[0,3])\n",
        "print(arr[0:2,0:2])\n",
        "print(\"조합인덱스\")\n",
        "print(arr[[1,5,7,2]],[0,3,1,2])\n",
        "\n",
        "print(\"파이프\")\n",
        "print(arr[[1,2,5,7]][:,[0,2,3]])\n",
        "#[1,2,5,7]->\n",
        "#[ 4  5  6  7]\n",
        "#[ 8  9 10 11]\n",
        "#[20 21 22 23]\n",
        "#[28 29 30 31]\n",
        "\n",
        "#[:,[0,2,3]]->\n",
        "#[ 4  6  7]\n",
        "#[ 8 10 11]\n",
        "#[20 22 23]\n",
        "#[28 30 31]\n",
        "\n",
        "print(arr[[1,5,7,2]][:,[0,3,1]])"
      ],
      "metadata": {
        "id": "uFvwkNzGPP5P",
        "colab": {
          "base_uri": "https://localhost:8080/"
        },
        "outputId": "feeacc2e-0597-4e7d-92b5-a0feb40b6f38"
      },
      "execution_count": null,
      "outputs": [
        {
          "output_type": "stream",
          "name": "stdout",
          "text": [
            "[[ 0  1  2  3]\n",
            " [ 4  5  6  7]\n",
            " [ 8  9 10 11]\n",
            " [12 13 14 15]\n",
            " [16 17 18 19]\n",
            " [20 21 22 23]\n",
            " [24 25 26 27]\n",
            " [28 29 30 31]]\n",
            "3\n",
            "[[0 1]\n",
            " [4 5]]\n",
            "조합인덱스\n",
            "[[ 4  5  6  7]\n",
            " [20 21 22 23]\n",
            " [28 29 30 31]\n",
            " [ 8  9 10 11]] [0, 3, 1, 2]\n",
            "파이프\n",
            "[[ 4  6  7]\n",
            " [ 8 10 11]\n",
            " [20 22 23]\n",
            " [28 30 31]]\n",
            "[[ 4  7  5]\n",
            " [20 23 21]\n",
            " [28 31 29]\n",
            " [ 8 11  9]]\n"
          ]
        }
      ]
    },
    {
      "cell_type": "code",
      "source": [
        "#arr=np.array([[0,1,2,3,4,5],[10,11,12,13,14,15],[20,21,22,23,24,25],[30,31,32,33,34,35],[40,41,42,43,44,45],[50,51,52,53,54,55]])\n",
        "\n",
        "arr=[]\n",
        "for i in range(6):\n",
        "  ad=[]\n",
        "  for j in range(6):\n",
        "    ad.append(i*10+j)\n",
        "  arr.append(ad)\n",
        "print(arr)\n",
        "arr=np.array(arr)"
      ],
      "metadata": {
        "id": "6JG1F_3zPP5x",
        "colab": {
          "base_uri": "https://localhost:8080/"
        },
        "outputId": "d518d287-5143-499e-828e-4bbf837c5b3f"
      },
      "execution_count": null,
      "outputs": [
        {
          "output_type": "stream",
          "name": "stdout",
          "text": [
            "[[0, 1, 2, 3, 4, 5], [10, 11, 12, 13, 14, 15], [20, 21, 22, 23, 24, 25], [30, 31, 32, 33, 34, 35], [40, 41, 42, 43, 44, 45], [50, 51, 52, 53, 54, 55]]\n"
          ]
        }
      ]
    },
    {
      "cell_type": "code",
      "source": [
        "#broadcasting\n",
        "a=np.arange(0,6)\n",
        "arr=np.array([a,a+10,a+20,a+30,a+40,a+50])\n",
        "arr"
      ],
      "metadata": {
        "id": "3ZRys9bwPP6T",
        "colab": {
          "base_uri": "https://localhost:8080/"
        },
        "outputId": "1de45a73-2acf-411d-fc45-60a76b0232ca"
      },
      "execution_count": null,
      "outputs": [
        {
          "output_type": "execute_result",
          "data": {
            "text/plain": [
              "array([[ 0,  1,  2,  3,  4,  5],\n",
              "       [10, 11, 12, 13, 14, 15],\n",
              "       [20, 21, 22, 23, 24, 25],\n",
              "       [30, 31, 32, 33, 34, 35],\n",
              "       [40, 41, 42, 43, 44, 45],\n",
              "       [50, 51, 52, 53, 54, 55]])"
            ]
          },
          "metadata": {},
          "execution_count": 72
        }
      ]
    },
    {
      "cell_type": "code",
      "source": [
        "print(arr[[0,1,2,3,4],[1,2,3,4,5]])"
      ],
      "metadata": {
        "id": "kpbSIYpsPP6x",
        "colab": {
          "base_uri": "https://localhost:8080/"
        },
        "outputId": "56f95498-9928-4628-c7be-85514c658adf"
      },
      "execution_count": null,
      "outputs": [
        {
          "output_type": "stream",
          "name": "stdout",
          "text": [
            "[ 1 12 23 34 45]\n"
          ]
        }
      ]
    },
    {
      "cell_type": "code",
      "source": [
        "print(arr[[0,2,5],[2,2,2]])\n",
        "print(arr[[0,2,5],2]) #열로 지정\n",
        "#boolean indexing\n",
        "mask=np.array([1,0,1,0,0,1],dtype=bool)\n",
        "print(arr[mask,2])"
      ],
      "metadata": {
        "id": "UEjY0NYIPP7V",
        "colab": {
          "base_uri": "https://localhost:8080/"
        },
        "outputId": "f5d469b6-266d-4c53-b254-eec4700114ab"
      },
      "execution_count": null,
      "outputs": [
        {
          "output_type": "stream",
          "name": "stdout",
          "text": [
            "[ 2 22 52]\n",
            "[ 2 22 52]\n",
            "[ 2 22 52]\n"
          ]
        }
      ]
    },
    {
      "cell_type": "code",
      "source": [
        "print(arr[[3,4,5]][:,[0,2,5]])"
      ],
      "metadata": {
        "id": "LPCbyXRgPP73",
        "colab": {
          "base_uri": "https://localhost:8080/"
        },
        "outputId": "bb63395a-1f6c-413f-fd1d-b35e014efd29"
      },
      "execution_count": null,
      "outputs": [
        {
          "output_type": "stream",
          "name": "stdout",
          "text": [
            "[30 32 35 40 42 45 50 52 55]\n",
            "[[30 32 35]\n",
            " [40 42 45]\n",
            " [50 52 55]]\n"
          ]
        }
      ]
    },
    {
      "cell_type": "code",
      "source": [
        "2,print(\"하늘색(팬시로 찾기)=\",arr[3:6][:,[0,2,5]])"
      ],
      "metadata": {
        "id": "iPptzPGvPP8Y",
        "colab": {
          "base_uri": "https://localhost:8080/",
          "height": 147
        },
        "outputId": "92e1392a-77d5-451b-8e5f-b24dcc0ab889"
      },
      "execution_count": null,
      "outputs": [
        {
          "output_type": "error",
          "ename": "SyntaxError",
          "evalue": "ignored",
          "traceback": [
            "\u001b[0;36m  File \u001b[0;32m\"<ipython-input-89-7da6c16f7570>\"\u001b[0;36m, line \u001b[0;32m1\u001b[0m\n\u001b[0;31m    2,print(\"하늘색(팬시로 찾기)=\",arr[[3:6]][:,[0,2,5]])\u001b[0m\n\u001b[0m                                 ^\u001b[0m\n\u001b[0;31mSyntaxError\u001b[0m\u001b[0;31m:\u001b[0m invalid syntax\n"
          ]
        }
      ]
    },
    {
      "cell_type": "code",
      "source": [
        "print(arr[[0,1,2,3,4,5]][:,[2]])\n",
        "\n",
        "print(arr[:,2])"
      ],
      "metadata": {
        "id": "l0f4pV9HPP85",
        "colab": {
          "base_uri": "https://localhost:8080/"
        },
        "outputId": "3506d21e-e8e6-4b2a-ae24-c13c0864b826"
      },
      "execution_count": null,
      "outputs": [
        {
          "output_type": "stream",
          "name": "stdout",
          "text": [
            "[[ 2]\n",
            " [12]\n",
            " [22]\n",
            " [32]\n",
            " [42]\n",
            " [52]]\n",
            "[ 2 12 22 32 42 52]\n"
          ]
        }
      ]
    },
    {
      "cell_type": "code",
      "source": [
        "print(arr [0,[2,3,4]])"
      ],
      "metadata": {
        "id": "ljbHY_MtPP9e",
        "colab": {
          "base_uri": "https://localhost:8080/"
        },
        "outputId": "e8a0a554-dcc9-4551-bc72-567fa14bd00b"
      },
      "execution_count": null,
      "outputs": [
        {
          "output_type": "stream",
          "name": "stdout",
          "text": [
            "[2 3 4]\n"
          ]
        }
      ]
    },
    {
      "cell_type": "code",
      "source": [
        "print(arr[[2,4]][:,[0,2,4]])"
      ],
      "metadata": {
        "id": "mjwQ8gQjPP99",
        "colab": {
          "base_uri": "https://localhost:8080/"
        },
        "outputId": "0288aaca-732d-4d90-8aa4-8dcd84992fa1"
      },
      "execution_count": null,
      "outputs": [
        {
          "output_type": "stream",
          "name": "stdout",
          "text": [
            "[[20 22 24]\n",
            " [40 42 44]]\n"
          ]
        }
      ]
    },
    {
      "cell_type": "code",
      "source": [
        "a=np.array([[0,0,0]])\n",
        "x=np.array([a,a+10,a+20,a+30])\n",
        "#print(x)\n",
        "y=np.array([[0,1,2],[0,1,2],[0,1,2],[0,1,2]])\n",
        "#print(y)\n",
        "print(x+y)"
      ],
      "metadata": {
        "id": "aC3H5l5FPP-b",
        "colab": {
          "base_uri": "https://localhost:8080/"
        },
        "outputId": "d10461d1-eaf7-455f-fb80-7c998407f5cb"
      },
      "execution_count": null,
      "outputs": [
        {
          "output_type": "stream",
          "name": "stdout",
          "text": [
            "[[[ 0  0  0]]\n",
            "\n",
            " [[10 10 10]]\n",
            "\n",
            " [[20 20 20]]\n",
            "\n",
            " [[30 30 30]]]\n",
            "[[0 1 2]\n",
            " [0 1 2]\n",
            " [0 1 2]\n",
            " [0 1 2]]\n",
            "[[[ 0  1  2]\n",
            "  [ 0  1  2]\n",
            "  [ 0  1  2]\n",
            "  [ 0  1  2]]\n",
            "\n",
            " [[10 11 12]\n",
            "  [10 11 12]\n",
            "  [10 11 12]\n",
            "  [10 11 12]]\n",
            "\n",
            " [[20 21 22]\n",
            "  [20 21 22]\n",
            "  [20 21 22]\n",
            "  [20 21 22]]\n",
            "\n",
            " [[30 31 32]\n",
            "  [30 31 32]\n",
            "  [30 31 32]\n",
            "  [30 31 32]]]\n"
          ]
        }
      ]
    },
    {
      "cell_type": "code",
      "source": [
        "y1=np.array([0,1,2])\n",
        "print(x+y1) #4x3 1x3"
      ],
      "metadata": {
        "id": "A7uP90wRPP-8",
        "colab": {
          "base_uri": "https://localhost:8080/"
        },
        "outputId": "05994dab-f0ea-4427-f25f-bd2b8265c323"
      },
      "execution_count": null,
      "outputs": [
        {
          "output_type": "stream",
          "name": "stdout",
          "text": [
            "[[[ 0  1  2]]\n",
            "\n",
            " [[10 11 12]]\n",
            "\n",
            " [[20 21 22]]\n",
            "\n",
            " [[30 31 32]]]\n"
          ]
        }
      ]
    },
    {
      "cell_type": "code",
      "source": [
        "x1=np.array([[0],[10],[20],[30]])\n",
        "print(x1+y1)"
      ],
      "metadata": {
        "id": "Hj5u64ozPP_d",
        "colab": {
          "base_uri": "https://localhost:8080/"
        },
        "outputId": "5c759fbd-1f63-4f0b-c296-905848c52ad1"
      },
      "execution_count": null,
      "outputs": [
        {
          "output_type": "stream",
          "name": "stdout",
          "text": [
            "[[ 0  1  2]\n",
            " [10 11 12]\n",
            " [20 21 22]\n",
            " [30 31 32]]\n"
          ]
        }
      ]
    },
    {
      "cell_type": "code",
      "source": [
        "import numpy as np\n",
        "names=np.array(['Seoul','Daejeon','Chungju','Seoul','Chungju','Daejeon','Daejeon',])\n",
        "data=np.random.randn(7,4)\n",
        "print(data)\n",
        "print(names=='Seoul') #[1,0,0,1,0,0,0] 데이터 타입을 bool 관계연산자는 자동으로\n",
        "print(data[names=='Seoul']) #해인덱스\n",
        "print(data[names=='Seoul',2:])\n",
        "print(data[names=='Seoul',3])\n",
        "print(names!='Seoul') #부정비교 연산자\n",
        "print(~(names=='Seoul')) # 단항연산자 ~ 도 부정이다\n",
        "mask=(names=='Seoul') | (names=='Chungju') #if문의 조건문\n",
        "print(mask)\n",
        "print(data[mask])"
      ],
      "metadata": {
        "id": "jH3F94RMPP_7",
        "colab": {
          "base_uri": "https://localhost:8080/"
        },
        "outputId": "80ce9159-96d8-403a-d2f5-d0f401619416"
      },
      "execution_count": null,
      "outputs": [
        {
          "output_type": "stream",
          "name": "stdout",
          "text": [
            "[[-0.20365077  0.84063742  0.92831119 -0.49990065]\n",
            " [-1.29606321 -1.29772672 -0.93949592 -0.87365276]\n",
            " [-0.22741766  1.88466501 -0.2168195  -0.6370121 ]\n",
            " [ 0.20576989  1.54926704  0.11047907  0.87124641]\n",
            " [ 0.0686027   0.2512226   0.03635308 -0.19019238]\n",
            " [ 1.26147067  0.66014694 -0.30335706  2.36112744]\n",
            " [ 0.86326536 -0.50893461  0.90752137 -0.43470281]]\n",
            "[ True False False  True False False False]\n",
            "[[-0.20365077  0.84063742  0.92831119 -0.49990065]\n",
            " [ 0.20576989  1.54926704  0.11047907  0.87124641]]\n",
            "[[ 0.92831119 -0.49990065]\n",
            " [ 0.11047907  0.87124641]]\n",
            "[-0.49990065  0.87124641]\n",
            "[False  True  True False  True  True  True]\n",
            "[False  True  True False  True  True  True]\n",
            "[ True False  True  True  True False False]\n",
            "[[-0.20365077  0.84063742  0.92831119 -0.49990065]\n",
            " [-0.22741766  1.88466501 -0.2168195  -0.6370121 ]\n",
            " [ 0.20576989  1.54926704  0.11047907  0.87124641]\n",
            " [ 0.0686027   0.2512226   0.03635308 -0.19019238]]\n"
          ]
        }
      ]
    },
    {
      "cell_type": "code",
      "source": [
        "#문제\n",
        "#첫번째 열이 0.5보다 큰 행을 선택하시오\n",
        "data[:,0]>0.5\n",
        "#print(data[data[:,0] >= 0.5])"
      ],
      "metadata": {
        "id": "S4BH11UUPQAd",
        "colab": {
          "base_uri": "https://localhost:8080/"
        },
        "outputId": "a7412142-7217-42f6-9565-93f0c9682ff4"
      },
      "execution_count": null,
      "outputs": [
        {
          "output_type": "execute_result",
          "data": {
            "text/plain": [
              "array([False, False, False, False, False,  True,  True])"
            ]
          },
          "metadata": {},
          "execution_count": 130
        }
      ]
    },
    {
      "cell_type": "code",
      "source": [
        "#3항 연산자\n",
        "xarr=np.array([1.1,1.2,1.3,1.4,1.5])\n",
        "yarr=np.array([2.1,2.2,2.3,2.4,2.5])\n",
        "cond=np.array([True,False,True,True,False])\n",
        "print(zip(xarr,yarr,cond)) #python core에서 쓰는것들이 numpy에서도 작동\n",
        "result=[(x if c else y) for x,y,c in zip(xarr,yarr,cond)]\n",
        "print(\"result = \",result)"
      ],
      "metadata": {
        "id": "LrvVPQ7nPQA9",
        "colab": {
          "base_uri": "https://localhost:8080/"
        },
        "outputId": "33b06288-23a1-4132-a168-fc23ddd430a4"
      },
      "execution_count": null,
      "outputs": [
        {
          "output_type": "stream",
          "name": "stdout",
          "text": [
            "<zip object at 0x79f65eb50140>\n",
            "result =  [1.1, 2.2, 1.3, 1.4, 2.5]\n"
          ]
        }
      ]
    },
    {
      "cell_type": "code",
      "source": [
        "result=np.where(cond,xarr,yarr) #np.where(조건,참,거짓)\n",
        "print(result)"
      ],
      "metadata": {
        "id": "l2FSBSGrPQBc",
        "colab": {
          "base_uri": "https://localhost:8080/"
        },
        "outputId": "b3984d87-7337-4433-e1ae-b9a5f8dc9c44"
      },
      "execution_count": null,
      "outputs": [
        {
          "output_type": "stream",
          "name": "stdout",
          "text": [
            "[1.1 2.2 1.3 1.4 2.5]\n"
          ]
        }
      ]
    },
    {
      "cell_type": "code",
      "source": [
        "#문제\n",
        "#다음 데이터에 요소값이 0보다 크면 2 아니면 -2로 변경해보시오\n",
        "arr=np.random.randn(4,4)\n",
        "print(np.where(arr>0,2,-2))"
      ],
      "metadata": {
        "id": "UJGxl6vXPQB8",
        "colab": {
          "base_uri": "https://localhost:8080/"
        },
        "outputId": "d6632efd-544c-49fa-d6e5-f53dea83ddbe"
      },
      "execution_count": null,
      "outputs": [
        {
          "output_type": "stream",
          "name": "stdout",
          "text": [
            "[[ 2 -2  2  2]\n",
            " [-2 -2  2  2]\n",
            " [-2 -2  2 -2]\n",
            " [ 2  2 -2  2]]\n"
          ]
        }
      ]
    },
    {
      "cell_type": "code",
      "source": [
        "#meshgrid # ogrid는 그래프를 3차원 만들때 meshgrid를 사용함\n",
        "x,y=np.ogrid[:3,:4]\n",
        "print(x) #3x1 0,1,2\n",
        "print(y) #1x4 0,1,2,3\n",
        "np.where(x<y,x,10+y) #브로드캐스팅해서 데이터를 조합하여 생성\n",
        "#   y 0  1  2  3\n",
        "#x\n",
        "#0   10  0  0  0\n",
        "#1   10  11 1 1\n",
        "#2   10  11 12 2"
      ],
      "metadata": {
        "id": "OhcvvvuVPQCb",
        "colab": {
          "base_uri": "https://localhost:8080/"
        },
        "outputId": "bfb30487-25e7-4fab-f0d8-7c019baff409"
      },
      "execution_count": null,
      "outputs": [
        {
          "output_type": "stream",
          "name": "stdout",
          "text": [
            "[[0]\n",
            " [1]\n",
            " [2]]\n",
            "[[0 1 2 3]]\n"
          ]
        },
        {
          "output_type": "execute_result",
          "data": {
            "text/plain": [
              "array([[10,  0,  0,  0],\n",
              "       [10, 11,  1,  1],\n",
              "       [10, 11, 12,  2]])"
            ]
          },
          "metadata": {},
          "execution_count": 138
        }
      ]
    },
    {
      "cell_type": "code",
      "source": [
        "#문제\n",
        "#두개 다 참이면 0, cond1이 참이면 1, cond2가 참이면 2 그 외 모두 3으로 처리하시오\n",
        "cond1=np.array([1,0,1,1,0,0,1], dtype=bool)\n",
        "cond2=np.array([0,1,1,1,0,1,1], dtype=bool)\n",
        "\n",
        "#python core\n",
        "for i in range(len(cond1)):\n",
        "  if cond1[i] and cond2[i]:\n",
        "    result.append(0)\n",
        "  elif cond1[i]:\n",
        "    result.append(1)\n",
        "  elif cond2[i]:\n",
        "    result.append(2)\n",
        "  else:\n",
        "    result.append(3)\n",
        "print(\"조건문 \",result)\n",
        "\n",
        "#numpy\n",
        "result=np.where(cond1&cond2,0,np.where(cond1,1,np.where(cond2,2,3)))\n",
        "print(\"3항 연산자\",result)\n",
        "\n",
        "result = 1 * (cond1 & ~cond2) + 2*(cond2 & ~cond1) + 3* ~(cond1 | cond2)\n",
        "print(\"수식을 이용한\", result)"
      ],
      "metadata": {
        "id": "yZj5pt87PQC6",
        "colab": {
          "base_uri": "https://localhost:8080/"
        },
        "outputId": "63bef5c7-808c-413d-fabf-9a0823b59f73"
      },
      "execution_count": null,
      "outputs": [
        {
          "output_type": "stream",
          "name": "stdout",
          "text": [
            "[1 2 0 0 3 2 0]\n"
          ]
        }
      ]
    },
    {
      "cell_type": "markdown",
      "source": [
        "차원확대 차원 축소"
      ],
      "metadata": {
        "id": "xP4a5hL6QywP"
      }
    },
    {
      "cell_type": "code",
      "source": [
        "arr=np.arange(1,10)\n",
        "print(arr.shape)\n",
        "print(arr)\n",
        "\n",
        "row_vec=arr[np.newaxis,np.newaxis,:]\n",
        "print(row_vec.shape)\n",
        "print(row_vec)\n",
        "\n",
        "col_vec=arr[:,np.newaxis,np.newaxis] #열 요소별로 차원확대를 함\n",
        "print(col_vec.shape)\n",
        "print(col_vec)"
      ],
      "metadata": {
        "colab": {
          "base_uri": "https://localhost:8080/"
        },
        "id": "1EzowI9EQyUw",
        "outputId": "68d8ba7f-e0b5-4c31-d58c-1b91e808f35d"
      },
      "execution_count": null,
      "outputs": [
        {
          "output_type": "stream",
          "name": "stdout",
          "text": [
            "(9,)\n",
            "[1 2 3 4 5 6 7 8 9]\n"
          ]
        }
      ]
    },
    {
      "cell_type": "code",
      "source": [
        "arr1=np.arange(4) #1x4\n",
        "arr4=np.arange(2) #1x2\n",
        "print(arr1)\n",
        "print(arr4)\n",
        "arr2=np.arange(8).reshape(4,2) #4x2\n",
        "print(arr2)"
      ],
      "metadata": {
        "colab": {
          "base_uri": "https://localhost:8080/"
        },
        "id": "mKg6z33xQyRJ",
        "outputId": "621b3e7c-0e05-4aaf-a09c-7bb6afbc56fb"
      },
      "execution_count": null,
      "outputs": [
        {
          "output_type": "stream",
          "name": "stdout",
          "text": [
            "[0 1 2 3]\n",
            "[0 1]\n",
            "[[0 1]\n",
            " [2 3]\n",
            " [4 5]\n",
            " [6 7]]\n"
          ]
        }
      ]
    },
    {
      "cell_type": "code",
      "source": [
        "arr3d=np.array([arr2,arr2,arr2]) #3x4x2\n",
        "print(arr3d)\n",
        "arr3d.shape"
      ],
      "metadata": {
        "colab": {
          "base_uri": "https://localhost:8080/"
        },
        "id": "Em3z6XCUczTe",
        "outputId": "e11b84db-53d5-423c-8f98-2fe1f4910167"
      },
      "execution_count": null,
      "outputs": [
        {
          "output_type": "stream",
          "name": "stdout",
          "text": [
            "[[[0 1]\n",
            "  [2 3]\n",
            "  [4 5]\n",
            "  [6 7]]\n",
            "\n",
            " [[0 1]\n",
            "  [2 3]\n",
            "  [4 5]\n",
            "  [6 7]]\n",
            "\n",
            " [[0 1]\n",
            "  [2 3]\n",
            "  [4 5]\n",
            "  [6 7]]]\n"
          ]
        },
        {
          "output_type": "execute_result",
          "data": {
            "text/plain": [
              "(3, 4, 2)"
            ]
          },
          "metadata": {},
          "execution_count": 198
        }
      ]
    },
    {
      "cell_type": "code",
      "source": [
        "print(arr3d+arr3d) #3x4x2 ##3x4x2\n",
        "print(arr3d+arr2) #3x4x2 #4x2\n",
        "print(arr3d+arr4) #3x4x2 #1x2\n",
        "#print(arr3d+arr1) #3x4x2 #1x4 #끝이 같지 않아서 계산 안됨"
      ],
      "metadata": {
        "colab": {
          "base_uri": "https://localhost:8080/"
        },
        "id": "Bm4Vlj-PQyOv",
        "outputId": "eea6efb6-cdc4-4bfa-dea6-af41af689721"
      },
      "execution_count": null,
      "outputs": [
        {
          "output_type": "stream",
          "name": "stdout",
          "text": [
            "[[[ 0  2]\n",
            "  [ 4  6]\n",
            "  [ 8 10]\n",
            "  [12 14]]\n",
            "\n",
            " [[ 0  2]\n",
            "  [ 4  6]\n",
            "  [ 8 10]\n",
            "  [12 14]]\n",
            "\n",
            " [[ 0  2]\n",
            "  [ 4  6]\n",
            "  [ 8 10]\n",
            "  [12 14]]]\n",
            "[[[ 0  2]\n",
            "  [ 4  6]\n",
            "  [ 8 10]\n",
            "  [12 14]]\n",
            "\n",
            " [[ 0  2]\n",
            "  [ 4  6]\n",
            "  [ 8 10]\n",
            "  [12 14]]\n",
            "\n",
            " [[ 0  2]\n",
            "  [ 4  6]\n",
            "  [ 8 10]\n",
            "  [12 14]]]\n",
            "[[[0 2]\n",
            "  [2 4]\n",
            "  [4 6]\n",
            "  [6 8]]\n",
            "\n",
            " [[0 2]\n",
            "  [2 4]\n",
            "  [4 6]\n",
            "  [6 8]]\n",
            "\n",
            " [[0 2]\n",
            "  [2 4]\n",
            "  [4 6]\n",
            "  [6 8]]]\n"
          ]
        }
      ]
    },
    {
      "cell_type": "code",
      "source": [
        "import numpy as np\n",
        "a1=np.array([[5,6],[7,8]])\n",
        "ra=a1.ravel() # 기본 1차원으로 행렬을 벡터화\n",
        "re=a1.reshape(-1) # 수치를 입력해야함 1차원으로 빼주는것으로 ,하고 1을 생략하는것으로\n",
        "fl=a1.flatten() #원본에 영향을 미치지 않음\n",
        "print(ra,re,fl)\n",
        "a1[0][0]=100\n",
        "print(ra,re,fl)"
      ],
      "metadata": {
        "colab": {
          "base_uri": "https://localhost:8080/"
        },
        "id": "Xl_cyu4eQyMn",
        "outputId": "de024eac-5851-4588-d4c1-53aa3ecf71fa"
      },
      "execution_count": null,
      "outputs": [
        {
          "output_type": "stream",
          "name": "stdout",
          "text": [
            "[5 6 7 8] [5 6 7 8] [5 6 7 8]\n",
            "[100   6   7   8] [100   6   7   8] [5 6 7 8]\n"
          ]
        }
      ]
    },
    {
      "cell_type": "markdown",
      "source": [
        "%%는 magic command"
      ],
      "metadata": {
        "id": "mt-jtQ0BPDp1"
      }
    },
    {
      "cell_type": "code",
      "source": [
        "%%time\n",
        "# 실행시간을확인해줌\n",
        "a= np.arange(1000000)\n",
        "result = 0\n",
        "for v in a:\n",
        "  result += v\n",
        "print(\"반복문을 이용한 결과 :\",result )\n",
        "#CPU times: user 331 ms, sys: 5.46 ms, total: 337 ms\n",
        "#Wall time: 363 ms 해당 수치는 계산시 걸린 시간\n",
        "#반복문 보다 벡터화가 빠르다"
      ],
      "metadata": {
        "id": "PHzxjHwnPGZV"
      },
      "execution_count": null,
      "outputs": []
    },
    {
      "cell_type": "code",
      "source": [
        "%%time\n",
        "result=np.sum(a)\n",
        "print(\"벡터화 연산을 이용한 결과 :  \",result)"
      ],
      "metadata": {
        "id": "eo2n90nmPQEk",
        "colab": {
          "base_uri": "https://localhost:8080/"
        },
        "outputId": "62dbaa38-2e0e-4930-abe9-d1751a7db40e"
      },
      "execution_count": null,
      "outputs": [
        {
          "output_type": "stream",
          "name": "stdout",
          "text": [
            "벡터화 연산을 이용한 결과 :   0\n",
            "CPU times: user 2.33 ms, sys: 0 ns, total: 2.33 ms\n",
            "Wall time: 2.34 ms\n"
          ]
        }
      ]
    },
    {
      "cell_type": "code",
      "source": [
        "from numpy import math #벡터화 연산\n",
        "print(math.ceil(1.001)) #올림\n",
        "print(math.floor(1.001)) #내림\n",
        "print(math.factorial(5))\n",
        "print(math.gcd(10,125)) #greatest common divisor 최대공약수\n",
        "print(math.trunc(1.001)) #절사\n",
        "print(math.trunc(1.999))\n",
        "print(max(1,2,3,4))"
      ],
      "metadata": {
        "id": "KFpcJ-vKPQFH",
        "colab": {
          "base_uri": "https://localhost:8080/"
        },
        "outputId": "e332557b-ce98-4dbb-fced-4e7a6c5adddc"
      },
      "execution_count": null,
      "outputs": [
        {
          "output_type": "stream",
          "name": "stdout",
          "text": [
            "2\n",
            "1\n",
            "120\n",
            "5\n",
            "1\n",
            "1\n",
            "4\n"
          ]
        }
      ]
    },
    {
      "cell_type": "code",
      "source": [
        "theta=np.linspace(0,np.pi,4)\n",
        "theta"
      ],
      "metadata": {
        "id": "6quAE0RNPQFq"
      },
      "execution_count": null,
      "outputs": []
    },
    {
      "cell_type": "code",
      "source": [
        "print(\"sin(theta) = \",np.sin(theta))"
      ],
      "metadata": {
        "id": "H_FKJX4BPQGN"
      },
      "execution_count": null,
      "outputs": []
    },
    {
      "cell_type": "code",
      "source": [
        "x=[-1,0,1]\n",
        "print(\"arcsin(x) = \",np.arcsin(x))\n",
        "print(\"arccos(x) = \",np.arccos(x))\n",
        "print(\"arctan(x) = \",np.arctan(x))"
      ],
      "metadata": {
        "id": "fIlJDpT0PQGz",
        "colab": {
          "base_uri": "https://localhost:8080/"
        },
        "outputId": "d92e30df-ed2f-4dee-ea28-eb39cf1a428a"
      },
      "execution_count": null,
      "outputs": [
        {
          "output_type": "stream",
          "name": "stdout",
          "text": [
            "arcsin(x) =  [-1.57079633  0.          1.57079633]\n",
            "arccos(x) =  [3.14159265 1.57079633 0.        ]\n",
            "arctan(x) =  [-0.78539816  0.          0.78539816]\n"
          ]
        }
      ]
    },
    {
      "cell_type": "markdown",
      "source": [
        "지수함수"
      ],
      "metadata": {
        "id": "_yaW2P7DNxwL"
      }
    },
    {
      "cell_type": "code",
      "source": [
        "x=[1,2,3]\n",
        "print(\"e^x = \",np.exp(x))\n",
        "print(\"2^x = \",np.exp2(x))\n",
        "print(\"3^x = \",np.power(10,x))"
      ],
      "metadata": {
        "id": "QxKy72OdPQHO",
        "colab": {
          "base_uri": "https://localhost:8080/"
        },
        "outputId": "0a2515d7-48d3-4375-a0c3-8fb9788ea819"
      },
      "execution_count": null,
      "outputs": [
        {
          "output_type": "stream",
          "name": "stdout",
          "text": [
            "e^x =  [ 2.71828183  7.3890561  20.08553692]\n",
            "2^x =  [2. 4. 8.]\n",
            "3^x =  [  10  100 1000]\n"
          ]
        }
      ]
    },
    {
      "cell_type": "markdown",
      "source": [
        "log"
      ],
      "metadata": {
        "id": "NDFlyHK5Nwdr"
      }
    },
    {
      "cell_type": "code",
      "source": [
        "#무한대로 가는 것을 방지하기 위해서 1을 더해줌\n",
        "x=[0,1,2,4,10]\n",
        "print(\"ln(x) = \",np.log(x))\n",
        "print(\"log2(x) = \",np.log2(x))\n",
        "print(\"log10(x) = \",np.log10(x))"
      ],
      "metadata": {
        "id": "sxJES8brPQHu",
        "colab": {
          "base_uri": "https://localhost:8080/"
        },
        "outputId": "d0a3cfc1-c3e6-441d-fa2d-a06df8451d7f"
      },
      "execution_count": null,
      "outputs": [
        {
          "output_type": "stream",
          "name": "stdout",
          "text": [
            "ln(x) =  [      -inf 0.         0.69314718 1.38629436 2.30258509]\n",
            "log2(x) =  [      -inf 0.         1.         2.         3.32192809]\n",
            "log10(x) =  [      -inf 0.         0.30103    0.60205999 1.        ]\n"
          ]
        },
        {
          "output_type": "stream",
          "name": "stderr",
          "text": [
            "<ipython-input-151-56a4da30f384>:3: RuntimeWarning: divide by zero encountered in log\n",
            "  print(\"ln(x) = \",np.log(x))\n",
            "<ipython-input-151-56a4da30f384>:4: RuntimeWarning: divide by zero encountered in log2\n",
            "  print(\"log2(x) = \",np.log2(x))\n",
            "<ipython-input-151-56a4da30f384>:5: RuntimeWarning: divide by zero encountered in log10\n",
            "  print(\"log10(x) = \",np.log10(x))\n"
          ]
        }
      ]
    },
    {
      "cell_type": "markdown",
      "source": [
        "scatter 산포도"
      ],
      "metadata": {
        "id": "s461DrdPNqXI"
      }
    },
    {
      "cell_type": "code",
      "source": [
        "import matplotlib.pyplot as plt\n",
        "import seaborn;seaborn.set() #seaborn : matplotlib를 기반으로 모델 결과를 출력\n",
        "X=np.random.rand(10,2) #열 : 속성, 행 : 관측개수\n",
        "plt.scatter(X[:,0],X[:,1],s=100) #scatter : 산포도, s=size #scatter(x,y,size)"
      ],
      "metadata": {
        "id": "SWeiSnZ1PQIQ",
        "colab": {
          "base_uri": "https://localhost:8080/",
          "height": 452
        },
        "outputId": "9fcc2505-7f48-4809-a8d3-3aa35f64f761"
      },
      "execution_count": null,
      "outputs": [
        {
          "output_type": "execute_result",
          "data": {
            "text/plain": [
              "<matplotlib.collections.PathCollection at 0x79f656f32d40>"
            ]
          },
          "metadata": {},
          "execution_count": 152
        },
        {
          "output_type": "display_data",
          "data": {
            "text/plain": [
              "<Figure size 640x480 with 1 Axes>"
            ],
            "image/png": "[encoded data removed]"
          },
          "metadata": {}
        }
      ]
    },
    {
      "cell_type": "markdown",
      "source": [
        "plot 함수 그래프그리기"
      ],
      "metadata": {
        "id": "85SqC2DJNniI"
      }
    },
    {
      "cell_type": "code",
      "source": [
        "def my_func(x):\n",
        "  return 3*x**2+2*x+1\n",
        "def my_func(x):\n",
        "  return 4*x**3+2*x**2+x+3\n",
        "x=np.linspace(-3,3)\n",
        "y=my_func(x)\n",
        "plt.plot(x,y)\n",
        "plt.plot(x,y,'bo') #both\n",
        "plt.xlabel(\"x\",size=14)\n",
        "plt.ylabel(\"y\",size=14)\n",
        "plt.grid(True) #격자선\n",
        "plt.show()"
      ],
      "metadata": {
        "id": "bJ6beaHiPQIy",
        "colab": {
          "base_uri": "https://localhost:8080/",
          "height": 459
        },
        "outputId": "bc6a5700-d313-4815-fda1-ae54bae915cc"
      },
      "execution_count": null,
      "outputs": [
        {
          "output_type": "display_data",
          "data": {
            "text/plain": [
              "<Figure size 640x480 with 1 Axes>"
            ],
            "image/png": "[encoded data removed]"
          },
          "metadata": {}
        }
      ]
    },
    {
      "cell_type": "markdown",
      "source": [
        "최소제곱법"
      ],
      "metadata": {
        "id": "6VfqJW9pN2Bc"
      }
    },
    {
      "cell_type": "code",
      "source": [
        "x=np.array([0,1,2,3])\n",
        "y=np.array([-1,0.2,0.9,2.1])\n",
        "A=np.vstack([x,np.ones(len(x))]).T\n",
        "#[0,1,2,3]\n",
        "#[1,1,1,1]\n",
        "#회귀분석 : y=ax+b : a계수, b절편\n",
        "m,c=np.linalg.lstsq(A,y,rcond=None)[0]\n",
        "m,c"
      ],
      "metadata": {
        "id": "8tjFbjIIPQJN",
        "colab": {
          "base_uri": "https://localhost:8080/"
        },
        "outputId": "16aa198c-b518-40d8-8614-513f7d8e1cf8"
      },
      "execution_count": null,
      "outputs": [
        {
          "output_type": "execute_result",
          "data": {
            "text/plain": [
              "(0.9999999999999999, -0.9499999999999997)"
            ]
          },
          "metadata": {},
          "execution_count": 160
        }
      ]
    },
    {
      "cell_type": "code",
      "source": [
        "plt.plot(x,y,'o',label='Original',markersize=10) #실제값\n",
        "plt.plot(x,m*x+c,'r',label='Fitted line') #예측값\n",
        "plt.legend() #범례\n",
        "plt.show()"
      ],
      "metadata": {
        "id": "Q7GI9OXyPQJu",
        "colab": {
          "base_uri": "https://localhost:8080/",
          "height": 434
        },
        "outputId": "51555510-0b0a-4b7b-a3bd-de4ce468f4f4"
      },
      "execution_count": null,
      "outputs": [
        {
          "output_type": "display_data",
          "data": {
            "text/plain": [
              "<Figure size 640x480 with 1 Axes>"
            ],
            "image/png": "[encoded data removed]"
          },
          "metadata": {}
        }
      ]
    },
    {
      "cell_type": "code",
      "source": [
        "t=np.arange(0,10,0.01)\n",
        "y=2*t+3\n",
        "y_noise=y+np.random.randn(len(y))\n",
        "plt.figure(figsize=(12,8))\n",
        "plt.plot(t,y_noise)\n",
        "plt.show()"
      ],
      "metadata": {
        "id": "gFZNy8GrPQKS",
        "colab": {
          "base_uri": "https://localhost:8080/",
          "height": 681
        },
        "outputId": "95278698-350c-40bd-fd30-ac1e1a9f7318"
      },
      "execution_count": null,
      "outputs": [
        {
          "output_type": "display_data",
          "data": {
            "text/plain": [
              "<Figure size 1200x800 with 1 Axes>"
            ],
            "image/png": "[encoded data removed]"
          },
          "metadata": {}
        }
      ]
    },
    {
      "cell_type": "code",
      "source": [
        "#1차 방정식 피팅\n",
        "fp1=np.polyfit(t,y_noise,1)\n",
        "fp1"
      ],
      "metadata": {
        "id": "NGE2xH6QPQKu",
        "colab": {
          "base_uri": "https://localhost:8080/"
        },
        "outputId": "a42f09fd-6c31-40b9-c132-ecd4eec406ae"
      },
      "execution_count": null,
      "outputs": [
        {
          "output_type": "execute_result",
          "data": {
            "text/plain": [
              "array([2.01147399, 2.94230672])"
            ]
          },
          "metadata": {},
          "execution_count": 169
        }
      ]
    },
    {
      "cell_type": "code",
      "source": [
        "f1=np.poly1d(fp1)"
      ],
      "metadata": {
        "id": "oeuXSYjAPQLW"
      },
      "execution_count": null,
      "outputs": []
    },
    {
      "cell_type": "code",
      "source": [
        "plt.figure(figsize = (12,8))\n",
        "plt.plot(t, y_noise, label='noise', color = 'y') # 노이즈가 있는 데이터\n",
        "plt.plot(t, y, ls ='dashed', lw=3, color = 'b',label='original ')#원래의 방정식\n",
        "plt.plot(t,f1(t),lw=2, color='r',label='polyfit ')# 예측된 방정식\n",
        "plt.grid() # 격자\n",
        "plt.legend()\n",
        "plt.show()"
      ],
      "metadata": {
        "id": "FxeSMAoFPQLz",
        "colab": {
          "base_uri": "https://localhost:8080/",
          "height": 258
        },
        "outputId": "a2206cf8-3bbc-4f35-892c-f6372df72377"
      },
      "execution_count": null,
      "outputs": [
        {
          "output_type": "error",
          "ename": "NameError",
          "evalue": "ignored",
          "traceback": [
            "\u001b[0;31m---------------------------------------------------------------------------\u001b[0m",
            "\u001b[0;31mNameError\u001b[0m                                 Traceback (most recent call last)",
            "\u001b[0;32m<ipython-input-1-cbc7b0eb35f1>\u001b[0m in \u001b[0;36m<cell line: 1>\u001b[0;34m()\u001b[0m\n\u001b[0;32m----> 1\u001b[0;31m \u001b[0mplt\u001b[0m\u001b[0;34m.\u001b[0m\u001b[0mfigure\u001b[0m\u001b[0;34m(\u001b[0m\u001b[0mfigsize\u001b[0m \u001b[0;34m=\u001b[0m \u001b[0;34m(\u001b[0m\u001b[0;36m12\u001b[0m\u001b[0;34m,\u001b[0m\u001b[0;36m8\u001b[0m\u001b[0;34m)\u001b[0m\u001b[0;34m)\u001b[0m\u001b[0;34m\u001b[0m\u001b[0;34m\u001b[0m\u001b[0m\n\u001b[0m\u001b[1;32m      2\u001b[0m \u001b[0mplt\u001b[0m\u001b[0;34m.\u001b[0m\u001b[0mplot\u001b[0m\u001b[0;34m(\u001b[0m\u001b[0mt\u001b[0m\u001b[0;34m,\u001b[0m \u001b[0my_noise\u001b[0m\u001b[0;34m,\u001b[0m \u001b[0mlabel\u001b[0m\u001b[0;34m=\u001b[0m\u001b[0;34m'noise'\u001b[0m\u001b[0;34m,\u001b[0m \u001b[0mcolor\u001b[0m \u001b[0;34m=\u001b[0m \u001b[0;34m'y'\u001b[0m\u001b[0;34m)\u001b[0m \u001b[0;31m# 노이즈가 있는 데이터\u001b[0m\u001b[0;34m\u001b[0m\u001b[0;34m\u001b[0m\u001b[0m\n\u001b[1;32m      3\u001b[0m \u001b[0mplt\u001b[0m\u001b[0;34m.\u001b[0m\u001b[0mplot\u001b[0m\u001b[0;34m(\u001b[0m\u001b[0mt\u001b[0m\u001b[0;34m,\u001b[0m \u001b[0my\u001b[0m\u001b[0;34m,\u001b[0m \u001b[0mls\u001b[0m \u001b[0;34m=\u001b[0m\u001b[0;34m'dashed'\u001b[0m\u001b[0;34m,\u001b[0m \u001b[0mlw\u001b[0m\u001b[0;34m=\u001b[0m\u001b[0;36m3\u001b[0m\u001b[0;34m,\u001b[0m \u001b[0mcolor\u001b[0m \u001b[0;34m=\u001b[0m \u001b[0;34m'b'\u001b[0m\u001b[0;34m,\u001b[0m\u001b[0mlabel\u001b[0m\u001b[0;34m=\u001b[0m\u001b[0;34m'original '\u001b[0m\u001b[0;34m)\u001b[0m\u001b[0;31m#원래의 방정식\u001b[0m\u001b[0;34m\u001b[0m\u001b[0;34m\u001b[0m\u001b[0m\n\u001b[1;32m      4\u001b[0m \u001b[0mplt\u001b[0m\u001b[0;34m.\u001b[0m\u001b[0mplot\u001b[0m\u001b[0;34m(\u001b[0m\u001b[0mt\u001b[0m\u001b[0;34m,\u001b[0m\u001b[0mf1\u001b[0m\u001b[0;34m(\u001b[0m\u001b[0mt\u001b[0m\u001b[0;34m)\u001b[0m\u001b[0;34m,\u001b[0m\u001b[0mlw\u001b[0m\u001b[0;34m=\u001b[0m\u001b[0;36m2\u001b[0m\u001b[0;34m,\u001b[0m \u001b[0mcolor\u001b[0m\u001b[0;34m=\u001b[0m\u001b[0;34m'r'\u001b[0m\u001b[0;34m,\u001b[0m\u001b[0mlabel\u001b[0m\u001b[0;34m=\u001b[0m\u001b[0;34m'polyfit '\u001b[0m\u001b[0;34m)\u001b[0m\u001b[0;31m# 예측된 방정식\u001b[0m\u001b[0;34m\u001b[0m\u001b[0;34m\u001b[0m\u001b[0m\n\u001b[1;32m      5\u001b[0m \u001b[0mplt\u001b[0m\u001b[0;34m.\u001b[0m\u001b[0mgrid\u001b[0m\u001b[0;34m(\u001b[0m\u001b[0;34m)\u001b[0m \u001b[0;31m# 격자\u001b[0m\u001b[0;34m\u001b[0m\u001b[0;34m\u001b[0m\u001b[0m\n",
            "\u001b[0;31mNameError\u001b[0m: name 'plt' is not defined"
          ]
        }
      ]
    },
    {
      "cell_type": "code",
      "source": [
        "x=np.array([0.0,1.0,2.0,3.0,4.0,5.0])\n",
        "y=np.array([0.0,0.8,0.9,0.1,-0.8,-1.0])\n",
        "z=np.polyfit(x,y,3) #4개값 - 비선형(계수 절편)\n",
        "z"
      ],
      "metadata": {
        "id": "kKFOBuCSPQMT",
        "colab": {
          "base_uri": "https://localhost:8080/"
        },
        "outputId": "77fc7eac-4ee0-429e-d85f-8f61216806fc"
      },
      "execution_count": null,
      "outputs": [
        {
          "output_type": "execute_result",
          "data": {
            "text/plain": [
              "array([ 0.08703704, -0.81349206,  1.69312169, -0.03968254])"
            ]
          },
          "metadata": {},
          "execution_count": 174
        }
      ]
    },
    {
      "cell_type": "code",
      "source": [
        "p=np.poly1d(z)\n",
        "p30=np.poly1d(np.polyfit(x,y,30)) #차원 수가 높아지면서 과적합"
      ],
      "metadata": {
        "colab": {
          "base_uri": "https://localhost:8080/"
        },
        "id": "d3z0I0F0S6qI",
        "outputId": "e1a5bcac-f314-4414-c94f-b29a01d8a304"
      },
      "execution_count": null,
      "outputs": [
        {
          "output_type": "stream",
          "name": "stderr",
          "text": [
            "/usr/local/lib/python3.10/dist-packages/IPython/core/interactiveshell.py:3553: RankWarning: Polyfit may be poorly conditioned\n",
            "  exec(code_obj, self.user_global_ns, self.user_ns)\n"
          ]
        }
      ]
    },
    {
      "cell_type": "code",
      "source": [
        "xp=np.linspace(-2,6,100)\n",
        "_=plt.polt(x,y,'.',xp,p(xp),'-',xp,p30(xp)'')\n",
        "plt.ylim(-2,2)\n",
        "plt.show()"
      ],
      "metadata": {
        "id": "NcRO02jWTGjf"
      },
      "execution_count": null,
      "outputs": []
    },
    {
      "cell_type": "code",
      "source": [
        "n=1000\n",
        "x=np.random.rand(n) # rand는 균등분포\n",
        "y=np.random.rand(n)\n",
        "\n",
        "plt.scatter(x,y)\n",
        "plt.grid\n",
        "plt.show()"
      ],
      "metadata": {
        "id": "FORw7he4THsw"
      },
      "execution_count": null,
      "outputs": []
    },
    {
      "cell_type": "code",
      "source": [
        "n=1000\n",
        "x=np.random.rand(n)\n",
        "y=np.random.rand(n)\n",
        "plt.scatter(x,y)\n",
        "plt.grid\n",
        "plt.show()"
      ],
      "metadata": {
        "id": "BGhOrwPqTH0f"
      },
      "execution_count": null,
      "outputs": []
    },
    {
      "cell_type": "code",
      "source": [
        "#행방향 열방향 전체\n",
        "arr=np.array([[1,2,3],[4,5,6],[7,8,9]])\n",
        "print(\"원본 : \\n\",arr)\n",
        "print(\"누적합(행) : \\n\",arr.cumsum(0)) #열 누적합계\n",
        "print(\"누적곱(열) : \\n\",arr.cumprod(1)) #열 방향 누적 곱\n",
        "arr=np.random.randn(5,4) #정규분포\n",
        "print(arr)\n",
        "print(\"배열의 평균 : \",arr.mean()) #전체\n",
        "np.mean(arr) #전체 평균\n",
        "print(\"배열의 합계 : \",arr.sum()) #전체 합계\n",
        "print(\"열방향으로 합계 : \",arr.mean(axis=1)) #행평균\n",
        "print(\"행방향으로 합계 : \",arr.sum(0)) #행방향, 열합"
      ],
      "metadata": {
        "colab": {
          "base_uri": "https://localhost:8080/"
        },
        "id": "ReIw-dvZTH1C",
        "outputId": "4c1424b8-8740-4afd-d8cd-b0c921711dc5"
      },
      "execution_count": null,
      "outputs": [
        {
          "output_type": "stream",
          "name": "stdout",
          "text": [
            "원본 : \n",
            " [[1 2 3]\n",
            " [4 5 6]\n",
            " [7 8 9]]\n",
            "누적합(행) : \n",
            " [[ 1  2  3]\n",
            " [ 5  7  9]\n",
            " [12 15 18]]\n",
            "누적곱(열) : \n",
            " [[  1   2   6]\n",
            " [  4  20 120]\n",
            " [  7  56 504]]\n",
            "[[ 1.91510714  1.33738484  1.38280361 -1.34073338]\n",
            " [-0.32588835 -1.2710186  -1.45754536  0.98254436]\n",
            " [-0.00462175 -0.21571753  0.22621664  0.14947037]\n",
            " [ 0.61071463  0.16217276  1.20536433  1.60802647]\n",
            " [ 1.91750868 -0.46432584  0.72620542 -0.14815205]]\n",
            "배열의 평균 :  0.34977581997197127\n",
            "배열의 합계 :  6.995516399439426\n",
            "열방향으로 합계 :  [ 0.82364055 -0.51797699  0.03883693  0.89656955  0.50780905]\n",
            "행방향으로 합계 :  [ 4.11282035 -0.45150437  2.08304465  1.25115577]\n"
          ]
        }
      ]
    },
    {
      "cell_type": "markdown",
      "source": [
        "두 벡터의 내적 : 요소곱 후 다 더한 값"
      ],
      "metadata": {
        "id": "tHORzhhqX5-A"
      }
    },
    {
      "cell_type": "code",
      "source": [
        "vec1=np.arange(5)\n",
        "vec2=np.arange(1,6)\n",
        "print(np.sum(vec1*vec2))"
      ],
      "metadata": {
        "colab": {
          "base_uri": "https://localhost:8080/"
        },
        "id": "fihw9mahTH1j",
        "outputId": "46f19d27-95cb-4c22-948c-701b5a8addbe"
      },
      "execution_count": null,
      "outputs": [
        {
          "output_type": "stream",
          "name": "stdout",
          "text": [
            "40\n"
          ]
        }
      ]
    },
    {
      "cell_type": "code",
      "source": [
        "vec1.dot(vec2)"
      ],
      "metadata": {
        "colab": {
          "base_uri": "https://localhost:8080/"
        },
        "id": "567KnL8lTH2K",
        "outputId": "ad65c953-a62a-4fc3-90e6-6decdabe0b67"
      },
      "execution_count": null,
      "outputs": [
        {
          "output_type": "execute_result",
          "data": {
            "text/plain": [
              "40"
            ]
          },
          "metadata": {},
          "execution_count": 181
        }
      ]
    },
    {
      "cell_type": "code",
      "source": [
        "print(np.sqrt(np.sum(vec1**2)))\n",
        "np.linalg.norm(vec1)"
      ],
      "metadata": {
        "colab": {
          "base_uri": "https://localhost:8080/"
        },
        "id": "KeHhG9YeTH2r",
        "outputId": "f92db323-e6fb-418b-9a40-3d0bcac44d79"
      },
      "execution_count": null,
      "outputs": [
        {
          "output_type": "stream",
          "name": "stdout",
          "text": [
            "5.477225575051661\n"
          ]
        },
        {
          "output_type": "execute_result",
          "data": {
            "text/plain": [
              "5.477225575051661"
            ]
          },
          "metadata": {},
          "execution_count": 182
        }
      ]
    },
    {
      "cell_type": "code",
      "source": [
        "#costheta\n",
        "costheta=np.sum(vec1*vec2)/np.linalg.norm(vec1)*np.linalg.norm(vec2)"
      ],
      "metadata": {
        "id": "R-5tAECKTH3T"
      },
      "execution_count": null,
      "outputs": []
    },
    {
      "cell_type": "code",
      "source": [
        "np.math.degrees(np.arccos(costheta))"
      ],
      "metadata": {
        "colab": {
          "base_uri": "https://localhost:8080/"
        },
        "id": "vBlfb-nwTH30",
        "outputId": "5c221981-5b7f-437f-d5e9-d7e105e3f02b"
      },
      "execution_count": null,
      "outputs": [
        {
          "output_type": "stream",
          "name": "stderr",
          "text": [
            "<ipython-input-184-f847528f3de2>:1: RuntimeWarning: invalid value encountered in arccos\n",
            "  np.math.degrees(np.arccos(costheta))\n"
          ]
        },
        {
          "output_type": "execute_result",
          "data": {
            "text/plain": [
              "nan"
            ]
          },
          "metadata": {},
          "execution_count": 184
        }
      ]
    },
    {
      "cell_type": "code",
      "source": [
        "def cos_sim(vec_1,vec_2):\n",
        "  return np.dot(vec_1,vec_2)/(np.linalg.norm(vec_1)*np.linalg.norm(vec_2))"
      ],
      "metadata": {
        "id": "9tF5gn94TH4c"
      },
      "execution_count": null,
      "outputs": []
    },
    {
      "cell_type": "code",
      "source": [
        "arr=np.arange(32).reshape((8,4))\n",
        "print(arr)"
      ],
      "metadata": {
        "colab": {
          "base_uri": "https://localhost:8080/"
        },
        "id": "pny5mvRkTH5X",
        "outputId": "c837c7cd-2635-44c9-a8eb-a47a853b06f8"
      },
      "execution_count": null,
      "outputs": [
        {
          "output_type": "stream",
          "name": "stdout",
          "text": [
            "[[ 0  1  2  3]\n",
            " [ 4  5  6  7]\n",
            " [ 8  9 10 11]\n",
            " [12 13 14 15]\n",
            " [16 17 18 19]\n",
            " [20 21 22 23]\n",
            " [24 25 26 27]\n",
            " [28 29 30 31]]\n"
          ]
        }
      ]
    },
    {
      "cell_type": "markdown",
      "source": [
        "행렬 곱"
      ],
      "metadata": {
        "id": "5IGcxBMeZK3R"
      }
    },
    {
      "cell_type": "code",
      "source": [
        "arr @ arr.T #행렬곱 기호"
      ],
      "metadata": {
        "colab": {
          "base_uri": "https://localhost:8080/"
        },
        "id": "xYz5mMuXTH52",
        "outputId": "c3de8f4c-a4df-413c-f34b-a946b4229c67"
      },
      "execution_count": null,
      "outputs": [
        {
          "output_type": "execute_result",
          "data": {
            "text/plain": [
              "array([[  14,   38,   62,   86,  110,  134,  158,  182],\n",
              "       [  38,  126,  214,  302,  390,  478,  566,  654],\n",
              "       [  62,  214,  366,  518,  670,  822,  974, 1126],\n",
              "       [  86,  302,  518,  734,  950, 1166, 1382, 1598],\n",
              "       [ 110,  390,  670,  950, 1230, 1510, 1790, 2070],\n",
              "       [ 134,  478,  822, 1166, 1510, 1854, 2198, 2542],\n",
              "       [ 158,  566,  974, 1382, 1790, 2198, 2606, 3014],\n",
              "       [ 182,  654, 1126, 1598, 2070, 2542, 3014, 3486]])"
            ]
          },
          "metadata": {},
          "execution_count": 188
        }
      ]
    },
    {
      "cell_type": "code",
      "source": [
        "np.matmul(arr,arr.T)"
      ],
      "metadata": {
        "colab": {
          "base_uri": "https://localhost:8080/"
        },
        "id": "qvL37sRFTH6j",
        "outputId": "e015a673-41cc-43df-adea-7661dc6cc994"
      },
      "execution_count": null,
      "outputs": [
        {
          "output_type": "execute_result",
          "data": {
            "text/plain": [
              "array([[  14,   38,   62,   86,  110,  134,  158,  182],\n",
              "       [  38,  126,  214,  302,  390,  478,  566,  654],\n",
              "       [  62,  214,  366,  518,  670,  822,  974, 1126],\n",
              "       [  86,  302,  518,  734,  950, 1166, 1382, 1598],\n",
              "       [ 110,  390,  670,  950, 1230, 1510, 1790, 2070],\n",
              "       [ 134,  478,  822, 1166, 1510, 1854, 2198, 2542],\n",
              "       [ 158,  566,  974, 1382, 1790, 2198, 2606, 3014],\n",
              "       [ 182,  654, 1126, 1598, 2070, 2542, 3014, 3486]])"
            ]
          },
          "metadata": {},
          "execution_count": 189
        }
      ]
    },
    {
      "cell_type": "markdown",
      "source": [
        "tile"
      ],
      "metadata": {
        "id": "qNTIqmYuZReE"
      }
    },
    {
      "cell_type": "code",
      "source": [
        "x=np.array([[1,2,3],[4,5,6],[7,8,9],[10,11,12]])\n",
        "print(x)\n",
        "v=np.array([1,0,1])\n",
        "\n",
        "print(\"타일 출력\")\n",
        "vv=np.tile(v,(4,1)) #np.tile(표본,m,n) 행으로 m번 열로 n번\n",
        "print(vv)"
      ],
      "metadata": {
        "colab": {
          "base_uri": "https://localhost:8080/"
        },
        "id": "2V3ZqHSwTH7F",
        "outputId": "de28b4c4-847a-4f15-fdec-280db6fac7c7"
      },
      "execution_count": null,
      "outputs": [
        {
          "output_type": "stream",
          "name": "stdout",
          "text": [
            "[[ 1  2  3]\n",
            " [ 4  5  6]\n",
            " [ 7  8  9]\n",
            " [10 11 12]]\n",
            "타일 출력\n",
            "[[1 0 1]\n",
            " [1 0 1]\n",
            " [1 0 1]\n",
            " [1 0 1]]\n"
          ]
        }
      ]
    },
    {
      "cell_type": "code",
      "source": [
        "                          #0,1,2\n",
        "arr=np.arange(24).reshape((2,3,4))\n",
        "print(arr)\n",
        "print(arr.transpose((1,0,2))) #3x2x4\n",
        "print(arr.transpose((0,2,1))) #2x4x3\n",
        "print(arr.swapaxes(1,2))"
      ],
      "metadata": {
        "colab": {
          "base_uri": "https://localhost:8080/"
        },
        "id": "JhR3Itx5TH7p",
        "outputId": "85b19fbb-c820-4f00-99fe-8fb4fffac4f0"
      },
      "execution_count": null,
      "outputs": [
        {
          "output_type": "stream",
          "name": "stdout",
          "text": [
            "[[[ 0  1  2  3]\n",
            "  [ 4  5  6  7]\n",
            "  [ 8  9 10 11]]\n",
            "\n",
            " [[12 13 14 15]\n",
            "  [16 17 18 19]\n",
            "  [20 21 22 23]]]\n",
            "[[[ 0  1  2  3]\n",
            "  [12 13 14 15]]\n",
            "\n",
            " [[ 4  5  6  7]\n",
            "  [16 17 18 19]]\n",
            "\n",
            " [[ 8  9 10 11]\n",
            "  [20 21 22 23]]]\n",
            "[[[ 0  4  8]\n",
            "  [ 1  5  9]\n",
            "  [ 2  6 10]\n",
            "  [ 3  7 11]]\n",
            "\n",
            " [[12 16 20]\n",
            "  [13 17 21]\n",
            "  [14 18 22]\n",
            "  [15 19 23]]]\n",
            "[[[ 0  4  8]\n",
            "  [ 1  5  9]\n",
            "  [ 2  6 10]\n",
            "  [ 3  7 11]]\n",
            "\n",
            " [[12 16 20]\n",
            "  [13 17 21]\n",
            "  [14 18 22]\n",
            "  [15 19 23]]]\n"
          ]
        }
      ]
    },
    {
      "cell_type": "code",
      "source": [
        "#x+y=2\n",
        "#y+z=2\n",
        "#x+y+z=3\n",
        "#[]*[x,y,z]=[2,2,3]\n",
        "\n",
        "A=np.array([[1,1,0],[0,1,1],[1,1,1]])\n",
        "Ainv=np.linalg.inv(A)\n",
        "b=np.array([[2],[2],[3]])\n",
        "x=Ainv@b\n",
        "x"
      ],
      "metadata": {
        "colab": {
          "base_uri": "https://localhost:8080/"
        },
        "id": "tO75Ljy1TH8J",
        "outputId": "7b49c5ed-86f6-4eb3-ca8f-c3326aceecf0"
      },
      "execution_count": null,
      "outputs": [
        {
          "output_type": "execute_result",
          "data": {
            "text/plain": [
              "array([[1.],\n",
              "       [1.],\n",
              "       [1.]])"
            ]
          },
          "metadata": {},
          "execution_count": 193
        }
      ]
    },
    {
      "cell_type": "code",
      "source": [
        "#문제\n",
        "#2x+y-2z=-3\n",
        "#3x+z=5\n",
        "#x+y-z=-2\n",
        "\n",
        "A=np.array([[2,1,-2],[3,0,1],[1,1,-1]])\n",
        "A_inv=np.linalg.inv(A)\n",
        "#b=np.array([[-3],[5],[-2]])\n",
        "b=np.array([[-3,5,-2]]).T\n",
        "a=A_inv@b\n",
        "a"
      ],
      "metadata": {
        "colab": {
          "base_uri": "https://localhost:8080/"
        },
        "id": "MSHCLaQCTH8y",
        "outputId": "ca0ddca6-b2aa-4694-e66c-74065cf2bb2f"
      },
      "execution_count": null,
      "outputs": [
        {
          "output_type": "execute_result",
          "data": {
            "text/plain": [
              "array([[ 1.],\n",
              "       [-1.],\n",
              "       [ 2.]])"
            ]
          },
          "metadata": {},
          "execution_count": 202
        }
      ]
    },
    {
      "cell_type": "code",
      "source": [
        "#문제\n",
        "#두 벡터의 사이각을 구하시오(?도)\n",
        "a=np.array([0,1,0])\n",
        "b=np.array([1,0,0])\n",
        "\n",
        "costheta=a.dot(b)/(np.linalg.norm(a)*np.linalg.norm(b))\n",
        "np.degrees(np.arccos(a.dot(b)))"
      ],
      "metadata": {
        "colab": {
          "base_uri": "https://localhost:8080/"
        },
        "id": "PrqkNkFPTH9T",
        "outputId": "105e5f2c-9d51-4a17-ebed-b2409bf4c56f"
      },
      "execution_count": null,
      "outputs": [
        {
          "output_type": "execute_result",
          "data": {
            "text/plain": [
              "90.0"
            ]
          },
          "metadata": {},
          "execution_count": 225
        }
      ]
    },
    {
      "cell_type": "code",
      "source": [
        "#x=np.array([[1,2],[3,4]]) 이 행렬에 대하여 역행렬을 구하고 행렬곱을 해서 결과가 단위행렬임을 확인하시오\n",
        "x=np.array([[1,2],[3,4]])\n",
        "x@np.linalg.inv(x)"
      ],
      "metadata": {
        "colab": {
          "base_uri": "https://localhost:8080/"
        },
        "id": "0rMpEInPTH91",
        "outputId": "ac7115cb-bfc0-43dd-bee5-622ff805a876"
      },
      "execution_count": null,
      "outputs": [
        {
          "output_type": "execute_result",
          "data": {
            "text/plain": [
              "array([[1.0000000e+00, 0.0000000e+00],\n",
              "       [8.8817842e-16, 1.0000000e+00]])"
            ]
          },
          "metadata": {},
          "execution_count": 226
        }
      ]
    },
    {
      "cell_type": "code",
      "source": [
        "#삼각함수\n",
        "#tantheta=sin theta/cos theta임을 검증하시오\n",
        "#cos**2theta+sin**2theta=1임을 검증하시오\n",
        "\n",
        "theta=np.radians(30)\n",
        "x=np.cos(theta)\n",
        "y=np.sin(theta)\n",
        "print(y/x)\n",
        "print(np.tan(theta))\n",
        "\n",
        "a=x**2+y**2\n",
        "print(a)"
      ],
      "metadata": {
        "colab": {
          "base_uri": "https://localhost:8080/"
        },
        "id": "dgpKfYymTH-Z",
        "outputId": "f437ffc0-cdfb-4623-a7f7-4dc8cfaf4b8b"
      },
      "execution_count": null,
      "outputs": [
        {
          "output_type": "stream",
          "name": "stdout",
          "text": [
            "0.5773502691896256\n",
            "0.5773502691896257\n",
            "1.0\n"
          ]
        }
      ]
    },
    {
      "cell_type": "code",
      "source": [
        "import numpy as np\n",
        "a=np.array([[3,7,5],[8,4,3],[2,4,9]])\n",
        "print(\"범위 : \",np.ptp(a))\n",
        "print(\"열범위 : \",np.ptp(a,axis=1))\n",
        "print(\"1사분위수 : \",np.percentile(a,25)) #np.percentile(데이터,퍼센트) 25%=1사분위수, 50%=중위수 75%=3사분위 100%\n",
        "print(\"행 중위수 : \",np.median(a,axis=0))\n",
        "print(\"열 평균 : \",np.mean(a,axis=1))\n",
        "print(\"전체 분산 : \",np.var(a))\n",
        "print(\"전체 표준편차  :\",np.std(a))"
      ],
      "metadata": {
        "id": "sOm-IieRTH-5",
        "colab": {
          "base_uri": "https://localhost:8080/"
        },
        "outputId": "b4c860e5-a794-40f6-96d9-a244e94345aa"
      },
      "execution_count": null,
      "outputs": [
        {
          "output_type": "stream",
          "name": "stdout",
          "text": [
            "범위 :  7\n",
            "열범위 :  [4 5 7]\n",
            "1사분위수 :  3.0\n",
            "행 중위수 :  [3. 4. 5.]\n",
            "열 평균 :  [5. 5. 5.]\n",
            "전체 분산 :  5.333333333333333\n",
            "전체 표준편차  : 2.309401076758503\n"
          ]
        }
      ]
    },
    {
      "cell_type": "code",
      "source": [
        "int_types=['uint8','int8','int16'] #uint(unsigned int)\n",
        "for int_type in int_types:\n",
        "  print(np.iinfo(int_type))"
      ],
      "metadata": {
        "id": "A6YZWM-lTH_b",
        "colab": {
          "base_uri": "https://localhost:8080/"
        },
        "outputId": "d84a085c-e059-4bba-84c3-2c759c6141db"
      },
      "execution_count": null,
      "outputs": [
        {
          "output_type": "stream",
          "name": "stdout",
          "text": [
            "Machine parameters for uint8\n",
            "---------------------------------------------------------------\n",
            "min = 0\n",
            "max = 255\n",
            "---------------------------------------------------------------\n",
            "\n",
            "Machine parameters for int8\n",
            "---------------------------------------------------------------\n",
            "min = -128\n",
            "max = 127\n",
            "---------------------------------------------------------------\n",
            "\n",
            "Machine parameters for int16\n",
            "---------------------------------------------------------------\n",
            "min = -32768\n",
            "max = 32767\n",
            "---------------------------------------------------------------\n",
            "\n"
          ]
        }
      ]
    }
  ]
}