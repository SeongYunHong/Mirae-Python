{
  "nbformat": 4,
  "nbformat_minor": 0,
  "metadata": {
    "colab": {
      "provenance": [],
      "authorship_tag": "ABX9TyPrkAxTt/P+EqKzq+68GSsE",
      "include_colab_link": true
    },
    "kernelspec": {
      "name": "python3",
      "display_name": "Python 3"
    },
    "language_info": {
      "name": "python"
    }
  },
  "cells": [
    {
      "cell_type": "markdown",
      "metadata": {
        "id": "view-in-github",
        "colab_type": "text"
      },
      "source": [
        "<a href=\"https://colab.research.google.com/github/SeongYunHong/mirae-python/blob/main/03_function.ipynb\" target=\"_parent\"><img src=\"https://colab.research.google.com/assets/colab-badge.svg\" alt=\"Open In Colab\"/></a>"
      ]
    },
    {
      "cell_type": "code",
      "execution_count": 45,
      "metadata": {
        "colab": {
          "base_uri": "https://localhost:8080/"
        },
        "id": "kQKKQbu3RY1H",
        "outputId": "e8161284-d43b-48de-b3e4-18f16828dcfa"
      },
      "outputs": [
        {
          "output_type": "stream",
          "name": "stdout",
          "text": [
            "이름을 입력하시오 : 홍성윤\n",
            "국어 성적을 입력하시오 : 100\n",
            "영어 성적을 입력하시오 : 100\n",
            "수학 성적을 입력하시오 : 100\n",
            "이름을 입력하시오 : 김김김\n",
            "국어 성적을 입력하시오 : 20\n",
            "영어 성적을 입력하시오 : 20\n",
            "수학 성적을 입력하시오 : 56\n",
            "이름을 입력하시오 : 이이이\n",
            "국어 성적을 입력하시오 : 89\n",
            "영어 성적을 입력하시오 : 34\n",
            "수학 성적을 입력하시오 : 59\n",
            "홍성윤 의 학점은  A 입니다.\n",
            "김김김 의 학점은  F 입니다.\n",
            "이이이 의 학점은  D 입니다.\n"
          ]
        }
      ],
      "source": [
        "#문제\n",
        "#3명의 (이름, 국어, 영어, 수학점수를 입력받아서 2차원 list에 입력하고 합계와 평균을 구하여 출력하시오)\n",
        "st=[]\n",
        "for i in range(3):\n",
        "  name=input(\"이름을 입력하시오 : \")\n",
        "  kor=int(input(\"국어 성적을 입력하시오 : \"))\n",
        "  eng=int(input(\"영어 성적을 입력하시오 : \"))\n",
        "  mat=int(input(\"수학 성적을 입력하시오 : \"))\n",
        "  sum=kor+eng+mat\n",
        "  avg=round(float(sum/3),2)\n",
        "  st.append([name,kor,eng,mat,sum,avg])\n",
        "  if st[i][5]>=90:\n",
        "    grd='A'\n",
        "  elif st[i][5]>=80:\n",
        "    grd='B'\n",
        "  elif st[i][5]>=70:\n",
        "    grd='C'\n",
        "  elif st[i][5]>=60:\n",
        "    grd='D'\n",
        "  else : grd='F'\n",
        "  st[i].append(grd)\n",
        "for i in range(3):\n",
        "  print(st[i][0],\"의 학점은 \",st[i][6],\"입니다.\")\n",
        "\n",
        "st.sort(key=lambda row : row[5],reverse=True)\n",
        "rank=0\n",
        "for i in range(len(st)):\n",
        "  rank=rank+1\n",
        "  st[i].append(rank)\n",
        "\n",
        "for i in range(len(st)):\n",
        "  for j in range(len(st[i])):\n",
        "    print(st[i][j], end=\" \")"
      ]
    },
    {
      "cell_type": "code",
      "source": [],
      "metadata": {
        "id": "sciLUhUja342"
      },
      "execution_count": 51,
      "outputs": []
    },
    {
      "cell_type": "code",
      "source": [],
      "metadata": {
        "colab": {
          "base_uri": "https://localhost:8080/"
        },
        "id": "IYFnJnw-rrqe",
        "outputId": "6aa1e25f-43db-429c-8898-cb341e35d0c6"
      },
      "execution_count": 52,
      "outputs": [
        {
          "output_type": "stream",
          "name": "stdout",
          "text": [
            "홍성윤 100 100 100 300 100.0 A 1 3 1 이이이 89 34 59 182 60.67 D 2 2 2 김김김 20 20 56 96 32.0 F 3 1 3 "
          ]
        }
      ]
    },
    {
      "cell_type": "code",
      "source": [
        "#과제 함계에 의한 등수를 결정하고 모든 데이터를 출력하시오"
      ],
      "metadata": {
        "id": "hhf18GB8bjKT"
      },
      "execution_count": null,
      "outputs": []
    },
    {
      "cell_type": "code",
      "source": [
        "sum=0 #누적변수\n",
        "for i in range(1,11):\n",
        "  sum+=i\n",
        "print(sum)"
      ],
      "metadata": {
        "colab": {
          "base_uri": "https://localhost:8080/"
        },
        "id": "Ek2ke9fcbjIE",
        "outputId": "b89191ca-941d-44c4-b9c2-ca53b16a9067"
      },
      "execution_count": 1,
      "outputs": [
        {
          "output_type": "stream",
          "name": "stdout",
          "text": [
            "55\n"
          ]
        }
      ]
    },
    {
      "cell_type": "code",
      "source": [
        "i=0\n",
        "sum=0\n",
        "while i<10:\n",
        "  i+=1 #증가변수\n",
        "  sum+=i\n",
        "print(sum)"
      ],
      "metadata": {
        "id": "E9y2zDFxbjFk"
      },
      "execution_count": null,
      "outputs": []
    },
    {
      "cell_type": "code",
      "source": [
        "#문제\n",
        "#i=0으로 초기화하고 3,4,5,6,7,8,9만 while 문을 이용해서 더해보시오\n",
        "sum=0\n",
        "i=0\n",
        "while i<10:\n",
        "  i+=1\n",
        "  if i<3 : continue\n",
        "  if i>9 : break\n",
        "  sum+=i\n",
        "print(sum)"
      ],
      "metadata": {
        "colab": {
          "base_uri": "https://localhost:8080/"
        },
        "id": "lsSk6oUlbjDT",
        "outputId": "72853efa-5541-4239-efb2-3ce087a61f32"
      },
      "execution_count": 7,
      "outputs": [
        {
          "output_type": "stream",
          "name": "stdout",
          "text": [
            "42\n"
          ]
        }
      ]
    },
    {
      "cell_type": "markdown",
      "source": [
        "list comprehension"
      ],
      "metadata": {
        "id": "7jCIbubMf8cV"
      }
    },
    {
      "cell_type": "code",
      "source": [
        "[i for i in range(10)]"
      ],
      "metadata": {
        "colab": {
          "base_uri": "https://localhost:8080/"
        },
        "id": "Wl9TcqPef6nd",
        "outputId": "3700c9d3-50b6-4ae5-bce1-c9ac476f7c29"
      },
      "execution_count": 8,
      "outputs": [
        {
          "output_type": "execute_result",
          "data": {
            "text/plain": [
              "[0, 1, 2, 3, 4, 5, 6, 7, 8, 9]"
            ]
          },
          "metadata": {},
          "execution_count": 8
        }
      ]
    },
    {
      "cell_type": "code",
      "source": [
        "[i**2 for i in range(10)]"
      ],
      "metadata": {
        "colab": {
          "base_uri": "https://localhost:8080/"
        },
        "id": "gWI7ySDif_v-",
        "outputId": "4cd1a1d1-ec8f-4dd7-905b-6c70c0b6b415"
      },
      "execution_count": 9,
      "outputs": [
        {
          "output_type": "execute_result",
          "data": {
            "text/plain": [
              "[0, 1, 4, 9, 16, 25, 36, 49, 64, 81]"
            ]
          },
          "metadata": {},
          "execution_count": 9
        }
      ]
    },
    {
      "cell_type": "code",
      "source": [
        "{i : i**3 for i in range(10)} #dict"
      ],
      "metadata": {
        "colab": {
          "base_uri": "https://localhost:8080/"
        },
        "id": "oZKSTzq3f_x8",
        "outputId": "430407b1-184b-414f-c07c-d136226ea258"
      },
      "execution_count": 10,
      "outputs": [
        {
          "output_type": "execute_result",
          "data": {
            "text/plain": [
              "{0: 0, 1: 1, 2: 8, 3: 27, 4: 64, 5: 125, 6: 216, 7: 343, 8: 512, 9: 729}"
            ]
          },
          "metadata": {},
          "execution_count": 10
        }
      ]
    },
    {
      "cell_type": "code",
      "source": [
        "[i**2 for i in range(10) if i%2==0]"
      ],
      "metadata": {
        "colab": {
          "base_uri": "https://localhost:8080/"
        },
        "id": "F23xMsCef_0F",
        "outputId": "6b01cbaf-4b75-431b-d605-cb68744a076b"
      },
      "execution_count": 11,
      "outputs": [
        {
          "output_type": "execute_result",
          "data": {
            "text/plain": [
              "[0, 4, 16, 36, 64]"
            ]
          },
          "metadata": {},
          "execution_count": 11
        }
      ]
    },
    {
      "cell_type": "code",
      "source": [
        "rows=range(1,5)\n",
        "cols=range(10,15)\n",
        "vectors=[(r,c) for r in rows for c in cols]\n",
        "vectors"
      ],
      "metadata": {
        "colab": {
          "base_uri": "https://localhost:8080/"
        },
        "id": "R5JIV7Mwf_3t",
        "outputId": "00303c3c-992e-4c1a-9bf6-dee3d2e88d95"
      },
      "execution_count": 13,
      "outputs": [
        {
          "output_type": "execute_result",
          "data": {
            "text/plain": [
              "[(1, 10),\n",
              " (1, 11),\n",
              " (1, 12),\n",
              " (1, 13),\n",
              " (1, 14),\n",
              " (2, 10),\n",
              " (2, 11),\n",
              " (2, 12),\n",
              " (2, 13),\n",
              " (2, 14),\n",
              " (3, 10),\n",
              " (3, 11),\n",
              " (3, 12),\n",
              " (3, 13),\n",
              " (3, 14),\n",
              " (4, 10),\n",
              " (4, 11),\n",
              " (4, 12),\n",
              " (4, 13),\n",
              " (4, 14)]"
            ]
          },
          "metadata": {},
          "execution_count": 13
        }
      ]
    },
    {
      "cell_type": "code",
      "source": [
        "#문제\n",
        "#1~20사이의 수 중 3의배수 5의배수인 경우 숫자 다음에 \"3의배수\", \"5의배수\"와 같이 출력하시오\n",
        "#문자열 반복을 사용하고 논리연산자를 이용해서 해결\n",
        "\n",
        "#[i for i in range(1,21)  if i%3==0 or i%5==0]\n",
        "[\"3의 배수\"*(i%3==0)+\"5의 배수\"*(i%5==0) or i for i in range(1,21)]"
      ],
      "metadata": {
        "colab": {
          "base_uri": "https://localhost:8080/"
        },
        "id": "hNIUyOIff_5t",
        "outputId": "3a1c5281-e0c0-4912-f631-e09e92bc57a6"
      },
      "execution_count": 32,
      "outputs": [
        {
          "output_type": "execute_result",
          "data": {
            "text/plain": [
              "[1,\n",
              " 2,\n",
              " '3의 배수',\n",
              " 4,\n",
              " '5의 배수',\n",
              " '3의 배수',\n",
              " 7,\n",
              " 8,\n",
              " '3의 배수',\n",
              " '5의 배수',\n",
              " 11,\n",
              " '3의 배수',\n",
              " 13,\n",
              " 14,\n",
              " '3의 배수5의 배수',\n",
              " 16,\n",
              " 17,\n",
              " '3의 배수',\n",
              " 19,\n",
              " '5의 배수']"
            ]
          },
          "metadata": {},
          "execution_count": 32
        }
      ]
    },
    {
      "cell_type": "markdown",
      "source": [
        "함수(function) : 입력(parameter) 처리(block) 출력(return)\n",
        "\n",
        "함수 매개변수의 종류\n",
        "* Required : 순서와 개수를 일치시켜서\n",
        "* Default : 초기값(뒤로 배치)\n",
        "* Keyword : 파라미터의 순서를 변경\n",
        "* Variable :  파라미터 수를 변화시키는 파라미터"
      ],
      "metadata": {
        "id": "mZBQoumbkiwV"
      }
    },
    {
      "cell_type": "code",
      "source": [
        "#두 수를 입력받아서 더하는 함수를 작성하시오\n",
        "\n",
        "def add(a,b):\n",
        "  sum=a+b\n",
        "  return sum"
      ],
      "metadata": {
        "colab": {
          "base_uri": "https://localhost:8080/"
        },
        "id": "Uyb4NJ27f_7k",
        "outputId": "d8c34e2b-709a-4630-f6c4-e07742244a15"
      },
      "execution_count": 34,
      "outputs": [
        {
          "output_type": "stream",
          "name": "stdout",
          "text": [
            "200\n"
          ]
        }
      ]
    },
    {
      "cell_type": "code",
      "source": [
        "def mul(a,b):\n",
        "  c=a*b\n",
        "  return c\n",
        "print(mul(10,20))\n",
        "\n",
        "def mul(a,b):\n",
        "  c=a*b\n",
        "  print(\"두수의 곱은 \",c)\n",
        "print(mul(10,20))"
      ],
      "metadata": {
        "colab": {
          "base_uri": "https://localhost:8080/"
        },
        "id": "8qcvqXSYf_9c",
        "outputId": "73e7dac7-86bb-462f-e534-bd5cb36a36dd"
      },
      "execution_count": 35,
      "outputs": [
        {
          "output_type": "stream",
          "name": "stdout",
          "text": [
            "200\n",
            "두수의 곱은  200\n",
            "None\n"
          ]
        }
      ]
    },
    {
      "cell_type": "code",
      "source": [
        "print(add(30,40))\n",
        "print(add([10,20,30],[30,40,50]))\n",
        "print(add(\"abc\",\"def\"))"
      ],
      "metadata": {
        "colab": {
          "base_uri": "https://localhost:8080/"
        },
        "id": "ekZuPgFLf__W",
        "outputId": "dd3e69ea-0d4a-48c0-e6f9-1d50c61bfdab"
      },
      "execution_count": 37,
      "outputs": [
        {
          "output_type": "stream",
          "name": "stdout",
          "text": [
            "70\n",
            "[10, 20, 30, 30, 40, 50]\n",
            "abcdef\n"
          ]
        }
      ]
    },
    {
      "cell_type": "code",
      "source": [
        "#문제\n",
        "#list를 매개변수로 받아서 모든 수를 제곱한 다음 리턴해서 출력하시오\n",
        "lista=[1,2,3,4]\n",
        "def double_list(li):\n",
        "  emp_list=[] #지역변수\n",
        "  for i in li:\n",
        "    emp_list.append(i**2)\n",
        "  return emp_list\n",
        "\n",
        "print(double_list(lista))\n",
        "re=double_list(lista) #heap에 데이터가 복사되어 존재\n",
        "print(re)"
      ],
      "metadata": {
        "colab": {
          "base_uri": "https://localhost:8080/"
        },
        "id": "iXREE-n4gABT",
        "outputId": "6ee65114-d1b3-4bd4-a90c-c65cc6521657"
      },
      "execution_count": 42,
      "outputs": [
        {
          "output_type": "stream",
          "name": "stdout",
          "text": [
            "[1, 4, 9, 16]\n",
            "[1, 4, 9, 16]\n"
          ]
        }
      ]
    },
    {
      "cell_type": "markdown",
      "source": [
        "Default Parameter : 뒤로 배치, 오버로딩과 같음"
      ],
      "metadata": {
        "id": "6zpZCPdOpch1"
      }
    },
    {
      "cell_type": "code",
      "source": [
        "def student(name, age=21): #age : default parameter\n",
        "  print('이름 : ',name)\n",
        "  print('나이 : ',age)\n",
        "student('김일')\n",
        "student('김이',25) #25 : keyword parameter"
      ],
      "metadata": {
        "colab": {
          "base_uri": "https://localhost:8080/"
        },
        "id": "-XSghadxgADG",
        "outputId": "92516f09-85d8-400b-c3e9-f5ca136258cf"
      },
      "execution_count": 44,
      "outputs": [
        {
          "output_type": "stream",
          "name": "stdout",
          "text": [
            "이름 :  김일\n",
            "나이 :  21\n",
            "이름 :  김이\n",
            "나이 :  25\n"
          ]
        }
      ]
    },
    {
      "cell_type": "code",
      "source": [
        "#y=ax+b\n",
        "def reg(x,a=10,b=20):\n",
        "  return a*x+b\n",
        "print(reg(10))\n",
        "#함수를 재정의하면 앞에 있던 함수는 무시\n",
        "def reg(x,a=20,b=30):\n",
        "  return a*x+b\n",
        "reg(10)"
      ],
      "metadata": {
        "colab": {
          "base_uri": "https://localhost:8080/"
        },
        "id": "uSL2WnrZgAFE",
        "outputId": "7fd1870f-0b44-4afd-d922-2552419ffa3e"
      },
      "execution_count": 57,
      "outputs": [
        {
          "output_type": "stream",
          "name": "stdout",
          "text": [
            "120\n"
          ]
        },
        {
          "output_type": "execute_result",
          "data": {
            "text/plain": [
              "230"
            ]
          },
          "metadata": {},
          "execution_count": 57
        }
      ]
    },
    {
      "cell_type": "markdown",
      "source": [
        "call by reference : 함수 내부에서 함수 외부의 값 변경"
      ],
      "metadata": {
        "id": "dgvC0dpJthcm"
      }
    },
    {
      "cell_type": "code",
      "source": [
        "def changeme(mylist): #지역변수(stack에 생성)\n",
        " # mylist.append([1,2,3,4])\n",
        "  mylist=[20,30,40,50]\n",
        "  mylist.append([1,2,3,4])\n",
        "  print(\"함수 내부에서 출력 : \",mylist)\n",
        "  return\n",
        "mylist=[10,20,30] #전역변수\n",
        "changeme(mylist) #기존 mylist에 [1,2,3,4]추가 #주소만 전달\n",
        "changeme(mylist) #한번 더 추가\n",
        "print(\"함수 외부에서 출력 : \",mylist)"
      ],
      "metadata": {
        "colab": {
          "base_uri": "https://localhost:8080/"
        },
        "id": "Jx0J0ttGgAG-",
        "outputId": "f6272761-1ce7-4872-a440-9d1f8ba98fe7"
      },
      "execution_count": 59,
      "outputs": [
        {
          "output_type": "stream",
          "name": "stdout",
          "text": [
            "함수 내부에서 출력 :  [20, 30, 40, 50, [1, 2, 3, 4]]\n",
            "함수 내부에서 출력 :  [20, 30, 40, 50, [1, 2, 3, 4]]\n",
            "함수 외부에서 출력 :  [10, 20, 30]\n"
          ]
        }
      ]
    },
    {
      "cell_type": "markdown",
      "source": [
        "변동 매개변수 : 여러개의 매개변수를 변동해서 담는 것"
      ],
      "metadata": {
        "id": "RvofYjNjvT4F"
      }
    },
    {
      "cell_type": "code",
      "source": [
        "def func1(*args):\n",
        "  for i in args:\n",
        "    print(i,end=\",\")\n",
        "  print()\n",
        "print('시작')\n",
        "func1(1,2,3)\n",
        "func1(1,2,3,4)"
      ],
      "metadata": {
        "colab": {
          "base_uri": "https://localhost:8080/"
        },
        "id": "csMb0bH5gAJE",
        "outputId": "d50fc91b-c8c9-43b5-f4d6-bdebfbf31e00"
      },
      "execution_count": 62,
      "outputs": [
        {
          "output_type": "stream",
          "name": "stdout",
          "text": [
            "시작\n",
            "1,2,3,\n",
            "1,2,3,4,\n"
          ]
        }
      ]
    },
    {
      "cell_type": "code",
      "source": [
        "def variable(**names):\n",
        "  for key,value in names.items():\n",
        "    print(key,value)\n",
        "variable(name='대한',Age=25,Salary=34000,Country='Korea')"
      ],
      "metadata": {
        "colab": {
          "base_uri": "https://localhost:8080/"
        },
        "id": "CWR_rz2BgAK9",
        "outputId": "eacd43ae-44af-481b-c209-acab1d5f40ec"
      },
      "execution_count": 65,
      "outputs": [
        {
          "output_type": "stream",
          "name": "stdout",
          "text": [
            "name 대한\n",
            "Age 25\n",
            "Salary 34000\n",
            "Country Korea\n"
          ]
        }
      ]
    },
    {
      "cell_type": "code",
      "source": [
        "def var_parameter(*args,**kwargs):\n",
        "  print('list 매개변수들',args)\n",
        "  print('key 매개변수들',kwargs)\n",
        "  return\n",
        "var_parameter(1,2,z=5.,k=.3) #원칙 : 디폴트 파라미터는 뒤로 배치"
      ],
      "metadata": {
        "colab": {
          "base_uri": "https://localhost:8080/"
        },
        "id": "-jZjXYM4gAM1",
        "outputId": "2b4b6fa3-b8d1-4ef4-b329-e3d7f490f59d"
      },
      "execution_count": 74,
      "outputs": [
        {
          "output_type": "stream",
          "name": "stdout",
          "text": [
            "list 매개변수들 (1, 2)\n",
            "key 매개변수들 {'z': 5.0, 'k': 0.3}\n"
          ]
        }
      ]
    },
    {
      "cell_type": "code",
      "source": [
        "def say__hello_then_call(f,*args,**kwargs): #받을때\n",
        "  print('list 매개변수들',args)\n",
        "  print('key 매개변수들',kwargs)\n",
        "  print(\"함수를 호출 %s\" % f)\n",
        "  return f(*args,**kwargs) #사용할때\n",
        "\n",
        "def g(x,y,z=1):\n",
        "  print(x)\n",
        "  print(y)\n",
        "  print(z)\n",
        "  return (x+y)/z\n",
        "say__hello_then_call(g,1,2,z=5.)"
      ],
      "metadata": {
        "colab": {
          "base_uri": "https://localhost:8080/"
        },
        "id": "s2ON8bdUgAOr",
        "outputId": "3e4b3a80-b575-4701-830b-0072f0b9013d"
      },
      "execution_count": 80,
      "outputs": [
        {
          "output_type": "stream",
          "name": "stdout",
          "text": [
            "list 매개변수들 (1, 2)\n",
            "key 매개변수들 {'z': 5.0}\n",
            "함수를 호출 <function g at 0x78bfbb408e50>\n",
            "1\n",
            "2\n",
            "5.0\n"
          ]
        },
        {
          "output_type": "execute_result",
          "data": {
            "text/plain": [
              "0.6"
            ]
          },
          "metadata": {},
          "execution_count": 80
        }
      ]
    },
    {
      "cell_type": "markdown",
      "source": [
        "재귀 함수"
      ],
      "metadata": {
        "id": "dXwhg2EhzjG2"
      }
    },
    {
      "cell_type": "code",
      "source": [
        "def factorial(n):\n",
        "  sum=1\n",
        "  for i in range(n,1,-1):\n",
        "    sum*=i\n",
        "  return sum\n",
        "factorial(5)"
      ],
      "metadata": {
        "colab": {
          "base_uri": "https://localhost:8080/"
        },
        "id": "5MY61_HBgAQt",
        "outputId": "7f765ea3-a74f-420f-bcfb-22ef373d7bc6"
      },
      "execution_count": 82,
      "outputs": [
        {
          "output_type": "execute_result",
          "data": {
            "text/plain": [
              "120"
            ]
          },
          "metadata": {},
          "execution_count": 82
        }
      ]
    },
    {
      "cell_type": "code",
      "source": [
        "#재귀함수\n",
        "def factorial(n):\n",
        "  if n<=1: #종료조\n",
        "    return 1\n",
        "  return n*factorial(n-1) #자기자신 호출\n",
        "factorial(5)"
      ],
      "metadata": {
        "colab": {
          "base_uri": "https://localhost:8080/"
        },
        "id": "Ui6j54Ia0NqX",
        "outputId": "419ac878-f70c-4aa9-af14-3b79c3f0b2b9"
      },
      "execution_count": 84,
      "outputs": [
        {
          "output_type": "execute_result",
          "data": {
            "text/plain": [
              "120"
            ]
          },
          "metadata": {},
          "execution_count": 84
        }
      ]
    },
    {
      "cell_type": "markdown",
      "source": [
        "for in 문에서 뒤에 가능한 것\n",
        "* list[]\n",
        "*tuple()\n",
        "*dict\n",
        "*set\n",
        "*range\n",
        "*enumerate\n",
        "*zip\n",
        "*generator"
      ],
      "metadata": {
        "id": "ETnFGVi31wYG"
      }
    },
    {
      "cell_type": "markdown",
      "source": [
        "generator : 공간 낭비 막음\n",
        "\n",
        "while 문 안에서 yield문으로 만듦"
      ],
      "metadata": {
        "id": "p9wsM8MI2tWG"
      }
    },
    {
      "cell_type": "code",
      "source": [
        "import random\n",
        "def gaus_dist(n):\n",
        "  while n>0: #종료값 확인\n",
        "    yield random.random() #yield를 가지고 있는 함수\n",
        "    n-=1\n",
        "gd=gaus_dist(5)\n",
        "for i in gd: #한번에 하나씩 만들어서 하기 때문에 공간 낭비를 막음\n",
        "  print(i)"
      ],
      "metadata": {
        "colab": {
          "base_uri": "https://localhost:8080/"
        },
        "id": "9FqQqzxB0Nse",
        "outputId": "cd0033c1-8122-4945-9a10-463e14eee491"
      },
      "execution_count": 3,
      "outputs": [
        {
          "output_type": "stream",
          "name": "stdout",
          "text": [
            "0.7262984662462888\n",
            "0.5065209555082755\n",
            "0.914265428751209\n",
            "0.6205812580735063\n",
            "0.49062534437420113\n"
          ]
        }
      ]
    },
    {
      "cell_type": "code",
      "source": [
        "def make_closer(a):\n",
        "  b=10 #지역변\n",
        "  def clouser(): #내부함수 정의 #내부함수는 외부함수의 변수 접근 가능\n",
        "    print('나는 매개변수와 지역변수를 알고 있다. : %d %d'%(a,b))\n",
        "  return clouser #내부 함수리턴\n",
        "\n",
        "clouser=make_closer(5) #메모리에 외부함수가 잔존\n",
        "clouser()\n",
        "clouser()\n",
        "del(clouser)"
      ],
      "metadata": {
        "colab": {
          "base_uri": "https://localhost:8080/"
        },
        "id": "OYnqPq860NwW",
        "outputId": "2f97e6ab-5ab6-4d78-b7be-aacca11e5b36"
      },
      "execution_count": 88,
      "outputs": [
        {
          "output_type": "stream",
          "name": "stdout",
          "text": [
            "나는 매개변수와 지역변수를 알고 있다. : 5 10\n",
            "나는 매개변수와 지역변수를 알고 있다. : 5 10\n"
          ]
        }
      ]
    },
    {
      "cell_type": "code",
      "source": [
        "#clouser 함수는 주로 decoration design pattern으로 사용\n",
        "def cookbook(name):\n",
        "  def recipe(no):\n",
        "    print(\"%s's 호출번호 .%d\" %(name,no))\n",
        "  return recipe\n",
        "\n",
        "python_recipe=cookbook('python')\n",
        "python_recipe(1)\n",
        "python_recipe(2)\n",
        "\n",
        "perl_recipe=cookbook('perl')\n",
        "perl_recipe(1)\n",
        "perl_recipe(2)"
      ],
      "metadata": {
        "colab": {
          "base_uri": "https://localhost:8080/"
        },
        "id": "WcASrKv00Nyh",
        "outputId": "3ffadc7d-5fc0-43cf-e53c-f1caf1f8178e"
      },
      "execution_count": 90,
      "outputs": [
        {
          "output_type": "stream",
          "name": "stdout",
          "text": [
            "python's 호출번호 .1\n",
            "python's 호출번호 .2\n",
            "perl's 호출번호 .1\n",
            "perl's 호출번호 .2\n"
          ]
        }
      ]
    },
    {
      "cell_type": "code",
      "source": [
        "#재귀 호출 : binary search(전제조건 : 정렬되어있어야함)\n",
        "\n",
        "name_list=[\"진정인\",\"원하는대로\",\"희망이\",\"협동인\",\"통일대박\",\"딥러닝\",\"다함께\",\"대한인\"]\n",
        "name_list.sort()\n",
        "print(name_list)\n",
        "def binary_search_recursive(search_list,key,lower_bound,upper_bound): #lower_bound : 시작, upper_bound : 끝\n",
        "  if lower_bound>upper_bound: #시작점이 끝점을 넘어서면 데이터가 없다는 뜻\n",
        "    print(\"찾는 데이터가 없습니다.\")\n",
        "    return\n",
        "  middle_pos=(lower_bound+upper_bound)//2 #둘로 나눠서 중앙값 출력 #중앙에서 비교\n",
        "  if middle_pos < lower_bound or middle_pos >= upper_bound:\n",
        "    print(\"찾는 데이터가 없습니다.\")\n",
        "    return\n",
        "  if search_list[middle_pos]<key:\n",
        "    binary_search_recursive(search_list,key,middle_pos+1,upper_bound)\n",
        "  elif search_list[middle_pos]>key:\n",
        "    binary_search_recursive(search_list,key,lower_bound,middle_pos)\n",
        "  else:\n",
        "    print(\"데이터가 있는 인덱스 : \",middle_pos)\n",
        "lower_bound=0\n",
        "upper_bound=len(name_list)\n",
        "search_word=input(\"검색하고 싶은 단어를 입력하시오 : \")\n",
        "binary_search_recursive(name_list,search_word,lower_bound,upper_bound)"
      ],
      "metadata": {
        "colab": {
          "base_uri": "https://localhost:8080/"
        },
        "id": "vhWQ_ujk0N0F",
        "outputId": "897d2edb-55f9-403f-d385-324d53fe8734"
      },
      "execution_count": 92,
      "outputs": [
        {
          "output_type": "stream",
          "name": "stdout",
          "text": [
            "['다함께', '대한인', '딥러닝', '원하는대로', '진정인', '통일대박', '협동인', '희망이']\n",
            "검색하고 싶은 단어를 입력하시오 : 대한인\n",
            "데이터가 있는 인덱스 :  1\n"
          ]
        }
      ]
    },
    {
      "cell_type": "code",
      "source": [
        "#문제\n",
        "#총 근무시간(hours)과 시간당 급여(wage)를 입력받아 주급을 계산하는 프로그램을 작성하시오\n",
        "#40시간이 넘으면 두배로 지급합니다\n",
        "#함수의 매개변수는 시간당 급여와 주작업시간으로 합니다.\n",
        "\n",
        "basictime=40\n",
        "multiple=2\n",
        "def pay(wage,hours):\n",
        "  if hours<=basictime:\n",
        "    amount=wage*hours\n",
        "  else :\n",
        "    amount=(wage*basictime)+(wage*multiple*(hours-basictime))\n",
        "  return amount\n",
        "\n",
        "hours=int(input(\"총 근무 시간을 입력하시오 : \"))\n",
        "wage=int(input(\"시간당 급여를 입력하시오 : \"))\n",
        "earnings=pay(wage,hours)\n",
        "print(\"주간 수입은 : {0:,.2f}원\".format(earnings))"
      ],
      "metadata": {
        "colab": {
          "base_uri": "https://localhost:8080/"
        },
        "id": "5jQZr0IR0N2H",
        "outputId": "fcfb527a-cf66-429e-8b90-7f4066574b73"
      },
      "execution_count": 97,
      "outputs": [
        {
          "output_type": "stream",
          "name": "stdout",
          "text": [
            "총 근무 시간을 입력하시오 : 45\n",
            "시간당 급여를 입력하시오 : 10000\n",
            "주간 수입은 : 500,000.00원\n"
          ]
        }
      ]
    },
    {
      "cell_type": "code",
      "source": [
        "#문제\n",
        "#은행이자 - 복리\n",
        "#복리이자 계산법 : 원금 * ((1+이자율)**거치기간)\n",
        "#원금과 기간이 주어졌을 때 기간 거치 후의 총액과 이자 수익을 출력하는 함수를 작성하시오\n",
        "interest_rate=2.25/100\n",
        "def balanceAndinterest(money,year):\n",
        "  profit=money*((1+interest_rate)**year)\n",
        "  interestEarned=profit-money\n",
        "  return profit,interestEarned\n",
        "\n",
        "def main():\n",
        "  interest_money=int(input(\"원금을 입력하시오 : \"))\n",
        "  interest_year=int(input(\"거치기간을 입력하시오 : \"))\n",
        "  (pro,intEarned)=balanceAndinterest(interest_money,interest_year)\n",
        "  print(f\"총금액={pro}, 이자수익={intEarned}\")\n",
        "  print(f\"평균 변화액 = {(pro-interest_money)/interest_year}\")\n",
        "main()"
      ],
      "metadata": {
        "colab": {
          "base_uri": "https://localhost:8080/"
        },
        "id": "zT-81kVi0N3u",
        "outputId": "f67efaf7-7eeb-4a55-b6c3-2dd1d4e03212"
      },
      "execution_count": 105,
      "outputs": [
        {
          "output_type": "stream",
          "name": "stdout",
          "text": [
            "원금을 입력하시오 : 1000000\n",
            "거치기간을 입력하시오 : 12\n",
            "총금액=1306049.9898875677, 이자수익=306049.9898875677\n"
          ]
        }
      ]
    },
    {
      "cell_type": "code",
      "source": [
        "#입력하는 함수, 처리하는 함수, 출력하는 함수\n",
        "interest_rate=2.25/100\n",
        "\n",
        "def getInput():\n",
        "  origin=int(input(\"원금을 입력하시오 : \"))\n",
        "  year=int(input(\"거치기간을 입력하시오 : \"))\n",
        "  return origin,year\n",
        "\n",
        "def calc(origin,interest_year):\n",
        "  profit=origin*((1+interest_rate)**interest_year)\n",
        "  interestEarned=profit-origin\n",
        "  return profit,interestEarned\n",
        "\n",
        "def read(pro,intEarned):\n",
        "  print(f\"총금액={pro}, 이자수익={intEarned}\")\n",
        "def main():\n",
        "  #interest_m,interest_y=getInput()\n",
        "  #pro,intEarned=calc(interest_m,interest_y)\n",
        "  #read(pro,intEarned)\n",
        "  read(*calc(*getInput()))\n",
        "main()"
      ],
      "metadata": {
        "colab": {
          "base_uri": "https://localhost:8080/"
        },
        "id": "HHItSy2u0N7e",
        "outputId": "2e8289bf-49d8-415b-8cde-99247d8b2c53"
      },
      "execution_count": 1,
      "outputs": [
        {
          "output_type": "stream",
          "name": "stdout",
          "text": [
            "원금을 입력하시오 : 100000\n",
            "거치기간을 입력하시오 : 12\n",
            "총금액=130604.99898875676, 이자수익=30604.998988756764\n"
          ]
        }
      ]
    },
    {
      "cell_type": "code",
      "source": [
        "#사용자 정의 함수 / 내장함수\n",
        "import math\n",
        "print(math.pi)\n",
        "print(math.radians(180))\n",
        "print(math.degrees(math.pi/4))\n",
        "print(math.sqrt(4))\n",
        "a=-10\n",
        "print(math.fabs(a))\n",
        "\n",
        "#각도 -> 길이의 비(sin,cos,tan) 전제조건 : 반지름=1\n",
        "#길이의 비-> 각도(asin,acos,atan)\n",
        "\n",
        "a=math.pi/6\n",
        "print(math.sin(a))\n",
        "print(math.cos(a))\n",
        "print(math.tan(a))"
      ],
      "metadata": {
        "colab": {
          "base_uri": "https://localhost:8080/"
        },
        "id": "-KtLQqwH0N9N",
        "outputId": "567e2006-27fe-433a-80ac-ecaff47f8e86"
      },
      "execution_count": 7,
      "outputs": [
        {
          "output_type": "stream",
          "name": "stdout",
          "text": [
            "3.141592653589793\n",
            "3.141592653589793\n",
            "45.0\n",
            "2.0\n",
            "10.0\n",
            "0.49999999999999994\n",
            "0.8660254037844387\n",
            "0.5773502691896257\n"
          ]
        }
      ]
    },
    {
      "cell_type": "code",
      "source": [
        "#문제\n",
        "#2차원 좌표점 2점 사이의 거리를 구하는 함수를 작성하시오\n",
        "#a=(x1,y1)\n",
        "#b=(x2,y2)\n",
        "import math\n",
        "\n",
        "def dist(x1,y1,x2,y2):\n",
        "  dx=x2-x1\n",
        "  dy=y2-y1\n",
        "  distance = math.sqrt(dx**2+dy**2)\n",
        "  return distance\n",
        "\n",
        "a=(1,1)\n",
        "b=(2,2)\n",
        "dist(*a,*b)"
      ],
      "metadata": {
        "colab": {
          "base_uri": "https://localhost:8080/"
        },
        "id": "e_ViyZBT0N-_",
        "outputId": "e56becbe-f6ad-4727-f7c6-49b657b7fc4e"
      },
      "execution_count": 12,
      "outputs": [
        {
          "output_type": "execute_result",
          "data": {
            "text/plain": [
              "1.4142135623730951"
            ]
          },
          "metadata": {},
          "execution_count": 12
        }
      ]
    },
    {
      "cell_type": "code",
      "source": [
        "#문제\n",
        "#두점의 사이각을 구하는 함수를 작성하시오\n",
        "#내적 : 요소끼리 곱해서 다 더해주기\n",
        "#cos(theta)=내적/(norm1*norm2)\n",
        "#radian=acos(cos(theta))\n",
        "#math.degree(radian)\n",
        "import math\n",
        "def theta_between_points(x1,y1,x2,y2,x3,y3):\n",
        "  dot=x1*x2*x3+y1*y2*y3\n",
        "\n",
        "  norm1=math.sqrt(x1**2+y1**2)\n",
        "  norm2=math.sqrt(x2**2+y2**2)\n",
        "  norm3=math.sqrt(x3**2+y3**2)\n",
        "\n",
        "  costheta=dot/(norm1*norm2*norm3)\n",
        "  radian=math.acos(costheta)\n",
        "  theta=math.degrees(radian)\n",
        "  return theta\n",
        "\n",
        "a=0,1,0\n",
        "b=1,1,1\n",
        "theta_between_points(*a,*b)"
      ],
      "metadata": {
        "colab": {
          "base_uri": "https://localhost:8080/"
        },
        "id": "gDXS08xH0OA9",
        "outputId": "8f048d32-d117-4449-85cc-82d5997ff0c4"
      },
      "execution_count": 6,
      "outputs": [
        {
          "output_type": "execute_result",
          "data": {
            "text/plain": [
              "45.00000000000001"
            ]
          },
          "metadata": {},
          "execution_count": 6
        }
      ]
    },
    {
      "cell_type": "code",
      "source": [
        "#과제\n",
        "#변동매개변수로 두 점의 포인트를 가변적으로 받아서 두 벡터의 사이각을 구하는 함수를 작성해보시오\n",
        "\n",
        "def theta_between_points(*pointlist):\n",
        "  count=len(pointlist)\n",
        "  if count%2 !=0:\n",
        "    print(\"두 포인트 좌표는 짝수가 되어야한다\")\n",
        "  vc=count//2\n",
        "  val1=pointlist[:vc]\n",
        "  val2=pointlist[vc:]\n",
        "  print(val1)\n",
        "  print(val2)\n",
        "  dot=0\n",
        "  for point in range(len(val1)):\n",
        "    dot+=val1[point]*val2[point]\n",
        "  norm1=0\n",
        "  for point in range(len(val1)):\n",
        "    norm1+=val1[point]**2\n",
        "  norm1=math.sqrt(norm1)\n",
        "\n",
        "  norm2=0\n",
        "  for point in range(len(val2)):\n",
        "    norm2+=val1[point]**2\n",
        "  norm2=math.sqrt(norm2)\n",
        "\n",
        "  costheta=dot/(norm1*norm2)\n",
        "  radian=math.acos(costheta)\n",
        "  theta=math.degrees(radian)\n",
        "  return theta\n",
        "\n",
        "\n",
        "theta_between_points(1,0,0,0,          0,1,0,0)"
      ],
      "metadata": {
        "colab": {
          "base_uri": "https://localhost:8080/"
        },
        "id": "WwTvJthQ0OCt",
        "outputId": "bf11017a-fa41-43ba-cde7-c7f55426c02f"
      },
      "execution_count": 38,
      "outputs": [
        {
          "output_type": "stream",
          "name": "stdout",
          "text": [
            "(1, 0, 0, 0)\n",
            "(0, 1, 0, 0)\n"
          ]
        },
        {
          "output_type": "execute_result",
          "data": {
            "text/plain": [
              "90.0"
            ]
          },
          "metadata": {},
          "execution_count": 38
        }
      ]
    },
    {
      "cell_type": "code",
      "source": [
        " #문제\n",
        " #가위바위보 게임을 입력, 게임 진행, 게임판정, 출력\n",
        "# ?전?승?패는 전역변수로 함수 매개변수에 전달\n",
        "#경우의 수 : 두개가 같을 때, 한개+1==,else #2차원배열 승\n",
        "import random\n",
        "\n",
        "def userInput():\n",
        "  while True:\n",
        "    user=int(input(\"가위바위보(가위 : 0, 바위 : 1, 보 : 2, 종료 : 3) : \"))\n",
        "    com=int(random.random()*3)\n",
        "    return user,com\n",
        "\n",
        "def game(user,com, win, lose, draw):\n",
        "  if user-com==0:\n",
        "    result=\"비김\"\n",
        "    draw+=1\n",
        "\n",
        "  elif ((user-com)+3)%3==1:\n",
        "    result=\"유저 승\"\n",
        "    win+=1\n",
        "\n",
        "  elif ((user-com)+3)%3==2:\n",
        "    result=\"컴퓨터 승\"\n",
        "    lose+=1\n",
        "  print(result)\n",
        "  return win,lose,draw\n",
        "\n",
        "def display(win,lose,draw):\n",
        "  total=win+lose+draw\n",
        "  print(f\"{total}전 {win}승 {lose}패\")\n",
        "\n",
        "def main():\n",
        "  win = 0\n",
        "  lose = 0\n",
        "  draw = 0\n",
        "  while True:\n",
        "    user,com=userInput()\n",
        "    if user==3: break\n",
        "    win, lose, draw = game(user, com, win, lose, draw)\n",
        "  display(win, lose, draw)\n",
        "main()"
      ],
      "metadata": {
        "colab": {
          "base_uri": "https://localhost:8080/"
        },
        "id": "ht51RfTj0OEm",
        "outputId": "ff3fba62-8dcb-4b19-e1d7-3d6b78825eeb"
      },
      "execution_count": 37,
      "outputs": [
        {
          "output_type": "stream",
          "name": "stdout",
          "text": [
            "가위바위보(가위 : 0, 바위 : 1, 보 : 2, 종료 : 3) : 1\n",
            "컴퓨터 승\n",
            "가위바위보(가위 : 0, 바위 : 1, 보 : 2, 종료 : 3) : 2\n",
            "컴퓨터 승\n",
            "가위바위보(가위 : 0, 바위 : 1, 보 : 2, 종료 : 3) : 3\n",
            "2전 0승 2패\n"
          ]
        }
      ]
    },
    {
      "cell_type": "code",
      "source": [],
      "metadata": {
        "colab": {
          "base_uri": "https://localhost:8080/"
        },
        "id": "9eeFFUL30OGn",
        "outputId": "dec02141-969f-4bb6-b860-f1c2dc585c43"
      },
      "execution_count": 42,
      "outputs": [
        {
          "name": "stdout",
          "output_type": "stream",
          "text": [
            "가위, 바위, 보 중 하나를 선택하세요: 보\n",
            "사용자: 보, 컴퓨터: 바위\n",
            "결과: 승리\n",
            "전: 1, 승: 1, 무: 0, 패: 0\n",
            "계속해서 게임을 하시겠습니까? (yes/no): yes\n",
            "가위, 바위, 보 중 하나를 선택하세요: 보\n",
            "사용자: 보, 컴퓨터: 가위\n",
            "결과: 패배\n",
            "전: 2, 승: 1, 무: 0, 패: 1\n",
            "계속해서 게임을 하시겠습니까? (yes/no): a\n"
          ]
        }
      ]
    },
    {
      "cell_type": "code",
      "source": [],
      "metadata": {
        "colab": {
          "base_uri": "https://localhost:8080/"
        },
        "id": "xEjspEGx0OIW",
        "outputId": "fba08f6f-45df-45e8-c9e2-bd9bc7512a3f"
      },
      "execution_count": 15,
      "outputs": [
        {
          "output_type": "stream",
          "name": "stdout",
          "text": [
            "1\n"
          ]
        }
      ]
    },
    {
      "cell_type": "code",
      "source": [],
      "metadata": {
        "id": "rTdYsH5y0OKR"
      },
      "execution_count": 82,
      "outputs": []
    },
    {
      "cell_type": "code",
      "source": [],
      "metadata": {
        "id": "okXxr1Kp0OL3"
      },
      "execution_count": 82,
      "outputs": []
    },
    {
      "cell_type": "code",
      "source": [],
      "metadata": {
        "id": "HZGQVZvO0ONn"
      },
      "execution_count": 82,
      "outputs": []
    },
    {
      "cell_type": "code",
      "source": [],
      "metadata": {
        "id": "xxjtLU0o0OPe"
      },
      "execution_count": 82,
      "outputs": []
    },
    {
      "cell_type": "code",
      "source": [],
      "metadata": {
        "id": "ZQTlnGFv0ORQ"
      },
      "execution_count": 82,
      "outputs": []
    },
    {
      "cell_type": "code",
      "source": [],
      "metadata": {
        "id": "lQErwXJL0OTJ"
      },
      "execution_count": null,
      "outputs": []
    }
  ]
}