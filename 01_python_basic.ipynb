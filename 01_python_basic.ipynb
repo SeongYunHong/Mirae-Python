{
  "nbformat": 4,
  "nbformat_minor": 0,
  "metadata": {
    "colab": {
      "provenance": [],
      "authorship_tag": "ABX9TyNktpbRD3mvlATQX5x/3kbA",
      "include_colab_link": true
    },
    "kernelspec": {
      "name": "python3",
      "display_name": "Python 3"
    },
    "language_info": {
      "name": "python"
    }
  },
  "cells": [
    {
      "cell_type": "markdown",
      "metadata": {
        "id": "view-in-github",
        "colab_type": "text"
      },
      "source": [
        "<a href=\"https://colab.research.google.com/github/SeongYunHong/mirae-python/blob/main/01_python_basic.ipynb\" target=\"_parent\"><img src=\"https://colab.research.google.com/assets/colab-badge.svg\" alt=\"Open In Colab\"/></a>"
      ]
    },
    {
      "cell_type": "code",
      "execution_count": null,
      "metadata": {
        "id": "SWVwZICZv-LW",
        "colab": {
          "base_uri": "https://localhost:8080/"
        },
        "outputId": "b0649faa-95e6-4530-d393-2fab94b78f11"
      },
      "outputs": [
        {
          "output_type": "stream",
          "name": "stdout",
          "text": [
            "10\n",
            "10\n",
            "주소값대입 137583045181968\n",
            "137583045181968\n",
            "20\n",
            "10\n",
            "주소값대입 137583045182288\n",
            "137583045181968\n"
          ]
        },
        {
          "output_type": "execute_result",
          "data": {
            "text/plain": [
              "(None, None)"
            ]
          },
          "metadata": {},
          "execution_count": 9
        }
      ],
      "source": [
        "a=10\n",
        "b=a\n",
        "print(a)\n",
        "print(b)\n",
        "print(\"주소값대입\",id(a)),print(id(b))\n",
        "a=20\n",
        "print(a)\n",
        "print(b)\n",
        "print(\"주소값대입\",id(a)),print(id(b))"
      ]
    },
    {
      "cell_type": "code",
      "source": [
        "#python은 대소문자를 구분\n"
      ],
      "metadata": {
        "id": "vhazsyHdA5Eq"
      },
      "execution_count": null,
      "outputs": []
    },
    {
      "cell_type": "code",
      "source": [
        "#입출력, 네트워크 등을 통해서 전송되는 데이터 : 문자\n",
        "problem=input(\"수식을 입력하시오\")\n",
        "print(problem)\n",
        "print(eval(problem)) #eval : 수식연산자도 가능"
      ],
      "metadata": {
        "colab": {
          "base_uri": "https://localhost:8080/"
        },
        "id": "oxpWht22A8cJ",
        "outputId": "39a97e09-d0f4-4a7e-df3f-e10a641ebbba"
      },
      "execution_count": null,
      "outputs": [
        {
          "output_type": "stream",
          "name": "stdout",
          "text": [
            "수식을 입력하시오20\n",
            "20\n",
            "20\n"
          ]
        }
      ]
    },
    {
      "cell_type": "code",
      "source": [
        "print(int(\"23\"))\n",
        "print(float(\"23\"))\n",
        "print(eval(\"23\"))\n",
        "print(eval(\"23.5\"))\n",
        "x=5\n",
        "print(eval(\"23+(2*x)\")) #x를 변수로 인식\n",
        "x=5.0\n",
        "print(eval(\"23+(2*x)\"))"
      ],
      "metadata": {
        "colab": {
          "base_uri": "https://localhost:8080/"
        },
        "id": "HkXfqnRCB2rx",
        "outputId": "a5b85048-4f46-4848-a6d4-f155a7834cd9"
      },
      "execution_count": null,
      "outputs": [
        {
          "output_type": "stream",
          "name": "stdout",
          "text": [
            "23\n",
            "23.0\n",
            "23\n",
            "23.5\n",
            "33\n",
            "33.0\n"
          ]
        }
      ]
    },
    {
      "cell_type": "code",
      "source": [
        "a=20\n",
        "print(a)\n",
        "type(a) #<class 'int> 데이터 타입도 객체이다\n",
        "print(type(a))\n",
        "type(a)\n",
        "#입출력, 네트워크에서 데이터가 바이트 형태로 송수신\n",
        "a.to_bytes(4,byteorder=\"little\")"
      ],
      "metadata": {
        "colab": {
          "base_uri": "https://localhost:8080/"
        },
        "id": "MISjNhUgCLUH",
        "outputId": "df40f974-ac99-4dd7-9ae3-122946b5f64b"
      },
      "execution_count": null,
      "outputs": [
        {
          "output_type": "stream",
          "name": "stdout",
          "text": [
            "20\n",
            "<class 'int'>\n"
          ]
        },
        {
          "output_type": "execute_result",
          "data": {
            "text/plain": [
              "b'\\x14\\x00\\x00\\x00'"
            ]
          },
          "metadata": {},
          "execution_count": 15
        }
      ]
    },
    {
      "cell_type": "code",
      "source": [
        "number=20\n",
        "binary_number=bin(number) #2진수 변환 binary\n",
        "binary_number=hex(number) #16진수 변환 hex\n",
        "print(binary_number)"
      ],
      "metadata": {
        "colab": {
          "base_uri": "https://localhost:8080/"
        },
        "id": "VDELmfxaDlAZ",
        "outputId": "11fc8625-dfd7-4692-b766-195c7cac3568"
      },
      "execution_count": null,
      "outputs": [
        {
          "output_type": "stream",
          "name": "stdout",
          "text": [
            "0x14\n"
          ]
        }
      ]
    },
    {
      "cell_type": "code",
      "source": [
        "print('My name is %s and I am from %s, %i.'%('AI','4차산업혁명',10)) # c#방식\n",
        "print('My name is {1} and I am from {0}, I like {thing}.'.format('딥러닝','AI',thing='cats')) # c방식\n",
        "\n",
        "name=\"홍성윤\"\n",
        "age=25\n",
        "print(f\"이름은 {name} 나이는{age}\") #python 방식"
      ],
      "metadata": {
        "colab": {
          "base_uri": "https://localhost:8080/"
        },
        "id": "xydLNwflEXXy",
        "outputId": "dda872be-563c-42cf-bc87-bf26d0c66a5b"
      },
      "execution_count": null,
      "outputs": [
        {
          "output_type": "stream",
          "name": "stdout",
          "text": [
            "My name is AI and I am from 4차산업혁명, 10.\n",
            "My name is AI and I am from 딥러닝, I like cats.\n",
            "이름은 홍성윤 나이는25\n"
          ]
        }
      ]
    },
    {
      "cell_type": "code",
      "source": [
        "number=123.45678\n",
        "formatted_number=f\"{number:.2f}\"\n",
        "print(formatted_number)"
      ],
      "metadata": {
        "colab": {
          "base_uri": "https://localhost:8080/"
        },
        "id": "APEZTAm6GUIF",
        "outputId": "f6fab89a-e285-4f40-cc90-21c8135f3f7f"
      },
      "execution_count": null,
      "outputs": [
        {
          "output_type": "stream",
          "name": "stdout",
          "text": [
            "123.46\n"
          ]
        }
      ]
    },
    {
      "cell_type": "code",
      "source": [
        "fullName=input(\"이름을 입력하시오 : \")\n",
        "print(type(fullName))\n",
        "n=fullName.rfind(\" \") #reverse find 뒤에서부터 찾음\n",
        "\n",
        "print(fullName[0])\n",
        "print(fullName[2])\n",
        "print(fullName[3])\n",
        "print(n)\n",
        "print(\"이름 : \",fullName[n+1:])\n",
        "print(\"성(s) : \",fullName[:n])"
      ],
      "metadata": {
        "colab": {
          "base_uri": "https://localhost:8080/"
        },
        "id": "QNsXl9b4Gn7Q",
        "outputId": "850c8083-0464-49dc-a155-d1bf8310c3d1"
      },
      "execution_count": null,
      "outputs": [
        {
          "output_type": "stream",
          "name": "stdout",
          "text": [
            "이름을 입력하시오 : 이 승희\n",
            "<class 'str'>\n",
            "이\n",
            "승\n",
            "희\n",
            "1\n",
            "이름 :  승희\n",
            "성(s) :  이\n"
          ]
        }
      ]
    },
    {
      "cell_type": "code",
      "source": [
        "s='korea'\n",
        "print(s+s)\n",
        "print(s*3)\n",
        "print(s[0:])\n",
        "print(s[4])\n",
        "print(s[-1])\n",
        "print(s[1:3])\n",
        "print(s[-2:])\n",
        "print(s[-2:5])\n",
        "print(s[3:-1])\n",
        "print(len(s))\n",
        "s.split('r')"
      ],
      "metadata": {
        "colab": {
          "base_uri": "https://localhost:8080/"
        },
        "id": "7sXW0liFIQIR",
        "outputId": "6f618c67-c605-410b-fc8a-c85c32abce74"
      },
      "execution_count": null,
      "outputs": [
        {
          "output_type": "stream",
          "name": "stdout",
          "text": [
            "koreakorea\n",
            "koreakoreakorea\n",
            "korea\n",
            "a\n",
            "a\n",
            "or\n",
            "ea\n",
            "ea\n",
            "e\n",
            "5\n"
          ]
        },
        {
          "output_type": "execute_result",
          "data": {
            "text/plain": [
              "['ko', 'ea']"
            ]
          },
          "metadata": {},
          "execution_count": 28
        }
      ]
    },
    {
      "cell_type": "markdown",
      "source": [
        "split : 쪼개기, join : 결합"
      ],
      "metadata": {
        "id": "0MVewcrZKcMz"
      }
    },
    {
      "cell_type": "code",
      "source": [
        "t='Seoul, Incheon, won'.split(',')\n",
        "print(t)\n",
        "','.join(t)"
      ],
      "metadata": {
        "colab": {
          "base_uri": "https://localhost:8080/",
          "height": 54
        },
        "id": "UQFLL1VYJtzq",
        "outputId": "4cf59b4f-beb5-4d2e-88b8-36af66f81cd5"
      },
      "execution_count": null,
      "outputs": [
        {
          "output_type": "stream",
          "name": "stdout",
          "text": [
            "['Seoul', ' Incheon', ' won']\n"
          ]
        },
        {
          "output_type": "execute_result",
          "data": {
            "text/plain": [
              "'Seoul, Incheon, won'"
            ],
            "application/vnd.google.colaboratory.intrinsic+json": {
              "type": "string"
            }
          },
          "metadata": {},
          "execution_count": 37
        }
      ]
    },
    {
      "cell_type": "code",
      "source": [
        "s='korea'\n",
        "print(s.capitalize()) #첫글자를 대문자로\n",
        "print(s.find('r')) #앞에서 검색\n",
        "print(s.count('re')) #re가 몇번 나왔는지\n",
        "print(s.isalpha()) #check 함수 : t/f\n",
        "print(s.isdigit())\n",
        "print('0123'.isdigit())\n",
        "print(s.replace('r',\"R\"))\n",
        "print(s.startswith('K')) #K로 시작하는가\n",
        "print(s.endswith('a')) #a로 끝나는가\n",
        "s.upper()\n",
        "s.lower()"
      ],
      "metadata": {
        "colab": {
          "base_uri": "https://localhost:8080/",
          "height": 201
        },
        "id": "7ANokTPDKhUx",
        "outputId": "200bde80-b821-4bda-f8cb-4010b13d5b56"
      },
      "execution_count": null,
      "outputs": [
        {
          "output_type": "stream",
          "name": "stdout",
          "text": [
            "Korea\n",
            "2\n",
            "1\n",
            "True\n",
            "False\n",
            "True\n",
            "koRea\n",
            "False\n",
            "True\n"
          ]
        },
        {
          "output_type": "execute_result",
          "data": {
            "text/plain": [
              "'korea'"
            ],
            "application/vnd.google.colaboratory.intrinsic+json": {
              "type": "string"
            }
          },
          "metadata": {},
          "execution_count": 43
        }
      ]
    },
    {
      "cell_type": "code",
      "source": [
        "#str 객체, int 객체\n",
        "ex=str()\n",
        "print(ex)\n",
        "type(ex)"
      ],
      "metadata": {
        "colab": {
          "base_uri": "https://localhost:8080/"
        },
        "id": "KQX6wOlnLiXt",
        "outputId": "be13c1ed-879b-490d-904a-b123667f4f90"
      },
      "execution_count": null,
      "outputs": [
        {
          "output_type": "stream",
          "name": "stdout",
          "text": [
            "\n"
          ]
        },
        {
          "output_type": "execute_result",
          "data": {
            "text/plain": [
              "str"
            ]
          },
          "metadata": {},
          "execution_count": 45
        }
      ]
    },
    {
      "cell_type": "code",
      "source": [
        "f=1.23\n",
        "g=str(f) #초기화, 캐스팅\n",
        "h=repr(f) #str보다 repr이 더 정교함\n",
        "print(g,\" \",h)"
      ],
      "metadata": {
        "colab": {
          "base_uri": "https://localhost:8080/"
        },
        "id": "qXvhw8WbOxS4",
        "outputId": "e68a7498-66e2-4918-a7c1-7793185fd864"
      },
      "execution_count": null,
      "outputs": [
        {
          "output_type": "stream",
          "name": "stdout",
          "text": [
            "1.23   1.23\n"
          ]
        }
      ]
    },
    {
      "cell_type": "code",
      "source": [
        "#컴퓨터는 계산기\n",
        "#연산자 : 산술연산자, 수학연산자(math : 삼각함수, 로그함수, 지수함수)\n",
        "a=3\n",
        "b=4\n",
        "\n",
        "print(a+b,a-b,a*b,a/b)\n",
        "print(a-b)\n",
        "print(a*b)\n",
        "print(a%b)\n",
        "print(7/4)\n",
        "print(7//4) #몫 나누기"
      ],
      "metadata": {
        "colab": {
          "base_uri": "https://localhost:8080/"
        },
        "id": "rMI83hPVPIgh",
        "outputId": "8ab229d5-bd1d-418c-c5c6-2af20db9f3ac"
      },
      "execution_count": null,
      "outputs": [
        {
          "output_type": "stream",
          "name": "stdout",
          "text": [
            "7 -1 12 0.75\n",
            "-1\n",
            "12\n",
            "3\n",
            "1.75\n",
            "1\n"
          ]
        }
      ]
    },
    {
      "cell_type": "markdown",
      "source": [
        "iterable"
      ],
      "metadata": {
        "id": "9-suKA2RQJ4R"
      }
    },
    {
      "cell_type": "code",
      "source": [
        "#sum(1,2,3) #안되는 이유 : 기본 자료구조가 list여서\n",
        "print(\"sum([1,2,3]) : \",sum([1,2,3]))\n",
        "print(\"min([1,2,3]) : \",min([1,2,3]))\n",
        "print(\"abs(-11) : \",abs(-11))\n",
        "print(\"pow(2,10) : \",pow(2,10))\n",
        "print(\"round(3.141592) : \",round(3.141592))\n",
        "print(\"round(3.141592) : \",round(3.141592,2))"
      ],
      "metadata": {
        "colab": {
          "base_uri": "https://localhost:8080/"
        },
        "id": "BpgiA7O3QIJ6",
        "outputId": "1e53a54c-1d7a-46c5-df20-0db511c87c05"
      },
      "execution_count": null,
      "outputs": [
        {
          "output_type": "stream",
          "name": "stdout",
          "text": [
            "sum([1,2,3]) :  6\n",
            "min([1,2,3]) :  1\n",
            "abs(-11) :  11\n",
            "pow(2,10) :  1024\n",
            "round(3.141592) :  3\n",
            "round(3.141592) :  3.14\n"
          ]
        }
      ]
    },
    {
      "cell_type": "markdown",
      "source": [
        "list 처리"
      ],
      "metadata": {
        "id": "eNQrUBXRRb8h"
      }
    },
    {
      "cell_type": "code",
      "source": [
        "li=[4,7,8]\n",
        "lj=[5,6,7]\n",
        "print(li+lj) #결합(덧셈x)\n",
        "print(sum(li))\n",
        "li*3"
      ],
      "metadata": {
        "colab": {
          "base_uri": "https://localhost:8080/"
        },
        "id": "qo93wE9TRCkA",
        "outputId": "bf80901b-d2a8-410d-bf23-e60ba3d58e4b"
      },
      "execution_count": null,
      "outputs": [
        {
          "output_type": "stream",
          "name": "stdout",
          "text": [
            "[4, 7, 8, 5, 6, 7]\n",
            "19\n"
          ]
        },
        {
          "output_type": "execute_result",
          "data": {
            "text/plain": [
              "[4, 7, 8, 4, 7, 8, 4, 7, 8]"
            ]
          },
          "metadata": {},
          "execution_count": 57
        }
      ]
    },
    {
      "cell_type": "code",
      "source": [
        "num1=input(\"정수를 입력하시오 : \") #입출력 데이터는 문자열\n",
        "num2=input(\"정수를 입력하시오 : \")\n",
        "hab=int(num1)+int(num2)\n",
        "quotient=hab//2\n",
        "remainder=hab%2\n",
        "print(\"입력된 수를 2로 나눈 결과 몫 = \",quotient, \"나머지 : \",remainder)\n",
        "if remainder==0:\n",
        "  print(\"짝수입니다.\")\n",
        "else :\n",
        "  print(\"홀수입니다.\")"
      ],
      "metadata": {
        "colab": {
          "base_uri": "https://localhost:8080/"
        },
        "id": "0f6pRsERRl_a",
        "outputId": "1953611c-ed02-433a-ca32-16252ac5701b"
      },
      "execution_count": null,
      "outputs": [
        {
          "output_type": "stream",
          "name": "stdout",
          "text": [
            "정수를 입력하시오 : 12\n",
            "정수를 입력하시오 : 12\n",
            "입력된 수를 2로 나눈 결과 몫 =  12 나머지 :  0\n",
            "짝수입니다.\n"
          ]
        }
      ]
    },
    {
      "cell_type": "markdown",
      "source": [
        "자바에서는 전역변수는 없고 변수를 지정하려면 class를 써야하지만\n",
        "파이썬은 객체지향언어이면서도 전역변수가 존재"
      ],
      "metadata": {
        "id": "9Cw7ht5STn0p"
      }
    },
    {
      "cell_type": "code",
      "source": [
        "x=300 #전역변수\n",
        "def myfunc():\n",
        "  x=200 #지역변수 #전역변수보다 지역변수가 우선\n",
        "  print(x)\n",
        "myfunc()\n",
        "print(x)"
      ],
      "metadata": {
        "colab": {
          "base_uri": "https://localhost:8080/"
        },
        "id": "FORTXeM5Spuy",
        "outputId": "b0a8a009-d5e2-4270-8019-c628ee018e81"
      },
      "execution_count": null,
      "outputs": [
        {
          "output_type": "stream",
          "name": "stdout",
          "text": [
            "200\n",
            "300\n"
          ]
        }
      ]
    },
    {
      "cell_type": "code",
      "source": [
        "#문제\n",
        "#어떤 정수를 입력받아 0:가위, 2: 바위, 3: 보를 출력하는 프로그램 작성\n",
        "num=int(input(\"가위 바위 보 !! (0: 가위, 1: 바위, 2: 보) : \"))%3\n",
        "if   num==0 : print(\"가위\")\n",
        "elif num==1 : print(\"바위\")\n",
        "elif num==2 : print(\"보\")"
      ],
      "metadata": {
        "colab": {
          "base_uri": "https://localhost:8080/"
        },
        "id": "8lJ6bnX0UbQ6",
        "outputId": "09d35581-5c02-4a7e-d8f8-f6c2b3d0d570"
      },
      "execution_count": null,
      "outputs": [
        {
          "output_type": "stream",
          "name": "stdout",
          "text": [
            "가위 바위 보 !! (0:가위, 1: 바위, 2: 보) : 1\n",
            "바위\n"
          ]
        }
      ]
    },
    {
      "cell_type": "code",
      "source": [
        "a=20\n",
        "b=10\n",
        "print(a>b)\n",
        "c=a>10 and b<50\n",
        "print(c)\n",
        "c=10<a<50\n",
        "print(c)"
      ],
      "metadata": {
        "colab": {
          "base_uri": "https://localhost:8080/"
        },
        "id": "lriZegrzU-ZK",
        "outputId": "2ddd140d-2c2c-4e29-d740-45420e09fed4"
      },
      "execution_count": null,
      "outputs": [
        {
          "output_type": "stream",
          "name": "stdout",
          "text": [
            "True\n",
            "True\n",
            "True\n"
          ]
        }
      ]
    },
    {
      "cell_type": "code",
      "source": [
        "#문제\n",
        "#swapping하시오\n",
        "x=5\n",
        "y=6\n",
        "\n",
        "x,y=y,x #파이썬에서는 multireturn 가능(함수도 동일) = 리턴을 여러개 쓸 수 있음\n",
        "print(x,y)\n",
        "t=y,x\n",
        "print(t)\n",
        "print(type(t)) #<class 'tuple'> list와 tuple 차이점 : 리턴할때는 순서가 있고 수정 불가능(tuple)"
      ],
      "metadata": {
        "colab": {
          "base_uri": "https://localhost:8080/"
        },
        "id": "rtRATSRPYISq",
        "outputId": "52337abf-e025-4bbd-8a12-6e30ffc6ad11"
      },
      "execution_count": null,
      "outputs": [
        {
          "output_type": "stream",
          "name": "stdout",
          "text": [
            "6 5\n",
            "(5, 6)\n",
            "<class 'tuple'>\n"
          ]
        }
      ]
    },
    {
      "cell_type": "code",
      "source": [
        "a=[1,2,3,4,5]\n",
        "b=a[0:2] #인덱싱의 마지막은 제외 0부터 1까지임\n",
        "print(b)\n",
        "print(type(b))"
      ],
      "metadata": {
        "colab": {
          "base_uri": "https://localhost:8080/"
        },
        "id": "H0ngmpNgYhAx",
        "outputId": "9457241e-f643-457d-8f20-753cd9d49422"
      },
      "execution_count": null,
      "outputs": [
        {
          "output_type": "stream",
          "name": "stdout",
          "text": [
            "[1, 2]\n",
            "<class 'list'>\n"
          ]
        }
      ]
    },
    {
      "cell_type": "markdown",
      "source": [
        "캐스팅 : 암묵적 캐스팅(자바에서만 가능), 명시적 캐스팅"
      ],
      "metadata": {
        "id": "3NAKS8FYb0yB"
      }
    },
    {
      "cell_type": "code",
      "source": [
        "#변수는 어떤 데이터 타입이던지 다 담을 수 있음\n",
        "#모든 데이터 타입간에 연산이 가능한건 아님(캐스팅해서 맞춰줘야함)\n",
        "a=[1,2,3]\n",
        "b=str(a[2])+\"hi\"\n",
        "print(b)"
      ],
      "metadata": {
        "colab": {
          "base_uri": "https://localhost:8080/"
        },
        "id": "6WsOvozmY4sK",
        "outputId": "7071400e-0584-4eba-cfec-da427f2be2d8"
      },
      "execution_count": null,
      "outputs": [
        {
          "output_type": "stream",
          "name": "stdout",
          "text": [
            "3hi\n"
          ]
        }
      ]
    },
    {
      "cell_type": "markdown",
      "source": [
        "R의 vector/matrix는 동질적 <-> python의 list는 이질적\n",
        "\n",
        "list에 주소만 저장됨"
      ],
      "metadata": {
        "id": "SsvwsbE1csKC"
      }
    },
    {
      "cell_type": "code",
      "source": [
        "a=[1,2,3,['a','b','c'],4,5]\n",
        "print(a[2:5])\n",
        "print(a[3][:2])"
      ],
      "metadata": {
        "colab": {
          "base_uri": "https://localhost:8080/"
        },
        "id": "buc2yfQHcHWz",
        "outputId": "9a5cdf2c-b3bc-417e-fa6e-5119757de106"
      },
      "execution_count": null,
      "outputs": [
        {
          "output_type": "stream",
          "name": "stdout",
          "text": [
            "[3, ['a', 'b', 'c'], 4]\n",
            "['a', 'b']\n"
          ]
        }
      ]
    },
    {
      "cell_type": "code",
      "source": [
        "a=[1,2,['a','b',['Life','is']]]\n",
        "print(a[0])\n",
        "print(a[2][2][0])"
      ],
      "metadata": {
        "colab": {
          "base_uri": "https://localhost:8080/"
        },
        "id": "hn_a-_HfdM8M",
        "outputId": "74c9c484-ae00-4613-cf6a-8a9ba437532f"
      },
      "execution_count": null,
      "outputs": [
        {
          "output_type": "stream",
          "name": "stdout",
          "text": [
            "1\n",
            "Life\n"
          ]
        }
      ]
    },
    {
      "cell_type": "code",
      "source": [
        "a=[1,2,3]\n",
        "a[2]=4\n",
        "print(a)\n",
        "a[1:2]=['a','b','c'] #범위로 주면 list가 풀려서 들어감\n",
        "print(a)\n",
        "a[2]=['하나','둘','셋'] #값으로 주면 list가 유지됨\n",
        "a"
      ],
      "metadata": {
        "colab": {
          "base_uri": "https://localhost:8080/"
        },
        "id": "Lttnn48zdw96",
        "outputId": "89ddd547-2a67-4fde-bd9c-4952c6380dac"
      },
      "execution_count": null,
      "outputs": [
        {
          "output_type": "stream",
          "name": "stdout",
          "text": [
            "[1, 2, 4]\n",
            "[1, 'a', 'b', 'c', 4]\n"
          ]
        },
        {
          "output_type": "execute_result",
          "data": {
            "text/plain": [
              "[1, 'a', ['하나', '둘', '셋'], 'c', 4]"
            ]
          },
          "metadata": {},
          "execution_count": 79
        }
      ]
    },
    {
      "cell_type": "markdown",
      "source": [
        "python에는 for in문만 존재\n",
        "range(1,6,1) 1부터 5까지 1씩 존재"
      ],
      "metadata": {
        "id": "DGpSWazyfKXS"
      }
    },
    {
      "cell_type": "code",
      "source": [
        "a=[1,2,3,4,5]\n",
        "b=range(1,6,1)\n",
        "print(b) #range값이 아니라 객체 자체가 출력됨\n",
        "print([b]) #\n",
        "print(list(b)) #list로 캐스팅해줘야 올바르게 출력"
      ],
      "metadata": {
        "colab": {
          "base_uri": "https://localhost:8080/"
        },
        "id": "nbSoaHYldyNq",
        "outputId": "3891af2f-ea24-495d-8c36-4f39a9690db5"
      },
      "execution_count": null,
      "outputs": [
        {
          "output_type": "stream",
          "name": "stdout",
          "text": [
            "range(1, 6)\n",
            "[range(1, 6)]\n",
            "[1, 2, 3, 4, 5]\n"
          ]
        }
      ]
    },
    {
      "cell_type": "code",
      "source": [
        "mat=[[1,2,3],[4,5,6],[7,8,9]]\n",
        "print(mat)\n",
        "mat=[[0]*4]*3\n",
        "mat[0][0]=100\n",
        "print(mat)"
      ],
      "metadata": {
        "colab": {
          "base_uri": "https://localhost:8080/"
        },
        "id": "J3qAD_VedyYC",
        "outputId": "bbd5eabd-ebef-4b7f-9769-d52569990d8e"
      },
      "execution_count": null,
      "outputs": [
        {
          "output_type": "stream",
          "name": "stdout",
          "text": [
            "[[1, 2, 3], [4, 5, 6], [7, 8, 9]]\n",
            "[[100, 0, 0, 0], [100, 0, 0, 0], [100, 0, 0, 0]]\n"
          ]
        }
      ]
    },
    {
      "cell_type": "markdown",
      "source": [
        "검색"
      ],
      "metadata": {
        "id": "ciHEsaWAhSfL"
      }
    },
    {
      "cell_type": "code",
      "source": [
        "streaming = ['netflix','hula','disney+','appletv+']\n",
        "index = streaming.index('disney+')\n",
        "print(index)\n",
        "streaming[2]"
      ],
      "metadata": {
        "colab": {
          "base_uri": "https://localhost:8080/",
          "height": 54
        },
        "id": "6NJg-WdJdyka",
        "outputId": "d1f67c83-f27d-4799-81ad-0829913f5007"
      },
      "execution_count": null,
      "outputs": [
        {
          "output_type": "stream",
          "name": "stdout",
          "text": [
            "2\n"
          ]
        },
        {
          "output_type": "execute_result",
          "data": {
            "text/plain": [
              "'disney+'"
            ],
            "application/vnd.google.colaboratory.intrinsic+json": {
              "type": "string"
            }
          },
          "metadata": {},
          "execution_count": 90
        }
      ]
    },
    {
      "cell_type": "markdown",
      "source": [
        "삭제(remove, del(객체 메모리 해제)\n",
        "\n",
        " remove, del : 데이터 지우기 / pop : 데이터를 가지고 오면서 삭제\n",
        "\n"
      ],
      "metadata": {
        "id": "X3YYiqlwhTcC"
      }
    },
    {
      "cell_type": "code",
      "source": [
        "if 'disney+' in streaming:\n",
        "  streaming.remove('disney+')\n",
        "print(streaming)\n",
        "if streaming: #파이썬에서는 전부가 객체이기때문에 new를 사용하지 않음\n",
        "  del(streaming[0]) #모두가 포인터\n",
        "print(streaming)"
      ],
      "metadata": {
        "colab": {
          "base_uri": "https://localhost:8080/"
        },
        "id": "EsisstJ0hDak",
        "outputId": "4e9d9cd4-e615-47db-f454-6a573de0ad86"
      },
      "execution_count": null,
      "outputs": [
        {
          "output_type": "stream",
          "name": "stdout",
          "text": [
            "['netflix', 'hulu', 'appletv+']\n",
            "['hulu', 'appletv+']\n"
          ]
        }
      ]
    },
    {
      "cell_type": "markdown",
      "source": [
        "append(추가), pop(제거)"
      ],
      "metadata": {
        "id": "voukNIw5iFOU"
      }
    },
    {
      "cell_type": "code",
      "source": [
        "print(streaming[0])\n",
        "streaming.append(\"tving\")\n",
        "streaming.pop(0)\n",
        "print(streaming)"
      ],
      "metadata": {
        "colab": {
          "base_uri": "https://localhost:8080/"
        },
        "id": "ml0bCebshEej",
        "outputId": "499d8a53-2d79-4624-b995-6db67ca9ada8"
      },
      "execution_count": null,
      "outputs": [
        {
          "output_type": "stream",
          "name": "stdout",
          "text": [
            "hulu\n",
            "['appletv+', 'tving']\n"
          ]
        }
      ]
    },
    {
      "cell_type": "code",
      "source": [
        "#문제\n",
        "\n",
        "\n",
        "\n",
        "\n"
      ],
      "metadata": {
        "id": "cUZ_r6vrhEhi"
      },
      "execution_count": null,
      "outputs": []
    },
    {
      "cell_type": "code",
      "source": [
        "#다음 데이터에서 hula를 검색해 인덱스를 출력하시오\n",
        "streaming = ['netflix','hula','disney+','appletv+']\n",
        "streaming.index('hula')\n",
        "streaming[streaming.index('hula')]"
      ],
      "metadata": {
        "colab": {
          "base_uri": "https://localhost:8080/",
          "height": 35
        },
        "id": "_Nx2La3XhEjq",
        "outputId": "d4dca86b-ac51-412e-f4ee-b1faa33e5cc0"
      },
      "execution_count": null,
      "outputs": [
        {
          "output_type": "execute_result",
          "data": {
            "text/plain": [
              "'hula'"
            ],
            "application/vnd.google.colaboratory.intrinsic+json": {
              "type": "string"
            }
          },
          "metadata": {},
          "execution_count": 103
        }
      ]
    },
    {
      "cell_type": "code",
      "source": [
        "#다음 데이터에 다람쥐를 추가하시오(C)\n",
        "streaming.append(\"다람쥐\")\n",
        "streaming"
      ],
      "metadata": {
        "colab": {
          "base_uri": "https://localhost:8080/"
        },
        "id": "rtfB0HLPhEmC",
        "outputId": "3ce4f40f-a37f-49e3-a327-f705d9212f6f"
      },
      "execution_count": null,
      "outputs": [
        {
          "output_type": "execute_result",
          "data": {
            "text/plain": [
              "['netflix', 'hula', 'disney+', 'appletv+', '다람쥐']"
            ]
          },
          "metadata": {},
          "execution_count": 104
        }
      ]
    },
    {
      "cell_type": "code",
      "source": [
        "#다음 데이터의 인덱스 1~3까지를 출력하시오(R)\n",
        "streaming[1:4]"
      ],
      "metadata": {
        "colab": {
          "base_uri": "https://localhost:8080/"
        },
        "id": "cyW3gJ8rjTud",
        "outputId": "8db954d8-d180-4c49-e60a-f5b71be99059"
      },
      "execution_count": null,
      "outputs": [
        {
          "output_type": "execute_result",
          "data": {
            "text/plain": [
              "['hula', 'disney+', 'appletv+']"
            ]
          },
          "metadata": {},
          "execution_count": 105
        }
      ]
    },
    {
      "cell_type": "code",
      "source": [
        "#다음 데이터의 disney+를 찾아서 disney land로 변경하시오(U)\n",
        "streaming[streaming.index(\"disney+\")]=\"disney land\"\n",
        "streaming"
      ],
      "metadata": {
        "colab": {
          "base_uri": "https://localhost:8080/"
        },
        "id": "0dLy2WEojTwr",
        "outputId": "6f9fa14b-a943-4e14-de40-290cc26932e0"
      },
      "execution_count": null,
      "outputs": [
        {
          "output_type": "execute_result",
          "data": {
            "text/plain": [
              "['netflix', 'hula', 'disney land', 'appletv+', '다람쥐']"
            ]
          },
          "metadata": {},
          "execution_count": 106
        }
      ]
    },
    {
      "cell_type": "code",
      "source": [
        "#다음 데이터의 앞에서 첫번째 데이터를 삭제하시오(D)\n",
        "streaming.pop(0)\n",
        "#del(streaming[0])\n",
        "streaming"
      ],
      "metadata": {
        "colab": {
          "base_uri": "https://localhost:8080/"
        },
        "id": "I0568Mt_jTyr",
        "outputId": "525432b4-6754-4929-de21-0c77d56410f3"
      },
      "execution_count": null,
      "outputs": [
        {
          "output_type": "execute_result",
          "data": {
            "text/plain": [
              "['hula', 'disney land', 'appletv+', '다람쥐']"
            ]
          },
          "metadata": {},
          "execution_count": 107
        }
      ]
    },
    {
      "cell_type": "code",
      "source": [
        "#다음 데이터의 hula를 삭제하시오(D)\n",
        "streaming.pop(streaming.index('hula'))\n",
        "streaming"
      ],
      "metadata": {
        "colab": {
          "base_uri": "https://localhost:8080/"
        },
        "id": "vLHzfOESjmtj",
        "outputId": "37a90067-cb35-4257-c146-da38be5bb137"
      },
      "execution_count": null,
      "outputs": [
        {
          "output_type": "execute_result",
          "data": {
            "text/plain": [
              "['disney land', 'appletv+', '다람쥐']"
            ]
          },
          "metadata": {},
          "execution_count": 108
        }
      ]
    },
    {
      "cell_type": "markdown",
      "source": [
        "extend vs append\n",
        "\n",
        "묶인게 풀어져서 들어감(extend)\n",
        "\n",
        "묶인 채로 들어감(append)"
      ],
      "metadata": {
        "id": "iethDFCMph57"
      }
    },
    {
      "cell_type": "code",
      "source": [
        "cities=['seoul','incheon','suwon']\n",
        "print(cities)\n",
        "cities.extend(['jeju','kwangju']) #풀어져서 입력\n",
        "print(cities)"
      ],
      "metadata": {
        "colab": {
          "base_uri": "https://localhost:8080/"
        },
        "id": "R6cDr6bFmiX0",
        "outputId": "b0faffb5-6cbd-410b-a731-08cd7d72bcf7"
      },
      "execution_count": null,
      "outputs": [
        {
          "output_type": "stream",
          "name": "stdout",
          "text": [
            "['seoul', 'incheon', 'suwon']\n",
            "['seoul', 'incheon', 'suwon', 'jeju', 'kwangju']\n"
          ]
        }
      ]
    },
    {
      "cell_type": "code",
      "source": [
        "print(cities.index('seoul'))\n",
        "print('daegu' in cities) #in : 포함연산자\n",
        "cities.insert(0,'daegu') #0번 index에 대구 삽입\n",
        "cities.append(['daegu','ulsan']) #대괄호 유지\n",
        "print(cities)"
      ],
      "metadata": {
        "colab": {
          "base_uri": "https://localhost:8080/"
        },
        "id": "BgL4l5HnmiVr",
        "outputId": "448915ad-71a9-46b8-e799-2a25712730c7"
      },
      "execution_count": null,
      "outputs": [
        {
          "output_type": "stream",
          "name": "stdout",
          "text": [
            "0\n",
            "False\n",
            "['daegu', 'seoul', 'incheon', 'suwon', 'jeju', 'kwangju', ['daegu', 'ulsan']]\n"
          ]
        }
      ]
    },
    {
      "cell_type": "code",
      "source": [
        "#2차원 리스트에 학생 3명의 이름과 국어점수 입력 ex)[[\"대한\",40],[\"민국\",100],[\"만세\",0]]\n",
        "school=[]\n",
        "school.append([\"대한\",40])\n",
        "school.append([\"민국\",100])\n",
        "school.append([\"만세\",0])\n",
        "school"
      ],
      "metadata": {
        "colab": {
          "base_uri": "https://localhost:8080/"
        },
        "id": "Nb8ewAk8qSsk",
        "outputId": "736f5fc4-1fc6-42ac-d052-9df4ea363c17"
      },
      "execution_count": null,
      "outputs": [
        {
          "output_type": "execute_result",
          "data": {
            "text/plain": [
              "[['대한', 40], ['민국', 100], ['만세', 0]]"
            ]
          },
          "metadata": {},
          "execution_count": 113
        }
      ]
    },
    {
      "cell_type": "code",
      "source": [
        "print(cities[0])\n",
        "print(cities[6][0])\n",
        "cities.remove(cities[6])\n",
        "print(cities)"
      ],
      "metadata": {
        "colab": {
          "base_uri": "https://localhost:8080/"
        },
        "id": "9zWatDp6ribk",
        "outputId": "8efab238-5695-4dd5-d94e-7dbd21e0ff27"
      },
      "execution_count": null,
      "outputs": [
        {
          "output_type": "stream",
          "name": "stdout",
          "text": [
            "daegu\n",
            "daegu\n",
            "['daegu', 'seoul', 'incheon', 'suwon', 'jeju', 'kwangju']\n"
          ]
        }
      ]
    }
  ]
}